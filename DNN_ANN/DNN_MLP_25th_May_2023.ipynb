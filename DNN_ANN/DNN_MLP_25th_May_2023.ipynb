{
 "cells": [
  {
   "cell_type": "code",
   "execution_count": 1,
   "metadata": {
    "id": "Qu7FX6p5vdR5"
   },
   "outputs": [],
   "source": [
    "import os, sys\n",
    "import numpy as np\n",
    "import pandas as pd\n",
    "import matplotlib.pyplot as plt\n",
    "import seaborn as sns\n",
    "\n",
    "import tensorflow as tf\n",
    "from tensorflow import keras\n",
    "from keras.models import Sequential\n",
    "from keras.layers import Dense"
   ]
  },
  {
   "cell_type": "code",
   "execution_count": 2,
   "metadata": {
    "colab": {
     "base_uri": "https://localhost:8080/",
     "height": 206
    },
    "id": "dfHCM1UovjoT",
    "outputId": "4c025743-e4ec-473c-e546-6aad50d93b29"
   },
   "outputs": [
    {
     "data": {
      "text/html": [
       "\n",
       "  <div id=\"df-aa1595ac-b7f8-40d8-bc04-6664d6afd452\">\n",
       "    <div class=\"colab-df-container\">\n",
       "      <div>\n",
       "<style scoped>\n",
       "    .dataframe tbody tr th:only-of-type {\n",
       "        vertical-align: middle;\n",
       "    }\n",
       "\n",
       "    .dataframe tbody tr th {\n",
       "        vertical-align: top;\n",
       "    }\n",
       "\n",
       "    .dataframe thead th {\n",
       "        text-align: right;\n",
       "    }\n",
       "</style>\n",
       "<table border=\"1\" class=\"dataframe\">\n",
       "  <thead>\n",
       "    <tr style=\"text-align: right;\">\n",
       "      <th></th>\n",
       "      <th>User ID</th>\n",
       "      <th>Gender</th>\n",
       "      <th>Age</th>\n",
       "      <th>EstimatedSalary</th>\n",
       "      <th>Purchased</th>\n",
       "    </tr>\n",
       "  </thead>\n",
       "  <tbody>\n",
       "    <tr>\n",
       "      <th>0</th>\n",
       "      <td>15624510</td>\n",
       "      <td>Male</td>\n",
       "      <td>19</td>\n",
       "      <td>19000</td>\n",
       "      <td>0</td>\n",
       "    </tr>\n",
       "    <tr>\n",
       "      <th>1</th>\n",
       "      <td>15810944</td>\n",
       "      <td>Male</td>\n",
       "      <td>35</td>\n",
       "      <td>20000</td>\n",
       "      <td>0</td>\n",
       "    </tr>\n",
       "    <tr>\n",
       "      <th>2</th>\n",
       "      <td>15668575</td>\n",
       "      <td>Female</td>\n",
       "      <td>26</td>\n",
       "      <td>43000</td>\n",
       "      <td>0</td>\n",
       "    </tr>\n",
       "    <tr>\n",
       "      <th>3</th>\n",
       "      <td>15603246</td>\n",
       "      <td>Female</td>\n",
       "      <td>27</td>\n",
       "      <td>57000</td>\n",
       "      <td>0</td>\n",
       "    </tr>\n",
       "    <tr>\n",
       "      <th>4</th>\n",
       "      <td>15804002</td>\n",
       "      <td>Male</td>\n",
       "      <td>19</td>\n",
       "      <td>76000</td>\n",
       "      <td>0</td>\n",
       "    </tr>\n",
       "  </tbody>\n",
       "</table>\n",
       "</div>\n",
       "      <button class=\"colab-df-convert\" onclick=\"convertToInteractive('df-aa1595ac-b7f8-40d8-bc04-6664d6afd452')\"\n",
       "              title=\"Convert this dataframe to an interactive table.\"\n",
       "              style=\"display:none;\">\n",
       "        \n",
       "  <svg xmlns=\"http://www.w3.org/2000/svg\" height=\"24px\"viewBox=\"0 0 24 24\"\n",
       "       width=\"24px\">\n",
       "    <path d=\"M0 0h24v24H0V0z\" fill=\"none\"/>\n",
       "    <path d=\"M18.56 5.44l.94 2.06.94-2.06 2.06-.94-2.06-.94-.94-2.06-.94 2.06-2.06.94zm-11 1L8.5 8.5l.94-2.06 2.06-.94-2.06-.94L8.5 2.5l-.94 2.06-2.06.94zm10 10l.94 2.06.94-2.06 2.06-.94-2.06-.94-.94-2.06-.94 2.06-2.06.94z\"/><path d=\"M17.41 7.96l-1.37-1.37c-.4-.4-.92-.59-1.43-.59-.52 0-1.04.2-1.43.59L10.3 9.45l-7.72 7.72c-.78.78-.78 2.05 0 2.83L4 21.41c.39.39.9.59 1.41.59.51 0 1.02-.2 1.41-.59l7.78-7.78 2.81-2.81c.8-.78.8-2.07 0-2.86zM5.41 20L4 18.59l7.72-7.72 1.47 1.35L5.41 20z\"/>\n",
       "  </svg>\n",
       "      </button>\n",
       "      \n",
       "  <style>\n",
       "    .colab-df-container {\n",
       "      display:flex;\n",
       "      flex-wrap:wrap;\n",
       "      gap: 12px;\n",
       "    }\n",
       "\n",
       "    .colab-df-convert {\n",
       "      background-color: #E8F0FE;\n",
       "      border: none;\n",
       "      border-radius: 50%;\n",
       "      cursor: pointer;\n",
       "      display: none;\n",
       "      fill: #1967D2;\n",
       "      height: 32px;\n",
       "      padding: 0 0 0 0;\n",
       "      width: 32px;\n",
       "    }\n",
       "\n",
       "    .colab-df-convert:hover {\n",
       "      background-color: #E2EBFA;\n",
       "      box-shadow: 0px 1px 2px rgba(60, 64, 67, 0.3), 0px 1px 3px 1px rgba(60, 64, 67, 0.15);\n",
       "      fill: #174EA6;\n",
       "    }\n",
       "\n",
       "    [theme=dark] .colab-df-convert {\n",
       "      background-color: #3B4455;\n",
       "      fill: #D2E3FC;\n",
       "    }\n",
       "\n",
       "    [theme=dark] .colab-df-convert:hover {\n",
       "      background-color: #434B5C;\n",
       "      box-shadow: 0px 1px 3px 1px rgba(0, 0, 0, 0.15);\n",
       "      filter: drop-shadow(0px 1px 2px rgba(0, 0, 0, 0.3));\n",
       "      fill: #FFFFFF;\n",
       "    }\n",
       "  </style>\n",
       "\n",
       "      <script>\n",
       "        const buttonEl =\n",
       "          document.querySelector('#df-aa1595ac-b7f8-40d8-bc04-6664d6afd452 button.colab-df-convert');\n",
       "        buttonEl.style.display =\n",
       "          google.colab.kernel.accessAllowed ? 'block' : 'none';\n",
       "\n",
       "        async function convertToInteractive(key) {\n",
       "          const element = document.querySelector('#df-aa1595ac-b7f8-40d8-bc04-6664d6afd452');\n",
       "          const dataTable =\n",
       "            await google.colab.kernel.invokeFunction('convertToInteractive',\n",
       "                                                     [key], {});\n",
       "          if (!dataTable) return;\n",
       "\n",
       "          const docLinkHtml = 'Like what you see? Visit the ' +\n",
       "            '<a target=\"_blank\" href=https://colab.research.google.com/notebooks/data_table.ipynb>data table notebook</a>'\n",
       "            + ' to learn more about interactive tables.';\n",
       "          element.innerHTML = '';\n",
       "          dataTable['output_type'] = 'display_data';\n",
       "          await google.colab.output.renderOutput(dataTable, element);\n",
       "          const docLink = document.createElement('div');\n",
       "          docLink.innerHTML = docLinkHtml;\n",
       "          element.appendChild(docLink);\n",
       "        }\n",
       "      </script>\n",
       "    </div>\n",
       "  </div>\n",
       "  "
      ],
      "text/plain": [
       "    User ID  Gender  Age  EstimatedSalary  Purchased\n",
       "0  15624510    Male   19            19000          0\n",
       "1  15810944    Male   35            20000          0\n",
       "2  15668575  Female   26            43000          0\n",
       "3  15603246  Female   27            57000          0\n",
       "4  15804002    Male   19            76000          0"
      ]
     },
     "execution_count": 2,
     "metadata": {},
     "output_type": "execute_result"
    }
   ],
   "source": [
    "df = pd.read_csv('/content/Social_Network_Ads.csv')\n",
    "df.head()"
   ]
  },
  {
   "cell_type": "code",
   "execution_count": 3,
   "metadata": {
    "colab": {
     "base_uri": "https://localhost:8080/",
     "height": 206
    },
    "id": "mAvdqHgpwjdN",
    "outputId": "a6ce6c7a-40fe-4c98-b665-20b3696b5486"
   },
   "outputs": [
    {
     "data": {
      "text/html": [
       "\n",
       "  <div id=\"df-48d211c3-9c40-4bef-88e2-95e59f86dcfa\">\n",
       "    <div class=\"colab-df-container\">\n",
       "      <div>\n",
       "<style scoped>\n",
       "    .dataframe tbody tr th:only-of-type {\n",
       "        vertical-align: middle;\n",
       "    }\n",
       "\n",
       "    .dataframe tbody tr th {\n",
       "        vertical-align: top;\n",
       "    }\n",
       "\n",
       "    .dataframe thead th {\n",
       "        text-align: right;\n",
       "    }\n",
       "</style>\n",
       "<table border=\"1\" class=\"dataframe\">\n",
       "  <thead>\n",
       "    <tr style=\"text-align: right;\">\n",
       "      <th></th>\n",
       "      <th>Age</th>\n",
       "      <th>EstimatedSalary</th>\n",
       "      <th>Purchased</th>\n",
       "    </tr>\n",
       "  </thead>\n",
       "  <tbody>\n",
       "    <tr>\n",
       "      <th>0</th>\n",
       "      <td>19</td>\n",
       "      <td>19000</td>\n",
       "      <td>0</td>\n",
       "    </tr>\n",
       "    <tr>\n",
       "      <th>1</th>\n",
       "      <td>35</td>\n",
       "      <td>20000</td>\n",
       "      <td>0</td>\n",
       "    </tr>\n",
       "    <tr>\n",
       "      <th>2</th>\n",
       "      <td>26</td>\n",
       "      <td>43000</td>\n",
       "      <td>0</td>\n",
       "    </tr>\n",
       "    <tr>\n",
       "      <th>3</th>\n",
       "      <td>27</td>\n",
       "      <td>57000</td>\n",
       "      <td>0</td>\n",
       "    </tr>\n",
       "    <tr>\n",
       "      <th>4</th>\n",
       "      <td>19</td>\n",
       "      <td>76000</td>\n",
       "      <td>0</td>\n",
       "    </tr>\n",
       "  </tbody>\n",
       "</table>\n",
       "</div>\n",
       "      <button class=\"colab-df-convert\" onclick=\"convertToInteractive('df-48d211c3-9c40-4bef-88e2-95e59f86dcfa')\"\n",
       "              title=\"Convert this dataframe to an interactive table.\"\n",
       "              style=\"display:none;\">\n",
       "        \n",
       "  <svg xmlns=\"http://www.w3.org/2000/svg\" height=\"24px\"viewBox=\"0 0 24 24\"\n",
       "       width=\"24px\">\n",
       "    <path d=\"M0 0h24v24H0V0z\" fill=\"none\"/>\n",
       "    <path d=\"M18.56 5.44l.94 2.06.94-2.06 2.06-.94-2.06-.94-.94-2.06-.94 2.06-2.06.94zm-11 1L8.5 8.5l.94-2.06 2.06-.94-2.06-.94L8.5 2.5l-.94 2.06-2.06.94zm10 10l.94 2.06.94-2.06 2.06-.94-2.06-.94-.94-2.06-.94 2.06-2.06.94z\"/><path d=\"M17.41 7.96l-1.37-1.37c-.4-.4-.92-.59-1.43-.59-.52 0-1.04.2-1.43.59L10.3 9.45l-7.72 7.72c-.78.78-.78 2.05 0 2.83L4 21.41c.39.39.9.59 1.41.59.51 0 1.02-.2 1.41-.59l7.78-7.78 2.81-2.81c.8-.78.8-2.07 0-2.86zM5.41 20L4 18.59l7.72-7.72 1.47 1.35L5.41 20z\"/>\n",
       "  </svg>\n",
       "      </button>\n",
       "      \n",
       "  <style>\n",
       "    .colab-df-container {\n",
       "      display:flex;\n",
       "      flex-wrap:wrap;\n",
       "      gap: 12px;\n",
       "    }\n",
       "\n",
       "    .colab-df-convert {\n",
       "      background-color: #E8F0FE;\n",
       "      border: none;\n",
       "      border-radius: 50%;\n",
       "      cursor: pointer;\n",
       "      display: none;\n",
       "      fill: #1967D2;\n",
       "      height: 32px;\n",
       "      padding: 0 0 0 0;\n",
       "      width: 32px;\n",
       "    }\n",
       "\n",
       "    .colab-df-convert:hover {\n",
       "      background-color: #E2EBFA;\n",
       "      box-shadow: 0px 1px 2px rgba(60, 64, 67, 0.3), 0px 1px 3px 1px rgba(60, 64, 67, 0.15);\n",
       "      fill: #174EA6;\n",
       "    }\n",
       "\n",
       "    [theme=dark] .colab-df-convert {\n",
       "      background-color: #3B4455;\n",
       "      fill: #D2E3FC;\n",
       "    }\n",
       "\n",
       "    [theme=dark] .colab-df-convert:hover {\n",
       "      background-color: #434B5C;\n",
       "      box-shadow: 0px 1px 3px 1px rgba(0, 0, 0, 0.15);\n",
       "      filter: drop-shadow(0px 1px 2px rgba(0, 0, 0, 0.3));\n",
       "      fill: #FFFFFF;\n",
       "    }\n",
       "  </style>\n",
       "\n",
       "      <script>\n",
       "        const buttonEl =\n",
       "          document.querySelector('#df-48d211c3-9c40-4bef-88e2-95e59f86dcfa button.colab-df-convert');\n",
       "        buttonEl.style.display =\n",
       "          google.colab.kernel.accessAllowed ? 'block' : 'none';\n",
       "\n",
       "        async function convertToInteractive(key) {\n",
       "          const element = document.querySelector('#df-48d211c3-9c40-4bef-88e2-95e59f86dcfa');\n",
       "          const dataTable =\n",
       "            await google.colab.kernel.invokeFunction('convertToInteractive',\n",
       "                                                     [key], {});\n",
       "          if (!dataTable) return;\n",
       "\n",
       "          const docLinkHtml = 'Like what you see? Visit the ' +\n",
       "            '<a target=\"_blank\" href=https://colab.research.google.com/notebooks/data_table.ipynb>data table notebook</a>'\n",
       "            + ' to learn more about interactive tables.';\n",
       "          element.innerHTML = '';\n",
       "          dataTable['output_type'] = 'display_data';\n",
       "          await google.colab.output.renderOutput(dataTable, element);\n",
       "          const docLink = document.createElement('div');\n",
       "          docLink.innerHTML = docLinkHtml;\n",
       "          element.appendChild(docLink);\n",
       "        }\n",
       "      </script>\n",
       "    </div>\n",
       "  </div>\n",
       "  "
      ],
      "text/plain": [
       "   Age  EstimatedSalary  Purchased\n",
       "0   19            19000          0\n",
       "1   35            20000          0\n",
       "2   26            43000          0\n",
       "3   27            57000          0\n",
       "4   19            76000          0"
      ]
     },
     "execution_count": 3,
     "metadata": {},
     "output_type": "execute_result"
    }
   ],
   "source": [
    "df = df.iloc[:,2:]\n",
    "df.head()"
   ]
  },
  {
   "cell_type": "code",
   "execution_count": 5,
   "metadata": {
    "colab": {
     "base_uri": "https://localhost:8080/",
     "height": 466
    },
    "id": "-TXQnun_wo-V",
    "outputId": "c38f73f1-46f4-4bd6-f7f1-32590ed2f123"
   },
   "outputs": [
    {
     "data": {
      "text/plain": [
       "<Axes: xlabel='Age', ylabel='EstimatedSalary'>"
      ]
     },
     "execution_count": 5,
     "metadata": {},
     "output_type": "execute_result"
    },
    {
     "data": {
      "image/png": "[encoded data removed]",
      "text/plain": [
       "<Figure size 640x480 with 1 Axes>"
      ]
     },
     "metadata": {},
     "output_type": "display_data"
    }
   ],
   "source": [
    "sns.scatterplot(x=df.iloc[:,0], y=df.iloc[:,1])"
   ]
  },
  {
   "cell_type": "code",
   "execution_count": 6,
   "metadata": {
    "id": "vfVdNVpYw5Ul"
   },
   "outputs": [],
   "source": [
    "# Split the data into ind variable and dep variable\n",
    "x = df.iloc[:,:-1]\n",
    "y = df.iloc[:,-1]"
   ]
  },
  {
   "cell_type": "code",
   "execution_count": 7,
   "metadata": {
    "colab": {
     "base_uri": "https://localhost:8080/",
     "height": 206
    },
    "id": "AuQb-mhDxQlP",
    "outputId": "4cb5cd66-92ef-48d7-caea-30ecb89ccac7"
   },
   "outputs": [
    {
     "data": {
      "text/html": [
       "\n",
       "  <div id=\"df-89f595cc-c3e8-4ce6-a75b-034d7e664650\">\n",
       "    <div class=\"colab-df-container\">\n",
       "      <div>\n",
       "<style scoped>\n",
       "    .dataframe tbody tr th:only-of-type {\n",
       "        vertical-align: middle;\n",
       "    }\n",
       "\n",
       "    .dataframe tbody tr th {\n",
       "        vertical-align: top;\n",
       "    }\n",
       "\n",
       "    .dataframe thead th {\n",
       "        text-align: right;\n",
       "    }\n",
       "</style>\n",
       "<table border=\"1\" class=\"dataframe\">\n",
       "  <thead>\n",
       "    <tr style=\"text-align: right;\">\n",
       "      <th></th>\n",
       "      <th>Age</th>\n",
       "      <th>EstimatedSalary</th>\n",
       "    </tr>\n",
       "  </thead>\n",
       "  <tbody>\n",
       "    <tr>\n",
       "      <th>0</th>\n",
       "      <td>19</td>\n",
       "      <td>19000</td>\n",
       "    </tr>\n",
       "    <tr>\n",
       "      <th>1</th>\n",
       "      <td>35</td>\n",
       "      <td>20000</td>\n",
       "    </tr>\n",
       "    <tr>\n",
       "      <th>2</th>\n",
       "      <td>26</td>\n",
       "      <td>43000</td>\n",
       "    </tr>\n",
       "    <tr>\n",
       "      <th>3</th>\n",
       "      <td>27</td>\n",
       "      <td>57000</td>\n",
       "    </tr>\n",
       "    <tr>\n",
       "      <th>4</th>\n",
       "      <td>19</td>\n",
       "      <td>76000</td>\n",
       "    </tr>\n",
       "  </tbody>\n",
       "</table>\n",
       "</div>\n",
       "      <button class=\"colab-df-convert\" onclick=\"convertToInteractive('df-89f595cc-c3e8-4ce6-a75b-034d7e664650')\"\n",
       "              title=\"Convert this dataframe to an interactive table.\"\n",
       "              style=\"display:none;\">\n",
       "        \n",
       "  <svg xmlns=\"http://www.w3.org/2000/svg\" height=\"24px\"viewBox=\"0 0 24 24\"\n",
       "       width=\"24px\">\n",
       "    <path d=\"M0 0h24v24H0V0z\" fill=\"none\"/>\n",
       "    <path d=\"M18.56 5.44l.94 2.06.94-2.06 2.06-.94-2.06-.94-.94-2.06-.94 2.06-2.06.94zm-11 1L8.5 8.5l.94-2.06 2.06-.94-2.06-.94L8.5 2.5l-.94 2.06-2.06.94zm10 10l.94 2.06.94-2.06 2.06-.94-2.06-.94-.94-2.06-.94 2.06-2.06.94z\"/><path d=\"M17.41 7.96l-1.37-1.37c-.4-.4-.92-.59-1.43-.59-.52 0-1.04.2-1.43.59L10.3 9.45l-7.72 7.72c-.78.78-.78 2.05 0 2.83L4 21.41c.39.39.9.59 1.41.59.51 0 1.02-.2 1.41-.59l7.78-7.78 2.81-2.81c.8-.78.8-2.07 0-2.86zM5.41 20L4 18.59l7.72-7.72 1.47 1.35L5.41 20z\"/>\n",
       "  </svg>\n",
       "      </button>\n",
       "      \n",
       "  <style>\n",
       "    .colab-df-container {\n",
       "      display:flex;\n",
       "      flex-wrap:wrap;\n",
       "      gap: 12px;\n",
       "    }\n",
       "\n",
       "    .colab-df-convert {\n",
       "      background-color: #E8F0FE;\n",
       "      border: none;\n",
       "      border-radius: 50%;\n",
       "      cursor: pointer;\n",
       "      display: none;\n",
       "      fill: #1967D2;\n",
       "      height: 32px;\n",
       "      padding: 0 0 0 0;\n",
       "      width: 32px;\n",
       "    }\n",
       "\n",
       "    .colab-df-convert:hover {\n",
       "      background-color: #E2EBFA;\n",
       "      box-shadow: 0px 1px 2px rgba(60, 64, 67, 0.3), 0px 1px 3px 1px rgba(60, 64, 67, 0.15);\n",
       "      fill: #174EA6;\n",
       "    }\n",
       "\n",
       "    [theme=dark] .colab-df-convert {\n",
       "      background-color: #3B4455;\n",
       "      fill: #D2E3FC;\n",
       "    }\n",
       "\n",
       "    [theme=dark] .colab-df-convert:hover {\n",
       "      background-color: #434B5C;\n",
       "      box-shadow: 0px 1px 3px 1px rgba(0, 0, 0, 0.15);\n",
       "      filter: drop-shadow(0px 1px 2px rgba(0, 0, 0, 0.3));\n",
       "      fill: #FFFFFF;\n",
       "    }\n",
       "  </style>\n",
       "\n",
       "      <script>\n",
       "        const buttonEl =\n",
       "          document.querySelector('#df-89f595cc-c3e8-4ce6-a75b-034d7e664650 button.colab-df-convert');\n",
       "        buttonEl.style.display =\n",
       "          google.colab.kernel.accessAllowed ? 'block' : 'none';\n",
       "\n",
       "        async function convertToInteractive(key) {\n",
       "          const element = document.querySelector('#df-89f595cc-c3e8-4ce6-a75b-034d7e664650');\n",
       "          const dataTable =\n",
       "            await google.colab.kernel.invokeFunction('convertToInteractive',\n",
       "                                                     [key], {});\n",
       "          if (!dataTable) return;\n",
       "\n",
       "          const docLinkHtml = 'Like what you see? Visit the ' +\n",
       "            '<a target=\"_blank\" href=https://colab.research.google.com/notebooks/data_table.ipynb>data table notebook</a>'\n",
       "            + ' to learn more about interactive tables.';\n",
       "          element.innerHTML = '';\n",
       "          dataTable['output_type'] = 'display_data';\n",
       "          await google.colab.output.renderOutput(dataTable, element);\n",
       "          const docLink = document.createElement('div');\n",
       "          docLink.innerHTML = docLinkHtml;\n",
       "          element.appendChild(docLink);\n",
       "        }\n",
       "      </script>\n",
       "    </div>\n",
       "  </div>\n",
       "  "
      ],
      "text/plain": [
       "   Age  EstimatedSalary\n",
       "0   19            19000\n",
       "1   35            20000\n",
       "2   26            43000\n",
       "3   27            57000\n",
       "4   19            76000"
      ]
     },
     "execution_count": 7,
     "metadata": {},
     "output_type": "execute_result"
    }
   ],
   "source": [
    "x.head()"
   ]
  },
  {
   "cell_type": "code",
   "execution_count": 8,
   "metadata": {
    "colab": {
     "base_uri": "https://localhost:8080/"
    },
    "id": "DIhyxjhNxSfi",
    "outputId": "22ebfe82-c309-44c2-bbfe-8703940ae44f"
   },
   "outputs": [
    {
     "data": {
      "text/plain": [
       "0    0\n",
       "1    0\n",
       "2    0\n",
       "3    0\n",
       "4    0\n",
       "Name: Purchased, dtype: int64"
      ]
     },
     "execution_count": 8,
     "metadata": {},
     "output_type": "execute_result"
    }
   ],
   "source": [
    "y.head()"
   ]
  },
  {
   "cell_type": "code",
   "execution_count": 9,
   "metadata": {
    "colab": {
     "base_uri": "https://localhost:8080/"
    },
    "id": "i5jUoT7rxTyQ",
    "outputId": "3eda70cd-4729-421a-a135-2b04fc199ffa"
   },
   "outputs": [
    {
     "data": {
      "text/plain": [
       "Age                0\n",
       "EstimatedSalary    0\n",
       "Purchased          0\n",
       "dtype: int64"
      ]
     },
     "execution_count": 9,
     "metadata": {},
     "output_type": "execute_result"
    }
   ],
   "source": [
    "df.isnull().sum()"
   ]
  },
  {
   "cell_type": "code",
   "execution_count": 10,
   "metadata": {
    "colab": {
     "base_uri": "https://localhost:8080/"
    },
    "id": "vWEINM4VxaR7",
    "outputId": "6c3c47bf-1f21-4415-a10e-48372ecdaab9"
   },
   "outputs": [
    {
     "data": {
      "text/plain": [
       "0    257\n",
       "1    143\n",
       "Name: Purchased, dtype: int64"
      ]
     },
     "execution_count": 10,
     "metadata": {},
     "output_type": "execute_result"
    }
   ],
   "source": [
    "y.value_counts()"
   ]
  },
  {
   "cell_type": "code",
   "execution_count": 11,
   "metadata": {
    "id": "PrEznd6lxd7N"
   },
   "outputs": [],
   "source": [
    "# Split the data into training and test\n",
    "from sklearn.model_selection import train_test_split\n",
    "x_train, x_test, y_train, y_test = train_test_split(x, y, test_size=0.2, random_state=101)"
   ]
  },
  {
   "cell_type": "markdown",
   "metadata": {
    "id": "wuQHpEcHyQSb"
   },
   "source": [
    "# Building DNN/MLP"
   ]
  },
  {
   "cell_type": "markdown",
   "metadata": {
    "id": "vpKSWavqyTcw"
   },
   "source": [
    "# Case 1 - MLP without Feature Scaling"
   ]
  },
  {
   "cell_type": "code",
   "execution_count": 18,
   "metadata": {
    "colab": {
     "base_uri": "https://localhost:8080/"
    },
    "id": "vAyQ5529yNdo",
    "outputId": "95eebe10-a00c-4efa-e991-026a8f49cd84"
   },
   "outputs": [
    {
     "name": "stdout",
     "output_type": "stream",
     "text": [
      "Model: \"sequential_2\"\n",
      "_________________________________________________________________\n",
      " Layer (type)                Output Shape              Param #   \n",
      "=================================================================\n",
      " dense_4 (Dense)             (None, 128)               384       \n",
      "                                                                 \n",
      " dense_5 (Dense)             (None, 1)                 129       \n",
      "                                                                 \n",
      "=================================================================\n",
      "Total params: 513\n",
      "Trainable params: 513\n",
      "Non-trainable params: 0\n",
      "_________________________________________________________________\n"
     ]
    }
   ],
   "source": [
    "from keras.layers import BatchNormalization\n",
    "model = Sequential()\n",
    "model.add(Dense(128, activation='relu', input_dim=2))\n",
    "#model.add(BatchNormalization())\n",
    "model.add(Dense(1, activation='sigmoid'))\n",
    "model.summary()"
   ]
  },
  {
   "cell_type": "code",
   "execution_count": 19,
   "metadata": {
    "id": "2fwwWB0lytSx"
   },
   "outputs": [],
   "source": [
    "model.compile(optimizer='adam', loss='binary_crossentropy', metrics=['accuracy'])"
   ]
  },
  {
   "cell_type": "code",
   "execution_count": 20,
   "metadata": {
    "colab": {
     "base_uri": "https://localhost:8080/"
    },
    "id": "diO4T4d31Cdh",
    "outputId": "5317e220-a4cf-4017-ebf3-dff9866796d3"
   },
   "outputs": [
    {
     "name": "stdout",
     "output_type": "stream",
     "text": [
      "Epoch 1/100\n",
      "10/10 [==============================] - 2s 30ms/step - loss: 7988.1670 - accuracy: 0.3656 - val_loss: 5742.6924 - val_accuracy: 0.3250\n",
      "Epoch 2/100\n",
      "10/10 [==============================] - 0s 9ms/step - loss: 2886.8403 - accuracy: 0.3656 - val_loss: 152.3639 - val_accuracy: 0.3250\n",
      "Epoch 3/100\n",
      "10/10 [==============================] - 0s 8ms/step - loss: 995.8802 - accuracy: 0.6219 - val_loss: 1280.8574 - val_accuracy: 0.6750\n",
      "Epoch 4/100\n",
      "10/10 [==============================] - 0s 8ms/step - loss: 683.3588 - accuracy: 0.5969 - val_loss: 606.7799 - val_accuracy: 0.3250\n",
      "Epoch 5/100\n",
      "10/10 [==============================] - 0s 9ms/step - loss: 541.4828 - accuracy: 0.4031 - val_loss: 149.1174 - val_accuracy: 0.6750\n",
      "Epoch 6/100\n",
      "10/10 [==============================] - 0s 9ms/step - loss: 225.9653 - accuracy: 0.5469 - val_loss: 329.6129 - val_accuracy: 0.3250\n",
      "Epoch 7/100\n",
      "10/10 [==============================] - 0s 10ms/step - loss: 157.8026 - accuracy: 0.5156 - val_loss: 39.5652 - val_accuracy: 0.3250\n",
      "Epoch 8/100\n",
      "10/10 [==============================] - 0s 10ms/step - loss: 53.8803 - accuracy: 0.5094 - val_loss: 40.6419 - val_accuracy: 0.3250\n",
      "Epoch 9/100\n",
      "10/10 [==============================] - 0s 9ms/step - loss: 69.4838 - accuracy: 0.4750 - val_loss: 92.5845 - val_accuracy: 0.6750\n",
      "Epoch 10/100\n",
      "10/10 [==============================] - 0s 11ms/step - loss: 69.8806 - accuracy: 0.5562 - val_loss: 81.0701 - val_accuracy: 0.6750\n",
      "Epoch 11/100\n",
      "10/10 [==============================] - 0s 10ms/step - loss: 61.3524 - accuracy: 0.4656 - val_loss: 16.0966 - val_accuracy: 0.3125\n",
      "Epoch 12/100\n",
      "10/10 [==============================] - 0s 9ms/step - loss: 94.7863 - accuracy: 0.4969 - val_loss: 20.5721 - val_accuracy: 0.3125\n",
      "Epoch 13/100\n",
      "10/10 [==============================] - 0s 7ms/step - loss: 132.4613 - accuracy: 0.5188 - val_loss: 173.3114 - val_accuracy: 0.3250\n",
      "Epoch 14/100\n",
      "10/10 [==============================] - 0s 6ms/step - loss: 94.8852 - accuracy: 0.4969 - val_loss: 7.7803 - val_accuracy: 0.2750\n",
      "Epoch 15/100\n",
      "10/10 [==============================] - 0s 6ms/step - loss: 110.8461 - accuracy: 0.5188 - val_loss: 129.3586 - val_accuracy: 0.3250\n",
      "Epoch 16/100\n",
      "10/10 [==============================] - 0s 7ms/step - loss: 106.4436 - accuracy: 0.5344 - val_loss: 202.3626 - val_accuracy: 0.3250\n",
      "Epoch 17/100\n",
      "10/10 [==============================] - 0s 7ms/step - loss: 91.5873 - accuracy: 0.5594 - val_loss: 138.3297 - val_accuracy: 0.3250\n",
      "Epoch 18/100\n",
      "10/10 [==============================] - 0s 8ms/step - loss: 74.3797 - accuracy: 0.4469 - val_loss: 21.7464 - val_accuracy: 0.6750\n",
      "Epoch 19/100\n",
      "10/10 [==============================] - 0s 6ms/step - loss: 21.3876 - accuracy: 0.5688 - val_loss: 12.3264 - val_accuracy: 0.6750\n",
      "Epoch 20/100\n",
      "10/10 [==============================] - 0s 6ms/step - loss: 35.0099 - accuracy: 0.4594 - val_loss: 62.0321 - val_accuracy: 0.3250\n",
      "Epoch 21/100\n",
      "10/10 [==============================] - 0s 8ms/step - loss: 41.7528 - accuracy: 0.4719 - val_loss: 43.6492 - val_accuracy: 0.3250\n",
      "Epoch 22/100\n",
      "10/10 [==============================] - 0s 8ms/step - loss: 25.5022 - accuracy: 0.5063 - val_loss: 40.5406 - val_accuracy: 0.3250\n",
      "Epoch 23/100\n",
      "10/10 [==============================] - 0s 8ms/step - loss: 31.2497 - accuracy: 0.4563 - val_loss: 40.3404 - val_accuracy: 0.6750\n",
      "Epoch 24/100\n",
      "10/10 [==============================] - 0s 9ms/step - loss: 35.3941 - accuracy: 0.5625 - val_loss: 25.2533 - val_accuracy: 0.3250\n",
      "Epoch 25/100\n",
      "10/10 [==============================] - 0s 9ms/step - loss: 35.3701 - accuracy: 0.4844 - val_loss: 82.7335 - val_accuracy: 0.3250\n",
      "Epoch 26/100\n",
      "10/10 [==============================] - 0s 9ms/step - loss: 81.7007 - accuracy: 0.5281 - val_loss: 86.0503 - val_accuracy: 0.3250\n",
      "Epoch 27/100\n",
      "10/10 [==============================] - 0s 9ms/step - loss: 63.1472 - accuracy: 0.5156 - val_loss: 141.2757 - val_accuracy: 0.6750\n",
      "Epoch 28/100\n",
      "10/10 [==============================] - 0s 10ms/step - loss: 115.0740 - accuracy: 0.5437 - val_loss: 15.7144 - val_accuracy: 0.6750\n",
      "Epoch 29/100\n",
      "10/10 [==============================] - 0s 9ms/step - loss: 68.8743 - accuracy: 0.5156 - val_loss: 67.3422 - val_accuracy: 0.6750\n",
      "Epoch 30/100\n",
      "10/10 [==============================] - 0s 10ms/step - loss: 39.7389 - accuracy: 0.4375 - val_loss: 63.3373 - val_accuracy: 0.6750\n",
      "Epoch 31/100\n",
      "10/10 [==============================] - 0s 9ms/step - loss: 92.5245 - accuracy: 0.4969 - val_loss: 95.4413 - val_accuracy: 0.6750\n",
      "Epoch 32/100\n",
      "10/10 [==============================] - 0s 8ms/step - loss: 178.0927 - accuracy: 0.4844 - val_loss: 138.4837 - val_accuracy: 0.3250\n",
      "Epoch 33/100\n",
      "10/10 [==============================] - 0s 9ms/step - loss: 163.4202 - accuracy: 0.5813 - val_loss: 162.6556 - val_accuracy: 0.3250\n",
      "Epoch 34/100\n",
      "10/10 [==============================] - 0s 9ms/step - loss: 176.5989 - accuracy: 0.4812 - val_loss: 231.5521 - val_accuracy: 0.6750\n",
      "Epoch 35/100\n",
      "10/10 [==============================] - 0s 8ms/step - loss: 108.2391 - accuracy: 0.4969 - val_loss: 5.6166 - val_accuracy: 0.6750\n",
      "Epoch 36/100\n",
      "10/10 [==============================] - 0s 9ms/step - loss: 63.8241 - accuracy: 0.4719 - val_loss: 133.9045 - val_accuracy: 0.3250\n",
      "Epoch 37/100\n",
      "10/10 [==============================] - 0s 8ms/step - loss: 79.7834 - accuracy: 0.5219 - val_loss: 86.1496 - val_accuracy: 0.3250\n",
      "Epoch 38/100\n",
      "10/10 [==============================] - 0s 9ms/step - loss: 31.2416 - accuracy: 0.5500 - val_loss: 31.0379 - val_accuracy: 0.3250\n",
      "Epoch 39/100\n",
      "10/10 [==============================] - 0s 8ms/step - loss: 37.3640 - accuracy: 0.4969 - val_loss: 101.0238 - val_accuracy: 0.6750\n",
      "Epoch 40/100\n",
      "10/10 [==============================] - 0s 7ms/step - loss: 89.1818 - accuracy: 0.5469 - val_loss: 98.2687 - val_accuracy: 0.6750\n",
      "Epoch 41/100\n",
      "10/10 [==============================] - 0s 9ms/step - loss: 40.6502 - accuracy: 0.5656 - val_loss: 118.5517 - val_accuracy: 0.3250\n",
      "Epoch 42/100\n",
      "10/10 [==============================] - 0s 10ms/step - loss: 68.6916 - accuracy: 0.4688 - val_loss: 38.5520 - val_accuracy: 0.6750\n",
      "Epoch 43/100\n",
      "10/10 [==============================] - 0s 9ms/step - loss: 55.6080 - accuracy: 0.5469 - val_loss: 23.7690 - val_accuracy: 0.6750\n",
      "Epoch 44/100\n",
      "10/10 [==============================] - 0s 9ms/step - loss: 61.8292 - accuracy: 0.5312 - val_loss: 152.1834 - val_accuracy: 0.3250\n",
      "Epoch 45/100\n",
      "10/10 [==============================] - 0s 9ms/step - loss: 76.3674 - accuracy: 0.6000 - val_loss: 86.2372 - val_accuracy: 0.3250\n",
      "Epoch 46/100\n",
      "10/10 [==============================] - 0s 8ms/step - loss: 69.2350 - accuracy: 0.4531 - val_loss: 10.4225 - val_accuracy: 0.6750\n",
      "Epoch 47/100\n",
      "10/10 [==============================] - 0s 7ms/step - loss: 28.8514 - accuracy: 0.4938 - val_loss: 23.6253 - val_accuracy: 0.6750\n",
      "Epoch 48/100\n",
      "10/10 [==============================] - 0s 8ms/step - loss: 13.2722 - accuracy: 0.5312 - val_loss: 12.4481 - val_accuracy: 0.6750\n",
      "Epoch 49/100\n",
      "10/10 [==============================] - 0s 7ms/step - loss: 40.1783 - accuracy: 0.5250 - val_loss: 147.5600 - val_accuracy: 0.3250\n",
      "Epoch 50/100\n",
      "10/10 [==============================] - 0s 6ms/step - loss: 71.4756 - accuracy: 0.4594 - val_loss: 20.4543 - val_accuracy: 0.3125\n",
      "Epoch 51/100\n",
      "10/10 [==============================] - 0s 6ms/step - loss: 31.2363 - accuracy: 0.4844 - val_loss: 2.0248 - val_accuracy: 0.5750\n",
      "Epoch 52/100\n",
      "10/10 [==============================] - 0s 7ms/step - loss: 25.9002 - accuracy: 0.5469 - val_loss: 16.1565 - val_accuracy: 0.3125\n",
      "Epoch 53/100\n",
      "10/10 [==============================] - 0s 7ms/step - loss: 19.3380 - accuracy: 0.4906 - val_loss: 12.8777 - val_accuracy: 0.6750\n",
      "Epoch 54/100\n",
      "10/10 [==============================] - 0s 7ms/step - loss: 18.0999 - accuracy: 0.5500 - val_loss: 26.3490 - val_accuracy: 0.3250\n",
      "Epoch 55/100\n",
      "10/10 [==============================] - 0s 8ms/step - loss: 42.9629 - accuracy: 0.5094 - val_loss: 92.1273 - val_accuracy: 0.6750\n",
      "Epoch 56/100\n",
      "10/10 [==============================] - 0s 8ms/step - loss: 75.9589 - accuracy: 0.5719 - val_loss: 104.2373 - val_accuracy: 0.6750\n",
      "Epoch 57/100\n",
      "10/10 [==============================] - 0s 6ms/step - loss: 89.4364 - accuracy: 0.5437 - val_loss: 89.3424 - val_accuracy: 0.6750\n",
      "Epoch 58/100\n",
      "10/10 [==============================] - 0s 8ms/step - loss: 54.6837 - accuracy: 0.4750 - val_loss: 85.7115 - val_accuracy: 0.3250\n",
      "Epoch 59/100\n",
      "10/10 [==============================] - 0s 6ms/step - loss: 75.6823 - accuracy: 0.5063 - val_loss: 10.9164 - val_accuracy: 0.3125\n",
      "Epoch 60/100\n",
      "10/10 [==============================] - 0s 6ms/step - loss: 64.9095 - accuracy: 0.4969 - val_loss: 92.9513 - val_accuracy: 0.6750\n",
      "Epoch 61/100\n",
      "10/10 [==============================] - 0s 6ms/step - loss: 131.4236 - accuracy: 0.4469 - val_loss: 99.1564 - val_accuracy: 0.6750\n",
      "Epoch 62/100\n",
      "10/10 [==============================] - 0s 7ms/step - loss: 198.2391 - accuracy: 0.5656 - val_loss: 326.3051 - val_accuracy: 0.3250\n",
      "Epoch 63/100\n",
      "10/10 [==============================] - 0s 7ms/step - loss: 147.1515 - accuracy: 0.5219 - val_loss: 41.9804 - val_accuracy: 0.3250\n",
      "Epoch 64/100\n",
      "10/10 [==============================] - 0s 6ms/step - loss: 70.3505 - accuracy: 0.5156 - val_loss: 150.6965 - val_accuracy: 0.3250\n",
      "Epoch 65/100\n",
      "10/10 [==============================] - 0s 7ms/step - loss: 85.5040 - accuracy: 0.4344 - val_loss: 4.2980 - val_accuracy: 0.3625\n",
      "Epoch 66/100\n",
      "10/10 [==============================] - 0s 6ms/step - loss: 114.6964 - accuracy: 0.4688 - val_loss: 28.3590 - val_accuracy: 0.6750\n",
      "Epoch 67/100\n",
      "10/10 [==============================] - 0s 7ms/step - loss: 92.7832 - accuracy: 0.4844 - val_loss: 93.0545 - val_accuracy: 0.6750\n",
      "Epoch 68/100\n",
      "10/10 [==============================] - 0s 6ms/step - loss: 85.3463 - accuracy: 0.5219 - val_loss: 97.6367 - val_accuracy: 0.6750\n",
      "Epoch 69/100\n",
      "10/10 [==============================] - 0s 6ms/step - loss: 66.4683 - accuracy: 0.4812 - val_loss: 139.4679 - val_accuracy: 0.3250\n",
      "Epoch 70/100\n",
      "10/10 [==============================] - 0s 6ms/step - loss: 72.6462 - accuracy: 0.4719 - val_loss: 36.9184 - val_accuracy: 0.6750\n",
      "Epoch 71/100\n",
      "10/10 [==============================] - 0s 6ms/step - loss: 58.7205 - accuracy: 0.5781 - val_loss: 43.7857 - val_accuracy: 0.6750\n",
      "Epoch 72/100\n",
      "10/10 [==============================] - 0s 6ms/step - loss: 57.6192 - accuracy: 0.4719 - val_loss: 80.0228 - val_accuracy: 0.3250\n",
      "Epoch 73/100\n",
      "10/10 [==============================] - 0s 6ms/step - loss: 82.6495 - accuracy: 0.5031 - val_loss: 122.9257 - val_accuracy: 0.3250\n",
      "Epoch 74/100\n",
      "10/10 [==============================] - 0s 7ms/step - loss: 105.2596 - accuracy: 0.5469 - val_loss: 114.3574 - val_accuracy: 0.3250\n",
      "Epoch 75/100\n",
      "10/10 [==============================] - 0s 7ms/step - loss: 60.8242 - accuracy: 0.4844 - val_loss: 66.1287 - val_accuracy: 0.6750\n",
      "Epoch 76/100\n",
      "10/10 [==============================] - 0s 5ms/step - loss: 78.1426 - accuracy: 0.5469 - val_loss: 140.4099 - val_accuracy: 0.6750\n",
      "Epoch 77/100\n",
      "10/10 [==============================] - 0s 7ms/step - loss: 77.6317 - accuracy: 0.5344 - val_loss: 6.4675 - val_accuracy: 0.6750\n",
      "Epoch 78/100\n",
      "10/10 [==============================] - 0s 6ms/step - loss: 57.3662 - accuracy: 0.5156 - val_loss: 60.5263 - val_accuracy: 0.3250\n",
      "Epoch 79/100\n",
      "10/10 [==============================] - 0s 6ms/step - loss: 31.6163 - accuracy: 0.5031 - val_loss: 24.4887 - val_accuracy: 0.6750\n",
      "Epoch 80/100\n",
      "10/10 [==============================] - 0s 8ms/step - loss: 25.1441 - accuracy: 0.4969 - val_loss: 36.6447 - val_accuracy: 0.3250\n",
      "Epoch 81/100\n",
      "10/10 [==============================] - 0s 6ms/step - loss: 42.3354 - accuracy: 0.4938 - val_loss: 41.6571 - val_accuracy: 0.6750\n",
      "Epoch 82/100\n",
      "10/10 [==============================] - 0s 7ms/step - loss: 37.7594 - accuracy: 0.5125 - val_loss: 42.4842 - val_accuracy: 0.6750\n",
      "Epoch 83/100\n",
      "10/10 [==============================] - 0s 5ms/step - loss: 28.5263 - accuracy: 0.5281 - val_loss: 51.0608 - val_accuracy: 0.6750\n",
      "Epoch 84/100\n",
      "10/10 [==============================] - 0s 6ms/step - loss: 66.8872 - accuracy: 0.5469 - val_loss: 70.9998 - val_accuracy: 0.6750\n",
      "Epoch 85/100\n",
      "10/10 [==============================] - 0s 6ms/step - loss: 27.0592 - accuracy: 0.5063 - val_loss: 11.6130 - val_accuracy: 0.6750\n",
      "Epoch 86/100\n",
      "10/10 [==============================] - 0s 7ms/step - loss: 23.4701 - accuracy: 0.5219 - val_loss: 23.7051 - val_accuracy: 0.6750\n",
      "Epoch 87/100\n",
      "10/10 [==============================] - 0s 6ms/step - loss: 23.0952 - accuracy: 0.5437 - val_loss: 61.3178 - val_accuracy: 0.6750\n",
      "Epoch 88/100\n",
      "10/10 [==============================] - 0s 8ms/step - loss: 52.5875 - accuracy: 0.5688 - val_loss: 14.0587 - val_accuracy: 0.6750\n",
      "Epoch 89/100\n",
      "10/10 [==============================] - 0s 7ms/step - loss: 112.3455 - accuracy: 0.4969 - val_loss: 40.8889 - val_accuracy: 0.6750\n",
      "Epoch 90/100\n",
      "10/10 [==============================] - 0s 7ms/step - loss: 110.0326 - accuracy: 0.5156 - val_loss: 144.1377 - val_accuracy: 0.6750\n",
      "Epoch 91/100\n",
      "10/10 [==============================] - 0s 5ms/step - loss: 139.2249 - accuracy: 0.4844 - val_loss: 107.1346 - val_accuracy: 0.6750\n",
      "Epoch 92/100\n",
      "10/10 [==============================] - 0s 7ms/step - loss: 76.6951 - accuracy: 0.5469 - val_loss: 16.1954 - val_accuracy: 0.6750\n",
      "Epoch 93/100\n",
      "10/10 [==============================] - 0s 7ms/step - loss: 104.7235 - accuracy: 0.4844 - val_loss: 49.8515 - val_accuracy: 0.3250\n",
      "Epoch 94/100\n",
      "10/10 [==============================] - 0s 6ms/step - loss: 49.5397 - accuracy: 0.4719 - val_loss: 30.1006 - val_accuracy: 0.6750\n",
      "Epoch 95/100\n",
      "10/10 [==============================] - 0s 6ms/step - loss: 50.8948 - accuracy: 0.4469 - val_loss: 18.4924 - val_accuracy: 0.6750\n",
      "Epoch 96/100\n",
      "10/10 [==============================] - 0s 6ms/step - loss: 55.2792 - accuracy: 0.5281 - val_loss: 48.4778 - val_accuracy: 0.3250\n",
      "Epoch 97/100\n",
      "10/10 [==============================] - 0s 7ms/step - loss: 66.8334 - accuracy: 0.4531 - val_loss: 37.2127 - val_accuracy: 0.3250\n",
      "Epoch 98/100\n",
      "10/10 [==============================] - 0s 6ms/step - loss: 61.8710 - accuracy: 0.5281 - val_loss: 48.9405 - val_accuracy: 0.6750\n",
      "Epoch 99/100\n",
      "10/10 [==============================] - 0s 7ms/step - loss: 85.1632 - accuracy: 0.5219 - val_loss: 37.4328 - val_accuracy: 0.6750\n",
      "Epoch 100/100\n",
      "10/10 [==============================] - 0s 7ms/step - loss: 27.3907 - accuracy: 0.4750 - val_loss: 59.7840 - val_accuracy: 0.3250\n"
     ]
    }
   ],
   "source": [
    "history = model.fit(x_train, y_train, epochs=100, validation_data=(x_test, y_test))"
   ]
  },
  {
   "cell_type": "code",
   "execution_count": 21,
   "metadata": {
    "colab": {
     "base_uri": "https://localhost:8080/",
     "height": 447
    },
    "id": "gj1Gb5B01L8_",
    "outputId": "61c819e9-5e09-4ea0-8ba0-dedfba4642ec"
   },
   "outputs": [
    {
     "data": {
      "text/plain": [
       "[<matplotlib.lines.Line2D at 0x7f42d849f460>]"
      ]
     },
     "execution_count": 21,
     "metadata": {},
     "output_type": "execute_result"
    },
    {
     "data": {
      "image/png": "[encoded data removed]",
      "text/plain": [
       "<Figure size 640x480 with 1 Axes>"
      ]
     },
     "metadata": {},
     "output_type": "display_data"
    }
   ],
   "source": [
    "plt.plot(history.history['accuracy'], color='red')\n",
    "plt.plot(history.history['val_accuracy'], color='black')"
   ]
  },
  {
   "cell_type": "markdown",
   "metadata": {
    "id": "g4J9LULu12qZ"
   },
   "source": [
    "# Case 2 : MLP with Feature Scaling"
   ]
  },
  {
   "cell_type": "code",
   "execution_count": 17,
   "metadata": {
    "id": "ri5pL9wa1hdU"
   },
   "outputs": [],
   "source": [
    "from sklearn.preprocessing import StandardScaler\n",
    "sc = StandardScaler()\n",
    "x_train_scaled = sc.fit_transform(x_train)\n",
    "x_test_scaled = sc.fit_transform(x_test)"
   ]
  },
  {
   "cell_type": "code",
   "execution_count": 23,
   "metadata": {
    "colab": {
     "base_uri": "https://localhost:8080/"
    },
    "id": "6d4GLACj2IUG",
    "outputId": "52f7956c-4fc5-43a0-f205-343ca88531a3"
   },
   "outputs": [
    {
     "name": "stdout",
     "output_type": "stream",
     "text": [
      "Model: \"sequential_4\"\n",
      "_________________________________________________________________\n",
      " Layer (type)                Output Shape              Param #   \n",
      "=================================================================\n",
      " dense_8 (Dense)             (None, 128)               384       \n",
      "                                                                 \n",
      " dense_9 (Dense)             (None, 1)                 129       \n",
      "                                                                 \n",
      "=================================================================\n",
      "Total params: 513\n",
      "Trainable params: 513\n",
      "Non-trainable params: 0\n",
      "_________________________________________________________________\n"
     ]
    }
   ],
   "source": [
    "from keras.layers import BatchNormalization\n",
    "model1 = Sequential()\n",
    "model1.add(Dense(128, activation='relu', input_dim=2))\n",
    "model1.add(Dense(1, activation='sigmoid'))\n",
    "model1.summary()"
   ]
  },
  {
   "cell_type": "code",
   "execution_count": 24,
   "metadata": {
    "id": "Fk_OUqbQvjre"
   },
   "outputs": [],
   "source": [
    "model1.compile(optimizer='adam', loss='binary_crossentropy', metrics=['accuracy'])"
   ]
  },
  {
   "cell_type": "code",
   "execution_count": 25,
   "metadata": {
    "colab": {
     "base_uri": "https://localhost:8080/"
    },
    "id": "7E--C0XSvjuh",
    "outputId": "95da1803-a856-4d77-d940-bea681d6d90b"
   },
   "outputs": [
    {
     "name": "stdout",
     "output_type": "stream",
     "text": [
      "Epoch 1/100\n",
      "10/10 [==============================] - 1s 22ms/step - loss: 0.6176 - accuracy: 0.7531 - val_loss: 0.5820 - val_accuracy: 0.8000\n",
      "Epoch 2/100\n",
      "10/10 [==============================] - 0s 7ms/step - loss: 0.5676 - accuracy: 0.7906 - val_loss: 0.5333 - val_accuracy: 0.7875\n",
      "Epoch 3/100\n",
      "10/10 [==============================] - 0s 7ms/step - loss: 0.5240 - accuracy: 0.8219 - val_loss: 0.4918 - val_accuracy: 0.7875\n",
      "Epoch 4/100\n",
      "10/10 [==============================] - 0s 8ms/step - loss: 0.4890 - accuracy: 0.8344 - val_loss: 0.4554 - val_accuracy: 0.8250\n",
      "Epoch 5/100\n",
      "10/10 [==============================] - 0s 6ms/step - loss: 0.4580 - accuracy: 0.8438 - val_loss: 0.4250 - val_accuracy: 0.8375\n",
      "Epoch 6/100\n",
      "10/10 [==============================] - 0s 6ms/step - loss: 0.4310 - accuracy: 0.8500 - val_loss: 0.3992 - val_accuracy: 0.8375\n",
      "Epoch 7/100\n",
      "10/10 [==============================] - 0s 7ms/step - loss: 0.4099 - accuracy: 0.8469 - val_loss: 0.3764 - val_accuracy: 0.8375\n",
      "Epoch 8/100\n",
      "10/10 [==============================] - 0s 8ms/step - loss: 0.3906 - accuracy: 0.8469 - val_loss: 0.3563 - val_accuracy: 0.8500\n",
      "Epoch 9/100\n",
      "10/10 [==============================] - 0s 5ms/step - loss: 0.3744 - accuracy: 0.8531 - val_loss: 0.3383 - val_accuracy: 0.8500\n",
      "Epoch 10/100\n",
      "10/10 [==============================] - 0s 6ms/step - loss: 0.3597 - accuracy: 0.8656 - val_loss: 0.3233 - val_accuracy: 0.8500\n",
      "Epoch 11/100\n",
      "10/10 [==============================] - 0s 8ms/step - loss: 0.3475 - accuracy: 0.8844 - val_loss: 0.3104 - val_accuracy: 0.9000\n",
      "Epoch 12/100\n",
      "10/10 [==============================] - 0s 6ms/step - loss: 0.3370 - accuracy: 0.8844 - val_loss: 0.2981 - val_accuracy: 0.9000\n",
      "Epoch 13/100\n",
      "10/10 [==============================] - 0s 7ms/step - loss: 0.3276 - accuracy: 0.8875 - val_loss: 0.2883 - val_accuracy: 0.9000\n",
      "Epoch 14/100\n",
      "10/10 [==============================] - 0s 7ms/step - loss: 0.3198 - accuracy: 0.8844 - val_loss: 0.2796 - val_accuracy: 0.9000\n",
      "Epoch 15/100\n",
      "10/10 [==============================] - 0s 6ms/step - loss: 0.3132 - accuracy: 0.8875 - val_loss: 0.2730 - val_accuracy: 0.9125\n",
      "Epoch 16/100\n",
      "10/10 [==============================] - 0s 7ms/step - loss: 0.3068 - accuracy: 0.8844 - val_loss: 0.2672 - val_accuracy: 0.9125\n",
      "Epoch 17/100\n",
      "10/10 [==============================] - 0s 7ms/step - loss: 0.3014 - accuracy: 0.8875 - val_loss: 0.2612 - val_accuracy: 0.9125\n",
      "Epoch 18/100\n",
      "10/10 [==============================] - 0s 7ms/step - loss: 0.2970 - accuracy: 0.8906 - val_loss: 0.2567 - val_accuracy: 0.9125\n",
      "Epoch 19/100\n",
      "10/10 [==============================] - 0s 7ms/step - loss: 0.2929 - accuracy: 0.8938 - val_loss: 0.2524 - val_accuracy: 0.9125\n",
      "Epoch 20/100\n",
      "10/10 [==============================] - 0s 8ms/step - loss: 0.2894 - accuracy: 0.8938 - val_loss: 0.2487 - val_accuracy: 0.9125\n",
      "Epoch 21/100\n",
      "10/10 [==============================] - 0s 8ms/step - loss: 0.2860 - accuracy: 0.8938 - val_loss: 0.2458 - val_accuracy: 0.9125\n",
      "Epoch 22/100\n",
      "10/10 [==============================] - 0s 7ms/step - loss: 0.2827 - accuracy: 0.8938 - val_loss: 0.2426 - val_accuracy: 0.9125\n",
      "Epoch 23/100\n",
      "10/10 [==============================] - 0s 6ms/step - loss: 0.2805 - accuracy: 0.8938 - val_loss: 0.2393 - val_accuracy: 0.9125\n",
      "Epoch 24/100\n",
      "10/10 [==============================] - 0s 7ms/step - loss: 0.2780 - accuracy: 0.8938 - val_loss: 0.2376 - val_accuracy: 0.9125\n",
      "Epoch 25/100\n",
      "10/10 [==============================] - 0s 8ms/step - loss: 0.2754 - accuracy: 0.8969 - val_loss: 0.2347 - val_accuracy: 0.9125\n",
      "Epoch 26/100\n",
      "10/10 [==============================] - 0s 6ms/step - loss: 0.2731 - accuracy: 0.8969 - val_loss: 0.2336 - val_accuracy: 0.9125\n",
      "Epoch 27/100\n",
      "10/10 [==============================] - 0s 7ms/step - loss: 0.2713 - accuracy: 0.9000 - val_loss: 0.2320 - val_accuracy: 0.9125\n",
      "Epoch 28/100\n",
      "10/10 [==============================] - 0s 6ms/step - loss: 0.2697 - accuracy: 0.9000 - val_loss: 0.2317 - val_accuracy: 0.9125\n",
      "Epoch 29/100\n",
      "10/10 [==============================] - 0s 6ms/step - loss: 0.2683 - accuracy: 0.9094 - val_loss: 0.2295 - val_accuracy: 0.9125\n",
      "Epoch 30/100\n",
      "10/10 [==============================] - 0s 6ms/step - loss: 0.2665 - accuracy: 0.9125 - val_loss: 0.2279 - val_accuracy: 0.9125\n",
      "Epoch 31/100\n",
      "10/10 [==============================] - 0s 8ms/step - loss: 0.2650 - accuracy: 0.9062 - val_loss: 0.2265 - val_accuracy: 0.9125\n",
      "Epoch 32/100\n",
      "10/10 [==============================] - 0s 6ms/step - loss: 0.2636 - accuracy: 0.9125 - val_loss: 0.2265 - val_accuracy: 0.9125\n",
      "Epoch 33/100\n",
      "10/10 [==============================] - 0s 6ms/step - loss: 0.2624 - accuracy: 0.9094 - val_loss: 0.2244 - val_accuracy: 0.9125\n",
      "Epoch 34/100\n",
      "10/10 [==============================] - 0s 8ms/step - loss: 0.2614 - accuracy: 0.9094 - val_loss: 0.2242 - val_accuracy: 0.9125\n",
      "Epoch 35/100\n",
      "10/10 [==============================] - 0s 7ms/step - loss: 0.2604 - accuracy: 0.9094 - val_loss: 0.2230 - val_accuracy: 0.9125\n",
      "Epoch 36/100\n",
      "10/10 [==============================] - 0s 7ms/step - loss: 0.2594 - accuracy: 0.9094 - val_loss: 0.2226 - val_accuracy: 0.9125\n",
      "Epoch 37/100\n",
      "10/10 [==============================] - 0s 7ms/step - loss: 0.2585 - accuracy: 0.9094 - val_loss: 0.2221 - val_accuracy: 0.9125\n",
      "Epoch 38/100\n",
      "10/10 [==============================] - 0s 7ms/step - loss: 0.2577 - accuracy: 0.9094 - val_loss: 0.2205 - val_accuracy: 0.9125\n",
      "Epoch 39/100\n",
      "10/10 [==============================] - 0s 7ms/step - loss: 0.2569 - accuracy: 0.9094 - val_loss: 0.2200 - val_accuracy: 0.9125\n",
      "Epoch 40/100\n",
      "10/10 [==============================] - 0s 7ms/step - loss: 0.2561 - accuracy: 0.9094 - val_loss: 0.2195 - val_accuracy: 0.9125\n",
      "Epoch 41/100\n",
      "10/10 [==============================] - 0s 8ms/step - loss: 0.2557 - accuracy: 0.9094 - val_loss: 0.2185 - val_accuracy: 0.9125\n",
      "Epoch 42/100\n",
      "10/10 [==============================] - 0s 6ms/step - loss: 0.2545 - accuracy: 0.9094 - val_loss: 0.2180 - val_accuracy: 0.9125\n",
      "Epoch 43/100\n",
      "10/10 [==============================] - 0s 7ms/step - loss: 0.2541 - accuracy: 0.9094 - val_loss: 0.2175 - val_accuracy: 0.9125\n",
      "Epoch 44/100\n",
      "10/10 [==============================] - 0s 8ms/step - loss: 0.2536 - accuracy: 0.9094 - val_loss: 0.2185 - val_accuracy: 0.9125\n",
      "Epoch 45/100\n",
      "10/10 [==============================] - 0s 7ms/step - loss: 0.2531 - accuracy: 0.9094 - val_loss: 0.2178 - val_accuracy: 0.9125\n",
      "Epoch 46/100\n",
      "10/10 [==============================] - 0s 6ms/step - loss: 0.2523 - accuracy: 0.9094 - val_loss: 0.2168 - val_accuracy: 0.9125\n",
      "Epoch 47/100\n",
      "10/10 [==============================] - 0s 8ms/step - loss: 0.2522 - accuracy: 0.9094 - val_loss: 0.2162 - val_accuracy: 0.9125\n",
      "Epoch 48/100\n",
      "10/10 [==============================] - 0s 6ms/step - loss: 0.2516 - accuracy: 0.9094 - val_loss: 0.2161 - val_accuracy: 0.9125\n",
      "Epoch 49/100\n",
      "10/10 [==============================] - 0s 7ms/step - loss: 0.2519 - accuracy: 0.9094 - val_loss: 0.2171 - val_accuracy: 0.9125\n",
      "Epoch 50/100\n",
      "10/10 [==============================] - 0s 8ms/step - loss: 0.2509 - accuracy: 0.9125 - val_loss: 0.2165 - val_accuracy: 0.9125\n",
      "Epoch 51/100\n",
      "10/10 [==============================] - 0s 7ms/step - loss: 0.2505 - accuracy: 0.9094 - val_loss: 0.2154 - val_accuracy: 0.9125\n",
      "Epoch 52/100\n",
      "10/10 [==============================] - 0s 8ms/step - loss: 0.2499 - accuracy: 0.9094 - val_loss: 0.2140 - val_accuracy: 0.9125\n",
      "Epoch 53/100\n",
      "10/10 [==============================] - 0s 6ms/step - loss: 0.2500 - accuracy: 0.9094 - val_loss: 0.2121 - val_accuracy: 0.9125\n",
      "Epoch 54/100\n",
      "10/10 [==============================] - 0s 8ms/step - loss: 0.2496 - accuracy: 0.9094 - val_loss: 0.2138 - val_accuracy: 0.9125\n",
      "Epoch 55/100\n",
      "10/10 [==============================] - 0s 6ms/step - loss: 0.2488 - accuracy: 0.9094 - val_loss: 0.2129 - val_accuracy: 0.9125\n",
      "Epoch 56/100\n",
      "10/10 [==============================] - 0s 6ms/step - loss: 0.2485 - accuracy: 0.9094 - val_loss: 0.2136 - val_accuracy: 0.9125\n",
      "Epoch 57/100\n",
      "10/10 [==============================] - 0s 8ms/step - loss: 0.2489 - accuracy: 0.9094 - val_loss: 0.2137 - val_accuracy: 0.9125\n",
      "Epoch 58/100\n",
      "10/10 [==============================] - 0s 8ms/step - loss: 0.2482 - accuracy: 0.9125 - val_loss: 0.2138 - val_accuracy: 0.9125\n",
      "Epoch 59/100\n",
      "10/10 [==============================] - 0s 8ms/step - loss: 0.2481 - accuracy: 0.9094 - val_loss: 0.2133 - val_accuracy: 0.9125\n",
      "Epoch 60/100\n",
      "10/10 [==============================] - 0s 6ms/step - loss: 0.2474 - accuracy: 0.9125 - val_loss: 0.2130 - val_accuracy: 0.9125\n",
      "Epoch 61/100\n",
      "10/10 [==============================] - 0s 7ms/step - loss: 0.2473 - accuracy: 0.9094 - val_loss: 0.2116 - val_accuracy: 0.9125\n",
      "Epoch 62/100\n",
      "10/10 [==============================] - 0s 6ms/step - loss: 0.2469 - accuracy: 0.9094 - val_loss: 0.2111 - val_accuracy: 0.9125\n",
      "Epoch 63/100\n",
      "10/10 [==============================] - 0s 6ms/step - loss: 0.2470 - accuracy: 0.9125 - val_loss: 0.2129 - val_accuracy: 0.9125\n",
      "Epoch 64/100\n",
      "10/10 [==============================] - 0s 6ms/step - loss: 0.2463 - accuracy: 0.9125 - val_loss: 0.2122 - val_accuracy: 0.9125\n",
      "Epoch 65/100\n",
      "10/10 [==============================] - 0s 7ms/step - loss: 0.2466 - accuracy: 0.9125 - val_loss: 0.2133 - val_accuracy: 0.9125\n",
      "Epoch 66/100\n",
      "10/10 [==============================] - 0s 6ms/step - loss: 0.2459 - accuracy: 0.9125 - val_loss: 0.2118 - val_accuracy: 0.9125\n",
      "Epoch 67/100\n",
      "10/10 [==============================] - 0s 8ms/step - loss: 0.2458 - accuracy: 0.9125 - val_loss: 0.2123 - val_accuracy: 0.9125\n",
      "Epoch 68/100\n",
      "10/10 [==============================] - 0s 6ms/step - loss: 0.2458 - accuracy: 0.9125 - val_loss: 0.2111 - val_accuracy: 0.9125\n",
      "Epoch 69/100\n",
      "10/10 [==============================] - 0s 6ms/step - loss: 0.2456 - accuracy: 0.9125 - val_loss: 0.2105 - val_accuracy: 0.9125\n",
      "Epoch 70/100\n",
      "10/10 [==============================] - 0s 7ms/step - loss: 0.2450 - accuracy: 0.9125 - val_loss: 0.2102 - val_accuracy: 0.9125\n",
      "Epoch 71/100\n",
      "10/10 [==============================] - 0s 7ms/step - loss: 0.2455 - accuracy: 0.9125 - val_loss: 0.2107 - val_accuracy: 0.9125\n",
      "Epoch 72/100\n",
      "10/10 [==============================] - 0s 8ms/step - loss: 0.2454 - accuracy: 0.9125 - val_loss: 0.2119 - val_accuracy: 0.9125\n",
      "Epoch 73/100\n",
      "10/10 [==============================] - 0s 6ms/step - loss: 0.2445 - accuracy: 0.9125 - val_loss: 0.2097 - val_accuracy: 0.9125\n",
      "Epoch 74/100\n",
      "10/10 [==============================] - 0s 6ms/step - loss: 0.2450 - accuracy: 0.9125 - val_loss: 0.2102 - val_accuracy: 0.9125\n",
      "Epoch 75/100\n",
      "10/10 [==============================] - 0s 7ms/step - loss: 0.2441 - accuracy: 0.9125 - val_loss: 0.2088 - val_accuracy: 0.9125\n",
      "Epoch 76/100\n",
      "10/10 [==============================] - 0s 6ms/step - loss: 0.2446 - accuracy: 0.9125 - val_loss: 0.2083 - val_accuracy: 0.9125\n",
      "Epoch 77/100\n",
      "10/10 [==============================] - 0s 7ms/step - loss: 0.2437 - accuracy: 0.9125 - val_loss: 0.2083 - val_accuracy: 0.9125\n",
      "Epoch 78/100\n",
      "10/10 [==============================] - 0s 8ms/step - loss: 0.2435 - accuracy: 0.9094 - val_loss: 0.2084 - val_accuracy: 0.9125\n",
      "Epoch 79/100\n",
      "10/10 [==============================] - 0s 8ms/step - loss: 0.2436 - accuracy: 0.9125 - val_loss: 0.2094 - val_accuracy: 0.9125\n",
      "Epoch 80/100\n",
      "10/10 [==============================] - 0s 7ms/step - loss: 0.2430 - accuracy: 0.9125 - val_loss: 0.2095 - val_accuracy: 0.9125\n",
      "Epoch 81/100\n",
      "10/10 [==============================] - 0s 8ms/step - loss: 0.2433 - accuracy: 0.9125 - val_loss: 0.2099 - val_accuracy: 0.9125\n",
      "Epoch 82/100\n",
      "10/10 [==============================] - 0s 8ms/step - loss: 0.2433 - accuracy: 0.9125 - val_loss: 0.2092 - val_accuracy: 0.9125\n",
      "Epoch 83/100\n",
      "10/10 [==============================] - 0s 6ms/step - loss: 0.2429 - accuracy: 0.9125 - val_loss: 0.2074 - val_accuracy: 0.9125\n",
      "Epoch 84/100\n",
      "10/10 [==============================] - 0s 6ms/step - loss: 0.2428 - accuracy: 0.9125 - val_loss: 0.2086 - val_accuracy: 0.9125\n",
      "Epoch 85/100\n",
      "10/10 [==============================] - 0s 8ms/step - loss: 0.2427 - accuracy: 0.9156 - val_loss: 0.2075 - val_accuracy: 0.9125\n",
      "Epoch 86/100\n",
      "10/10 [==============================] - 0s 6ms/step - loss: 0.2422 - accuracy: 0.9125 - val_loss: 0.2088 - val_accuracy: 0.9125\n",
      "Epoch 87/100\n",
      "10/10 [==============================] - 0s 6ms/step - loss: 0.2420 - accuracy: 0.9156 - val_loss: 0.2093 - val_accuracy: 0.9125\n",
      "Epoch 88/100\n",
      "10/10 [==============================] - 0s 8ms/step - loss: 0.2419 - accuracy: 0.9187 - val_loss: 0.2082 - val_accuracy: 0.9125\n",
      "Epoch 89/100\n",
      "10/10 [==============================] - 0s 9ms/step - loss: 0.2416 - accuracy: 0.9125 - val_loss: 0.2080 - val_accuracy: 0.9125\n",
      "Epoch 90/100\n",
      "10/10 [==============================] - 0s 7ms/step - loss: 0.2418 - accuracy: 0.9125 - val_loss: 0.2061 - val_accuracy: 0.9125\n",
      "Epoch 91/100\n",
      "10/10 [==============================] - 0s 7ms/step - loss: 0.2418 - accuracy: 0.9125 - val_loss: 0.2049 - val_accuracy: 0.9125\n",
      "Epoch 92/100\n",
      "10/10 [==============================] - 0s 7ms/step - loss: 0.2412 - accuracy: 0.9125 - val_loss: 0.2078 - val_accuracy: 0.9125\n",
      "Epoch 93/100\n",
      "10/10 [==============================] - 0s 7ms/step - loss: 0.2415 - accuracy: 0.9156 - val_loss: 0.2091 - val_accuracy: 0.9125\n",
      "Epoch 94/100\n",
      "10/10 [==============================] - 0s 6ms/step - loss: 0.2407 - accuracy: 0.9156 - val_loss: 0.2081 - val_accuracy: 0.9125\n",
      "Epoch 95/100\n",
      "10/10 [==============================] - 0s 9ms/step - loss: 0.2407 - accuracy: 0.9156 - val_loss: 0.2068 - val_accuracy: 0.9125\n",
      "Epoch 96/100\n",
      "10/10 [==============================] - 0s 7ms/step - loss: 0.2407 - accuracy: 0.9156 - val_loss: 0.2073 - val_accuracy: 0.9125\n",
      "Epoch 97/100\n",
      "10/10 [==============================] - 0s 6ms/step - loss: 0.2406 - accuracy: 0.9156 - val_loss: 0.2057 - val_accuracy: 0.9125\n",
      "Epoch 98/100\n",
      "10/10 [==============================] - 0s 7ms/step - loss: 0.2402 - accuracy: 0.9156 - val_loss: 0.2061 - val_accuracy: 0.9125\n",
      "Epoch 99/100\n",
      "10/10 [==============================] - 0s 7ms/step - loss: 0.2402 - accuracy: 0.9156 - val_loss: 0.2054 - val_accuracy: 0.9125\n",
      "Epoch 100/100\n",
      "10/10 [==============================] - 0s 7ms/step - loss: 0.2401 - accuracy: 0.9125 - val_loss: 0.2056 - val_accuracy: 0.9125\n"
     ]
    }
   ],
   "source": [
    "history1 = model1.fit(x_train_scaled, y_train, epochs=100, validation_data=(x_test_scaled, y_test))"
   ]
  },
  {
   "cell_type": "code",
   "execution_count": 26,
   "metadata": {
    "colab": {
     "base_uri": "https://localhost:8080/",
     "height": 448
    },
    "id": "Tm0UV29jvjxp",
    "outputId": "3d873288-284b-4eb6-9fc7-df25af2b6264"
   },
   "outputs": [
    {
     "data": {
      "text/plain": [
       "[<matplotlib.lines.Line2D at 0x7f42d1783e50>]"
      ]
     },
     "execution_count": 26,
     "metadata": {},
     "output_type": "execute_result"
    },
    {
     "data": {
      "image/png": "[encoded data removed]",
      "text/plain": [
       "<Figure size 640x480 with 1 Axes>"
      ]
     },
     "metadata": {},
     "output_type": "display_data"
    }
   ],
   "source": [
    "plt.plot(history1.history['accuracy'], color='red')\n",
    "plt.plot(history1.history['val_accuracy'], color='black')"
   ]
  },
  {
   "cell_type": "code",
   "execution_count": null,
   "metadata": {
    "id": "roXmFv9Gvj0c"
   },
   "outputs": [],
   "source": []
  },
  {
   "cell_type": "code",
   "execution_count": null,
   "metadata": {
    "id": "5tTGuKvTvj3C"
   },
   "outputs": [],
   "source": []
  },
  {
   "cell_type": "code",
   "execution_count": null,
   "metadata": {
    "id": "hiDwazV_vj6O"
   },
   "outputs": [],
   "source": []
  },
  {
   "cell_type": "code",
   "execution_count": null,
   "metadata": {
    "id": "NBv6zZu_vj9E"
   },
   "outputs": [],
   "source": []
  },
  {
   "cell_type": "code",
   "execution_count": null,
   "metadata": {
    "id": "1yLt0YwSvkAN"
   },
   "outputs": [],
   "source": []
  }
 ],
 "metadata": {
  "accelerator": "GPU",
  "colab": {
   "gpuType": "T4",
   "provenance": []
  },
  "gpuClass": "standard",
  "kernelspec": {
   "display_name": "Python 3",
   "name": "python3"
  },
  "language_info": {
   "name": "python"
  }
 },
 "nbformat": 4,
 "nbformat_minor": 0
}
