{
 "cells": [
  {
   "cell_type": "code",
   "execution_count": 1,
   "metadata": {
    "colab": {
     "base_uri": "https://localhost:8080/",
     "height": 206
    },
    "id": "oi1p7uhZwrfI",
    "outputId": "960cc525-d842-4311-a529-42ef70f123ab"
   },
   "outputs": [
    {
     "data": {
      "text/html": [
       "<div>\n",
       "<style scoped>\n",
       "    .dataframe tbody tr th:only-of-type {\n",
       "        vertical-align: middle;\n",
       "    }\n",
       "\n",
       "    .dataframe tbody tr th {\n",
       "        vertical-align: top;\n",
       "    }\n",
       "\n",
       "    .dataframe thead th {\n",
       "        text-align: right;\n",
       "    }\n",
       "</style>\n",
       "<table border=\"1\" class=\"dataframe\">\n",
       "  <thead>\n",
       "    <tr style=\"text-align: right;\">\n",
       "      <th></th>\n",
       "      <th>Pregnancies</th>\n",
       "      <th>Glucose</th>\n",
       "      <th>BloodPressure</th>\n",
       "      <th>SkinThickness</th>\n",
       "      <th>Insulin</th>\n",
       "      <th>BMI</th>\n",
       "      <th>DiabetesPedigreeFunction</th>\n",
       "      <th>Age</th>\n",
       "      <th>Outcome</th>\n",
       "    </tr>\n",
       "  </thead>\n",
       "  <tbody>\n",
       "    <tr>\n",
       "      <th>0</th>\n",
       "      <td>6</td>\n",
       "      <td>148</td>\n",
       "      <td>72</td>\n",
       "      <td>35</td>\n",
       "      <td>0</td>\n",
       "      <td>33.6</td>\n",
       "      <td>0.627</td>\n",
       "      <td>50</td>\n",
       "      <td>1</td>\n",
       "    </tr>\n",
       "    <tr>\n",
       "      <th>1</th>\n",
       "      <td>1</td>\n",
       "      <td>85</td>\n",
       "      <td>66</td>\n",
       "      <td>29</td>\n",
       "      <td>0</td>\n",
       "      <td>26.6</td>\n",
       "      <td>0.351</td>\n",
       "      <td>31</td>\n",
       "      <td>0</td>\n",
       "    </tr>\n",
       "    <tr>\n",
       "      <th>2</th>\n",
       "      <td>8</td>\n",
       "      <td>183</td>\n",
       "      <td>64</td>\n",
       "      <td>0</td>\n",
       "      <td>0</td>\n",
       "      <td>23.3</td>\n",
       "      <td>0.672</td>\n",
       "      <td>32</td>\n",
       "      <td>1</td>\n",
       "    </tr>\n",
       "    <tr>\n",
       "      <th>3</th>\n",
       "      <td>1</td>\n",
       "      <td>89</td>\n",
       "      <td>66</td>\n",
       "      <td>23</td>\n",
       "      <td>94</td>\n",
       "      <td>28.1</td>\n",
       "      <td>0.167</td>\n",
       "      <td>21</td>\n",
       "      <td>0</td>\n",
       "    </tr>\n",
       "    <tr>\n",
       "      <th>4</th>\n",
       "      <td>0</td>\n",
       "      <td>137</td>\n",
       "      <td>40</td>\n",
       "      <td>35</td>\n",
       "      <td>168</td>\n",
       "      <td>43.1</td>\n",
       "      <td>2.288</td>\n",
       "      <td>33</td>\n",
       "      <td>1</td>\n",
       "    </tr>\n",
       "  </tbody>\n",
       "</table>\n",
       "</div>"
      ],
      "text/plain": [
       "   Pregnancies  Glucose  BloodPressure  SkinThickness  Insulin   BMI  \\\n",
       "0            6      148             72             35        0  33.6   \n",
       "1            1       85             66             29        0  26.6   \n",
       "2            8      183             64              0        0  23.3   \n",
       "3            1       89             66             23       94  28.1   \n",
       "4            0      137             40             35      168  43.1   \n",
       "\n",
       "   DiabetesPedigreeFunction  Age  Outcome  \n",
       "0                     0.627   50        1  \n",
       "1                     0.351   31        0  \n",
       "2                     0.672   32        1  \n",
       "3                     0.167   21        0  \n",
       "4                     2.288   33        1  "
      ]
     },
     "execution_count": 1,
     "metadata": {},
     "output_type": "execute_result"
    }
   ],
   "source": [
    "import numpy as np\n",
    "import pandas as pd\n",
    "df = pd.read_csv(\"D:\\Learnbay\\Deep Learning\\Documents\\diabetes.csv\")\n",
    "df.head()"
   ]
  },
  {
   "cell_type": "code",
   "execution_count": 2,
   "metadata": {
    "colab": {
     "base_uri": "https://localhost:8080/",
     "height": 300
    },
    "id": "uF_lyndSxvaW",
    "outputId": "38043647-74cb-4f23-c0bc-47b727a6eab3"
   },
   "outputs": [
    {
     "data": {
      "text/html": [
       "<div>\n",
       "<style scoped>\n",
       "    .dataframe tbody tr th:only-of-type {\n",
       "        vertical-align: middle;\n",
       "    }\n",
       "\n",
       "    .dataframe tbody tr th {\n",
       "        vertical-align: top;\n",
       "    }\n",
       "\n",
       "    .dataframe thead th {\n",
       "        text-align: right;\n",
       "    }\n",
       "</style>\n",
       "<table border=\"1\" class=\"dataframe\">\n",
       "  <thead>\n",
       "    <tr style=\"text-align: right;\">\n",
       "      <th></th>\n",
       "      <th>Pregnancies</th>\n",
       "      <th>Glucose</th>\n",
       "      <th>BloodPressure</th>\n",
       "      <th>SkinThickness</th>\n",
       "      <th>Insulin</th>\n",
       "      <th>BMI</th>\n",
       "      <th>DiabetesPedigreeFunction</th>\n",
       "      <th>Age</th>\n",
       "      <th>Outcome</th>\n",
       "    </tr>\n",
       "  </thead>\n",
       "  <tbody>\n",
       "    <tr>\n",
       "      <th>count</th>\n",
       "      <td>768.000000</td>\n",
       "      <td>768.000000</td>\n",
       "      <td>768.000000</td>\n",
       "      <td>768.000000</td>\n",
       "      <td>768.000000</td>\n",
       "      <td>768.000000</td>\n",
       "      <td>768.000000</td>\n",
       "      <td>768.000000</td>\n",
       "      <td>768.000000</td>\n",
       "    </tr>\n",
       "    <tr>\n",
       "      <th>mean</th>\n",
       "      <td>3.845052</td>\n",
       "      <td>120.894531</td>\n",
       "      <td>69.105469</td>\n",
       "      <td>20.536458</td>\n",
       "      <td>79.799479</td>\n",
       "      <td>31.992578</td>\n",
       "      <td>0.471876</td>\n",
       "      <td>33.240885</td>\n",
       "      <td>0.348958</td>\n",
       "    </tr>\n",
       "    <tr>\n",
       "      <th>std</th>\n",
       "      <td>3.369578</td>\n",
       "      <td>31.972618</td>\n",
       "      <td>19.355807</td>\n",
       "      <td>15.952218</td>\n",
       "      <td>115.244002</td>\n",
       "      <td>7.884160</td>\n",
       "      <td>0.331329</td>\n",
       "      <td>11.760232</td>\n",
       "      <td>0.476951</td>\n",
       "    </tr>\n",
       "    <tr>\n",
       "      <th>min</th>\n",
       "      <td>0.000000</td>\n",
       "      <td>0.000000</td>\n",
       "      <td>0.000000</td>\n",
       "      <td>0.000000</td>\n",
       "      <td>0.000000</td>\n",
       "      <td>0.000000</td>\n",
       "      <td>0.078000</td>\n",
       "      <td>21.000000</td>\n",
       "      <td>0.000000</td>\n",
       "    </tr>\n",
       "    <tr>\n",
       "      <th>25%</th>\n",
       "      <td>1.000000</td>\n",
       "      <td>99.000000</td>\n",
       "      <td>62.000000</td>\n",
       "      <td>0.000000</td>\n",
       "      <td>0.000000</td>\n",
       "      <td>27.300000</td>\n",
       "      <td>0.243750</td>\n",
       "      <td>24.000000</td>\n",
       "      <td>0.000000</td>\n",
       "    </tr>\n",
       "    <tr>\n",
       "      <th>50%</th>\n",
       "      <td>3.000000</td>\n",
       "      <td>117.000000</td>\n",
       "      <td>72.000000</td>\n",
       "      <td>23.000000</td>\n",
       "      <td>30.500000</td>\n",
       "      <td>32.000000</td>\n",
       "      <td>0.372500</td>\n",
       "      <td>29.000000</td>\n",
       "      <td>0.000000</td>\n",
       "    </tr>\n",
       "    <tr>\n",
       "      <th>75%</th>\n",
       "      <td>6.000000</td>\n",
       "      <td>140.250000</td>\n",
       "      <td>80.000000</td>\n",
       "      <td>32.000000</td>\n",
       "      <td>127.250000</td>\n",
       "      <td>36.600000</td>\n",
       "      <td>0.626250</td>\n",
       "      <td>41.000000</td>\n",
       "      <td>1.000000</td>\n",
       "    </tr>\n",
       "    <tr>\n",
       "      <th>max</th>\n",
       "      <td>17.000000</td>\n",
       "      <td>199.000000</td>\n",
       "      <td>122.000000</td>\n",
       "      <td>99.000000</td>\n",
       "      <td>846.000000</td>\n",
       "      <td>67.100000</td>\n",
       "      <td>2.420000</td>\n",
       "      <td>81.000000</td>\n",
       "      <td>1.000000</td>\n",
       "    </tr>\n",
       "  </tbody>\n",
       "</table>\n",
       "</div>"
      ],
      "text/plain": [
       "       Pregnancies     Glucose  BloodPressure  SkinThickness     Insulin  \\\n",
       "count   768.000000  768.000000     768.000000     768.000000  768.000000   \n",
       "mean      3.845052  120.894531      69.105469      20.536458   79.799479   \n",
       "std       3.369578   31.972618      19.355807      15.952218  115.244002   \n",
       "min       0.000000    0.000000       0.000000       0.000000    0.000000   \n",
       "25%       1.000000   99.000000      62.000000       0.000000    0.000000   \n",
       "50%       3.000000  117.000000      72.000000      23.000000   30.500000   \n",
       "75%       6.000000  140.250000      80.000000      32.000000  127.250000   \n",
       "max      17.000000  199.000000     122.000000      99.000000  846.000000   \n",
       "\n",
       "              BMI  DiabetesPedigreeFunction         Age     Outcome  \n",
       "count  768.000000                768.000000  768.000000  768.000000  \n",
       "mean    31.992578                  0.471876   33.240885    0.348958  \n",
       "std      7.884160                  0.331329   11.760232    0.476951  \n",
       "min      0.000000                  0.078000   21.000000    0.000000  \n",
       "25%     27.300000                  0.243750   24.000000    0.000000  \n",
       "50%     32.000000                  0.372500   29.000000    0.000000  \n",
       "75%     36.600000                  0.626250   41.000000    1.000000  \n",
       "max     67.100000                  2.420000   81.000000    1.000000  "
      ]
     },
     "execution_count": 2,
     "metadata": {},
     "output_type": "execute_result"
    }
   ],
   "source": [
    "df.describe()"
   ]
  },
  {
   "cell_type": "code",
   "execution_count": 3,
   "metadata": {
    "id": "HeJw-zLCxZVB"
   },
   "outputs": [],
   "source": [
    "x = df.iloc[:,:-1]\n",
    "y = df.iloc[:,-1]"
   ]
  },
  {
   "cell_type": "code",
   "execution_count": 4,
   "metadata": {
    "colab": {
     "base_uri": "https://localhost:8080/",
     "height": 206
    },
    "id": "6yGtScaPyCye",
    "outputId": "483cecb0-f915-40bf-ef6b-8ee9f03491f3"
   },
   "outputs": [
    {
     "data": {
      "text/html": [
       "<div>\n",
       "<style scoped>\n",
       "    .dataframe tbody tr th:only-of-type {\n",
       "        vertical-align: middle;\n",
       "    }\n",
       "\n",
       "    .dataframe tbody tr th {\n",
       "        vertical-align: top;\n",
       "    }\n",
       "\n",
       "    .dataframe thead th {\n",
       "        text-align: right;\n",
       "    }\n",
       "</style>\n",
       "<table border=\"1\" class=\"dataframe\">\n",
       "  <thead>\n",
       "    <tr style=\"text-align: right;\">\n",
       "      <th></th>\n",
       "      <th>Pregnancies</th>\n",
       "      <th>Glucose</th>\n",
       "      <th>BloodPressure</th>\n",
       "      <th>SkinThickness</th>\n",
       "      <th>Insulin</th>\n",
       "      <th>BMI</th>\n",
       "      <th>DiabetesPedigreeFunction</th>\n",
       "      <th>Age</th>\n",
       "    </tr>\n",
       "  </thead>\n",
       "  <tbody>\n",
       "    <tr>\n",
       "      <th>0</th>\n",
       "      <td>6</td>\n",
       "      <td>148</td>\n",
       "      <td>72</td>\n",
       "      <td>35</td>\n",
       "      <td>0</td>\n",
       "      <td>33.6</td>\n",
       "      <td>0.627</td>\n",
       "      <td>50</td>\n",
       "    </tr>\n",
       "    <tr>\n",
       "      <th>1</th>\n",
       "      <td>1</td>\n",
       "      <td>85</td>\n",
       "      <td>66</td>\n",
       "      <td>29</td>\n",
       "      <td>0</td>\n",
       "      <td>26.6</td>\n",
       "      <td>0.351</td>\n",
       "      <td>31</td>\n",
       "    </tr>\n",
       "    <tr>\n",
       "      <th>2</th>\n",
       "      <td>8</td>\n",
       "      <td>183</td>\n",
       "      <td>64</td>\n",
       "      <td>0</td>\n",
       "      <td>0</td>\n",
       "      <td>23.3</td>\n",
       "      <td>0.672</td>\n",
       "      <td>32</td>\n",
       "    </tr>\n",
       "    <tr>\n",
       "      <th>3</th>\n",
       "      <td>1</td>\n",
       "      <td>89</td>\n",
       "      <td>66</td>\n",
       "      <td>23</td>\n",
       "      <td>94</td>\n",
       "      <td>28.1</td>\n",
       "      <td>0.167</td>\n",
       "      <td>21</td>\n",
       "    </tr>\n",
       "    <tr>\n",
       "      <th>4</th>\n",
       "      <td>0</td>\n",
       "      <td>137</td>\n",
       "      <td>40</td>\n",
       "      <td>35</td>\n",
       "      <td>168</td>\n",
       "      <td>43.1</td>\n",
       "      <td>2.288</td>\n",
       "      <td>33</td>\n",
       "    </tr>\n",
       "  </tbody>\n",
       "</table>\n",
       "</div>"
      ],
      "text/plain": [
       "   Pregnancies  Glucose  BloodPressure  SkinThickness  Insulin   BMI  \\\n",
       "0            6      148             72             35        0  33.6   \n",
       "1            1       85             66             29        0  26.6   \n",
       "2            8      183             64              0        0  23.3   \n",
       "3            1       89             66             23       94  28.1   \n",
       "4            0      137             40             35      168  43.1   \n",
       "\n",
       "   DiabetesPedigreeFunction  Age  \n",
       "0                     0.627   50  \n",
       "1                     0.351   31  \n",
       "2                     0.672   32  \n",
       "3                     0.167   21  \n",
       "4                     2.288   33  "
      ]
     },
     "execution_count": 4,
     "metadata": {},
     "output_type": "execute_result"
    }
   ],
   "source": [
    "x.head()"
   ]
  },
  {
   "cell_type": "code",
   "execution_count": 5,
   "metadata": {
    "colab": {
     "base_uri": "https://localhost:8080/"
    },
    "id": "YhWDbgqVyErK",
    "outputId": "8c97d8dc-f839-4f22-d6d0-71ff95a81f77"
   },
   "outputs": [
    {
     "data": {
      "text/plain": [
       "0    1\n",
       "1    0\n",
       "2    1\n",
       "3    0\n",
       "4    1\n",
       "Name: Outcome, dtype: int64"
      ]
     },
     "execution_count": 5,
     "metadata": {},
     "output_type": "execute_result"
    }
   ],
   "source": [
    "y.head()"
   ]
  },
  {
   "cell_type": "code",
   "execution_count": 6,
   "metadata": {
    "id": "jpOFxg3yyHT7"
   },
   "outputs": [],
   "source": [
    "from sklearn.preprocessing import StandardScaler\n",
    "sc = StandardScaler()\n",
    "x = sc.fit_transform(x)"
   ]
  },
  {
   "cell_type": "code",
   "execution_count": 7,
   "metadata": {
    "colab": {
     "base_uri": "https://localhost:8080/"
    },
    "id": "6X7CPAp5zXWe",
    "outputId": "3117b60c-3d62-4179-b258-b0ae562426c8"
   },
   "outputs": [
    {
     "data": {
      "text/plain": [
       "(768, 8)"
      ]
     },
     "execution_count": 7,
     "metadata": {},
     "output_type": "execute_result"
    }
   ],
   "source": [
    "x.shape"
   ]
  },
  {
   "cell_type": "code",
   "execution_count": 8,
   "metadata": {
    "id": "7fmldjepykF6"
   },
   "outputs": [],
   "source": [
    "from sklearn.model_selection import train_test_split\n",
    "x_train, x_test, y_train, y_test = train_test_split(x, y, test_size=0.2, random_state=1)"
   ]
  },
  {
   "cell_type": "markdown",
   "metadata": {
    "id": "4ikem4aBy47z"
   },
   "source": [
    "# Building DNN"
   ]
  },
  {
   "cell_type": "code",
   "execution_count": 9,
   "metadata": {
    "id": "E6qaGELIy2Ug"
   },
   "outputs": [
    {
     "name": "stdout",
     "output_type": "stream",
     "text": [
      "Requirement already satisfied: tensorflow in c:\\users\\achyu\\anaconda3\\lib\\site-packages (2.12.0)\n",
      "Requirement already satisfied: tensorflow-intel==2.12.0 in c:\\users\\achyu\\anaconda3\\lib\\site-packages (from tensorflow) (2.12.0)\n",
      "Requirement already satisfied: opt-einsum>=2.3.2 in c:\\users\\achyu\\anaconda3\\lib\\site-packages (from tensorflow-intel==2.12.0->tensorflow) (3.3.0)\n",
      "Requirement already satisfied: setuptools in c:\\users\\achyu\\anaconda3\\lib\\site-packages (from tensorflow-intel==2.12.0->tensorflow) (63.4.1)\n",
      "Requirement already satisfied: wrapt<1.15,>=1.11.0 in c:\\users\\achyu\\anaconda3\\lib\\site-packages (from tensorflow-intel==2.12.0->tensorflow) (1.14.1)\n",
      "Requirement already satisfied: protobuf!=4.21.0,!=4.21.1,!=4.21.2,!=4.21.3,!=4.21.4,!=4.21.5,<5.0.0dev,>=3.20.3 in c:\\users\\achyu\\anaconda3\\lib\\site-packages (from tensorflow-intel==2.12.0->tensorflow) (4.23.2)\n",
      "Requirement already satisfied: absl-py>=1.0.0 in c:\\users\\achyu\\anaconda3\\lib\\site-packages (from tensorflow-intel==2.12.0->tensorflow) (1.4.0)\n",
      "Requirement already satisfied: libclang>=13.0.0 in c:\\users\\achyu\\anaconda3\\lib\\site-packages (from tensorflow-intel==2.12.0->tensorflow) (16.0.0)\n",
      "Requirement already satisfied: packaging in c:\\users\\achyu\\anaconda3\\lib\\site-packages (from tensorflow-intel==2.12.0->tensorflow) (21.3)\n",
      "Requirement already satisfied: numpy<1.24,>=1.22 in c:\\users\\achyu\\anaconda3\\lib\\site-packages (from tensorflow-intel==2.12.0->tensorflow) (1.23.5)\n",
      "Requirement already satisfied: six>=1.12.0 in c:\\users\\achyu\\anaconda3\\lib\\site-packages (from tensorflow-intel==2.12.0->tensorflow) (1.16.0)\n",
      "Requirement already satisfied: grpcio<2.0,>=1.24.3 in c:\\users\\achyu\\anaconda3\\lib\\site-packages (from tensorflow-intel==2.12.0->tensorflow) (1.54.2)\n",
      "Requirement already satisfied: gast<=0.4.0,>=0.2.1 in c:\\users\\achyu\\anaconda3\\lib\\site-packages (from tensorflow-intel==2.12.0->tensorflow) (0.4.0)\n",
      "Requirement already satisfied: jax>=0.3.15 in c:\\users\\achyu\\anaconda3\\lib\\site-packages (from tensorflow-intel==2.12.0->tensorflow) (0.4.12)\n",
      "Requirement already satisfied: tensorboard<2.13,>=2.12 in c:\\users\\achyu\\anaconda3\\lib\\site-packages (from tensorflow-intel==2.12.0->tensorflow) (2.12.3)\n",
      "Requirement already satisfied: keras<2.13,>=2.12.0 in c:\\users\\achyu\\anaconda3\\lib\\site-packages (from tensorflow-intel==2.12.0->tensorflow) (2.12.0)\n",
      "Requirement already satisfied: astunparse>=1.6.0 in c:\\users\\achyu\\anaconda3\\lib\\site-packages (from tensorflow-intel==2.12.0->tensorflow) (1.6.3)\n",
      "Requirement already satisfied: h5py>=2.9.0 in c:\\users\\achyu\\anaconda3\\lib\\site-packages (from tensorflow-intel==2.12.0->tensorflow) (3.7.0)\n",
      "Requirement already satisfied: termcolor>=1.1.0 in c:\\users\\achyu\\anaconda3\\lib\\site-packages (from tensorflow-intel==2.12.0->tensorflow) (2.3.0)\n",
      "Requirement already satisfied: flatbuffers>=2.0 in c:\\users\\achyu\\anaconda3\\lib\\site-packages (from tensorflow-intel==2.12.0->tensorflow) (23.5.26)\n",
      "Requirement already satisfied: tensorflow-estimator<2.13,>=2.12.0 in c:\\users\\achyu\\anaconda3\\lib\\site-packages (from tensorflow-intel==2.12.0->tensorflow) (2.12.0)\n",
      "Requirement already satisfied: google-pasta>=0.1.1 in c:\\users\\achyu\\anaconda3\\lib\\site-packages (from tensorflow-intel==2.12.0->tensorflow) (0.2.0)\n",
      "Requirement already satisfied: typing-extensions>=3.6.6 in c:\\users\\achyu\\anaconda3\\lib\\site-packages (from tensorflow-intel==2.12.0->tensorflow) (4.3.0)\n",
      "Requirement already satisfied: tensorflow-io-gcs-filesystem>=0.23.1 in c:\\users\\achyu\\anaconda3\\lib\\site-packages (from tensorflow-intel==2.12.0->tensorflow) (0.31.0)\n",
      "Requirement already satisfied: wheel<1.0,>=0.23.0 in c:\\users\\achyu\\anaconda3\\lib\\site-packages (from astunparse>=1.6.0->tensorflow-intel==2.12.0->tensorflow) (0.37.1)\n",
      "Requirement already satisfied: ml-dtypes>=0.1.0 in c:\\users\\achyu\\anaconda3\\lib\\site-packages (from jax>=0.3.15->tensorflow-intel==2.12.0->tensorflow) (0.2.0)\n",
      "Requirement already satisfied: scipy>=1.7 in c:\\users\\achyu\\anaconda3\\lib\\site-packages (from jax>=0.3.15->tensorflow-intel==2.12.0->tensorflow) (1.9.1)\n",
      "Requirement already satisfied: importlib-metadata>=4.6 in c:\\users\\achyu\\anaconda3\\lib\\site-packages (from jax>=0.3.15->tensorflow-intel==2.12.0->tensorflow) (4.11.3)\n",
      "Requirement already satisfied: google-auth<3,>=1.6.3 in c:\\users\\achyu\\anaconda3\\lib\\site-packages (from tensorboard<2.13,>=2.12->tensorflow-intel==2.12.0->tensorflow) (2.20.0)\n",
      "Requirement already satisfied: requests<3,>=2.21.0 in c:\\users\\achyu\\anaconda3\\lib\\site-packages (from tensorboard<2.13,>=2.12->tensorflow-intel==2.12.0->tensorflow) (2.28.1)\n",
      "Requirement already satisfied: tensorboard-data-server<0.8.0,>=0.7.0 in c:\\users\\achyu\\anaconda3\\lib\\site-packages (from tensorboard<2.13,>=2.12->tensorflow-intel==2.12.0->tensorflow) (0.7.1)\n",
      "Requirement already satisfied: werkzeug>=1.0.1 in c:\\users\\achyu\\anaconda3\\lib\\site-packages (from tensorboard<2.13,>=2.12->tensorflow-intel==2.12.0->tensorflow) (2.0.3)\n",
      "Requirement already satisfied: google-auth-oauthlib<1.1,>=0.5 in c:\\users\\achyu\\anaconda3\\lib\\site-packages (from tensorboard<2.13,>=2.12->tensorflow-intel==2.12.0->tensorflow) (1.0.0)\n",
      "Requirement already satisfied: markdown>=2.6.8 in c:\\users\\achyu\\anaconda3\\lib\\site-packages (from tensorboard<2.13,>=2.12->tensorflow-intel==2.12.0->tensorflow) (3.3.4)\n",
      "Requirement already satisfied: pyparsing!=3.0.5,>=2.0.2 in c:\\users\\achyu\\anaconda3\\lib\\site-packages (from packaging->tensorflow-intel==2.12.0->tensorflow) (3.0.9)\n",
      "Requirement already satisfied: urllib3<2.0 in c:\\users\\achyu\\anaconda3\\lib\\site-packages (from google-auth<3,>=1.6.3->tensorboard<2.13,>=2.12->tensorflow-intel==2.12.0->tensorflow) (1.26.11)\n",
      "Requirement already satisfied: cachetools<6.0,>=2.0.0 in c:\\users\\achyu\\anaconda3\\lib\\site-packages (from google-auth<3,>=1.6.3->tensorboard<2.13,>=2.12->tensorflow-intel==2.12.0->tensorflow) (5.3.1)\n",
      "Requirement already satisfied: pyasn1-modules>=0.2.1 in c:\\users\\achyu\\anaconda3\\lib\\site-packages (from google-auth<3,>=1.6.3->tensorboard<2.13,>=2.12->tensorflow-intel==2.12.0->tensorflow) (0.2.8)\n",
      "Requirement already satisfied: rsa<5,>=3.1.4 in c:\\users\\achyu\\anaconda3\\lib\\site-packages (from google-auth<3,>=1.6.3->tensorboard<2.13,>=2.12->tensorflow-intel==2.12.0->tensorflow) (4.9)\n",
      "Requirement already satisfied: requests-oauthlib>=0.7.0 in c:\\users\\achyu\\anaconda3\\lib\\site-packages (from google-auth-oauthlib<1.1,>=0.5->tensorboard<2.13,>=2.12->tensorflow-intel==2.12.0->tensorflow) (1.3.1)\n",
      "Requirement already satisfied: zipp>=0.5 in c:\\users\\achyu\\anaconda3\\lib\\site-packages (from importlib-metadata>=4.6->jax>=0.3.15->tensorflow-intel==2.12.0->tensorflow) (3.8.0)\n",
      "Requirement already satisfied: certifi>=2017.4.17 in c:\\users\\achyu\\anaconda3\\lib\\site-packages (from requests<3,>=2.21.0->tensorboard<2.13,>=2.12->tensorflow-intel==2.12.0->tensorflow) (2022.9.14)\n",
      "Requirement already satisfied: charset-normalizer<3,>=2 in c:\\users\\achyu\\anaconda3\\lib\\site-packages (from requests<3,>=2.21.0->tensorboard<2.13,>=2.12->tensorflow-intel==2.12.0->tensorflow) (2.0.4)\n",
      "Requirement already satisfied: idna<4,>=2.5 in c:\\users\\achyu\\anaconda3\\lib\\site-packages (from requests<3,>=2.21.0->tensorboard<2.13,>=2.12->tensorflow-intel==2.12.0->tensorflow) (3.3)\n",
      "Requirement already satisfied: pyasn1<0.5.0,>=0.4.6 in c:\\users\\achyu\\anaconda3\\lib\\site-packages (from pyasn1-modules>=0.2.1->google-auth<3,>=1.6.3->tensorboard<2.13,>=2.12->tensorflow-intel==2.12.0->tensorflow) (0.4.8)\n",
      "Requirement already satisfied: oauthlib>=3.0.0 in c:\\users\\achyu\\anaconda3\\lib\\site-packages (from requests-oauthlib>=0.7.0->google-auth-oauthlib<1.1,>=0.5->tensorboard<2.13,>=2.12->tensorflow-intel==2.12.0->tensorflow) (3.2.2)\n"
     ]
    }
   ],
   "source": [
    "\n",
    "import tensorflow as tf\n",
    "from tensorflow import keras\n",
    "from keras import Sequential\n",
    "from keras.layers import Dense, Dropout"
   ]
  },
  {
   "cell_type": "code",
   "execution_count": 10,
   "metadata": {
    "colab": {
     "base_uri": "https://localhost:8080/"
    },
    "id": "MiahjYAexZZJ",
    "outputId": "7add8c77-310c-429c-ab6b-f418fc828dff"
   },
   "outputs": [
    {
     "name": "stdout",
     "output_type": "stream",
     "text": [
      "Epoch 1/100\n",
      "20/20 [==============================] - 1s 12ms/step - loss: 0.9270 - accuracy: 0.5912 - val_loss: 0.8833 - val_accuracy: 0.6494\n",
      "Epoch 2/100\n",
      "20/20 [==============================] - 0s 4ms/step - loss: 0.8561 - accuracy: 0.6368 - val_loss: 0.8114 - val_accuracy: 0.6688\n",
      "Epoch 3/100\n",
      "20/20 [==============================] - 0s 3ms/step - loss: 0.7861 - accuracy: 0.6531 - val_loss: 0.7609 - val_accuracy: 0.7013\n",
      "Epoch 4/100\n",
      "20/20 [==============================] - 0s 4ms/step - loss: 0.7388 - accuracy: 0.6857 - val_loss: 0.7221 - val_accuracy: 0.7078\n",
      "Epoch 5/100\n",
      "20/20 [==============================] - 0s 3ms/step - loss: 0.7114 - accuracy: 0.7101 - val_loss: 0.6931 - val_accuracy: 0.6948\n",
      "Epoch 6/100\n",
      "20/20 [==============================] - 0s 3ms/step - loss: 0.6750 - accuracy: 0.7280 - val_loss: 0.6724 - val_accuracy: 0.7403\n",
      "Epoch 7/100\n",
      "20/20 [==============================] - 0s 3ms/step - loss: 0.6613 - accuracy: 0.7085 - val_loss: 0.6545 - val_accuracy: 0.7468\n",
      "Epoch 8/100\n",
      "20/20 [==============================] - 0s 3ms/step - loss: 0.6493 - accuracy: 0.7313 - val_loss: 0.6392 - val_accuracy: 0.7597\n",
      "Epoch 9/100\n",
      "20/20 [==============================] - 0s 3ms/step - loss: 0.6278 - accuracy: 0.7410 - val_loss: 0.6296 - val_accuracy: 0.7662\n",
      "Epoch 10/100\n",
      "20/20 [==============================] - 0s 3ms/step - loss: 0.6253 - accuracy: 0.7199 - val_loss: 0.6197 - val_accuracy: 0.7662\n",
      "Epoch 11/100\n",
      "20/20 [==============================] - 0s 4ms/step - loss: 0.6230 - accuracy: 0.7362 - val_loss: 0.6118 - val_accuracy: 0.7662\n",
      "Epoch 12/100\n",
      "20/20 [==============================] - 0s 3ms/step - loss: 0.5934 - accuracy: 0.7492 - val_loss: 0.6046 - val_accuracy: 0.7597\n",
      "Epoch 13/100\n",
      "20/20 [==============================] - 0s 3ms/step - loss: 0.5931 - accuracy: 0.7524 - val_loss: 0.5975 - val_accuracy: 0.7662\n",
      "Epoch 14/100\n",
      "20/20 [==============================] - 0s 3ms/step - loss: 0.5939 - accuracy: 0.7443 - val_loss: 0.5904 - val_accuracy: 0.7662\n",
      "Epoch 15/100\n",
      "20/20 [==============================] - 0s 3ms/step - loss: 0.5902 - accuracy: 0.7622 - val_loss: 0.5859 - val_accuracy: 0.7727\n",
      "Epoch 16/100\n",
      "20/20 [==============================] - 0s 4ms/step - loss: 0.5704 - accuracy: 0.7687 - val_loss: 0.5820 - val_accuracy: 0.7662\n",
      "Epoch 17/100\n",
      "20/20 [==============================] - 0s 3ms/step - loss: 0.5733 - accuracy: 0.7573 - val_loss: 0.5783 - val_accuracy: 0.7662\n",
      "Epoch 18/100\n",
      "20/20 [==============================] - 0s 3ms/step - loss: 0.5681 - accuracy: 0.7687 - val_loss: 0.5736 - val_accuracy: 0.7662\n",
      "Epoch 19/100\n",
      "20/20 [==============================] - 0s 3ms/step - loss: 0.5682 - accuracy: 0.7687 - val_loss: 0.5700 - val_accuracy: 0.7662\n",
      "Epoch 20/100\n",
      "20/20 [==============================] - 0s 3ms/step - loss: 0.5502 - accuracy: 0.7622 - val_loss: 0.5662 - val_accuracy: 0.7662\n",
      "Epoch 21/100\n",
      "20/20 [==============================] - 0s 3ms/step - loss: 0.5626 - accuracy: 0.7687 - val_loss: 0.5621 - val_accuracy: 0.7727\n",
      "Epoch 22/100\n",
      "20/20 [==============================] - 0s 4ms/step - loss: 0.5547 - accuracy: 0.7606 - val_loss: 0.5593 - val_accuracy: 0.7792\n",
      "Epoch 23/100\n",
      "20/20 [==============================] - 0s 3ms/step - loss: 0.5408 - accuracy: 0.7622 - val_loss: 0.5563 - val_accuracy: 0.7792\n",
      "Epoch 24/100\n",
      "20/20 [==============================] - 0s 3ms/step - loss: 0.5377 - accuracy: 0.7557 - val_loss: 0.5530 - val_accuracy: 0.7792\n",
      "Epoch 25/100\n",
      "20/20 [==============================] - 0s 3ms/step - loss: 0.5453 - accuracy: 0.7752 - val_loss: 0.5496 - val_accuracy: 0.7792\n",
      "Epoch 26/100\n",
      "20/20 [==============================] - 0s 3ms/step - loss: 0.5333 - accuracy: 0.7622 - val_loss: 0.5467 - val_accuracy: 0.7792\n",
      "Epoch 27/100\n",
      "20/20 [==============================] - 0s 3ms/step - loss: 0.5388 - accuracy: 0.7687 - val_loss: 0.5431 - val_accuracy: 0.7792\n",
      "Epoch 28/100\n",
      "20/20 [==============================] - 0s 3ms/step - loss: 0.5290 - accuracy: 0.7704 - val_loss: 0.5398 - val_accuracy: 0.7922\n",
      "Epoch 29/100\n",
      "20/20 [==============================] - 0s 3ms/step - loss: 0.5296 - accuracy: 0.7671 - val_loss: 0.5375 - val_accuracy: 0.7922\n",
      "Epoch 30/100\n",
      "20/20 [==============================] - 0s 4ms/step - loss: 0.5335 - accuracy: 0.7655 - val_loss: 0.5348 - val_accuracy: 0.7857\n",
      "Epoch 31/100\n",
      "20/20 [==============================] - 0s 3ms/step - loss: 0.5180 - accuracy: 0.7720 - val_loss: 0.5331 - val_accuracy: 0.7857\n",
      "Epoch 32/100\n",
      "20/20 [==============================] - 0s 3ms/step - loss: 0.5287 - accuracy: 0.7606 - val_loss: 0.5307 - val_accuracy: 0.7857\n",
      "Epoch 33/100\n",
      "20/20 [==============================] - 0s 3ms/step - loss: 0.5184 - accuracy: 0.7769 - val_loss: 0.5289 - val_accuracy: 0.7857\n",
      "Epoch 34/100\n",
      "20/20 [==============================] - 0s 3ms/step - loss: 0.5214 - accuracy: 0.7541 - val_loss: 0.5260 - val_accuracy: 0.7857\n",
      "Epoch 35/100\n",
      "20/20 [==============================] - 0s 3ms/step - loss: 0.5175 - accuracy: 0.7638 - val_loss: 0.5239 - val_accuracy: 0.7857\n",
      "Epoch 36/100\n",
      "20/20 [==============================] - 0s 3ms/step - loss: 0.5000 - accuracy: 0.7704 - val_loss: 0.5218 - val_accuracy: 0.7857\n",
      "Epoch 37/100\n",
      "20/20 [==============================] - 0s 3ms/step - loss: 0.5089 - accuracy: 0.7850 - val_loss: 0.5189 - val_accuracy: 0.7792\n",
      "Epoch 38/100\n",
      "20/20 [==============================] - 0s 3ms/step - loss: 0.5145 - accuracy: 0.7671 - val_loss: 0.5173 - val_accuracy: 0.7792\n",
      "Epoch 39/100\n",
      "20/20 [==============================] - 0s 3ms/step - loss: 0.5076 - accuracy: 0.7704 - val_loss: 0.5156 - val_accuracy: 0.7792\n",
      "Epoch 40/100\n",
      "20/20 [==============================] - 0s 3ms/step - loss: 0.5121 - accuracy: 0.7655 - val_loss: 0.5142 - val_accuracy: 0.7792\n",
      "Epoch 41/100\n",
      "20/20 [==============================] - 0s 3ms/step - loss: 0.5104 - accuracy: 0.7704 - val_loss: 0.5119 - val_accuracy: 0.7857\n",
      "Epoch 42/100\n",
      "20/20 [==============================] - 0s 3ms/step - loss: 0.4952 - accuracy: 0.7785 - val_loss: 0.5109 - val_accuracy: 0.7727\n",
      "Epoch 43/100\n",
      "20/20 [==============================] - 0s 3ms/step - loss: 0.5005 - accuracy: 0.7736 - val_loss: 0.5104 - val_accuracy: 0.7727\n",
      "Epoch 44/100\n",
      "20/20 [==============================] - 0s 3ms/step - loss: 0.5000 - accuracy: 0.7720 - val_loss: 0.5078 - val_accuracy: 0.7792\n",
      "Epoch 45/100\n",
      "20/20 [==============================] - 0s 3ms/step - loss: 0.4925 - accuracy: 0.7818 - val_loss: 0.5068 - val_accuracy: 0.7857\n",
      "Epoch 46/100\n",
      "20/20 [==============================] - 0s 3ms/step - loss: 0.4865 - accuracy: 0.7736 - val_loss: 0.5050 - val_accuracy: 0.7857\n",
      "Epoch 47/100\n",
      "20/20 [==============================] - 0s 3ms/step - loss: 0.4891 - accuracy: 0.7752 - val_loss: 0.5051 - val_accuracy: 0.7857\n",
      "Epoch 48/100\n",
      "20/20 [==============================] - 0s 3ms/step - loss: 0.4986 - accuracy: 0.7704 - val_loss: 0.5042 - val_accuracy: 0.7792\n",
      "Epoch 49/100\n",
      "20/20 [==============================] - 0s 3ms/step - loss: 0.4857 - accuracy: 0.7850 - val_loss: 0.5041 - val_accuracy: 0.7857\n",
      "Epoch 50/100\n",
      "20/20 [==============================] - 0s 3ms/step - loss: 0.4962 - accuracy: 0.7834 - val_loss: 0.5034 - val_accuracy: 0.7922\n",
      "Epoch 51/100\n",
      "20/20 [==============================] - 0s 3ms/step - loss: 0.4930 - accuracy: 0.7785 - val_loss: 0.5025 - val_accuracy: 0.7792\n",
      "Epoch 52/100\n",
      "20/20 [==============================] - 0s 3ms/step - loss: 0.4874 - accuracy: 0.7785 - val_loss: 0.4998 - val_accuracy: 0.7792\n",
      "Epoch 53/100\n",
      "20/20 [==============================] - 0s 3ms/step - loss: 0.4905 - accuracy: 0.7769 - val_loss: 0.4991 - val_accuracy: 0.7857\n",
      "Epoch 54/100\n",
      "20/20 [==============================] - 0s 3ms/step - loss: 0.4834 - accuracy: 0.7818 - val_loss: 0.4999 - val_accuracy: 0.7857\n",
      "Epoch 55/100\n",
      "20/20 [==============================] - 0s 3ms/step - loss: 0.4801 - accuracy: 0.7801 - val_loss: 0.4991 - val_accuracy: 0.7857\n",
      "Epoch 56/100\n",
      "20/20 [==============================] - 0s 3ms/step - loss: 0.4943 - accuracy: 0.7736 - val_loss: 0.4954 - val_accuracy: 0.7857\n",
      "Epoch 57/100\n",
      "20/20 [==============================] - 0s 3ms/step - loss: 0.4932 - accuracy: 0.7801 - val_loss: 0.4948 - val_accuracy: 0.7857\n",
      "Epoch 58/100\n",
      "20/20 [==============================] - 0s 3ms/step - loss: 0.4712 - accuracy: 0.7769 - val_loss: 0.4933 - val_accuracy: 0.7857\n"
     ]
    },
    {
     "name": "stdout",
     "output_type": "stream",
     "text": [
      "Epoch 59/100\n",
      "20/20 [==============================] - 0s 3ms/step - loss: 0.4944 - accuracy: 0.7687 - val_loss: 0.4939 - val_accuracy: 0.7792\n",
      "Epoch 60/100\n",
      "20/20 [==============================] - 0s 3ms/step - loss: 0.4794 - accuracy: 0.7704 - val_loss: 0.4926 - val_accuracy: 0.7792\n",
      "Epoch 61/100\n",
      "20/20 [==============================] - 0s 3ms/step - loss: 0.4811 - accuracy: 0.7801 - val_loss: 0.4924 - val_accuracy: 0.7792\n",
      "Epoch 62/100\n",
      "20/20 [==============================] - 0s 3ms/step - loss: 0.4863 - accuracy: 0.7785 - val_loss: 0.4917 - val_accuracy: 0.7792\n",
      "Epoch 63/100\n",
      "20/20 [==============================] - 0s 3ms/step - loss: 0.4797 - accuracy: 0.7785 - val_loss: 0.4919 - val_accuracy: 0.7857\n",
      "Epoch 64/100\n",
      "20/20 [==============================] - 0s 3ms/step - loss: 0.4678 - accuracy: 0.7850 - val_loss: 0.4907 - val_accuracy: 0.7857\n",
      "Epoch 65/100\n",
      "20/20 [==============================] - 0s 3ms/step - loss: 0.4794 - accuracy: 0.7752 - val_loss: 0.4920 - val_accuracy: 0.7922\n",
      "Epoch 66/100\n",
      "20/20 [==============================] - 0s 3ms/step - loss: 0.4804 - accuracy: 0.7736 - val_loss: 0.4929 - val_accuracy: 0.7922\n",
      "Epoch 67/100\n",
      "20/20 [==============================] - 0s 4ms/step - loss: 0.4815 - accuracy: 0.7720 - val_loss: 0.4928 - val_accuracy: 0.7857\n",
      "Epoch 68/100\n",
      "20/20 [==============================] - 0s 4ms/step - loss: 0.4763 - accuracy: 0.7850 - val_loss: 0.4908 - val_accuracy: 0.7857\n",
      "Epoch 69/100\n",
      "20/20 [==============================] - 0s 4ms/step - loss: 0.4823 - accuracy: 0.7834 - val_loss: 0.4894 - val_accuracy: 0.7922\n",
      "Epoch 70/100\n",
      "20/20 [==============================] - 0s 3ms/step - loss: 0.4873 - accuracy: 0.7752 - val_loss: 0.4881 - val_accuracy: 0.7987\n",
      "Epoch 71/100\n",
      "20/20 [==============================] - 0s 3ms/step - loss: 0.4842 - accuracy: 0.7736 - val_loss: 0.4885 - val_accuracy: 0.7857\n",
      "Epoch 72/100\n",
      "20/20 [==============================] - 0s 3ms/step - loss: 0.4788 - accuracy: 0.7752 - val_loss: 0.4883 - val_accuracy: 0.7857\n",
      "Epoch 73/100\n",
      "20/20 [==============================] - 0s 3ms/step - loss: 0.4760 - accuracy: 0.7980 - val_loss: 0.4874 - val_accuracy: 0.7857\n",
      "Epoch 74/100\n",
      "20/20 [==============================] - 0s 3ms/step - loss: 0.4717 - accuracy: 0.7932 - val_loss: 0.4865 - val_accuracy: 0.7857\n",
      "Epoch 75/100\n",
      "20/20 [==============================] - 0s 3ms/step - loss: 0.4795 - accuracy: 0.7915 - val_loss: 0.4867 - val_accuracy: 0.7922\n",
      "Epoch 76/100\n",
      "20/20 [==============================] - 0s 3ms/step - loss: 0.4800 - accuracy: 0.7818 - val_loss: 0.4856 - val_accuracy: 0.7857\n",
      "Epoch 77/100\n",
      "20/20 [==============================] - 0s 3ms/step - loss: 0.4774 - accuracy: 0.7883 - val_loss: 0.4844 - val_accuracy: 0.7922\n",
      "Epoch 78/100\n",
      "20/20 [==============================] - 0s 4ms/step - loss: 0.4754 - accuracy: 0.7801 - val_loss: 0.4850 - val_accuracy: 0.7727\n",
      "Epoch 79/100\n",
      "20/20 [==============================] - 0s 4ms/step - loss: 0.4638 - accuracy: 0.7964 - val_loss: 0.4847 - val_accuracy: 0.7662\n",
      "Epoch 80/100\n",
      "20/20 [==============================] - 0s 3ms/step - loss: 0.4737 - accuracy: 0.7801 - val_loss: 0.4840 - val_accuracy: 0.7662\n",
      "Epoch 81/100\n",
      "20/20 [==============================] - 0s 4ms/step - loss: 0.4715 - accuracy: 0.7769 - val_loss: 0.4861 - val_accuracy: 0.7857\n",
      "Epoch 82/100\n",
      "20/20 [==============================] - 0s 4ms/step - loss: 0.4693 - accuracy: 0.7785 - val_loss: 0.4842 - val_accuracy: 0.7792\n",
      "Epoch 83/100\n",
      "20/20 [==============================] - 0s 4ms/step - loss: 0.4763 - accuracy: 0.7834 - val_loss: 0.4831 - val_accuracy: 0.7792\n",
      "Epoch 84/100\n",
      "20/20 [==============================] - 0s 4ms/step - loss: 0.4732 - accuracy: 0.7883 - val_loss: 0.4816 - val_accuracy: 0.7792\n",
      "Epoch 85/100\n",
      "20/20 [==============================] - 0s 3ms/step - loss: 0.4717 - accuracy: 0.7866 - val_loss: 0.4810 - val_accuracy: 0.7792\n",
      "Epoch 86/100\n",
      "20/20 [==============================] - 0s 3ms/step - loss: 0.4712 - accuracy: 0.7785 - val_loss: 0.4810 - val_accuracy: 0.7792\n",
      "Epoch 87/100\n",
      "20/20 [==============================] - 0s 3ms/step - loss: 0.4778 - accuracy: 0.7801 - val_loss: 0.4784 - val_accuracy: 0.7857\n",
      "Epoch 88/100\n",
      "20/20 [==============================] - 0s 3ms/step - loss: 0.4736 - accuracy: 0.7834 - val_loss: 0.4784 - val_accuracy: 0.7857\n",
      "Epoch 89/100\n",
      "20/20 [==============================] - 0s 3ms/step - loss: 0.4801 - accuracy: 0.7655 - val_loss: 0.4795 - val_accuracy: 0.7792\n",
      "Epoch 90/100\n",
      "20/20 [==============================] - 0s 3ms/step - loss: 0.4807 - accuracy: 0.7736 - val_loss: 0.4802 - val_accuracy: 0.7792\n",
      "Epoch 91/100\n",
      "20/20 [==============================] - 0s 3ms/step - loss: 0.4683 - accuracy: 0.7899 - val_loss: 0.4800 - val_accuracy: 0.7792\n",
      "Epoch 92/100\n",
      "20/20 [==============================] - 0s 4ms/step - loss: 0.4653 - accuracy: 0.7850 - val_loss: 0.4809 - val_accuracy: 0.7792\n",
      "Epoch 93/100\n",
      "20/20 [==============================] - 0s 4ms/step - loss: 0.4738 - accuracy: 0.7785 - val_loss: 0.4813 - val_accuracy: 0.7792\n",
      "Epoch 94/100\n",
      "20/20 [==============================] - 0s 4ms/step - loss: 0.4616 - accuracy: 0.7834 - val_loss: 0.4791 - val_accuracy: 0.7727\n",
      "Epoch 95/100\n",
      "20/20 [==============================] - 0s 4ms/step - loss: 0.4655 - accuracy: 0.7834 - val_loss: 0.4807 - val_accuracy: 0.7792\n",
      "Epoch 96/100\n",
      "20/20 [==============================] - 0s 4ms/step - loss: 0.4643 - accuracy: 0.7736 - val_loss: 0.4792 - val_accuracy: 0.7792\n",
      "Epoch 97/100\n",
      "20/20 [==============================] - 0s 4ms/step - loss: 0.4656 - accuracy: 0.7834 - val_loss: 0.4796 - val_accuracy: 0.7922\n",
      "Epoch 98/100\n",
      "20/20 [==============================] - 0s 4ms/step - loss: 0.4733 - accuracy: 0.7769 - val_loss: 0.4812 - val_accuracy: 0.7857\n",
      "Epoch 99/100\n",
      "20/20 [==============================] - 0s 4ms/step - loss: 0.4631 - accuracy: 0.7818 - val_loss: 0.4785 - val_accuracy: 0.7792\n",
      "Epoch 100/100\n",
      "20/20 [==============================] - 0s 3ms/step - loss: 0.4669 - accuracy: 0.7850 - val_loss: 0.4790 - val_accuracy: 0.7857\n"
     ]
    },
    {
     "data": {
      "text/plain": [
       "<keras.callbacks.History at 0x1efb5372d60>"
      ]
     },
     "execution_count": 10,
     "metadata": {},
     "output_type": "execute_result"
    }
   ],
   "source": [
    "model = Sequential()\n",
    "#model.add(Dense(32, activation='relu', kernel_regularizer=keras.regularizers.l1(0.001) ,input_dim=8))\n",
    "model.add(Dense(32, activation='relu', kernel_regularizer=keras.regularizers.l2(0.01) ,input_dim=8))\n",
    "# recommendation would be to use - L2 Regularization\n",
    "model.add(Dropout(0.25))\n",
    "#model.add(Dense(32, activation='relu', kernel_regularizer=keras.regularizers.l2(0.01) ))\n",
    "#model.add(Dropout(0.25))\n",
    "#model.add(Dropout(0.50))\n",
    "model.add(Dense(1, activation='sigmoid'))\n",
    "model.compile(optimizer='adam', loss='binary_crossentropy', metrics=['accuracy'])\n",
    "model.fit(x_train, y_train, batch_size=32, epochs=100, validation_data=(x_test, y_test))"
   ]
  },
  {
   "cell_type": "markdown",
   "metadata": {
    "id": "LYCMNf7d1ucR"
   },
   "source": [
    "# HyperParameter\n",
    "# case 1 - How to select appropriate optimizer"
   ]
  },
  {
   "cell_type": "code",
   "execution_count": 11,
   "metadata": {
    "colab": {
     "base_uri": "https://localhost:8080/"
    },
    "id": "vjjZSTUq1J_q",
    "outputId": "bb57209f-5e1a-4318-8493-d3b7aa08d7a8"
   },
   "outputs": [
    {
     "name": "stdout",
     "output_type": "stream",
     "text": [
      "Collecting keras-tuner\n",
      "  Downloading keras_tuner-1.3.5-py3-none-any.whl (176 kB)\n",
      "     -------------------------------------- 176.1/176.1 kB 3.5 MB/s eta 0:00:00\n",
      "Requirement already satisfied: packaging in c:\\users\\achyu\\anaconda3\\lib\\site-packages (from keras-tuner) (21.3)\n",
      "Requirement already satisfied: requests in c:\\users\\achyu\\anaconda3\\lib\\site-packages (from keras-tuner) (2.28.1)\n",
      "Collecting kt-legacy\n",
      "  Downloading kt_legacy-1.0.5-py3-none-any.whl (9.6 kB)\n",
      "Requirement already satisfied: pyparsing!=3.0.5,>=2.0.2 in c:\\users\\achyu\\anaconda3\\lib\\site-packages (from packaging->keras-tuner) (3.0.9)\n",
      "Requirement already satisfied: certifi>=2017.4.17 in c:\\users\\achyu\\anaconda3\\lib\\site-packages (from requests->keras-tuner) (2022.9.14)\n",
      "Requirement already satisfied: idna<4,>=2.5 in c:\\users\\achyu\\anaconda3\\lib\\site-packages (from requests->keras-tuner) (3.3)\n",
      "Requirement already satisfied: urllib3<1.27,>=1.21.1 in c:\\users\\achyu\\anaconda3\\lib\\site-packages (from requests->keras-tuner) (1.26.11)\n",
      "Requirement already satisfied: charset-normalizer<3,>=2 in c:\\users\\achyu\\anaconda3\\lib\\site-packages (from requests->keras-tuner) (2.0.4)\n",
      "Installing collected packages: kt-legacy, keras-tuner\n",
      "Successfully installed keras-tuner-1.3.5 kt-legacy-1.0.5\n"
     ]
    }
   ],
   "source": [
    "!pip install -U keras-tuner"
   ]
  },
  {
   "cell_type": "code",
   "execution_count": 12,
   "metadata": {
    "id": "DhBHFc-MxZcZ"
   },
   "outputs": [],
   "source": [
    "import keras_tuner as kt"
   ]
  },
  {
   "cell_type": "code",
   "execution_count": 13,
   "metadata": {
    "id": "F99F4OM_xZfZ"
   },
   "outputs": [],
   "source": [
    "def build_model(hp):\n",
    "  model = Sequential()\n",
    "  model.add(Dense(32, activation='relu', kernel_regularizer=keras.regularizers.l2(0.01) ,input_dim=8))\n",
    "  model.add(Dropout(0.25))\n",
    "  model.add(Dense(1, activation='sigmoid'))\n",
    "  optimizer = hp.Choice('optimizer', values=['adam','rmsprop','adadelta','adagrad','sgd'])\n",
    "  model.compile(optimizer= optimizer, loss='binary_crossentropy', metrics=['accuracy'])\n",
    "  return model"
   ]
  },
  {
   "cell_type": "code",
   "execution_count": 14,
   "metadata": {
    "id": "uwkrnmwRxZik"
   },
   "outputs": [],
   "source": [
    "# Best Optimizer\n",
    "tuner = kt.RandomSearch(\n",
    "    build_model,\n",
    "    objective='val_loss',\n",
    "    max_trials=5)"
   ]
  },
  {
   "cell_type": "code",
   "execution_count": 15,
   "metadata": {
    "colab": {
     "base_uri": "https://localhost:8080/"
    },
    "id": "RN3cUAf8xZlz",
    "outputId": "b2c22404-f9bb-4592-e190-0f80d5616cc6"
   },
   "outputs": [
    {
     "name": "stdout",
     "output_type": "stream",
     "text": [
      "Trial 5 Complete [00h 00m 01s]\n",
      "val_loss: 0.6617509722709656\n",
      "\n",
      "Best val_loss So Far: 0.6617509722709656\n",
      "Total elapsed time: 00h 00m 07s\n",
      "INFO:tensorflow:Oracle triggered exit\n"
     ]
    }
   ],
   "source": [
    "tuner.search(x_train, y_train, epochs=5, validation_data=(x_test, y_test))"
   ]
  },
  {
   "cell_type": "code",
   "execution_count": 16,
   "metadata": {
    "colab": {
     "base_uri": "https://localhost:8080/"
    },
    "id": "AjEBysqPxZpm",
    "outputId": "45e18c32-9e38-425e-bdc5-0b1d69420b57"
   },
   "outputs": [
    {
     "data": {
      "text/plain": [
       "{'optimizer': 'adam'}"
      ]
     },
     "execution_count": 16,
     "metadata": {},
     "output_type": "execute_result"
    }
   ],
   "source": [
    "tuner.get_best_hyperparameters()[0].values"
   ]
  },
  {
   "cell_type": "code",
   "execution_count": 17,
   "metadata": {
    "id": "HklS1wKO4LRy"
   },
   "outputs": [],
   "source": [
    "model = tuner.get_best_models(num_models=1)[0]"
   ]
  },
  {
   "cell_type": "code",
   "execution_count": 18,
   "metadata": {
    "colab": {
     "base_uri": "https://localhost:8080/"
    },
    "id": "aHoJBLfd4czo",
    "outputId": "843015b4-2ec7-4d56-db39-9ed52abb1b30"
   },
   "outputs": [
    {
     "name": "stdout",
     "output_type": "stream",
     "text": [
      "Model: \"sequential\"\n",
      "_________________________________________________________________\n",
      " Layer (type)                Output Shape              Param #   \n",
      "=================================================================\n",
      " dense (Dense)               (None, 32)                288       \n",
      "                                                                 \n",
      " dropout (Dropout)           (None, 32)                0         \n",
      "                                                                 \n",
      " dense_1 (Dense)             (None, 1)                 33        \n",
      "                                                                 \n",
      "=================================================================\n",
      "Total params: 321\n",
      "Trainable params: 321\n",
      "Non-trainable params: 0\n",
      "_________________________________________________________________\n"
     ]
    }
   ],
   "source": [
    "model.summary()"
   ]
  },
  {
   "cell_type": "code",
   "execution_count": 19,
   "metadata": {
    "colab": {
     "base_uri": "https://localhost:8080/"
    },
    "id": "dNINRZlb4eah",
    "outputId": "0a8da744-6c24-4b0d-f928-7c36d1e9530d"
   },
   "outputs": [
    {
     "name": "stdout",
     "output_type": "stream",
     "text": [
      "Epoch 6/100\n",
      "20/20 [==============================] - 1s 10ms/step - loss: 0.6670 - accuracy: 0.7231 - val_loss: 0.6404 - val_accuracy: 0.7273\n",
      "Epoch 7/100\n",
      "20/20 [==============================] - 0s 3ms/step - loss: 0.6445 - accuracy: 0.7329 - val_loss: 0.6224 - val_accuracy: 0.7273\n",
      "Epoch 8/100\n",
      "20/20 [==============================] - 0s 3ms/step - loss: 0.6438 - accuracy: 0.7166 - val_loss: 0.6073 - val_accuracy: 0.7403\n",
      "Epoch 9/100\n",
      "20/20 [==============================] - 0s 4ms/step - loss: 0.6118 - accuracy: 0.7443 - val_loss: 0.5945 - val_accuracy: 0.7468\n",
      "Epoch 10/100\n",
      "20/20 [==============================] - 0s 4ms/step - loss: 0.6057 - accuracy: 0.7508 - val_loss: 0.5842 - val_accuracy: 0.7532\n",
      "Epoch 11/100\n",
      "20/20 [==============================] - 0s 4ms/step - loss: 0.5987 - accuracy: 0.7557 - val_loss: 0.5752 - val_accuracy: 0.7662\n",
      "Epoch 12/100\n",
      "20/20 [==============================] - 0s 4ms/step - loss: 0.5864 - accuracy: 0.7590 - val_loss: 0.5676 - val_accuracy: 0.7597\n",
      "Epoch 13/100\n",
      "20/20 [==============================] - 0s 4ms/step - loss: 0.5817 - accuracy: 0.7459 - val_loss: 0.5614 - val_accuracy: 0.7597\n",
      "Epoch 14/100\n",
      "20/20 [==============================] - 0s 4ms/step - loss: 0.5761 - accuracy: 0.7573 - val_loss: 0.5557 - val_accuracy: 0.7597\n",
      "Epoch 15/100\n",
      "20/20 [==============================] - 0s 4ms/step - loss: 0.5602 - accuracy: 0.7687 - val_loss: 0.5506 - val_accuracy: 0.7597\n",
      "Epoch 16/100\n",
      "20/20 [==============================] - 0s 4ms/step - loss: 0.5553 - accuracy: 0.7736 - val_loss: 0.5465 - val_accuracy: 0.7662\n",
      "Epoch 17/100\n",
      "20/20 [==============================] - 0s 3ms/step - loss: 0.5578 - accuracy: 0.7622 - val_loss: 0.5432 - val_accuracy: 0.7662\n",
      "Epoch 18/100\n",
      "20/20 [==============================] - 0s 3ms/step - loss: 0.5524 - accuracy: 0.7736 - val_loss: 0.5411 - val_accuracy: 0.7662\n",
      "Epoch 19/100\n",
      "20/20 [==============================] - 0s 3ms/step - loss: 0.5508 - accuracy: 0.7752 - val_loss: 0.5364 - val_accuracy: 0.7662\n",
      "Epoch 20/100\n",
      "20/20 [==============================] - 0s 3ms/step - loss: 0.5288 - accuracy: 0.7736 - val_loss: 0.5331 - val_accuracy: 0.7597\n",
      "Epoch 21/100\n",
      "20/20 [==============================] - 0s 3ms/step - loss: 0.5341 - accuracy: 0.7866 - val_loss: 0.5302 - val_accuracy: 0.7597\n",
      "Epoch 22/100\n",
      "20/20 [==============================] - 0s 3ms/step - loss: 0.5325 - accuracy: 0.7704 - val_loss: 0.5295 - val_accuracy: 0.7597\n",
      "Epoch 23/100\n",
      "20/20 [==============================] - 0s 4ms/step - loss: 0.5309 - accuracy: 0.7638 - val_loss: 0.5275 - val_accuracy: 0.7597\n",
      "Epoch 24/100\n",
      "20/20 [==============================] - 0s 4ms/step - loss: 0.5314 - accuracy: 0.7671 - val_loss: 0.5251 - val_accuracy: 0.7662\n",
      "Epoch 25/100\n",
      "20/20 [==============================] - 0s 4ms/step - loss: 0.5261 - accuracy: 0.7704 - val_loss: 0.5235 - val_accuracy: 0.7662\n",
      "Epoch 26/100\n",
      "20/20 [==============================] - 0s 4ms/step - loss: 0.5233 - accuracy: 0.7720 - val_loss: 0.5216 - val_accuracy: 0.7662\n",
      "Epoch 27/100\n",
      "20/20 [==============================] - 0s 4ms/step - loss: 0.5170 - accuracy: 0.7769 - val_loss: 0.5200 - val_accuracy: 0.7597\n",
      "Epoch 28/100\n",
      "20/20 [==============================] - 0s 4ms/step - loss: 0.5150 - accuracy: 0.7834 - val_loss: 0.5173 - val_accuracy: 0.7597\n",
      "Epoch 29/100\n",
      "20/20 [==============================] - 0s 4ms/step - loss: 0.5150 - accuracy: 0.7932 - val_loss: 0.5141 - val_accuracy: 0.7532\n",
      "Epoch 30/100\n",
      "20/20 [==============================] - 0s 3ms/step - loss: 0.5202 - accuracy: 0.7785 - val_loss: 0.5121 - val_accuracy: 0.7597\n",
      "Epoch 31/100\n",
      "20/20 [==============================] - 0s 3ms/step - loss: 0.5146 - accuracy: 0.7720 - val_loss: 0.5121 - val_accuracy: 0.7597\n",
      "Epoch 32/100\n",
      "20/20 [==============================] - 0s 3ms/step - loss: 0.5064 - accuracy: 0.7883 - val_loss: 0.5119 - val_accuracy: 0.7597\n",
      "Epoch 33/100\n",
      "20/20 [==============================] - 0s 3ms/step - loss: 0.4922 - accuracy: 0.7769 - val_loss: 0.5095 - val_accuracy: 0.7532\n",
      "Epoch 34/100\n",
      "20/20 [==============================] - 0s 3ms/step - loss: 0.4996 - accuracy: 0.7964 - val_loss: 0.5093 - val_accuracy: 0.7597\n",
      "Epoch 35/100\n",
      "20/20 [==============================] - 0s 3ms/step - loss: 0.4951 - accuracy: 0.7899 - val_loss: 0.5073 - val_accuracy: 0.7597\n",
      "Epoch 36/100\n",
      "20/20 [==============================] - 0s 3ms/step - loss: 0.4941 - accuracy: 0.7801 - val_loss: 0.5068 - val_accuracy: 0.7597\n",
      "Epoch 37/100\n",
      "20/20 [==============================] - 0s 4ms/step - loss: 0.5003 - accuracy: 0.7704 - val_loss: 0.5051 - val_accuracy: 0.7597\n",
      "Epoch 38/100\n",
      "20/20 [==============================] - 0s 5ms/step - loss: 0.5039 - accuracy: 0.7736 - val_loss: 0.5056 - val_accuracy: 0.7597\n",
      "Epoch 39/100\n",
      "20/20 [==============================] - 0s 5ms/step - loss: 0.4925 - accuracy: 0.7801 - val_loss: 0.5046 - val_accuracy: 0.7597\n",
      "Epoch 40/100\n",
      "20/20 [==============================] - 0s 5ms/step - loss: 0.5037 - accuracy: 0.7655 - val_loss: 0.5028 - val_accuracy: 0.7597\n",
      "Epoch 41/100\n",
      "20/20 [==============================] - 0s 5ms/step - loss: 0.4969 - accuracy: 0.7801 - val_loss: 0.5014 - val_accuracy: 0.7597\n",
      "Epoch 42/100\n",
      "20/20 [==============================] - 0s 4ms/step - loss: 0.4820 - accuracy: 0.7801 - val_loss: 0.5006 - val_accuracy: 0.7597\n",
      "Epoch 43/100\n",
      "20/20 [==============================] - 0s 3ms/step - loss: 0.4955 - accuracy: 0.7850 - val_loss: 0.4994 - val_accuracy: 0.7662\n",
      "Epoch 44/100\n",
      "20/20 [==============================] - 0s 3ms/step - loss: 0.4955 - accuracy: 0.7948 - val_loss: 0.4987 - val_accuracy: 0.7662\n",
      "Epoch 45/100\n",
      "20/20 [==============================] - 0s 3ms/step - loss: 0.4847 - accuracy: 0.7818 - val_loss: 0.4981 - val_accuracy: 0.7597\n",
      "Epoch 46/100\n",
      "20/20 [==============================] - 0s 3ms/step - loss: 0.4862 - accuracy: 0.7818 - val_loss: 0.4958 - val_accuracy: 0.7662\n",
      "Epoch 47/100\n",
      "20/20 [==============================] - 0s 3ms/step - loss: 0.4906 - accuracy: 0.7785 - val_loss: 0.4959 - val_accuracy: 0.7662\n",
      "Epoch 48/100\n",
      "20/20 [==============================] - 0s 3ms/step - loss: 0.4853 - accuracy: 0.7850 - val_loss: 0.4957 - val_accuracy: 0.7662\n",
      "Epoch 49/100\n",
      "20/20 [==============================] - 0s 3ms/step - loss: 0.4927 - accuracy: 0.7850 - val_loss: 0.4946 - val_accuracy: 0.7662\n",
      "Epoch 50/100\n",
      "20/20 [==============================] - 0s 3ms/step - loss: 0.4822 - accuracy: 0.7736 - val_loss: 0.4948 - val_accuracy: 0.7662\n",
      "Epoch 51/100\n",
      "20/20 [==============================] - 0s 3ms/step - loss: 0.4893 - accuracy: 0.7655 - val_loss: 0.4941 - val_accuracy: 0.7662\n",
      "Epoch 52/100\n",
      "20/20 [==============================] - 0s 4ms/step - loss: 0.4860 - accuracy: 0.7785 - val_loss: 0.4954 - val_accuracy: 0.7727\n",
      "Epoch 53/100\n",
      "20/20 [==============================] - 0s 4ms/step - loss: 0.4858 - accuracy: 0.7687 - val_loss: 0.4946 - val_accuracy: 0.7662\n",
      "Epoch 54/100\n",
      "20/20 [==============================] - 0s 4ms/step - loss: 0.4847 - accuracy: 0.7866 - val_loss: 0.4950 - val_accuracy: 0.7662\n",
      "Epoch 55/100\n",
      "20/20 [==============================] - 0s 4ms/step - loss: 0.4816 - accuracy: 0.7769 - val_loss: 0.4967 - val_accuracy: 0.7727\n",
      "Epoch 56/100\n",
      "20/20 [==============================] - 0s 4ms/step - loss: 0.4750 - accuracy: 0.7915 - val_loss: 0.4962 - val_accuracy: 0.7662\n",
      "Epoch 57/100\n",
      "20/20 [==============================] - 0s 4ms/step - loss: 0.4762 - accuracy: 0.7948 - val_loss: 0.4955 - val_accuracy: 0.7727\n",
      "Epoch 58/100\n",
      "20/20 [==============================] - 0s 4ms/step - loss: 0.4788 - accuracy: 0.7866 - val_loss: 0.4968 - val_accuracy: 0.7727\n",
      "Epoch 59/100\n",
      "20/20 [==============================] - 0s 4ms/step - loss: 0.4736 - accuracy: 0.7915 - val_loss: 0.4941 - val_accuracy: 0.7727\n",
      "Epoch 60/100\n",
      "20/20 [==============================] - 0s 4ms/step - loss: 0.4851 - accuracy: 0.7834 - val_loss: 0.4980 - val_accuracy: 0.7727\n",
      "Epoch 61/100\n",
      "20/20 [==============================] - 0s 3ms/step - loss: 0.4817 - accuracy: 0.7801 - val_loss: 0.4973 - val_accuracy: 0.7727\n",
      "Epoch 62/100\n",
      "20/20 [==============================] - 0s 4ms/step - loss: 0.4768 - accuracy: 0.7801 - val_loss: 0.4938 - val_accuracy: 0.7727\n",
      "Epoch 63/100\n",
      "20/20 [==============================] - 0s 4ms/step - loss: 0.4889 - accuracy: 0.7801 - val_loss: 0.4944 - val_accuracy: 0.7727\n"
     ]
    },
    {
     "name": "stdout",
     "output_type": "stream",
     "text": [
      "Epoch 64/100\n",
      "20/20 [==============================] - 0s 4ms/step - loss: 0.4777 - accuracy: 0.7948 - val_loss: 0.4924 - val_accuracy: 0.7727\n",
      "Epoch 65/100\n",
      "20/20 [==============================] - 0s 3ms/step - loss: 0.4732 - accuracy: 0.7964 - val_loss: 0.4952 - val_accuracy: 0.7727\n",
      "Epoch 66/100\n",
      "20/20 [==============================] - 0s 3ms/step - loss: 0.4783 - accuracy: 0.7785 - val_loss: 0.4937 - val_accuracy: 0.7727\n",
      "Epoch 67/100\n",
      "20/20 [==============================] - 0s 5ms/step - loss: 0.4760 - accuracy: 0.7818 - val_loss: 0.4955 - val_accuracy: 0.7662\n",
      "Epoch 68/100\n",
      "20/20 [==============================] - 0s 5ms/step - loss: 0.4757 - accuracy: 0.7785 - val_loss: 0.4974 - val_accuracy: 0.7727\n",
      "Epoch 69/100\n",
      "20/20 [==============================] - 0s 4ms/step - loss: 0.4743 - accuracy: 0.7866 - val_loss: 0.4954 - val_accuracy: 0.7662\n",
      "Epoch 70/100\n",
      "20/20 [==============================] - 0s 3ms/step - loss: 0.4650 - accuracy: 0.7883 - val_loss: 0.4937 - val_accuracy: 0.7792\n",
      "Epoch 71/100\n",
      "20/20 [==============================] - 0s 3ms/step - loss: 0.4656 - accuracy: 0.7834 - val_loss: 0.4938 - val_accuracy: 0.7792\n",
      "Epoch 72/100\n",
      "20/20 [==============================] - 0s 3ms/step - loss: 0.4707 - accuracy: 0.7850 - val_loss: 0.4927 - val_accuracy: 0.7662\n",
      "Epoch 73/100\n",
      "20/20 [==============================] - 0s 3ms/step - loss: 0.4735 - accuracy: 0.7736 - val_loss: 0.4922 - val_accuracy: 0.7662\n",
      "Epoch 74/100\n",
      "20/20 [==============================] - 0s 3ms/step - loss: 0.4695 - accuracy: 0.7769 - val_loss: 0.4913 - val_accuracy: 0.7727\n",
      "Epoch 75/100\n",
      "20/20 [==============================] - 0s 3ms/step - loss: 0.4718 - accuracy: 0.7915 - val_loss: 0.4912 - val_accuracy: 0.7662\n",
      "Epoch 76/100\n",
      "20/20 [==============================] - 0s 3ms/step - loss: 0.4761 - accuracy: 0.7785 - val_loss: 0.4899 - val_accuracy: 0.7727\n",
      "Epoch 77/100\n",
      "20/20 [==============================] - 0s 4ms/step - loss: 0.4758 - accuracy: 0.7818 - val_loss: 0.4891 - val_accuracy: 0.7727\n",
      "Epoch 78/100\n",
      "20/20 [==============================] - 0s 3ms/step - loss: 0.4710 - accuracy: 0.7899 - val_loss: 0.4883 - val_accuracy: 0.7792\n",
      "Epoch 79/100\n",
      "20/20 [==============================] - 0s 4ms/step - loss: 0.4687 - accuracy: 0.7818 - val_loss: 0.4882 - val_accuracy: 0.7727\n",
      "Epoch 80/100\n",
      "20/20 [==============================] - 0s 3ms/step - loss: 0.4656 - accuracy: 0.7850 - val_loss: 0.4886 - val_accuracy: 0.7727\n",
      "Epoch 81/100\n",
      "20/20 [==============================] - 0s 3ms/step - loss: 0.4655 - accuracy: 0.7915 - val_loss: 0.4882 - val_accuracy: 0.7727\n",
      "Epoch 82/100\n",
      "20/20 [==============================] - 0s 3ms/step - loss: 0.4624 - accuracy: 0.7932 - val_loss: 0.4859 - val_accuracy: 0.7792\n",
      "Epoch 83/100\n",
      "20/20 [==============================] - 0s 4ms/step - loss: 0.4762 - accuracy: 0.7736 - val_loss: 0.4832 - val_accuracy: 0.7987\n",
      "Epoch 84/100\n",
      "20/20 [==============================] - 0s 4ms/step - loss: 0.4772 - accuracy: 0.7801 - val_loss: 0.4862 - val_accuracy: 0.7792\n",
      "Epoch 85/100\n",
      "20/20 [==============================] - 0s 3ms/step - loss: 0.4695 - accuracy: 0.7752 - val_loss: 0.4863 - val_accuracy: 0.7857\n",
      "Epoch 86/100\n",
      "20/20 [==============================] - 0s 4ms/step - loss: 0.4637 - accuracy: 0.7883 - val_loss: 0.4878 - val_accuracy: 0.7727\n",
      "Epoch 87/100\n",
      "20/20 [==============================] - 0s 4ms/step - loss: 0.4679 - accuracy: 0.7769 - val_loss: 0.4849 - val_accuracy: 0.7792\n",
      "Epoch 88/100\n",
      "20/20 [==============================] - 0s 4ms/step - loss: 0.4705 - accuracy: 0.7720 - val_loss: 0.4849 - val_accuracy: 0.7792\n",
      "Epoch 89/100\n",
      "20/20 [==============================] - 0s 4ms/step - loss: 0.4757 - accuracy: 0.7818 - val_loss: 0.4862 - val_accuracy: 0.7727\n",
      "Epoch 90/100\n",
      "20/20 [==============================] - 0s 4ms/step - loss: 0.4750 - accuracy: 0.7899 - val_loss: 0.4876 - val_accuracy: 0.7727\n",
      "Epoch 91/100\n",
      "20/20 [==============================] - 0s 5ms/step - loss: 0.4679 - accuracy: 0.7883 - val_loss: 0.4867 - val_accuracy: 0.7662\n",
      "Epoch 92/100\n",
      "20/20 [==============================] - 0s 5ms/step - loss: 0.4737 - accuracy: 0.7818 - val_loss: 0.4859 - val_accuracy: 0.7662\n",
      "Epoch 93/100\n",
      "20/20 [==============================] - 0s 3ms/step - loss: 0.4723 - accuracy: 0.7785 - val_loss: 0.4854 - val_accuracy: 0.7792\n",
      "Epoch 94/100\n",
      "20/20 [==============================] - 0s 4ms/step - loss: 0.4671 - accuracy: 0.7818 - val_loss: 0.4865 - val_accuracy: 0.7727\n",
      "Epoch 95/100\n",
      "20/20 [==============================] - 0s 4ms/step - loss: 0.4706 - accuracy: 0.7818 - val_loss: 0.4886 - val_accuracy: 0.7792\n",
      "Epoch 96/100\n",
      "20/20 [==============================] - 0s 3ms/step - loss: 0.4672 - accuracy: 0.7850 - val_loss: 0.4879 - val_accuracy: 0.7792\n",
      "Epoch 97/100\n",
      "20/20 [==============================] - 0s 3ms/step - loss: 0.4689 - accuracy: 0.7769 - val_loss: 0.4884 - val_accuracy: 0.7727\n",
      "Epoch 98/100\n",
      "20/20 [==============================] - 0s 3ms/step - loss: 0.4714 - accuracy: 0.7785 - val_loss: 0.4907 - val_accuracy: 0.7727\n",
      "Epoch 99/100\n",
      "20/20 [==============================] - 0s 3ms/step - loss: 0.4679 - accuracy: 0.7736 - val_loss: 0.4884 - val_accuracy: 0.7727\n",
      "Epoch 100/100\n",
      "20/20 [==============================] - 0s 3ms/step - loss: 0.4732 - accuracy: 0.7866 - val_loss: 0.4866 - val_accuracy: 0.7727\n"
     ]
    },
    {
     "data": {
      "text/plain": [
       "<keras.callbacks.History at 0x1efb795d700>"
      ]
     },
     "execution_count": 19,
     "metadata": {},
     "output_type": "execute_result"
    }
   ],
   "source": [
    "model.fit(x_train, y_train, batch_size=32, epochs=100, initial_epoch=5, validation_data=(x_test, y_test))"
   ]
  },
  {
   "cell_type": "markdown",
   "metadata": {
    "id": "sMr1Tyi26Ct1"
   },
   "source": [
    "# All hyperparameter at one go"
   ]
  },
  {
   "cell_type": "code",
   "execution_count": 26,
   "metadata": {
    "id": "JWPJuk54xZsw"
   },
   "outputs": [],
   "source": [
    "def build_model(hp):\n",
    "  model = Sequential()\n",
    "  counter = 0\n",
    "\n",
    "  for i in range(hp.Int('no_hid_layer', min_value=1, max_value=10)):\n",
    "    if counter==0:\n",
    "      model.add(Dense(hp.Int('units' + str(i), min_value=8, max_value=128, step=8),\n",
    "                      activation=hp.Choice('activation' + str(i), values=['relu','leaky_relu','tanh',\n",
    "                                                                          'sigmoid','linear','softmax','elu','selu']),\n",
    "                      input_dim=8))\n",
    "      model.add(Dropout(hp.Choice('dropout' + str(i), \n",
    "                                  values=[0.1,0.2,0.3,0.4,0.5])))ma_\n",
    "    else:\n",
    "        model.add(Dense(hp.Int('units' + str(i), min_value=8, max_value=128, step=8),\n",
    "                      activation=hp.Choice('activation' + str(i), values=['relu','leaky_relu','tanh',\n",
    "                                                                          'sigmoid','linear','softmax','elu','selu']),\n",
    "                      ))\n",
    "    model.add(Dropout(hp.Choice('dropout' + str(i), \n",
    "                                  values=[0.1,0.2,0.3,0.4,0.5])))\n",
    "  counter +=1\n",
    "  model.add(Dense(1, activation='sigmoid'))\n",
    "  model.compile(optimizer=hp.Choice('optimizer', \n",
    "                                    values = ['rmsprop','adam','adagrad','adadelta','sgd']),\n",
    "                loss='binary_crossentropy', metrics=['accuracy'])\n",
    "  return model\n"
   ]
  },
  {
   "cell_type": "code",
   "execution_count": 27,
   "metadata": {
    "id": "aKu_wY_nxZvm"
   },
   "outputs": [
    {
     "name": "stdout",
     "output_type": "stream",
     "text": [
      "INFO:tensorflow:Reloading Tuner from my_own_dir\\HyperParam\\tuner0.json\n"
     ]
    }
   ],
   "source": [
    "# Best Optimizer\n",
    "tuner = kt.RandomSearch(\n",
    "    build_model,\n",
    "    objective='val_loss',\n",
    "    max_trials=5, directory='my_own_dir', project_name='HyperParam')"
   ]
  },
  {
   "cell_type": "code",
   "execution_count": 28,
   "metadata": {
    "colab": {
     "base_uri": "https://localhost:8080/"
    },
    "id": "EwZlzmmq-m5s",
    "outputId": "f2039c53-b877-4194-84a5-0fa2e0c7e10e"
   },
   "outputs": [
    {
     "name": "stdout",
     "output_type": "stream",
     "text": [
      "INFO:tensorflow:Oracle triggered exit\n"
     ]
    }
   ],
   "source": [
    "tuner.search(x_train, y_train, epochs=5, validation_data=(x_test, y_test))"
   ]
  },
  {
   "cell_type": "code",
   "execution_count": 23,
   "metadata": {
    "colab": {
     "base_uri": "https://localhost:8080/"
    },
    "id": "iXfXKsii-m8q",
    "outputId": "33049374-23ed-4d0d-e8ec-96e9ef086c2c"
   },
   "outputs": [
    {
     "data": {
      "text/plain": [
       "{'no_hid_layer': 2,\n",
       " 'units0': 56,\n",
       " 'activation0': 'relu',\n",
       " 'dropout0': 0.2,\n",
       " 'optimizer': 'rmsprop',\n",
       " 'units1': 56,\n",
       " 'activation1': 'selu',\n",
       " 'dropout1': 0.3,\n",
       " 'units2': 104,\n",
       " 'activation2': 'tanh',\n",
       " 'dropout2': 0.1,\n",
       " 'units3': 48,\n",
       " 'activation3': 'sigmoid',\n",
       " 'dropout3': 0.1,\n",
       " 'units4': 80,\n",
       " 'activation4': 'leaky_relu',\n",
       " 'dropout4': 0.5,\n",
       " 'units5': 128,\n",
       " 'activation5': 'selu',\n",
       " 'dropout5': 0.4,\n",
       " 'units6': 32,\n",
       " 'activation6': 'leaky_relu',\n",
       " 'dropout6': 0.2,\n",
       " 'units7': 120,\n",
       " 'activation7': 'elu',\n",
       " 'dropout7': 0.3,\n",
       " 'units8': 8,\n",
       " 'activation8': 'leaky_relu',\n",
       " 'dropout8': 0.5,\n",
       " 'units9': 112,\n",
       " 'activation9': 'leaky_relu',\n",
       " 'dropout9': 0.4}"
      ]
     },
     "execution_count": 23,
     "metadata": {},
     "output_type": "execute_result"
    }
   ],
   "source": [
    "tuner.get_best_hyperparameters()[0].values"
   ]
  },
  {
   "cell_type": "code",
   "execution_count": 32,
   "metadata": {
    "id": "B4KbwGzI-m_r"
   },
   "outputs": [],
   "source": [
    "model = tuner.get_best_models(num_models=1)[0]"
   ]
  },
  {
   "cell_type": "code",
   "execution_count": 30,
   "metadata": {
    "colab": {
     "base_uri": "https://localhost:8080/"
    },
    "id": "K5sf7MzX-nDq",
    "outputId": "68180369-988f-41ac-a467-81ac09ed0d7a",
    "scrolled": false
   },
   "outputs": [
    {
     "name": "stdout",
     "output_type": "stream",
     "text": [
      "Epoch 6/100\n",
      "20/20 [==============================] - 1s 10ms/step - loss: 0.5102 - accuracy: 0.7524 - val_loss: 0.4804 - val_accuracy: 0.7922\n",
      "Epoch 7/100\n",
      "20/20 [==============================] - 0s 4ms/step - loss: 0.5289 - accuracy: 0.7492 - val_loss: 0.4746 - val_accuracy: 0.7922\n",
      "Epoch 8/100\n",
      "20/20 [==============================] - 0s 3ms/step - loss: 0.5073 - accuracy: 0.7378 - val_loss: 0.4739 - val_accuracy: 0.8052\n",
      "Epoch 9/100\n",
      "20/20 [==============================] - 0s 4ms/step - loss: 0.5036 - accuracy: 0.7508 - val_loss: 0.4802 - val_accuracy: 0.7922\n",
      "Epoch 10/100\n",
      "20/20 [==============================] - 0s 4ms/step - loss: 0.5125 - accuracy: 0.7492 - val_loss: 0.4786 - val_accuracy: 0.7922\n",
      "Epoch 11/100\n",
      "20/20 [==============================] - 0s 4ms/step - loss: 0.4985 - accuracy: 0.7524 - val_loss: 0.4813 - val_accuracy: 0.7987\n",
      "Epoch 12/100\n",
      "20/20 [==============================] - 0s 4ms/step - loss: 0.5053 - accuracy: 0.7541 - val_loss: 0.4733 - val_accuracy: 0.8052\n",
      "Epoch 13/100\n",
      "20/20 [==============================] - 0s 4ms/step - loss: 0.5142 - accuracy: 0.7443 - val_loss: 0.4680 - val_accuracy: 0.7987\n",
      "Epoch 14/100\n",
      "20/20 [==============================] - 0s 4ms/step - loss: 0.5294 - accuracy: 0.7459 - val_loss: 0.4692 - val_accuracy: 0.7987\n",
      "Epoch 15/100\n",
      "20/20 [==============================] - 0s 4ms/step - loss: 0.4891 - accuracy: 0.7606 - val_loss: 0.4736 - val_accuracy: 0.8117\n",
      "Epoch 16/100\n",
      "20/20 [==============================] - 0s 4ms/step - loss: 0.4836 - accuracy: 0.7427 - val_loss: 0.4740 - val_accuracy: 0.7987\n",
      "Epoch 17/100\n",
      "20/20 [==============================] - 0s 4ms/step - loss: 0.5020 - accuracy: 0.7655 - val_loss: 0.4726 - val_accuracy: 0.7922\n",
      "Epoch 18/100\n",
      "20/20 [==============================] - 0s 4ms/step - loss: 0.4790 - accuracy: 0.7606 - val_loss: 0.4735 - val_accuracy: 0.7922\n",
      "Epoch 19/100\n",
      "20/20 [==============================] - 0s 4ms/step - loss: 0.4829 - accuracy: 0.7671 - val_loss: 0.4760 - val_accuracy: 0.7987\n",
      "Epoch 20/100\n",
      "20/20 [==============================] - 0s 4ms/step - loss: 0.4725 - accuracy: 0.7524 - val_loss: 0.4730 - val_accuracy: 0.7922\n",
      "Epoch 21/100\n",
      "20/20 [==============================] - 0s 3ms/step - loss: 0.4902 - accuracy: 0.7655 - val_loss: 0.4713 - val_accuracy: 0.7987\n",
      "Epoch 22/100\n",
      "20/20 [==============================] - 0s 4ms/step - loss: 0.4843 - accuracy: 0.7720 - val_loss: 0.4690 - val_accuracy: 0.7792\n",
      "Epoch 23/100\n",
      "20/20 [==============================] - 0s 4ms/step - loss: 0.4985 - accuracy: 0.7671 - val_loss: 0.4739 - val_accuracy: 0.7987\n",
      "Epoch 24/100\n",
      "20/20 [==============================] - 0s 4ms/step - loss: 0.4769 - accuracy: 0.7752 - val_loss: 0.4696 - val_accuracy: 0.7987\n",
      "Epoch 25/100\n",
      "20/20 [==============================] - 0s 4ms/step - loss: 0.4923 - accuracy: 0.7590 - val_loss: 0.4691 - val_accuracy: 0.7922\n",
      "Epoch 26/100\n",
      "20/20 [==============================] - 0s 4ms/step - loss: 0.4605 - accuracy: 0.7915 - val_loss: 0.4693 - val_accuracy: 0.7987\n",
      "Epoch 27/100\n",
      "20/20 [==============================] - 0s 4ms/step - loss: 0.4848 - accuracy: 0.7720 - val_loss: 0.4688 - val_accuracy: 0.7857\n",
      "Epoch 28/100\n",
      "20/20 [==============================] - 0s 6ms/step - loss: 0.4671 - accuracy: 0.7752 - val_loss: 0.4721 - val_accuracy: 0.7727\n",
      "Epoch 29/100\n",
      "20/20 [==============================] - 0s 4ms/step - loss: 0.4899 - accuracy: 0.7606 - val_loss: 0.4734 - val_accuracy: 0.7922\n",
      "Epoch 30/100\n",
      "20/20 [==============================] - 0s 4ms/step - loss: 0.4734 - accuracy: 0.7671 - val_loss: 0.4779 - val_accuracy: 0.7792\n",
      "Epoch 31/100\n",
      "20/20 [==============================] - 0s 4ms/step - loss: 0.4822 - accuracy: 0.7834 - val_loss: 0.4786 - val_accuracy: 0.8052\n",
      "Epoch 32/100\n",
      "20/20 [==============================] - 0s 4ms/step - loss: 0.4745 - accuracy: 0.7720 - val_loss: 0.4768 - val_accuracy: 0.7792\n",
      "Epoch 33/100\n",
      "20/20 [==============================] - 0s 3ms/step - loss: 0.4718 - accuracy: 0.7590 - val_loss: 0.4745 - val_accuracy: 0.7727\n",
      "Epoch 34/100\n",
      "20/20 [==============================] - 0s 4ms/step - loss: 0.4735 - accuracy: 0.7736 - val_loss: 0.4750 - val_accuracy: 0.7792\n",
      "Epoch 35/100\n",
      "20/20 [==============================] - 0s 4ms/step - loss: 0.4721 - accuracy: 0.7687 - val_loss: 0.4765 - val_accuracy: 0.7922\n",
      "Epoch 36/100\n",
      "20/20 [==============================] - 0s 4ms/step - loss: 0.4654 - accuracy: 0.7915 - val_loss: 0.4786 - val_accuracy: 0.7857\n",
      "Epoch 37/100\n",
      "20/20 [==============================] - 0s 4ms/step - loss: 0.4617 - accuracy: 0.7687 - val_loss: 0.4773 - val_accuracy: 0.7792\n",
      "Epoch 38/100\n",
      "20/20 [==============================] - 0s 4ms/step - loss: 0.4656 - accuracy: 0.7752 - val_loss: 0.4777 - val_accuracy: 0.7922\n",
      "Epoch 39/100\n",
      "20/20 [==============================] - 0s 4ms/step - loss: 0.4709 - accuracy: 0.7720 - val_loss: 0.4750 - val_accuracy: 0.7792\n",
      "Epoch 40/100\n",
      "20/20 [==============================] - 0s 5ms/step - loss: 0.4442 - accuracy: 0.7964 - val_loss: 0.4748 - val_accuracy: 0.7792\n",
      "Epoch 41/100\n",
      "20/20 [==============================] - 0s 4ms/step - loss: 0.4629 - accuracy: 0.7801 - val_loss: 0.4747 - val_accuracy: 0.7857\n",
      "Epoch 42/100\n",
      "20/20 [==============================] - 0s 3ms/step - loss: 0.4536 - accuracy: 0.7883 - val_loss: 0.4772 - val_accuracy: 0.7857\n",
      "Epoch 43/100\n",
      "20/20 [==============================] - 0s 3ms/step - loss: 0.4603 - accuracy: 0.7834 - val_loss: 0.4781 - val_accuracy: 0.7922\n",
      "Epoch 44/100\n",
      "20/20 [==============================] - 0s 4ms/step - loss: 0.4586 - accuracy: 0.7769 - val_loss: 0.4769 - val_accuracy: 0.7857\n",
      "Epoch 45/100\n",
      "20/20 [==============================] - 0s 3ms/step - loss: 0.4681 - accuracy: 0.7655 - val_loss: 0.4780 - val_accuracy: 0.7727\n",
      "Epoch 46/100\n",
      "20/20 [==============================] - 0s 3ms/step - loss: 0.4496 - accuracy: 0.7997 - val_loss: 0.4768 - val_accuracy: 0.7857\n",
      "Epoch 47/100\n",
      "20/20 [==============================] - 0s 4ms/step - loss: 0.4467 - accuracy: 0.7818 - val_loss: 0.4793 - val_accuracy: 0.7922\n",
      "Epoch 48/100\n",
      "20/20 [==============================] - 0s 4ms/step - loss: 0.4626 - accuracy: 0.7818 - val_loss: 0.4809 - val_accuracy: 0.7922\n",
      "Epoch 49/100\n",
      "20/20 [==============================] - 0s 4ms/step - loss: 0.4541 - accuracy: 0.7655 - val_loss: 0.4825 - val_accuracy: 0.7922\n",
      "Epoch 50/100\n",
      "20/20 [==============================] - 0s 4ms/step - loss: 0.4535 - accuracy: 0.7915 - val_loss: 0.4820 - val_accuracy: 0.8052\n",
      "Epoch 51/100\n",
      "20/20 [==============================] - 0s 4ms/step - loss: 0.4753 - accuracy: 0.7769 - val_loss: 0.4807 - val_accuracy: 0.7987\n",
      "Epoch 52/100\n",
      "20/20 [==============================] - 0s 4ms/step - loss: 0.4548 - accuracy: 0.7752 - val_loss: 0.4783 - val_accuracy: 0.7922\n",
      "Epoch 53/100\n",
      "20/20 [==============================] - 0s 4ms/step - loss: 0.4457 - accuracy: 0.7899 - val_loss: 0.4783 - val_accuracy: 0.7922\n",
      "Epoch 54/100\n",
      "20/20 [==============================] - 0s 4ms/step - loss: 0.4543 - accuracy: 0.7948 - val_loss: 0.4751 - val_accuracy: 0.7987\n",
      "Epoch 55/100\n",
      "20/20 [==============================] - 0s 3ms/step - loss: 0.4424 - accuracy: 0.7850 - val_loss: 0.4765 - val_accuracy: 0.7987\n",
      "Epoch 56/100\n",
      "20/20 [==============================] - 0s 4ms/step - loss: 0.4532 - accuracy: 0.7818 - val_loss: 0.4737 - val_accuracy: 0.7922\n",
      "Epoch 57/100\n",
      "20/20 [==============================] - 0s 3ms/step - loss: 0.4525 - accuracy: 0.7932 - val_loss: 0.4768 - val_accuracy: 0.7987\n",
      "Epoch 58/100\n",
      "20/20 [==============================] - 0s 4ms/step - loss: 0.4558 - accuracy: 0.7883 - val_loss: 0.4778 - val_accuracy: 0.7857\n",
      "Epoch 59/100\n",
      "20/20 [==============================] - 0s 3ms/step - loss: 0.4507 - accuracy: 0.7801 - val_loss: 0.4784 - val_accuracy: 0.7922\n",
      "Epoch 60/100\n",
      "20/20 [==============================] - 0s 3ms/step - loss: 0.4583 - accuracy: 0.7785 - val_loss: 0.4752 - val_accuracy: 0.8052\n",
      "Epoch 61/100\n",
      "20/20 [==============================] - 0s 4ms/step - loss: 0.4617 - accuracy: 0.7785 - val_loss: 0.4785 - val_accuracy: 0.7987\n",
      "Epoch 62/100\n",
      "20/20 [==============================] - 0s 4ms/step - loss: 0.4439 - accuracy: 0.7948 - val_loss: 0.4802 - val_accuracy: 0.8117\n",
      "Epoch 63/100\n",
      "20/20 [==============================] - 0s 4ms/step - loss: 0.4614 - accuracy: 0.7752 - val_loss: 0.4793 - val_accuracy: 0.7987\n"
     ]
    },
    {
     "name": "stdout",
     "output_type": "stream",
     "text": [
      "Epoch 64/100\n",
      "20/20 [==============================] - 0s 4ms/step - loss: 0.4401 - accuracy: 0.7736 - val_loss: 0.4847 - val_accuracy: 0.7987\n",
      "Epoch 65/100\n",
      "20/20 [==============================] - 0s 4ms/step - loss: 0.4431 - accuracy: 0.7785 - val_loss: 0.4825 - val_accuracy: 0.8117\n",
      "Epoch 66/100\n",
      "20/20 [==============================] - 0s 4ms/step - loss: 0.4489 - accuracy: 0.7752 - val_loss: 0.4818 - val_accuracy: 0.7987\n",
      "Epoch 67/100\n",
      "20/20 [==============================] - 0s 4ms/step - loss: 0.4424 - accuracy: 0.7769 - val_loss: 0.4825 - val_accuracy: 0.8052\n",
      "Epoch 68/100\n",
      "20/20 [==============================] - 0s 3ms/step - loss: 0.4468 - accuracy: 0.7948 - val_loss: 0.4811 - val_accuracy: 0.7987\n",
      "Epoch 69/100\n",
      "20/20 [==============================] - 0s 3ms/step - loss: 0.4505 - accuracy: 0.7736 - val_loss: 0.4796 - val_accuracy: 0.8052\n",
      "Epoch 70/100\n",
      "20/20 [==============================] - 0s 3ms/step - loss: 0.4367 - accuracy: 0.7866 - val_loss: 0.4762 - val_accuracy: 0.7922\n",
      "Epoch 71/100\n",
      "20/20 [==============================] - 0s 4ms/step - loss: 0.4678 - accuracy: 0.7736 - val_loss: 0.4737 - val_accuracy: 0.7922\n",
      "Epoch 72/100\n",
      "20/20 [==============================] - 0s 4ms/step - loss: 0.4617 - accuracy: 0.7769 - val_loss: 0.4744 - val_accuracy: 0.7857\n",
      "Epoch 73/100\n",
      "20/20 [==============================] - 0s 4ms/step - loss: 0.4673 - accuracy: 0.7866 - val_loss: 0.4735 - val_accuracy: 0.8117\n",
      "Epoch 74/100\n",
      "20/20 [==============================] - 0s 4ms/step - loss: 0.4527 - accuracy: 0.7834 - val_loss: 0.4749 - val_accuracy: 0.7987\n",
      "Epoch 75/100\n",
      "20/20 [==============================] - 0s 4ms/step - loss: 0.4369 - accuracy: 0.7964 - val_loss: 0.4763 - val_accuracy: 0.7987\n",
      "Epoch 76/100\n",
      "20/20 [==============================] - 0s 4ms/step - loss: 0.4450 - accuracy: 0.7948 - val_loss: 0.4757 - val_accuracy: 0.7987\n",
      "Epoch 77/100\n",
      "20/20 [==============================] - 0s 4ms/step - loss: 0.4485 - accuracy: 0.7801 - val_loss: 0.4759 - val_accuracy: 0.7987\n",
      "Epoch 78/100\n",
      "20/20 [==============================] - 0s 4ms/step - loss: 0.4465 - accuracy: 0.7883 - val_loss: 0.4721 - val_accuracy: 0.8052\n",
      "Epoch 79/100\n",
      "20/20 [==============================] - 0s 4ms/step - loss: 0.4390 - accuracy: 0.7866 - val_loss: 0.4715 - val_accuracy: 0.7987\n",
      "Epoch 80/100\n",
      "20/20 [==============================] - 0s 4ms/step - loss: 0.4372 - accuracy: 0.7915 - val_loss: 0.4736 - val_accuracy: 0.8117\n",
      "Epoch 81/100\n",
      "20/20 [==============================] - 0s 3ms/step - loss: 0.4415 - accuracy: 0.7834 - val_loss: 0.4772 - val_accuracy: 0.8117\n",
      "Epoch 82/100\n",
      "20/20 [==============================] - 0s 4ms/step - loss: 0.4358 - accuracy: 0.8062 - val_loss: 0.4764 - val_accuracy: 0.8117\n",
      "Epoch 83/100\n",
      "20/20 [==============================] - 0s 4ms/step - loss: 0.4436 - accuracy: 0.7866 - val_loss: 0.4765 - val_accuracy: 0.8052\n",
      "Epoch 84/100\n",
      "20/20 [==============================] - 0s 4ms/step - loss: 0.4373 - accuracy: 0.8029 - val_loss: 0.4765 - val_accuracy: 0.7987\n",
      "Epoch 85/100\n",
      "20/20 [==============================] - 0s 3ms/step - loss: 0.4554 - accuracy: 0.7818 - val_loss: 0.4766 - val_accuracy: 0.7987\n",
      "Epoch 86/100\n",
      "20/20 [==============================] - 0s 4ms/step - loss: 0.4450 - accuracy: 0.7899 - val_loss: 0.4743 - val_accuracy: 0.8052\n",
      "Epoch 87/100\n",
      "20/20 [==============================] - 0s 4ms/step - loss: 0.4334 - accuracy: 0.7818 - val_loss: 0.4757 - val_accuracy: 0.7987\n",
      "Epoch 88/100\n",
      "20/20 [==============================] - 0s 4ms/step - loss: 0.4432 - accuracy: 0.7883 - val_loss: 0.4712 - val_accuracy: 0.8182\n",
      "Epoch 89/100\n",
      "20/20 [==============================] - 0s 4ms/step - loss: 0.4444 - accuracy: 0.7964 - val_loss: 0.4711 - val_accuracy: 0.8182\n",
      "Epoch 90/100\n",
      "20/20 [==============================] - 0s 4ms/step - loss: 0.4505 - accuracy: 0.7769 - val_loss: 0.4720 - val_accuracy: 0.8052\n",
      "Epoch 91/100\n",
      "20/20 [==============================] - 0s 4ms/step - loss: 0.4398 - accuracy: 0.7883 - val_loss: 0.4702 - val_accuracy: 0.8182\n",
      "Epoch 92/100\n",
      "20/20 [==============================] - 0s 4ms/step - loss: 0.4265 - accuracy: 0.7948 - val_loss: 0.4721 - val_accuracy: 0.7987\n",
      "Epoch 93/100\n",
      "20/20 [==============================] - 0s 4ms/step - loss: 0.4610 - accuracy: 0.7915 - val_loss: 0.4713 - val_accuracy: 0.8182\n",
      "Epoch 94/100\n",
      "20/20 [==============================] - 0s 4ms/step - loss: 0.4465 - accuracy: 0.7769 - val_loss: 0.4693 - val_accuracy: 0.8182\n",
      "Epoch 95/100\n",
      "20/20 [==============================] - 0s 3ms/step - loss: 0.4292 - accuracy: 0.7964 - val_loss: 0.4693 - val_accuracy: 0.8247\n",
      "Epoch 96/100\n",
      "20/20 [==============================] - 0s 4ms/step - loss: 0.4382 - accuracy: 0.7915 - val_loss: 0.4678 - val_accuracy: 0.8182\n",
      "Epoch 97/100\n",
      "20/20 [==============================] - 0s 4ms/step - loss: 0.4475 - accuracy: 0.7948 - val_loss: 0.4689 - val_accuracy: 0.8052\n",
      "Epoch 98/100\n",
      "20/20 [==============================] - 0s 4ms/step - loss: 0.4351 - accuracy: 0.8160 - val_loss: 0.4709 - val_accuracy: 0.8052\n",
      "Epoch 99/100\n",
      "20/20 [==============================] - 0s 4ms/step - loss: 0.4524 - accuracy: 0.7964 - val_loss: 0.4699 - val_accuracy: 0.7987\n",
      "Epoch 100/100\n",
      "20/20 [==============================] - 0s 4ms/step - loss: 0.4241 - accuracy: 0.8029 - val_loss: 0.4730 - val_accuracy: 0.7987\n"
     ]
    },
    {
     "data": {
      "text/plain": [
       "<keras.callbacks.History at 0x1efb7b075b0>"
      ]
     },
     "execution_count": 30,
     "metadata": {},
     "output_type": "execute_result"
    }
   ],
   "source": [
    "model.fit(x_train, y_train, batch_size=32, epochs=100, initial_epoch=5, validation_data=(x_test, y_test))"
   ]
  },
  {
   "cell_type": "code",
   "execution_count": null,
   "metadata": {},
   "outputs": [],
   "source": []
  }
 ],
 "metadata": {
  "accelerator": "GPU",
  "colab": {
   "gpuType": "T4",
   "provenance": []
  },
  "kernelspec": {
   "display_name": "Python 3 (ipykernel)",
   "language": "python",
   "name": "python3"
  },
  "language_info": {
   "codemirror_mode": {
    "name": "ipython",
    "version": 3
   },
   "file_extension": ".py",
   "mimetype": "text/x-python",
   "name": "python",
   "nbconvert_exporter": "python",
   "pygments_lexer": "ipython3",
   "version": "3.9.13"
  }
 },
 "nbformat": 4,
 "nbformat_minor": 1
}
