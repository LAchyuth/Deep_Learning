{
 "cells": [
  {
   "cell_type": "code",
   "execution_count": 2,
   "id": "17c33dca",
   "metadata": {},
   "outputs": [],
   "source": [
    "import os,sys\n",
    "import numpy as np\n",
    "import pandas as pd\n",
    "import matplotlib.pyplot as plt\n",
    "import seaborn as sns\n",
    "sns.set()\n",
    "import warnings\n",
    "warnings.filterwarnings('ignore')"
   ]
  },
  {
   "cell_type": "code",
   "execution_count": 4,
   "id": "20ab1406",
   "metadata": {},
   "outputs": [],
   "source": [
    "train_ds = pd.read_csv(\"D:\\\\Learnbay\\\\NLP\\\\Notes\\\\sentiment_train\",delimiter = '\\t')"
   ]
  },
  {
   "cell_type": "code",
   "execution_count": 6,
   "id": "f1cab1f7",
   "metadata": {},
   "outputs": [
    {
     "data": {
      "text/html": [
       "<div>\n",
       "<style scoped>\n",
       "    .dataframe tbody tr th:only-of-type {\n",
       "        vertical-align: middle;\n",
       "    }\n",
       "\n",
       "    .dataframe tbody tr th {\n",
       "        vertical-align: top;\n",
       "    }\n",
       "\n",
       "    .dataframe thead th {\n",
       "        text-align: right;\n",
       "    }\n",
       "</style>\n",
       "<table border=\"1\" class=\"dataframe\">\n",
       "  <thead>\n",
       "    <tr style=\"text-align: right;\">\n",
       "      <th></th>\n",
       "      <th>sentiment</th>\n",
       "      <th>text</th>\n",
       "    </tr>\n",
       "  </thead>\n",
       "  <tbody>\n",
       "    <tr>\n",
       "      <th>0</th>\n",
       "      <td>1</td>\n",
       "      <td>The Da Vinci Code book is just awesome.</td>\n",
       "    </tr>\n",
       "    <tr>\n",
       "      <th>1</th>\n",
       "      <td>1</td>\n",
       "      <td>this was the first clive cussler i've ever rea...</td>\n",
       "    </tr>\n",
       "    <tr>\n",
       "      <th>2</th>\n",
       "      <td>1</td>\n",
       "      <td>i liked the Da Vinci Code a lot.</td>\n",
       "    </tr>\n",
       "    <tr>\n",
       "      <th>3</th>\n",
       "      <td>1</td>\n",
       "      <td>i liked the Da Vinci Code a lot.</td>\n",
       "    </tr>\n",
       "    <tr>\n",
       "      <th>4</th>\n",
       "      <td>1</td>\n",
       "      <td>I liked the Da Vinci Code but it ultimatly did...</td>\n",
       "    </tr>\n",
       "    <tr>\n",
       "      <th>...</th>\n",
       "      <td>...</td>\n",
       "      <td>...</td>\n",
       "    </tr>\n",
       "    <tr>\n",
       "      <th>6913</th>\n",
       "      <td>0</td>\n",
       "      <td>Brokeback Mountain was boring.</td>\n",
       "    </tr>\n",
       "    <tr>\n",
       "      <th>6914</th>\n",
       "      <td>0</td>\n",
       "      <td>So Brokeback Mountain was really depressing.</td>\n",
       "    </tr>\n",
       "    <tr>\n",
       "      <th>6915</th>\n",
       "      <td>0</td>\n",
       "      <td>As I sit here, watching the MTV Movie Awards, ...</td>\n",
       "    </tr>\n",
       "    <tr>\n",
       "      <th>6916</th>\n",
       "      <td>0</td>\n",
       "      <td>Ok brokeback mountain is such a horrible movie.</td>\n",
       "    </tr>\n",
       "    <tr>\n",
       "      <th>6917</th>\n",
       "      <td>0</td>\n",
       "      <td>Oh, and Brokeback Mountain was a terrible movie.</td>\n",
       "    </tr>\n",
       "  </tbody>\n",
       "</table>\n",
       "<p>6918 rows × 2 columns</p>\n",
       "</div>"
      ],
      "text/plain": [
       "      sentiment                                               text\n",
       "0             1            The Da Vinci Code book is just awesome.\n",
       "1             1  this was the first clive cussler i've ever rea...\n",
       "2             1                   i liked the Da Vinci Code a lot.\n",
       "3             1                   i liked the Da Vinci Code a lot.\n",
       "4             1  I liked the Da Vinci Code but it ultimatly did...\n",
       "...         ...                                                ...\n",
       "6913          0                     Brokeback Mountain was boring.\n",
       "6914          0       So Brokeback Mountain was really depressing.\n",
       "6915          0  As I sit here, watching the MTV Movie Awards, ...\n",
       "6916          0    Ok brokeback mountain is such a horrible movie.\n",
       "6917          0   Oh, and Brokeback Mountain was a terrible movie.\n",
       "\n",
       "[6918 rows x 2 columns]"
      ]
     },
     "execution_count": 6,
     "metadata": {},
     "output_type": "execute_result"
    }
   ],
   "source": [
    "train_ds"
   ]
  },
  {
   "cell_type": "code",
   "execution_count": 7,
   "id": "dabd3915",
   "metadata": {},
   "outputs": [
    {
     "data": {
      "text/plain": [
       "'C:\\\\Users\\\\achyu\\\\Learnbay\\\\NLP'"
      ]
     },
     "execution_count": 7,
     "metadata": {},
     "output_type": "execute_result"
    }
   ],
   "source": [
    "os.getcwd()"
   ]
  },
  {
   "cell_type": "code",
   "execution_count": 8,
   "id": "2c66c92d",
   "metadata": {},
   "outputs": [],
   "source": [
    "os.chdir(\"D:\\\\Learnbay\\\\NLP\\\\Notes\")"
   ]
  },
  {
   "cell_type": "code",
   "execution_count": 9,
   "id": "a2689cd2",
   "metadata": {},
   "outputs": [
    {
     "data": {
      "text/html": [
       "<div>\n",
       "<style scoped>\n",
       "    .dataframe tbody tr th:only-of-type {\n",
       "        vertical-align: middle;\n",
       "    }\n",
       "\n",
       "    .dataframe tbody tr th {\n",
       "        vertical-align: top;\n",
       "    }\n",
       "\n",
       "    .dataframe thead th {\n",
       "        text-align: right;\n",
       "    }\n",
       "</style>\n",
       "<table border=\"1\" class=\"dataframe\">\n",
       "  <thead>\n",
       "    <tr style=\"text-align: right;\">\n",
       "      <th></th>\n",
       "      <th>sentiment</th>\n",
       "      <th>text</th>\n",
       "    </tr>\n",
       "  </thead>\n",
       "  <tbody>\n",
       "    <tr>\n",
       "      <th>0</th>\n",
       "      <td>1</td>\n",
       "      <td>The Da Vinci Code book is just awesome.</td>\n",
       "    </tr>\n",
       "    <tr>\n",
       "      <th>1</th>\n",
       "      <td>1</td>\n",
       "      <td>this was the first clive cussler i've ever rea...</td>\n",
       "    </tr>\n",
       "    <tr>\n",
       "      <th>2</th>\n",
       "      <td>1</td>\n",
       "      <td>i liked the Da Vinci Code a lot.</td>\n",
       "    </tr>\n",
       "    <tr>\n",
       "      <th>3</th>\n",
       "      <td>1</td>\n",
       "      <td>i liked the Da Vinci Code a lot.</td>\n",
       "    </tr>\n",
       "    <tr>\n",
       "      <th>4</th>\n",
       "      <td>1</td>\n",
       "      <td>I liked the Da Vinci Code but it ultimatly did...</td>\n",
       "    </tr>\n",
       "    <tr>\n",
       "      <th>5</th>\n",
       "      <td>1</td>\n",
       "      <td>that's not even an exaggeration ) and at midni...</td>\n",
       "    </tr>\n",
       "    <tr>\n",
       "      <th>6</th>\n",
       "      <td>1</td>\n",
       "      <td>I loved the Da Vinci Code, but now I want some...</td>\n",
       "    </tr>\n",
       "    <tr>\n",
       "      <th>7</th>\n",
       "      <td>1</td>\n",
       "      <td>i thought da vinci code was great, same with k...</td>\n",
       "    </tr>\n",
       "    <tr>\n",
       "      <th>8</th>\n",
       "      <td>1</td>\n",
       "      <td>The Da Vinci Code is actually a good movie...</td>\n",
       "    </tr>\n",
       "    <tr>\n",
       "      <th>9</th>\n",
       "      <td>1</td>\n",
       "      <td>I thought the Da Vinci Code was a pretty good ...</td>\n",
       "    </tr>\n",
       "    <tr>\n",
       "      <th>10</th>\n",
       "      <td>1</td>\n",
       "      <td>The Da Vinci Code is one of the most beautiful...</td>\n",
       "    </tr>\n",
       "    <tr>\n",
       "      <th>11</th>\n",
       "      <td>1</td>\n",
       "      <td>The Da Vinci Code is an * amazing * book, do n...</td>\n",
       "    </tr>\n",
       "    <tr>\n",
       "      <th>12</th>\n",
       "      <td>1</td>\n",
       "      <td>then I turn on the light and the radio and enj...</td>\n",
       "    </tr>\n",
       "    <tr>\n",
       "      <th>13</th>\n",
       "      <td>1</td>\n",
       "      <td>The Da Vinci Code was REALLY good.</td>\n",
       "    </tr>\n",
       "    <tr>\n",
       "      <th>14</th>\n",
       "      <td>1</td>\n",
       "      <td>i love da vinci code....</td>\n",
       "    </tr>\n",
       "    <tr>\n",
       "      <th>15</th>\n",
       "      <td>1</td>\n",
       "      <td>i loved da vinci code..</td>\n",
       "    </tr>\n",
       "    <tr>\n",
       "      <th>16</th>\n",
       "      <td>1</td>\n",
       "      <td>TO NIGHT:: THE DA VINCI CODE AND A BEAUTIFUL M...</td>\n",
       "    </tr>\n",
       "    <tr>\n",
       "      <th>17</th>\n",
       "      <td>1</td>\n",
       "      <td>THE DA VINCI CODE is AN AWESOME BOOK....</td>\n",
       "    </tr>\n",
       "    <tr>\n",
       "      <th>18</th>\n",
       "      <td>1</td>\n",
       "      <td>Thing is, I enjoyed The Da Vinci Code.</td>\n",
       "    </tr>\n",
       "    <tr>\n",
       "      <th>19</th>\n",
       "      <td>1</td>\n",
       "      <td>very da vinci code slash amazing race.</td>\n",
       "    </tr>\n",
       "  </tbody>\n",
       "</table>\n",
       "</div>"
      ],
      "text/plain": [
       "    sentiment                                               text\n",
       "0           1            The Da Vinci Code book is just awesome.\n",
       "1           1  this was the first clive cussler i've ever rea...\n",
       "2           1                   i liked the Da Vinci Code a lot.\n",
       "3           1                   i liked the Da Vinci Code a lot.\n",
       "4           1  I liked the Da Vinci Code but it ultimatly did...\n",
       "5           1  that's not even an exaggeration ) and at midni...\n",
       "6           1  I loved the Da Vinci Code, but now I want some...\n",
       "7           1  i thought da vinci code was great, same with k...\n",
       "8           1      The Da Vinci Code is actually a good movie...\n",
       "9           1  I thought the Da Vinci Code was a pretty good ...\n",
       "10          1  The Da Vinci Code is one of the most beautiful...\n",
       "11          1  The Da Vinci Code is an * amazing * book, do n...\n",
       "12          1  then I turn on the light and the radio and enj...\n",
       "13          1                 The Da Vinci Code was REALLY good.\n",
       "14          1                           i love da vinci code....\n",
       "15          1                            i loved da vinci code..\n",
       "16          1  TO NIGHT:: THE DA VINCI CODE AND A BEAUTIFUL M...\n",
       "17          1           THE DA VINCI CODE is AN AWESOME BOOK....\n",
       "18          1             Thing is, I enjoyed The Da Vinci Code.\n",
       "19          1             very da vinci code slash amazing race."
      ]
     },
     "execution_count": 9,
     "metadata": {},
     "output_type": "execute_result"
    }
   ],
   "source": [
    "train_ds[train_ds.sentiment==1][0:20]"
   ]
  },
  {
   "cell_type": "code",
   "execution_count": 10,
   "id": "8da1be64",
   "metadata": {},
   "outputs": [
    {
     "data": {
      "text/html": [
       "<div>\n",
       "<style scoped>\n",
       "    .dataframe tbody tr th:only-of-type {\n",
       "        vertical-align: middle;\n",
       "    }\n",
       "\n",
       "    .dataframe tbody tr th {\n",
       "        vertical-align: top;\n",
       "    }\n",
       "\n",
       "    .dataframe thead th {\n",
       "        text-align: right;\n",
       "    }\n",
       "</style>\n",
       "<table border=\"1\" class=\"dataframe\">\n",
       "  <thead>\n",
       "    <tr style=\"text-align: right;\">\n",
       "      <th></th>\n",
       "      <th>sentiment</th>\n",
       "      <th>text</th>\n",
       "    </tr>\n",
       "  </thead>\n",
       "  <tbody>\n",
       "    <tr>\n",
       "      <th>3943</th>\n",
       "      <td>0</td>\n",
       "      <td>da vinci code was a terrible movie.</td>\n",
       "    </tr>\n",
       "    <tr>\n",
       "      <th>3944</th>\n",
       "      <td>0</td>\n",
       "      <td>Then again, the Da Vinci code is super shitty ...</td>\n",
       "    </tr>\n",
       "    <tr>\n",
       "      <th>3945</th>\n",
       "      <td>0</td>\n",
       "      <td>The Da Vinci Code comes out tomorrow, which su...</td>\n",
       "    </tr>\n",
       "    <tr>\n",
       "      <th>3946</th>\n",
       "      <td>0</td>\n",
       "      <td>i thought the da vinci code movie was really b...</td>\n",
       "    </tr>\n",
       "    <tr>\n",
       "      <th>3947</th>\n",
       "      <td>0</td>\n",
       "      <td>God, Yahoo Games has this truly-awful looking ...</td>\n",
       "    </tr>\n",
       "    <tr>\n",
       "      <th>3948</th>\n",
       "      <td>0</td>\n",
       "      <td>Da Vinci Code does suck.</td>\n",
       "    </tr>\n",
       "    <tr>\n",
       "      <th>3949</th>\n",
       "      <td>0</td>\n",
       "      <td>And better...-We all know Da Vinci code is bog...</td>\n",
       "    </tr>\n",
       "    <tr>\n",
       "      <th>3950</th>\n",
       "      <td>0</td>\n",
       "      <td>Last time, Da Vinci code is also a bit disappo...</td>\n",
       "    </tr>\n",
       "    <tr>\n",
       "      <th>3951</th>\n",
       "      <td>0</td>\n",
       "      <td>And better...-We all know Da Vinci code is bog...</td>\n",
       "    </tr>\n",
       "    <tr>\n",
       "      <th>3952</th>\n",
       "      <td>0</td>\n",
       "      <td>And better..-We all know Da Vinci code is bogu...</td>\n",
       "    </tr>\n",
       "    <tr>\n",
       "      <th>3953</th>\n",
       "      <td>0</td>\n",
       "      <td>And better..-We all know Da Vinci code is bogu...</td>\n",
       "    </tr>\n",
       "    <tr>\n",
       "      <th>3954</th>\n",
       "      <td>0</td>\n",
       "      <td>If Jesus is fabricated a la the Da Vinci Code ...</td>\n",
       "    </tr>\n",
       "    <tr>\n",
       "      <th>3955</th>\n",
       "      <td>0</td>\n",
       "      <td>I think this bolsters my arguments that both E...</td>\n",
       "    </tr>\n",
       "    <tr>\n",
       "      <th>3956</th>\n",
       "      <td>0</td>\n",
       "      <td>And better..-We all know Da Vinci code is bogu...</td>\n",
       "    </tr>\n",
       "    <tr>\n",
       "      <th>3957</th>\n",
       "      <td>0</td>\n",
       "      <td>I really hate The Da Vinci Code.</td>\n",
       "    </tr>\n",
       "    <tr>\n",
       "      <th>3958</th>\n",
       "      <td>0</td>\n",
       "      <td>The more you say The Da Vinci Code is evil, th...</td>\n",
       "    </tr>\n",
       "    <tr>\n",
       "      <th>3959</th>\n",
       "      <td>0</td>\n",
       "      <td>da vinci code sucked too long and too slow.....</td>\n",
       "    </tr>\n",
       "    <tr>\n",
       "      <th>3960</th>\n",
       "      <td>0</td>\n",
       "      <td>Da Vinci Code sucked, as expected.</td>\n",
       "    </tr>\n",
       "    <tr>\n",
       "      <th>3961</th>\n",
       "      <td>0</td>\n",
       "      <td>not sure if i already threw this at you but I ...</td>\n",
       "    </tr>\n",
       "    <tr>\n",
       "      <th>3962</th>\n",
       "      <td>0</td>\n",
       "      <td>This is why I hate the Da Vinci Code: because ...</td>\n",
       "    </tr>\n",
       "  </tbody>\n",
       "</table>\n",
       "</div>"
      ],
      "text/plain": [
       "      sentiment                                               text\n",
       "3943          0                da vinci code was a terrible movie.\n",
       "3944          0  Then again, the Da Vinci code is super shitty ...\n",
       "3945          0  The Da Vinci Code comes out tomorrow, which su...\n",
       "3946          0  i thought the da vinci code movie was really b...\n",
       "3947          0  God, Yahoo Games has this truly-awful looking ...\n",
       "3948          0                           Da Vinci Code does suck.\n",
       "3949          0  And better...-We all know Da Vinci code is bog...\n",
       "3950          0  Last time, Da Vinci code is also a bit disappo...\n",
       "3951          0  And better...-We all know Da Vinci code is bog...\n",
       "3952          0  And better..-We all know Da Vinci code is bogu...\n",
       "3953          0  And better..-We all know Da Vinci code is bogu...\n",
       "3954          0  If Jesus is fabricated a la the Da Vinci Code ...\n",
       "3955          0  I think this bolsters my arguments that both E...\n",
       "3956          0  And better..-We all know Da Vinci code is bogu...\n",
       "3957          0                   I really hate The Da Vinci Code.\n",
       "3958          0  The more you say The Da Vinci Code is evil, th...\n",
       "3959          0    da vinci code sucked too long and too slow.....\n",
       "3960          0                 Da Vinci Code sucked, as expected.\n",
       "3961          0  not sure if i already threw this at you but I ...\n",
       "3962          0  This is why I hate the Da Vinci Code: because ..."
      ]
     },
     "execution_count": 10,
     "metadata": {},
     "output_type": "execute_result"
    }
   ],
   "source": [
    "train_ds[train_ds.sentiment==0][0:20]"
   ]
  },
  {
   "cell_type": "code",
   "execution_count": 11,
   "id": "3e5670cc",
   "metadata": {},
   "outputs": [
    {
     "name": "stdout",
     "output_type": "stream",
     "text": [
      "<class 'pandas.core.frame.DataFrame'>\n",
      "RangeIndex: 6918 entries, 0 to 6917\n",
      "Data columns (total 2 columns):\n",
      " #   Column     Non-Null Count  Dtype \n",
      "---  ------     --------------  ----- \n",
      " 0   sentiment  6918 non-null   int64 \n",
      " 1   text       6918 non-null   object\n",
      "dtypes: int64(1), object(1)\n",
      "memory usage: 108.2+ KB\n"
     ]
    }
   ],
   "source": [
    "train_ds.info()"
   ]
  },
  {
   "cell_type": "code",
   "execution_count": 12,
   "id": "b6f1af22",
   "metadata": {},
   "outputs": [
    {
     "data": {
      "image/png": "[encoded data removed]",
      "text/plain": [
       "<Figure size 800x600 with 1 Axes>"
      ]
     },
     "metadata": {},
     "output_type": "display_data"
    }
   ],
   "source": [
    "plt.figure(figsize = (8,6))\n",
    "ax =sns.countplot(x = 'sentiment', data =train_ds)\n",
    "for p in ax.patches:\n",
    "    ax.annotate(p.get_height(),(p.get_x() + 0.25, p.get_height() + 50))"
   ]
  },
  {
   "cell_type": "code",
   "execution_count": 13,
   "id": "d1308bd9",
   "metadata": {},
   "outputs": [
    {
     "data": {
      "text/plain": [
       "(6918, 2)"
      ]
     },
     "execution_count": 13,
     "metadata": {},
     "output_type": "execute_result"
    }
   ],
   "source": [
    "train_ds.shape"
   ]
  },
  {
   "cell_type": "code",
   "execution_count": 19,
   "id": "792583d5",
   "metadata": {},
   "outputs": [
    {
     "data": {
      "text/plain": [
       "1    3943\n",
       "0    2975\n",
       "Name: sentiment, dtype: int64"
      ]
     },
     "execution_count": 19,
     "metadata": {},
     "output_type": "execute_result"
    }
   ],
   "source": [
    "review_volume = train_ds['sentiment'].value_counts()\n",
    "review_volume"
   ]
  },
  {
   "cell_type": "code",
   "execution_count": 18,
   "id": "d46104ca",
   "metadata": {},
   "outputs": [
    {
     "name": "stdout",
     "output_type": "stream",
     "text": [
      "43.00375831165076\n",
      "56.99624168834924\n"
     ]
    }
   ],
   "source": [
    "print((review_volume[0]/train_ds.shape[0])*100)\n",
    "print((review_volume[1]/train_ds.shape[0])*100)"
   ]
  },
  {
   "cell_type": "markdown",
   "id": "7bbec8d7",
   "metadata": {},
   "source": [
    "# Count Vector Model(Bag Of Words)"
   ]
  },
  {
   "cell_type": "code",
   "execution_count": null,
   "id": "4b513746",
   "metadata": {},
   "outputs": [],
   "source": [
    "from sklearn.feature_extraction.text import CountVectorizer\n",
    "count_vectorizer = CountVectorizer()\n",
    "feature_vector = count_vectorizer.fit(train_ds.text)\n",
    "feature_vector"
   ]
  },
  {
   "cell_type": "code",
   "execution_count": null,
   "id": "2ecf571a",
   "metadata": {},
   "outputs": [],
   "source": [
    "from sklearn.feature_extraction.text import CountVectorizer\n",
    "cv = CountVectorizer()\n",
    "feature_vector = cv.fit(train_ds.text)"
   ]
  },
  {
   "cell_type": "code",
   "execution_count": null,
   "id": "e66b17e6",
   "metadata": {},
   "outputs": [],
   "source": [
    "features  = feature_vector.get_feature_names()\n",
    "print(\"Total no of features :\",len(features))"
   ]
  },
  {
   "cell_type": "code",
   "execution_count": 44,
   "id": "85f17d14",
   "metadata": {},
   "outputs": [
    {
     "data": {
      "text/plain": [
       "['dorks',\n",
       " 'hide',\n",
       " 'story',\n",
       " 'short',\n",
       " 'knowing',\n",
       " 'here',\n",
       " 'mormon',\n",
       " 'expected',\n",
       " 'earrings',\n",
       " 'wanted',\n",
       " 'harder',\n",
       " 'boycotting',\n",
       " 'wide',\n",
       " 'hooker',\n",
       " 'corrupting',\n",
       " 'allegedly',\n",
       " 'suck',\n",
       " 'stories',\n",
       " 'movies',\n",
       " 'stuff',\n",
       " 'claiming',\n",
       " 'to',\n",
       " 'question',\n",
       " 'meat',\n",
       " 'say',\n",
       " 'beautiful',\n",
       " 'sorcerer',\n",
       " 'clit',\n",
       " 'criticized',\n",
       " 'ps',\n",
       " 'quite',\n",
       " 'receive',\n",
       " 'education',\n",
       " 'consider',\n",
       " 'kate',\n",
       " 'lord',\n",
       " 'capote',\n",
       " 'costume',\n",
       " 'mouth',\n",
       " 'everyone',\n",
       " 'dim',\n",
       " 'jenn',\n",
       " 'luck',\n",
       " 'bit',\n",
       " 'including',\n",
       " 'pull',\n",
       " 'making',\n",
       " 'shopping',\n",
       " 'enjoying',\n",
       " 'when']"
      ]
     },
     "execution_count": 44,
     "metadata": {},
     "output_type": "execute_result"
    }
   ],
   "source": [
    "import re\n",
    "import random\n",
    "random.sample(features,50)  # this will random select 50 words from 2132 unique words"
   ]
  },
  {
   "cell_type": "code",
   "execution_count": null,
   "id": "83e1433a",
   "metadata": {},
   "outputs": [],
   "source": []
  },
  {
   "cell_type": "code",
   "execution_count": null,
   "id": "2465658f",
   "metadata": {},
   "outputs": [],
   "source": []
  },
  {
   "cell_type": "code",
   "execution_count": null,
   "id": "1f35c012",
   "metadata": {},
   "outputs": [],
   "source": []
  }
 ],
 "metadata": {
  "kernelspec": {
   "display_name": "Python 3 (ipykernel)",
   "language": "python",
   "name": "python3"
  },
  "language_info": {
   "codemirror_mode": {
    "name": "ipython",
    "version": 3
   },
   "file_extension": ".py",
   "mimetype": "text/x-python",
   "name": "python",
   "nbconvert_exporter": "python",
   "pygments_lexer": "ipython3",
   "version": "3.9.13"
  }
 },
 "nbformat": 4,
 "nbformat_minor": 5
}
