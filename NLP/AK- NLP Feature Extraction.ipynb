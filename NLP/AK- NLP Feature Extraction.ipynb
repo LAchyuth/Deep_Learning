{
 "cells": [
  {
   "cell_type": "markdown",
   "id": "e13403df",
   "metadata": {},
   "source": [
    "# Bag of Words"
   ]
  },
  {
   "cell_type": "code",
   "execution_count": 1,
   "id": "2ddd398c",
   "metadata": {},
   "outputs": [],
   "source": [
    "import numpy as np\n",
    "import pandas as pd"
   ]
  },
  {
   "cell_type": "code",
   "execution_count": 2,
   "id": "59798d17",
   "metadata": {},
   "outputs": [],
   "source": [
    "df = pd .DataFrame({'text':['This meal is vary tasty and affordable',\n",
    "                           'This meal is not tasty and is affordable',\n",
    "                           'This meal is delicious and cheap',\n",
    "                           'Meal is tasty and meal tests good'],\n",
    "                   'output':[1,0,1,1]})\n"
   ]
  },
  {
   "cell_type": "code",
   "execution_count": 3,
   "id": "e47d1a73",
   "metadata": {},
   "outputs": [
    {
     "data": {
      "text/html": [
       "<div>\n",
       "<style scoped>\n",
       "    .dataframe tbody tr th:only-of-type {\n",
       "        vertical-align: middle;\n",
       "    }\n",
       "\n",
       "    .dataframe tbody tr th {\n",
       "        vertical-align: top;\n",
       "    }\n",
       "\n",
       "    .dataframe thead th {\n",
       "        text-align: right;\n",
       "    }\n",
       "</style>\n",
       "<table border=\"1\" class=\"dataframe\">\n",
       "  <thead>\n",
       "    <tr style=\"text-align: right;\">\n",
       "      <th></th>\n",
       "      <th>text</th>\n",
       "      <th>output</th>\n",
       "    </tr>\n",
       "  </thead>\n",
       "  <tbody>\n",
       "    <tr>\n",
       "      <th>0</th>\n",
       "      <td>This meal is vary tasty and affordable</td>\n",
       "      <td>1</td>\n",
       "    </tr>\n",
       "    <tr>\n",
       "      <th>1</th>\n",
       "      <td>This meal is not tasty and is affordable</td>\n",
       "      <td>0</td>\n",
       "    </tr>\n",
       "    <tr>\n",
       "      <th>2</th>\n",
       "      <td>This meal is delicious and cheap</td>\n",
       "      <td>1</td>\n",
       "    </tr>\n",
       "    <tr>\n",
       "      <th>3</th>\n",
       "      <td>Meal is tasty and meal tests good</td>\n",
       "      <td>1</td>\n",
       "    </tr>\n",
       "  </tbody>\n",
       "</table>\n",
       "</div>"
      ],
      "text/plain": [
       "                                       text  output\n",
       "0    This meal is vary tasty and affordable       1\n",
       "1  This meal is not tasty and is affordable       0\n",
       "2          This meal is delicious and cheap       1\n",
       "3         Meal is tasty and meal tests good       1"
      ]
     },
     "execution_count": 3,
     "metadata": {},
     "output_type": "execute_result"
    }
   ],
   "source": [
    "df"
   ]
  },
  {
   "cell_type": "code",
   "execution_count": 4,
   "id": "effeb8d2",
   "metadata": {},
   "outputs": [
    {
     "name": "stdout",
     "output_type": "stream",
     "text": [
      "<class 'pandas.core.frame.DataFrame'>\n",
      "RangeIndex: 4 entries, 0 to 3\n",
      "Data columns (total 2 columns):\n",
      " #   Column  Non-Null Count  Dtype \n",
      "---  ------  --------------  ----- \n",
      " 0   text    4 non-null      object\n",
      " 1   output  4 non-null      int64 \n",
      "dtypes: int64(1), object(1)\n",
      "memory usage: 192.0+ bytes\n"
     ]
    }
   ],
   "source": [
    "df.info()"
   ]
  },
  {
   "cell_type": "code",
   "execution_count": 6,
   "id": "8bf44f25",
   "metadata": {},
   "outputs": [
    {
     "name": "stderr",
     "output_type": "stream",
     "text": [
      "C:\\Users\\achyu\\anaconda3\\lib\\site-packages\\scipy\\__init__.py:155: UserWarning: A NumPy version >=1.18.5 and <1.25.0 is required for this version of SciPy (detected version 1.26.3\n",
      "  warnings.warn(f\"A NumPy version >={np_minversion} and <{np_maxversion}\"\n"
     ]
    }
   ],
   "source": [
    "# Featue Extraction Method- Bag Of Words(Count Vectorization)\n",
    "from sklearn.feature_extraction.text import CountVectorizer"
   ]
  },
  {
   "cell_type": "code",
   "execution_count": 7,
   "id": "c87d6f6f",
   "metadata": {},
   "outputs": [],
   "source": [
    "cv = CountVectorizer(binary = False) # Frequency BOW\n",
    "cv1 = CountVectorizer(binary = True) # Binary BOW"
   ]
  },
  {
   "cell_type": "code",
   "execution_count": 8,
   "id": "f2cfb028",
   "metadata": {},
   "outputs": [],
   "source": [
    "BOW = cv.fit_transform(df['text'])\n",
    "BOW1 = cv1.fit_transform(df['text'])"
   ]
  },
  {
   "cell_type": "code",
   "execution_count": 9,
   "id": "aff4a397",
   "metadata": {},
   "outputs": [
    {
     "name": "stdout",
     "output_type": "stream",
     "text": [
      "{'this': 10, 'meal': 6, 'is': 5, 'vary': 11, 'tasty': 8, 'and': 1, 'affordable': 0, 'not': 7, 'delicious': 3, 'cheap': 2, 'tests': 9, 'good': 4}\n"
     ]
    }
   ],
   "source": [
    "print(cv.vocabulary_)"
   ]
  },
  {
   "cell_type": "code",
   "execution_count": 10,
   "id": "ffe50e5a",
   "metadata": {},
   "outputs": [
    {
     "name": "stdout",
     "output_type": "stream",
     "text": [
      "{'this': 10, 'meal': 6, 'is': 5, 'vary': 11, 'tasty': 8, 'and': 1, 'affordable': 0, 'not': 7, 'delicious': 3, 'cheap': 2, 'tests': 9, 'good': 4}\n"
     ]
    }
   ],
   "source": [
    "print(cv1.vocabulary_)"
   ]
  },
  {
   "cell_type": "code",
   "execution_count": 11,
   "id": "631da2ae",
   "metadata": {
    "scrolled": true
   },
   "outputs": [
    {
     "data": {
      "text/plain": [
       "<4x12 sparse matrix of type '<class 'numpy.int64'>'\n",
       "\twith 26 stored elements in Compressed Sparse Row format>"
      ]
     },
     "execution_count": 11,
     "metadata": {},
     "output_type": "execute_result"
    }
   ],
   "source": [
    "BOW\n",
    "# Because total words are more but having less words in each row that why it creating sparse matrix "
   ]
  },
  {
   "cell_type": "code",
   "execution_count": 12,
   "id": "6ccdaa56",
   "metadata": {},
   "outputs": [
    {
     "data": {
      "text/plain": [
       "array([[1, 1, 0, 0, 0, 1, 1, 0, 1, 0, 1, 1],\n",
       "       [1, 1, 0, 0, 0, 2, 1, 1, 1, 0, 1, 0],\n",
       "       [0, 1, 1, 1, 0, 1, 1, 0, 0, 0, 1, 0],\n",
       "       [0, 1, 0, 0, 1, 1, 2, 0, 1, 1, 0, 0]], dtype=int64)"
      ]
     },
     "execution_count": 12,
     "metadata": {},
     "output_type": "execute_result"
    }
   ],
   "source": [
    "BOW.toarray()"
   ]
  },
  {
   "cell_type": "code",
   "execution_count": 13,
   "id": "56d1d4ca",
   "metadata": {},
   "outputs": [
    {
     "data": {
      "text/plain": [
       "array([[1, 1, 0, 0, 0, 1, 1, 0, 1, 0, 1, 1],\n",
       "       [1, 1, 0, 0, 0, 1, 1, 1, 1, 0, 1, 0],\n",
       "       [0, 1, 1, 1, 0, 1, 1, 0, 0, 0, 1, 0],\n",
       "       [0, 1, 0, 0, 1, 1, 1, 0, 1, 1, 0, 0]], dtype=int64)"
      ]
     },
     "execution_count": 13,
     "metadata": {},
     "output_type": "execute_result"
    }
   ],
   "source": [
    "BOW1.toarray()"
   ]
  },
  {
   "cell_type": "code",
   "execution_count": null,
   "id": "5b8a1e7b",
   "metadata": {},
   "outputs": [],
   "source": []
  },
  {
   "cell_type": "markdown",
   "id": "ba5abba7",
   "metadata": {},
   "source": [
    "# N -Gram"
   ]
  },
  {
   "cell_type": "code",
   "execution_count": 14,
   "id": "0408540c",
   "metadata": {},
   "outputs": [],
   "source": [
    "# uni-gram is nothing but BOW - ngram_range = (1,1)\n",
    "# Bi-gram (ngram_range = (2,2))"
   ]
  },
  {
   "cell_type": "code",
   "execution_count": 15,
   "id": "365e4b5b",
   "metadata": {},
   "outputs": [],
   "source": [
    "cv = CountVectorizer(ngram_range = (2,2), binary = True) # Frequency BOW"
   ]
  },
  {
   "cell_type": "code",
   "execution_count": 17,
   "id": "87c44a7a",
   "metadata": {},
   "outputs": [],
   "source": [
    "BOW = cv.fit_transform(df['text'])"
   ]
  },
  {
   "cell_type": "code",
   "execution_count": 18,
   "id": "c9c52af0",
   "metadata": {},
   "outputs": [
    {
     "name": "stdout",
     "output_type": "stream",
     "text": [
      "{'this meal': 15, 'meal is': 10, 'is vary': 9, 'vary tasty': 16, 'tasty and': 13, 'and affordable': 0, 'is not': 7, 'not tasty': 12, 'and is': 2, 'is affordable': 5, 'is delicious': 6, 'delicious and': 4, 'and cheap': 1, 'is tasty': 8, 'and meal': 3, 'meal tests': 11, 'tests good': 14}\n"
     ]
    }
   ],
   "source": [
    "print(cv.vocabulary_)"
   ]
  },
  {
   "cell_type": "code",
   "execution_count": 21,
   "id": "61d57b8b",
   "metadata": {},
   "outputs": [],
   "source": [
    "cv1 = CountVectorizer(ngram_range = (1,2), binary = True) # combination of uni & Bigram"
   ]
  },
  {
   "cell_type": "code",
   "execution_count": 22,
   "id": "23c42e8e",
   "metadata": {},
   "outputs": [],
   "source": [
    "BOW1 = cv1.fit_transform(df['text'])"
   ]
  },
  {
   "cell_type": "code",
   "execution_count": 23,
   "id": "2723abf7",
   "metadata": {},
   "outputs": [
    {
     "name": "stdout",
     "output_type": "stream",
     "text": [
      "{'this': 25, 'meal': 16, 'is': 10, 'vary': 27, 'tasty': 21, 'and': 1, 'affordable': 0, 'this meal': 26, 'meal is': 17, 'is vary': 15, 'vary tasty': 28, 'tasty and': 22, 'and affordable': 2, 'not': 19, 'is not': 13, 'not tasty': 20, 'and is': 4, 'is affordable': 11, 'delicious': 7, 'cheap': 6, 'is delicious': 12, 'delicious and': 8, 'and cheap': 3, 'tests': 23, 'good': 9, 'is tasty': 14, 'and meal': 5, 'meal tests': 18, 'tests good': 24}\n"
     ]
    }
   ],
   "source": [
    "print(cv1.vocabulary_)\n",
    "#here each word has number and each binary word has number"
   ]
  },
  {
   "cell_type": "code",
   "execution_count": 24,
   "id": "056f2c1b",
   "metadata": {},
   "outputs": [],
   "source": [
    "cv2 = CountVectorizer(ngram_range = (3,3), binary = True) # trigram"
   ]
  },
  {
   "cell_type": "code",
   "execution_count": 26,
   "id": "fffb2f2e",
   "metadata": {},
   "outputs": [],
   "source": [
    "BOW2 = cv2.fit_transform(df['text'])"
   ]
  },
  {
   "cell_type": "code",
   "execution_count": 27,
   "id": "fd4967be",
   "metadata": {},
   "outputs": [
    {
     "name": "stdout",
     "output_type": "stream",
     "text": [
      "{'this meal is': 16, 'meal is vary': 10, 'is vary tasty': 6, 'vary tasty and': 17, 'tasty and affordable': 13, 'meal is not': 8, 'is not tasty': 4, 'not tasty and': 12, 'tasty and is': 14, 'and is affordable': 0, 'meal is delicious': 7, 'is delicious and': 3, 'delicious and cheap': 2, 'meal is tasty': 9, 'is tasty and': 5, 'tasty and meal': 15, 'and meal tests': 1, 'meal tests good': 11}\n"
     ]
    }
   ],
   "source": [
    "print(cv2.vocabulary_)"
   ]
  },
  {
   "cell_type": "code",
   "execution_count": 28,
   "id": "7528fd6f",
   "metadata": {},
   "outputs": [],
   "source": [
    "cv3 = CountVectorizer(ngram_range = (1,3), binary = True) # combination of all three"
   ]
  },
  {
   "cell_type": "code",
   "execution_count": 29,
   "id": "6821072f",
   "metadata": {},
   "outputs": [],
   "source": [
    "BOW3 = cv3.fit_transform(df['text'])"
   ]
  },
  {
   "cell_type": "code",
   "execution_count": 31,
   "id": "1661bd8d",
   "metadata": {},
   "outputs": [
    {
     "name": "stdout",
     "output_type": "stream",
     "text": [
      "{'this': 41, 'meal': 23, 'is': 13, 'vary': 44, 'tasty': 34, 'and': 1, 'affordable': 0, 'this meal': 42, 'meal is': 24, 'is vary': 21, 'vary tasty': 45, 'tasty and': 35, 'and affordable': 2, 'this meal is': 43, 'meal is vary': 28, 'is vary tasty': 22, 'vary tasty and': 46, 'tasty and affordable': 36, 'not': 31, 'is not': 17, 'not tasty': 32, 'and is': 4, 'is affordable': 14, 'meal is not': 26, 'is not tasty': 18, 'not tasty and': 33, 'tasty and is': 37, 'and is affordable': 5, 'delicious': 9, 'cheap': 8, 'is delicious': 15, 'delicious and': 10, 'and cheap': 3, 'meal is delicious': 25, 'is delicious and': 16, 'delicious and cheap': 11, 'tests': 39, 'good': 12, 'is tasty': 19, 'and meal': 6, 'meal tests': 29, 'tests good': 40, 'meal is tasty': 27, 'is tasty and': 20, 'tasty and meal': 38, 'and meal tests': 7, 'meal tests good': 30}\n"
     ]
    }
   ],
   "source": [
    "print(cv3.vocabulary_)"
   ]
  },
  {
   "cell_type": "code",
   "execution_count": 32,
   "id": "541fc1f5",
   "metadata": {},
   "outputs": [
    {
     "data": {
      "text/plain": [
       "array([[1, 1, 1, 0, 0, 0, 0, 0, 0, 0, 0, 0, 0, 1, 0, 0, 0, 0, 0, 0, 0, 1,\n",
       "        1, 1, 1, 0, 0, 0, 1, 0, 0, 0, 0, 0, 1, 1, 1, 0, 0, 0, 0, 1, 1, 1,\n",
       "        1, 1, 1],\n",
       "       [1, 1, 0, 0, 1, 1, 0, 0, 0, 0, 0, 0, 0, 1, 1, 0, 0, 1, 1, 0, 0, 0,\n",
       "        0, 1, 1, 0, 1, 0, 0, 0, 0, 1, 1, 1, 1, 1, 0, 1, 0, 0, 0, 1, 1, 1,\n",
       "        0, 0, 0],\n",
       "       [0, 1, 0, 1, 0, 0, 0, 0, 1, 1, 1, 1, 0, 1, 0, 1, 1, 0, 0, 0, 0, 0,\n",
       "        0, 1, 1, 1, 0, 0, 0, 0, 0, 0, 0, 0, 0, 0, 0, 0, 0, 0, 0, 1, 1, 1,\n",
       "        0, 0, 0],\n",
       "       [0, 1, 0, 0, 0, 0, 1, 1, 0, 0, 0, 0, 1, 1, 0, 0, 0, 0, 0, 1, 1, 0,\n",
       "        0, 1, 1, 0, 0, 1, 0, 1, 1, 0, 0, 0, 1, 1, 0, 0, 1, 1, 1, 0, 0, 0,\n",
       "        0, 0, 0]], dtype=int64)"
      ]
     },
     "execution_count": 32,
     "metadata": {},
     "output_type": "execute_result"
    }
   ],
   "source": [
    "BOW3.toarray()"
   ]
  },
  {
   "cell_type": "code",
   "execution_count": 33,
   "id": "64d40cfc",
   "metadata": {},
   "outputs": [
    {
     "data": {
      "text/html": [
       "<div>\n",
       "<style scoped>\n",
       "    .dataframe tbody tr th:only-of-type {\n",
       "        vertical-align: middle;\n",
       "    }\n",
       "\n",
       "    .dataframe tbody tr th {\n",
       "        vertical-align: top;\n",
       "    }\n",
       "\n",
       "    .dataframe thead th {\n",
       "        text-align: right;\n",
       "    }\n",
       "</style>\n",
       "<table border=\"1\" class=\"dataframe\">\n",
       "  <thead>\n",
       "    <tr style=\"text-align: right;\">\n",
       "      <th></th>\n",
       "      <th>0</th>\n",
       "      <th>1</th>\n",
       "      <th>2</th>\n",
       "      <th>3</th>\n",
       "      <th>4</th>\n",
       "      <th>5</th>\n",
       "      <th>6</th>\n",
       "      <th>7</th>\n",
       "      <th>8</th>\n",
       "      <th>9</th>\n",
       "      <th>...</th>\n",
       "      <th>37</th>\n",
       "      <th>38</th>\n",
       "      <th>39</th>\n",
       "      <th>40</th>\n",
       "      <th>41</th>\n",
       "      <th>42</th>\n",
       "      <th>43</th>\n",
       "      <th>44</th>\n",
       "      <th>45</th>\n",
       "      <th>46</th>\n",
       "    </tr>\n",
       "  </thead>\n",
       "  <tbody>\n",
       "    <tr>\n",
       "      <th>0</th>\n",
       "      <td>1</td>\n",
       "      <td>1</td>\n",
       "      <td>1</td>\n",
       "      <td>0</td>\n",
       "      <td>0</td>\n",
       "      <td>0</td>\n",
       "      <td>0</td>\n",
       "      <td>0</td>\n",
       "      <td>0</td>\n",
       "      <td>0</td>\n",
       "      <td>...</td>\n",
       "      <td>0</td>\n",
       "      <td>0</td>\n",
       "      <td>0</td>\n",
       "      <td>0</td>\n",
       "      <td>1</td>\n",
       "      <td>1</td>\n",
       "      <td>1</td>\n",
       "      <td>1</td>\n",
       "      <td>1</td>\n",
       "      <td>1</td>\n",
       "    </tr>\n",
       "    <tr>\n",
       "      <th>1</th>\n",
       "      <td>1</td>\n",
       "      <td>1</td>\n",
       "      <td>0</td>\n",
       "      <td>0</td>\n",
       "      <td>1</td>\n",
       "      <td>1</td>\n",
       "      <td>0</td>\n",
       "      <td>0</td>\n",
       "      <td>0</td>\n",
       "      <td>0</td>\n",
       "      <td>...</td>\n",
       "      <td>1</td>\n",
       "      <td>0</td>\n",
       "      <td>0</td>\n",
       "      <td>0</td>\n",
       "      <td>1</td>\n",
       "      <td>1</td>\n",
       "      <td>1</td>\n",
       "      <td>0</td>\n",
       "      <td>0</td>\n",
       "      <td>0</td>\n",
       "    </tr>\n",
       "    <tr>\n",
       "      <th>2</th>\n",
       "      <td>0</td>\n",
       "      <td>1</td>\n",
       "      <td>0</td>\n",
       "      <td>1</td>\n",
       "      <td>0</td>\n",
       "      <td>0</td>\n",
       "      <td>0</td>\n",
       "      <td>0</td>\n",
       "      <td>1</td>\n",
       "      <td>1</td>\n",
       "      <td>...</td>\n",
       "      <td>0</td>\n",
       "      <td>0</td>\n",
       "      <td>0</td>\n",
       "      <td>0</td>\n",
       "      <td>1</td>\n",
       "      <td>1</td>\n",
       "      <td>1</td>\n",
       "      <td>0</td>\n",
       "      <td>0</td>\n",
       "      <td>0</td>\n",
       "    </tr>\n",
       "    <tr>\n",
       "      <th>3</th>\n",
       "      <td>0</td>\n",
       "      <td>1</td>\n",
       "      <td>0</td>\n",
       "      <td>0</td>\n",
       "      <td>0</td>\n",
       "      <td>0</td>\n",
       "      <td>1</td>\n",
       "      <td>1</td>\n",
       "      <td>0</td>\n",
       "      <td>0</td>\n",
       "      <td>...</td>\n",
       "      <td>0</td>\n",
       "      <td>1</td>\n",
       "      <td>1</td>\n",
       "      <td>1</td>\n",
       "      <td>0</td>\n",
       "      <td>0</td>\n",
       "      <td>0</td>\n",
       "      <td>0</td>\n",
       "      <td>0</td>\n",
       "      <td>0</td>\n",
       "    </tr>\n",
       "  </tbody>\n",
       "</table>\n",
       "<p>4 rows × 47 columns</p>\n",
       "</div>"
      ],
      "text/plain": [
       "   0   1   2   3   4   5   6   7   8   9   ...  37  38  39  40  41  42  43  \\\n",
       "0   1   1   1   0   0   0   0   0   0   0  ...   0   0   0   0   1   1   1   \n",
       "1   1   1   0   0   1   1   0   0   0   0  ...   1   0   0   0   1   1   1   \n",
       "2   0   1   0   1   0   0   0   0   1   1  ...   0   0   0   0   1   1   1   \n",
       "3   0   1   0   0   0   0   1   1   0   0  ...   0   1   1   1   0   0   0   \n",
       "\n",
       "   44  45  46  \n",
       "0   1   1   1  \n",
       "1   0   0   0  \n",
       "2   0   0   0  \n",
       "3   0   0   0  \n",
       "\n",
       "[4 rows x 47 columns]"
      ]
     },
     "execution_count": 33,
     "metadata": {},
     "output_type": "execute_result"
    }
   ],
   "source": [
    "pd.DataFrame(BOW3.toarray())"
   ]
  },
  {
   "cell_type": "code",
   "execution_count": null,
   "id": "68647549",
   "metadata": {},
   "outputs": [],
   "source": []
  },
  {
   "cell_type": "markdown",
   "id": "7ee88349",
   "metadata": {},
   "source": [
    "# TF - IDF"
   ]
  },
  {
   "cell_type": "code",
   "execution_count": 34,
   "id": "22a1ac39",
   "metadata": {},
   "outputs": [],
   "source": [
    "from sklearn.feature_extraction.text import TfidfVectorizer"
   ]
  },
  {
   "cell_type": "code",
   "execution_count": 35,
   "id": "bbd2fee0",
   "metadata": {},
   "outputs": [
    {
     "data": {
      "text/plain": [
       "array([[0.43710551, 0.28931566, 0.        , 0.        , 0.        ,\n",
       "        0.28931566, 0.28931566, 0.        , 0.35387458, 0.        ,\n",
       "        0.35387458, 0.55441292],\n",
       "       [0.39078548, 0.25865691, 0.        , 0.        , 0.        ,\n",
       "        0.51731381, 0.25865691, 0.49566183, 0.31637453, 0.        ,\n",
       "        0.31637453, 0.        ],\n",
       "       [0.        , 0.29061394, 0.55690079, 0.55690079, 0.        ,\n",
       "        0.29061394, 0.29061394, 0.        , 0.        , 0.        ,\n",
       "        0.35546256, 0.        ],\n",
       "       [0.        , 0.25958339, 0.        , 0.        , 0.49743724,\n",
       "        0.25958339, 0.51916678, 0.        , 0.31750775, 0.49743724,\n",
       "        0.        , 0.        ]])"
      ]
     },
     "execution_count": 35,
     "metadata": {},
     "output_type": "execute_result"
    }
   ],
   "source": [
    "tfidf = TfidfVectorizer()\n",
    "tfidf.fit_transform(df['text']).toarray()\n",
    "\n",
    "# this is only tf value"
   ]
  },
  {
   "cell_type": "code",
   "execution_count": 37,
   "id": "efed0f72",
   "metadata": {},
   "outputs": [
    {
     "name": "stdout",
     "output_type": "stream",
     "text": [
      "[1.51082562 1.         1.91629073 1.91629073 1.91629073 1.\n",
      " 1.         1.91629073 1.22314355 1.91629073 1.22314355 1.91629073]\n"
     ]
    }
   ],
   "source": [
    "print(tfidf.idf_)\n",
    "\n",
    "# This is idf value"
   ]
  },
  {
   "cell_type": "code",
   "execution_count": 38,
   "id": "07f61a88",
   "metadata": {},
   "outputs": [
    {
     "name": "stdout",
     "output_type": "stream",
     "text": [
      "['affordable' 'and' 'cheap' 'delicious' 'good' 'is' 'meal' 'not' 'tasty'\n",
      " 'tests' 'this' 'vary']\n"
     ]
    }
   ],
   "source": [
    "print(tfidf.get_feature_names_out())"
   ]
  },
  {
   "cell_type": "code",
   "execution_count": 39,
   "id": "3f83783d",
   "metadata": {},
   "outputs": [],
   "source": [
    "# Applying n-gram on the tfidf, to check combination of words importance"
   ]
  },
  {
   "cell_type": "code",
   "execution_count": 40,
   "id": "bd5fcc3e",
   "metadata": {},
   "outputs": [
    {
     "data": {
      "text/plain": [
       "array([[0.29099792, 0.19260854, 0.36909396, 0.        , 0.        ,\n",
       "        0.        , 0.        , 0.        , 0.        , 0.        ,\n",
       "        0.19260854, 0.        , 0.        , 0.        , 0.        ,\n",
       "        0.36909396, 0.19260854, 0.19260854, 0.        , 0.        ,\n",
       "        0.        , 0.23558789, 0.23558789, 0.        , 0.        ,\n",
       "        0.23558789, 0.23558789, 0.36909396, 0.36909396],\n",
       "       [0.27299625, 0.18069342, 0.        , 0.        , 0.34626113,\n",
       "        0.        , 0.        , 0.        , 0.        , 0.        ,\n",
       "        0.18069342, 0.34626113, 0.        , 0.34626113, 0.        ,\n",
       "        0.        , 0.18069342, 0.18069342, 0.        , 0.34626113,\n",
       "        0.34626113, 0.22101399, 0.22101399, 0.        , 0.        ,\n",
       "        0.22101399, 0.22101399, 0.        , 0.        ],\n",
       "       [0.        , 0.19860274, 0.        , 0.38058058, 0.        ,\n",
       "        0.        , 0.38058058, 0.38058058, 0.38058058, 0.        ,\n",
       "        0.19860274, 0.        , 0.38058058, 0.        , 0.        ,\n",
       "        0.        , 0.19860274, 0.19860274, 0.        , 0.        ,\n",
       "        0.        , 0.        , 0.        , 0.        , 0.        ,\n",
       "        0.24291966, 0.24291966, 0.        , 0.        ],\n",
       "       [0.        , 0.18561477, 0.        , 0.        , 0.        ,\n",
       "        0.35569186, 0.        , 0.        , 0.        , 0.35569186,\n",
       "        0.18561477, 0.        , 0.        , 0.        , 0.35569186,\n",
       "        0.        , 0.18561477, 0.18561477, 0.35569186, 0.        ,\n",
       "        0.        , 0.22703351, 0.22703351, 0.35569186, 0.35569186,\n",
       "        0.        , 0.        , 0.        , 0.        ]])"
      ]
     },
     "execution_count": 40,
     "metadata": {},
     "output_type": "execute_result"
    }
   ],
   "source": [
    "tfidf = TfidfVectorizer(ngram_range = (1,2), binary = True)\n",
    "tfidf.fit_transform(df['text']).toarray()\n",
    "\n",
    "# this is only tf value"
   ]
  },
  {
   "cell_type": "code",
   "execution_count": 41,
   "id": "24b58d8d",
   "metadata": {},
   "outputs": [
    {
     "name": "stdout",
     "output_type": "stream",
     "text": [
      "[1.51082562 1.         1.91629073 1.91629073 1.91629073 1.91629073\n",
      " 1.91629073 1.91629073 1.91629073 1.91629073 1.         1.91629073\n",
      " 1.91629073 1.91629073 1.91629073 1.91629073 1.         1.\n",
      " 1.91629073 1.91629073 1.91629073 1.22314355 1.22314355 1.91629073\n",
      " 1.91629073 1.22314355 1.22314355 1.91629073 1.91629073]\n"
     ]
    }
   ],
   "source": [
    "print(tfidf.idf_)\n",
    "\n",
    "# This is idf value"
   ]
  },
  {
   "cell_type": "code",
   "execution_count": 42,
   "id": "86adfeb2",
   "metadata": {},
   "outputs": [
    {
     "name": "stdout",
     "output_type": "stream",
     "text": [
      "['affordable' 'and' 'and affordable' 'and cheap' 'and is' 'and meal'\n",
      " 'cheap' 'delicious' 'delicious and' 'good' 'is' 'is affordable'\n",
      " 'is delicious' 'is not' 'is tasty' 'is vary' 'meal' 'meal is'\n",
      " 'meal tests' 'not' 'not tasty' 'tasty' 'tasty and' 'tests' 'tests good'\n",
      " 'this' 'this meal' 'vary' 'vary tasty']\n"
     ]
    }
   ],
   "source": [
    "print(tfidf.get_feature_names_out())"
   ]
  },
  {
   "cell_type": "code",
   "execution_count": null,
   "id": "d21423e8",
   "metadata": {},
   "outputs": [],
   "source": []
  }
 ],
 "metadata": {
  "kernelspec": {
   "display_name": "Python 3 (ipykernel)",
   "language": "python",
   "name": "python3"
  },
  "language_info": {
   "codemirror_mode": {
    "name": "ipython",
    "version": 3
   },
   "file_extension": ".py",
   "mimetype": "text/x-python",
   "name": "python",
   "nbconvert_exporter": "python",
   "pygments_lexer": "ipython3",
   "version": "3.9.13"
  }
 },
 "nbformat": 4,
 "nbformat_minor": 5
}
