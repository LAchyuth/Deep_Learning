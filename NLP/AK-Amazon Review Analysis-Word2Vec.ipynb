{
 "cells": [
  {
   "cell_type": "code",
   "execution_count": 1,
   "id": "9a225585",
   "metadata": {},
   "outputs": [
    {
     "name": "stderr",
     "output_type": "stream",
     "text": [
      "C:\\Users\\achyu\\anaconda3\\lib\\site-packages\\scipy\\__init__.py:155: UserWarning: A NumPy version >=1.18.5 and <1.25.0 is required for this version of SciPy (detected version 1.26.3\n",
      "  warnings.warn(f\"A NumPy version >={np_minversion} and <{np_maxversion}\"\n"
     ]
    }
   ],
   "source": [
    "import os,sys\n",
    "import numpy as np\n",
    "import pandas as pd\n",
    "import matplotlib.pyplot as plt\n",
    "import seaborn as sns\n",
    "sns.set()\n",
    "\n",
    "import warnings\n",
    "warnings.filterwarnings('ignore')\n",
    "\n",
    "import re, nltk, string\n",
    "\n",
    "import sqlite3 #input doc is sqlite file"
   ]
  },
  {
   "cell_type": "code",
   "execution_count": 78,
   "id": "7cd6b62b",
   "metadata": {},
   "outputs": [],
   "source": [
    "from nltk.stem.wordnet import WordNetLemmatizer\n",
    "import sklearn\n",
    "from sklearn.feature_extraction.text import CountVectorizer #BOW\n",
    "from sklearn.feature_extraction.text import TfidfVectorizer #Tfidf\n",
    "#It performs both the tokenization (converting text into words or n-grams) and the TF-IDF transformation in a single step.\n",
    "from sklearn.feature_extraction.text import TfidfTransformer\n",
    "#TfidfTransformer is used when you already have a count matrix (e.g., obtained using CountVectorizer) and want to transform \n",
    "  #it into a TF-IDF representation.\n",
    "\n",
    "from sklearn.metrics import confusion_matrix,classification_report,accuracy_score,roc_curve,auc\n",
    "\n",
    "#deep learning packages\n",
    "\n",
    "from gensim.models import Word2Vec\n",
    "#Word2Vec is a class in Gensim that is used for training Word Embeddings using the Word2Vec algorithm.\n",
    "from gensim.models import KeyedVectors\n",
    "#KeyedVectors is a class in Gensim that provides an interface to access and manipulate word vectors.p`p"
   ]
  },
  {
   "cell_type": "code",
   "execution_count": 3,
   "id": "ceaaa34b",
   "metadata": {},
   "outputs": [
    {
     "data": {
      "text/plain": [
       "<sqlite3.Connection at 0x1bca9c3f7b0>"
      ]
     },
     "execution_count": 3,
     "metadata": {},
     "output_type": "execute_result"
    }
   ],
   "source": [
    "# importing dataset by using sqlite3 as the input doc is in sqlite format\n",
    "\n",
    "con = sqlite3.connect(\"D:\\\\Learnbay\\\\NLP\\\\Notes\\\\database.sqlite\")\n",
    "con"
   ]
  },
  {
   "cell_type": "code",
   "execution_count": 4,
   "id": "7a938797",
   "metadata": {},
   "outputs": [
    {
     "data": {
      "text/plain": [
       "(568454, 10)"
      ]
     },
     "execution_count": 4,
     "metadata": {},
     "output_type": "execute_result"
    }
   ],
   "source": [
    "filtered_data = pd.read_sql_query(\"\"\"select * from reviews where score \"\"\",con)\n",
    "filtered_data.shape"
   ]
  },
  {
   "cell_type": "code",
   "execution_count": 5,
   "id": "3026f198",
   "metadata": {},
   "outputs": [
    {
     "data": {
      "text/plain": [
       "5    363122\n",
       "4     80655\n",
       "1     52268\n",
       "3     42640\n",
       "2     29769\n",
       "Name: Score, dtype: int64"
      ]
     },
     "execution_count": 5,
     "metadata": {},
     "output_type": "execute_result"
    }
   ],
   "source": [
    "filtered_data['Score'].value_counts()"
   ]
  },
  {
   "cell_type": "code",
   "execution_count": 6,
   "id": "cc994e87",
   "metadata": {},
   "outputs": [
    {
     "data": {
      "text/plain": [
       "(525814, 10)"
      ]
     },
     "execution_count": 6,
     "metadata": {},
     "output_type": "execute_result"
    }
   ],
   "source": [
    "filtered_data1 = pd.read_sql_query(\"\"\"select * from reviews where score !=3 \"\"\",con)\n",
    "filtered_data1.shape"
   ]
  },
  {
   "cell_type": "code",
   "execution_count": 7,
   "id": "f6a08f11",
   "metadata": {},
   "outputs": [
    {
     "data": {
      "text/plain": [
       "5    363122\n",
       "4     80655\n",
       "1     52268\n",
       "2     29769\n",
       "Name: Score, dtype: int64"
      ]
     },
     "execution_count": 7,
     "metadata": {},
     "output_type": "execute_result"
    }
   ],
   "source": [
    "filtered_data1['Score'].value_counts()"
   ]
  },
  {
   "cell_type": "code",
   "execution_count": 8,
   "id": "8dcb67d2",
   "metadata": {},
   "outputs": [
    {
     "data": {
      "text/html": [
       "<div>\n",
       "<style scoped>\n",
       "    .dataframe tbody tr th:only-of-type {\n",
       "        vertical-align: middle;\n",
       "    }\n",
       "\n",
       "    .dataframe tbody tr th {\n",
       "        vertical-align: top;\n",
       "    }\n",
       "\n",
       "    .dataframe thead th {\n",
       "        text-align: right;\n",
       "    }\n",
       "</style>\n",
       "<table border=\"1\" class=\"dataframe\">\n",
       "  <thead>\n",
       "    <tr style=\"text-align: right;\">\n",
       "      <th></th>\n",
       "      <th>Id</th>\n",
       "      <th>ProductId</th>\n",
       "      <th>UserId</th>\n",
       "      <th>ProfileName</th>\n",
       "      <th>HelpfulnessNumerator</th>\n",
       "      <th>HelpfulnessDenominator</th>\n",
       "      <th>Score</th>\n",
       "      <th>Time</th>\n",
       "      <th>Summary</th>\n",
       "      <th>Text</th>\n",
       "    </tr>\n",
       "  </thead>\n",
       "  <tbody>\n",
       "    <tr>\n",
       "      <th>0</th>\n",
       "      <td>1</td>\n",
       "      <td>B001E4KFG0</td>\n",
       "      <td>A3SGXH7AUHU8GW</td>\n",
       "      <td>delmartian</td>\n",
       "      <td>1</td>\n",
       "      <td>1</td>\n",
       "      <td>5</td>\n",
       "      <td>1303862400</td>\n",
       "      <td>Good Quality Dog Food</td>\n",
       "      <td>I have bought several of the Vitality canned d...</td>\n",
       "    </tr>\n",
       "    <tr>\n",
       "      <th>1</th>\n",
       "      <td>2</td>\n",
       "      <td>B00813GRG4</td>\n",
       "      <td>A1D87F6ZCVE5NK</td>\n",
       "      <td>dll pa</td>\n",
       "      <td>0</td>\n",
       "      <td>0</td>\n",
       "      <td>1</td>\n",
       "      <td>1346976000</td>\n",
       "      <td>Not as Advertised</td>\n",
       "      <td>Product arrived labeled as Jumbo Salted Peanut...</td>\n",
       "    </tr>\n",
       "    <tr>\n",
       "      <th>2</th>\n",
       "      <td>3</td>\n",
       "      <td>B000LQOCH0</td>\n",
       "      <td>ABXLMWJIXXAIN</td>\n",
       "      <td>Natalia Corres \"Natalia Corres\"</td>\n",
       "      <td>1</td>\n",
       "      <td>1</td>\n",
       "      <td>4</td>\n",
       "      <td>1219017600</td>\n",
       "      <td>\"Delight\" says it all</td>\n",
       "      <td>This is a confection that has been around a fe...</td>\n",
       "    </tr>\n",
       "    <tr>\n",
       "      <th>3</th>\n",
       "      <td>4</td>\n",
       "      <td>B000UA0QIQ</td>\n",
       "      <td>A395BORC6FGVXV</td>\n",
       "      <td>Karl</td>\n",
       "      <td>3</td>\n",
       "      <td>3</td>\n",
       "      <td>2</td>\n",
       "      <td>1307923200</td>\n",
       "      <td>Cough Medicine</td>\n",
       "      <td>If you are looking for the secret ingredient i...</td>\n",
       "    </tr>\n",
       "    <tr>\n",
       "      <th>4</th>\n",
       "      <td>5</td>\n",
       "      <td>B006K2ZZ7K</td>\n",
       "      <td>A1UQRSCLF8GW1T</td>\n",
       "      <td>Michael D. Bigham \"M. Wassir\"</td>\n",
       "      <td>0</td>\n",
       "      <td>0</td>\n",
       "      <td>5</td>\n",
       "      <td>1350777600</td>\n",
       "      <td>Great taffy</td>\n",
       "      <td>Great taffy at a great price.  There was a wid...</td>\n",
       "    </tr>\n",
       "  </tbody>\n",
       "</table>\n",
       "</div>"
      ],
      "text/plain": [
       "   Id   ProductId          UserId                      ProfileName  \\\n",
       "0   1  B001E4KFG0  A3SGXH7AUHU8GW                       delmartian   \n",
       "1   2  B00813GRG4  A1D87F6ZCVE5NK                           dll pa   \n",
       "2   3  B000LQOCH0   ABXLMWJIXXAIN  Natalia Corres \"Natalia Corres\"   \n",
       "3   4  B000UA0QIQ  A395BORC6FGVXV                             Karl   \n",
       "4   5  B006K2ZZ7K  A1UQRSCLF8GW1T    Michael D. Bigham \"M. Wassir\"   \n",
       "\n",
       "   HelpfulnessNumerator  HelpfulnessDenominator  Score        Time  \\\n",
       "0                     1                       1      5  1303862400   \n",
       "1                     0                       0      1  1346976000   \n",
       "2                     1                       1      4  1219017600   \n",
       "3                     3                       3      2  1307923200   \n",
       "4                     0                       0      5  1350777600   \n",
       "\n",
       "                 Summary                                               Text  \n",
       "0  Good Quality Dog Food  I have bought several of the Vitality canned d...  \n",
       "1      Not as Advertised  Product arrived labeled as Jumbo Salted Peanut...  \n",
       "2  \"Delight\" says it all  This is a confection that has been around a fe...  \n",
       "3         Cough Medicine  If you are looking for the secret ingredient i...  \n",
       "4            Great taffy  Great taffy at a great price.  There was a wid...  "
      ]
     },
     "execution_count": 8,
     "metadata": {},
     "output_type": "execute_result"
    }
   ],
   "source": [
    "filtered_data.head()"
   ]
  },
  {
   "cell_type": "code",
   "execution_count": 9,
   "id": "3dde19ec",
   "metadata": {},
   "outputs": [
    {
     "data": {
      "text/plain": [
       "(5000, 10)"
      ]
     },
     "execution_count": 9,
     "metadata": {},
     "output_type": "execute_result"
    }
   ],
   "source": [
    "filtered_data3 = pd.read_sql_query(\"\"\"select * from reviews LIMIT 5000 \"\"\",con)\n",
    "filtered_data3.shape"
   ]
  },
  {
   "cell_type": "code",
   "execution_count": 10,
   "id": "3bf4ce07",
   "metadata": {},
   "outputs": [
    {
     "name": "stdout",
     "output_type": "stream",
     "text": [
      "No of data points in our data : (5000, 10)\n"
     ]
    }
   ],
   "source": [
    "def partition(x):\n",
    "    if x<3:\n",
    "        return 3\n",
    "    elif x==3:\n",
    "        return 2\n",
    "    else:\n",
    "        return 1\n",
    "\n",
    "actualScore = filtered_data3['Score']\n",
    "PositiveNegativeNeutral = actualScore.map(partition)\n",
    "filtered_data3['Score'] = PositiveNegativeNeutral\n",
    "print(\"No of data points in our data :\",filtered_data3.shape)"
   ]
  },
  {
   "cell_type": "code",
   "execution_count": 11,
   "id": "e3d8ad39",
   "metadata": {},
   "outputs": [
    {
     "data": {
      "text/html": [
       "<div>\n",
       "<style scoped>\n",
       "    .dataframe tbody tr th:only-of-type {\n",
       "        vertical-align: middle;\n",
       "    }\n",
       "\n",
       "    .dataframe tbody tr th {\n",
       "        vertical-align: top;\n",
       "    }\n",
       "\n",
       "    .dataframe thead th {\n",
       "        text-align: right;\n",
       "    }\n",
       "</style>\n",
       "<table border=\"1\" class=\"dataframe\">\n",
       "  <thead>\n",
       "    <tr style=\"text-align: right;\">\n",
       "      <th></th>\n",
       "      <th>Id</th>\n",
       "      <th>ProductId</th>\n",
       "      <th>UserId</th>\n",
       "      <th>ProfileName</th>\n",
       "      <th>HelpfulnessNumerator</th>\n",
       "      <th>HelpfulnessDenominator</th>\n",
       "      <th>Score</th>\n",
       "      <th>Time</th>\n",
       "      <th>Summary</th>\n",
       "      <th>Text</th>\n",
       "    </tr>\n",
       "  </thead>\n",
       "  <tbody>\n",
       "    <tr>\n",
       "      <th>0</th>\n",
       "      <td>1</td>\n",
       "      <td>B001E4KFG0</td>\n",
       "      <td>A3SGXH7AUHU8GW</td>\n",
       "      <td>delmartian</td>\n",
       "      <td>1</td>\n",
       "      <td>1</td>\n",
       "      <td>1</td>\n",
       "      <td>1303862400</td>\n",
       "      <td>Good Quality Dog Food</td>\n",
       "      <td>I have bought several of the Vitality canned d...</td>\n",
       "    </tr>\n",
       "    <tr>\n",
       "      <th>1</th>\n",
       "      <td>2</td>\n",
       "      <td>B00813GRG4</td>\n",
       "      <td>A1D87F6ZCVE5NK</td>\n",
       "      <td>dll pa</td>\n",
       "      <td>0</td>\n",
       "      <td>0</td>\n",
       "      <td>3</td>\n",
       "      <td>1346976000</td>\n",
       "      <td>Not as Advertised</td>\n",
       "      <td>Product arrived labeled as Jumbo Salted Peanut...</td>\n",
       "    </tr>\n",
       "    <tr>\n",
       "      <th>2</th>\n",
       "      <td>3</td>\n",
       "      <td>B000LQOCH0</td>\n",
       "      <td>ABXLMWJIXXAIN</td>\n",
       "      <td>Natalia Corres \"Natalia Corres\"</td>\n",
       "      <td>1</td>\n",
       "      <td>1</td>\n",
       "      <td>1</td>\n",
       "      <td>1219017600</td>\n",
       "      <td>\"Delight\" says it all</td>\n",
       "      <td>This is a confection that has been around a fe...</td>\n",
       "    </tr>\n",
       "    <tr>\n",
       "      <th>3</th>\n",
       "      <td>4</td>\n",
       "      <td>B000UA0QIQ</td>\n",
       "      <td>A395BORC6FGVXV</td>\n",
       "      <td>Karl</td>\n",
       "      <td>3</td>\n",
       "      <td>3</td>\n",
       "      <td>3</td>\n",
       "      <td>1307923200</td>\n",
       "      <td>Cough Medicine</td>\n",
       "      <td>If you are looking for the secret ingredient i...</td>\n",
       "    </tr>\n",
       "    <tr>\n",
       "      <th>4</th>\n",
       "      <td>5</td>\n",
       "      <td>B006K2ZZ7K</td>\n",
       "      <td>A1UQRSCLF8GW1T</td>\n",
       "      <td>Michael D. Bigham \"M. Wassir\"</td>\n",
       "      <td>0</td>\n",
       "      <td>0</td>\n",
       "      <td>1</td>\n",
       "      <td>1350777600</td>\n",
       "      <td>Great taffy</td>\n",
       "      <td>Great taffy at a great price.  There was a wid...</td>\n",
       "    </tr>\n",
       "  </tbody>\n",
       "</table>\n",
       "</div>"
      ],
      "text/plain": [
       "   Id   ProductId          UserId                      ProfileName  \\\n",
       "0   1  B001E4KFG0  A3SGXH7AUHU8GW                       delmartian   \n",
       "1   2  B00813GRG4  A1D87F6ZCVE5NK                           dll pa   \n",
       "2   3  B000LQOCH0   ABXLMWJIXXAIN  Natalia Corres \"Natalia Corres\"   \n",
       "3   4  B000UA0QIQ  A395BORC6FGVXV                             Karl   \n",
       "4   5  B006K2ZZ7K  A1UQRSCLF8GW1T    Michael D. Bigham \"M. Wassir\"   \n",
       "\n",
       "   HelpfulnessNumerator  HelpfulnessDenominator  Score        Time  \\\n",
       "0                     1                       1      1  1303862400   \n",
       "1                     0                       0      3  1346976000   \n",
       "2                     1                       1      1  1219017600   \n",
       "3                     3                       3      3  1307923200   \n",
       "4                     0                       0      1  1350777600   \n",
       "\n",
       "                 Summary                                               Text  \n",
       "0  Good Quality Dog Food  I have bought several of the Vitality canned d...  \n",
       "1      Not as Advertised  Product arrived labeled as Jumbo Salted Peanut...  \n",
       "2  \"Delight\" says it all  This is a confection that has been around a fe...  \n",
       "3         Cough Medicine  If you are looking for the secret ingredient i...  \n",
       "4            Great taffy  Great taffy at a great price.  There was a wid...  "
      ]
     },
     "execution_count": 11,
     "metadata": {},
     "output_type": "execute_result"
    }
   ],
   "source": [
    "filtered_data3.head()"
   ]
  },
  {
   "cell_type": "code",
   "execution_count": 12,
   "id": "a96376c5",
   "metadata": {},
   "outputs": [
    {
     "data": {
      "text/plain": [
       "1    3846\n",
       "3     759\n",
       "2     395\n",
       "Name: Score, dtype: int64"
      ]
     },
     "execution_count": 12,
     "metadata": {},
     "output_type": "execute_result"
    }
   ],
   "source": [
    "filtered_data3['Score'].value_counts()"
   ]
  },
  {
   "cell_type": "code",
   "execution_count": 13,
   "id": "7be10ff7",
   "metadata": {},
   "outputs": [
    {
     "data": {
      "text/plain": [
       "(5000, 10)"
      ]
     },
     "execution_count": 13,
     "metadata": {},
     "output_type": "execute_result"
    }
   ],
   "source": [
    "final = filtered_data3[filtered_data3.HelpfulnessNumerator<=filtered_data3.HelpfulnessDenominator]\n",
    "final.shape"
   ]
  },
  {
   "cell_type": "code",
   "execution_count": 14,
   "id": "047a5827",
   "metadata": {},
   "outputs": [
    {
     "data": {
      "text/html": [
       "<div>\n",
       "<style scoped>\n",
       "    .dataframe tbody tr th:only-of-type {\n",
       "        vertical-align: middle;\n",
       "    }\n",
       "\n",
       "    .dataframe tbody tr th {\n",
       "        vertical-align: top;\n",
       "    }\n",
       "\n",
       "    .dataframe thead th {\n",
       "        text-align: right;\n",
       "    }\n",
       "</style>\n",
       "<table border=\"1\" class=\"dataframe\">\n",
       "  <thead>\n",
       "    <tr style=\"text-align: right;\">\n",
       "      <th></th>\n",
       "      <th>Id</th>\n",
       "      <th>ProductId</th>\n",
       "      <th>UserId</th>\n",
       "      <th>ProfileName</th>\n",
       "      <th>HelpfulnessNumerator</th>\n",
       "      <th>HelpfulnessDenominator</th>\n",
       "      <th>Score</th>\n",
       "      <th>Time</th>\n",
       "      <th>Summary</th>\n",
       "      <th>Text</th>\n",
       "    </tr>\n",
       "  </thead>\n",
       "  <tbody>\n",
       "    <tr>\n",
       "      <th>0</th>\n",
       "      <td>1</td>\n",
       "      <td>B001E4KFG0</td>\n",
       "      <td>A3SGXH7AUHU8GW</td>\n",
       "      <td>delmartian</td>\n",
       "      <td>1</td>\n",
       "      <td>1</td>\n",
       "      <td>1</td>\n",
       "      <td>1303862400</td>\n",
       "      <td>Good Quality Dog Food</td>\n",
       "      <td>I have bought several of the Vitality canned d...</td>\n",
       "    </tr>\n",
       "    <tr>\n",
       "      <th>1</th>\n",
       "      <td>2</td>\n",
       "      <td>B00813GRG4</td>\n",
       "      <td>A1D87F6ZCVE5NK</td>\n",
       "      <td>dll pa</td>\n",
       "      <td>0</td>\n",
       "      <td>0</td>\n",
       "      <td>3</td>\n",
       "      <td>1346976000</td>\n",
       "      <td>Not as Advertised</td>\n",
       "      <td>Product arrived labeled as Jumbo Salted Peanut...</td>\n",
       "    </tr>\n",
       "    <tr>\n",
       "      <th>2</th>\n",
       "      <td>3</td>\n",
       "      <td>B000LQOCH0</td>\n",
       "      <td>ABXLMWJIXXAIN</td>\n",
       "      <td>Natalia Corres \"Natalia Corres\"</td>\n",
       "      <td>1</td>\n",
       "      <td>1</td>\n",
       "      <td>1</td>\n",
       "      <td>1219017600</td>\n",
       "      <td>\"Delight\" says it all</td>\n",
       "      <td>This is a confection that has been around a fe...</td>\n",
       "    </tr>\n",
       "    <tr>\n",
       "      <th>3</th>\n",
       "      <td>4</td>\n",
       "      <td>B000UA0QIQ</td>\n",
       "      <td>A395BORC6FGVXV</td>\n",
       "      <td>Karl</td>\n",
       "      <td>3</td>\n",
       "      <td>3</td>\n",
       "      <td>3</td>\n",
       "      <td>1307923200</td>\n",
       "      <td>Cough Medicine</td>\n",
       "      <td>If you are looking for the secret ingredient i...</td>\n",
       "    </tr>\n",
       "    <tr>\n",
       "      <th>4</th>\n",
       "      <td>5</td>\n",
       "      <td>B006K2ZZ7K</td>\n",
       "      <td>A1UQRSCLF8GW1T</td>\n",
       "      <td>Michael D. Bigham \"M. Wassir\"</td>\n",
       "      <td>0</td>\n",
       "      <td>0</td>\n",
       "      <td>1</td>\n",
       "      <td>1350777600</td>\n",
       "      <td>Great taffy</td>\n",
       "      <td>Great taffy at a great price.  There was a wid...</td>\n",
       "    </tr>\n",
       "  </tbody>\n",
       "</table>\n",
       "</div>"
      ],
      "text/plain": [
       "   Id   ProductId          UserId                      ProfileName  \\\n",
       "0   1  B001E4KFG0  A3SGXH7AUHU8GW                       delmartian   \n",
       "1   2  B00813GRG4  A1D87F6ZCVE5NK                           dll pa   \n",
       "2   3  B000LQOCH0   ABXLMWJIXXAIN  Natalia Corres \"Natalia Corres\"   \n",
       "3   4  B000UA0QIQ  A395BORC6FGVXV                             Karl   \n",
       "4   5  B006K2ZZ7K  A1UQRSCLF8GW1T    Michael D. Bigham \"M. Wassir\"   \n",
       "\n",
       "   HelpfulnessNumerator  HelpfulnessDenominator  Score        Time  \\\n",
       "0                     1                       1      1  1303862400   \n",
       "1                     0                       0      3  1346976000   \n",
       "2                     1                       1      1  1219017600   \n",
       "3                     3                       3      3  1307923200   \n",
       "4                     0                       0      1  1350777600   \n",
       "\n",
       "                 Summary                                               Text  \n",
       "0  Good Quality Dog Food  I have bought several of the Vitality canned d...  \n",
       "1      Not as Advertised  Product arrived labeled as Jumbo Salted Peanut...  \n",
       "2  \"Delight\" says it all  This is a confection that has been around a fe...  \n",
       "3         Cough Medicine  If you are looking for the secret ingredient i...  \n",
       "4            Great taffy  Great taffy at a great price.  There was a wid...  "
      ]
     },
     "execution_count": 14,
     "metadata": {},
     "output_type": "execute_result"
    }
   ],
   "source": [
    "final.head()"
   ]
  },
  {
   "cell_type": "code",
   "execution_count": 15,
   "id": "37554468",
   "metadata": {},
   "outputs": [
    {
     "data": {
      "text/plain": [
       "'The mouth says, \"How do I love thee, let me count the ways...\"<br />If you like apple products a must have item.  The only draw back, shipping cost.  These are very heavy.'"
      ]
     },
     "execution_count": 15,
     "metadata": {},
     "output_type": "execute_result"
    }
   ],
   "source": [
    "final['Text'][100]\n",
    "#there is a html format in text"
   ]
  },
  {
   "cell_type": "code",
   "execution_count": 16,
   "id": "730421e3",
   "metadata": {},
   "outputs": [
    {
     "data": {
      "text/plain": [
       "\"I don't know if it's the cactus or the tequila or just the unique combination of ingredients, but the flavour of this hot sauce makes it one of a kind!  We picked up a bottle once on a trip we were on and brought it back home with us and were totally blown away!  When we realized that we simply couldn't find it anywhere in our city we were bummed.<br /><br />Now, because of the magic of the internet, we have a case of the sauce and are ecstatic because of it.<br /><br />If you love hot sauce..I mean really love hot sauce, but don't want a sauce that tastelessly burns your throat, grab a bottle of Tequila Picante Gourmet de Inclan.  Just realize that once you taste it, you will never want to use any other sauce.<br /><br />Thank you for the personal, incredible service!\""
      ]
     },
     "execution_count": 16,
     "metadata": {},
     "output_type": "execute_result"
    }
   ],
   "source": [
    "final['Text'][10]"
   ]
  },
  {
   "cell_type": "code",
   "execution_count": 17,
   "id": "9547fa8c",
   "metadata": {},
   "outputs": [
    {
     "data": {
      "text/plain": [
       "'I got a wild hair for taffy and ordered this five pound bag. The taffy was all very enjoyable with many flavors: watermelon, root beer, melon, peppermint, grape, etc. My only complaint is there was a bit too much red/black licorice-flavored pieces (just not my particular favorites). Between me, my kids, and my husband, this lasted only two weeks! I would recommend this brand of taffy -- it was a delightful treat.'"
      ]
     },
     "execution_count": 17,
     "metadata": {},
     "output_type": "execute_result"
    }
   ],
   "source": [
    "final['Text'][5]\n",
    "#symbols and numbers will be there too in the text"
   ]
  },
  {
   "cell_type": "code",
   "execution_count": 18,
   "id": "bbff2f9c",
   "metadata": {},
   "outputs": [
    {
     "name": "stdout",
     "output_type": "stream",
     "text": [
      "This oatmeal is not good. Its mushy, soft, I don't like it. Quaker Oats is the way to go.\n",
      "**********************3\n",
      "I bought these for the office and no one can put them down. I'm ordering more today and it has only been 2 weeks. Didn't have to shop for them either, Amazon brought it to my door!\n",
      "**********************3\n",
      "I liked this so much that I re-ordered and will keep<br /><br />re-ordering.\n",
      "**********************3\n",
      "This is a very mild hot cocoa.  Perfect for those winter evenings or even good in the morning instead of coffee.  We love it anytime.  Next time I will try the dark chocolate.\n",
      "**********************3\n",
      "I have a pretty wide appreciation for acceptable coffee, but in my opinion, this stuff is mediocre coffee. I drink both regular and decaf on a daily basis and to me, this tasted like institutional cafeteria coffee. I am normally a fan of the \"Swiss water decaffeination process\" decaf coffees, and was disappointed by the quality of this \"gourmet\" coffee.<br /><br />With that said, I did try this twice to give it a fair review. The first time I prepared it the same way I normally make my coffee (on the strong side), the second time I followed the directions exactly. Both times using filtered water and a quality coffee maker that uses the Melitta style (cone) filter. To my taste, it was stale and over-ground (like the flavor was watered out of it and then over-roasted and ground extra fine to try and put some flavor back into it), comparable in quality to low-end bulk coffee. The brands of decaf coffee I do like and brew at home (Dunkin' and Newman's Own, to name only two) are in the same price range, and also purchased pre-ground, but to me taste much smoother, and more full-flavored. This coffee is not one I would make a point to purchase when there are better coffee choices for the same money -or cheaper coffee choices for the same quality.\n",
      "**********************3\n"
     ]
    }
   ],
   "source": [
    "sent_0 = final['Text'][50]\n",
    "sent_1 = final['Text'][500]\n",
    "sent_2 = final['Text'][1550]\n",
    "sent_3 = final['Text'][3500]\n",
    "sent_4 = final['Text'][4500]\n",
    "print(sent_0)\n",
    "print(\"**********************3\")\n",
    "print(sent_1)\n",
    "print(\"**********************3\")\n",
    "print(sent_2)\n",
    "print(\"**********************3\")\n",
    "print(sent_3)\n",
    "print(\"**********************3\")\n",
    "print(sent_4)\n",
    "print(\"**********************3\")"
   ]
  },
  {
   "cell_type": "code",
   "execution_count": 19,
   "id": "f61df776",
   "metadata": {},
   "outputs": [],
   "source": [
    "#remove -symbols,numbers,http format,stopwords,converting uppercase to lowercase"
   ]
  },
  {
   "cell_type": "code",
   "execution_count": 20,
   "id": "5bb4678b",
   "metadata": {},
   "outputs": [
    {
     "data": {
      "text/plain": [
       "['i',\n",
       " 'me',\n",
       " 'my',\n",
       " 'myself',\n",
       " 'we',\n",
       " 'our',\n",
       " 'ours',\n",
       " 'ourselves',\n",
       " 'you',\n",
       " \"you're\",\n",
       " \"you've\",\n",
       " \"you'll\",\n",
       " \"you'd\",\n",
       " 'your',\n",
       " 'yours',\n",
       " 'yourself',\n",
       " 'yourselves',\n",
       " 'he',\n",
       " 'him',\n",
       " 'his',\n",
       " 'himself',\n",
       " 'she',\n",
       " \"she's\",\n",
       " 'her',\n",
       " 'hers',\n",
       " 'herself',\n",
       " 'it',\n",
       " \"it's\",\n",
       " 'its',\n",
       " 'itself',\n",
       " 'they',\n",
       " 'them',\n",
       " 'their',\n",
       " 'theirs',\n",
       " 'themselves',\n",
       " 'what',\n",
       " 'which',\n",
       " 'who',\n",
       " 'whom',\n",
       " 'this',\n",
       " 'that',\n",
       " \"that'll\",\n",
       " 'these',\n",
       " 'those',\n",
       " 'am',\n",
       " 'is',\n",
       " 'are',\n",
       " 'was',\n",
       " 'were',\n",
       " 'be',\n",
       " 'been',\n",
       " 'being',\n",
       " 'have',\n",
       " 'has',\n",
       " 'had',\n",
       " 'having',\n",
       " 'do',\n",
       " 'does',\n",
       " 'did',\n",
       " 'doing',\n",
       " 'a',\n",
       " 'an',\n",
       " 'the',\n",
       " 'and',\n",
       " 'but',\n",
       " 'if',\n",
       " 'or',\n",
       " 'because',\n",
       " 'as',\n",
       " 'until',\n",
       " 'while',\n",
       " 'of',\n",
       " 'at',\n",
       " 'by',\n",
       " 'for',\n",
       " 'with',\n",
       " 'about',\n",
       " 'against',\n",
       " 'between',\n",
       " 'into',\n",
       " 'through',\n",
       " 'during',\n",
       " 'before',\n",
       " 'after',\n",
       " 'above',\n",
       " 'below',\n",
       " 'to',\n",
       " 'from',\n",
       " 'up',\n",
       " 'down',\n",
       " 'in',\n",
       " 'out',\n",
       " 'on',\n",
       " 'off',\n",
       " 'over',\n",
       " 'under',\n",
       " 'again',\n",
       " 'further',\n",
       " 'then',\n",
       " 'once',\n",
       " 'here',\n",
       " 'there',\n",
       " 'when',\n",
       " 'where',\n",
       " 'why',\n",
       " 'how',\n",
       " 'all',\n",
       " 'any',\n",
       " 'both',\n",
       " 'each',\n",
       " 'few',\n",
       " 'more',\n",
       " 'most',\n",
       " 'other',\n",
       " 'some',\n",
       " 'such',\n",
       " 'no',\n",
       " 'nor',\n",
       " 'not',\n",
       " 'only',\n",
       " 'own',\n",
       " 'same',\n",
       " 'so',\n",
       " 'than',\n",
       " 'too',\n",
       " 'very',\n",
       " 's',\n",
       " 't',\n",
       " 'can',\n",
       " 'will',\n",
       " 'just',\n",
       " 'don',\n",
       " \"don't\",\n",
       " 'should',\n",
       " \"should've\",\n",
       " 'now',\n",
       " 'd',\n",
       " 'll',\n",
       " 'm',\n",
       " 'o',\n",
       " 're',\n",
       " 've',\n",
       " 'y',\n",
       " 'ain',\n",
       " 'aren',\n",
       " \"aren't\",\n",
       " 'couldn',\n",
       " \"couldn't\",\n",
       " 'didn',\n",
       " \"didn't\",\n",
       " 'doesn',\n",
       " \"doesn't\",\n",
       " 'hadn',\n",
       " \"hadn't\",\n",
       " 'hasn',\n",
       " \"hasn't\",\n",
       " 'haven',\n",
       " \"haven't\",\n",
       " 'isn',\n",
       " \"isn't\",\n",
       " 'ma',\n",
       " 'mightn',\n",
       " \"mightn't\",\n",
       " 'mustn',\n",
       " \"mustn't\",\n",
       " 'needn',\n",
       " \"needn't\",\n",
       " 'shan',\n",
       " \"shan't\",\n",
       " 'shouldn',\n",
       " \"shouldn't\",\n",
       " 'wasn',\n",
       " \"wasn't\",\n",
       " 'weren',\n",
       " \"weren't\",\n",
       " 'won',\n",
       " \"won't\",\n",
       " 'wouldn',\n",
       " \"wouldn't\"]"
      ]
     },
     "execution_count": 20,
     "metadata": {},
     "output_type": "execute_result"
    }
   ],
   "source": [
    "word_stop = nltk.corpus.stopwords.words('english')\n",
    "word_stop"
   ]
  },
  {
   "cell_type": "code",
   "execution_count": 21,
   "id": "d2d07940",
   "metadata": {},
   "outputs": [],
   "source": [
    "stopwords = set(['i',\n",
    " 'me',\n",
    " 'my',\n",
    " 'myself',\n",
    " 'we',\n",
    " 'our',\n",
    " 'ours',\n",
    " 'ourselves',\n",
    " 'you',\n",
    " \"you're\",\n",
    " \"you've\",\n",
    " \"you'll\",\n",
    " \"you'd\",\n",
    " 'your',\n",
    " 'yours',\n",
    " 'yourself',\n",
    " 'yourselves',\n",
    " 'he',\n",
    " 'him',\n",
    " 'his',\n",
    " 'himself',\n",
    " 'she',\n",
    " \"she's\",\n",
    " 'her',\n",
    " 'hers',\n",
    " 'herself',\n",
    " 'it',\n",
    " \"it's\",\n",
    " 'its',\n",
    " 'itself',\n",
    " 'they',\n",
    " 'them',\n",
    " 'their',\n",
    " 'theirs',\n",
    " 'themselves',\n",
    " 'what',\n",
    " 'which',\n",
    " 'who',\n",
    " 'whom',\n",
    " 'this',\n",
    " 'that',\n",
    " \"that'll\",\n",
    " 'these',\n",
    " 'those',\n",
    " 'am',\n",
    " 'is',\n",
    " 'are',\n",
    " 'was',\n",
    " 'were',\n",
    " 'be',\n",
    " 'been',\n",
    " 'being',\n",
    " 'have',\n",
    " 'has',\n",
    " 'had',\n",
    " 'having',\n",
    " 'do',\n",
    " 'does',\n",
    " 'did',\n",
    " 'doing',\n",
    " 'a',\n",
    " 'an',\n",
    " 'the',\n",
    " 'and',\n",
    " 'but',\n",
    " 'if',\n",
    " 'or',\n",
    " 'because',\n",
    " 'as',\n",
    " 'until',\n",
    " 'while',\n",
    " 'of',\n",
    " 'at',\n",
    " 'by',\n",
    " 'for',\n",
    " 'with',\n",
    " 'about',\n",
    " 'against',\n",
    " 'between',\n",
    " 'into',\n",
    " 'through',\n",
    " 'during',\n",
    " 'before',\n",
    " 'after',\n",
    " 'above',\n",
    " 'below',\n",
    " 'to',\n",
    " 'from',\n",
    " 'up',\n",
    " 'down',\n",
    " 'in',\n",
    " 'out',\n",
    " 'on',\n",
    " 'off',\n",
    " 'over',\n",
    " 'under',\n",
    " 'again',\n",
    " 'further',\n",
    " 'then',\n",
    " 'once',\n",
    " 'here',\n",
    " 'there',\n",
    " 'when',\n",
    " 'where',\n",
    " 'why',\n",
    " 'how',\n",
    " 'all',\n",
    " 'any',\n",
    " 'both',\n",
    " 'each',\n",
    " 'few',\n",
    " 'more',\n",
    " 'most',\n",
    " 'other',\n",
    " 'some',\n",
    " 'such',\n",
    " 'no',\n",
    " 'nor',\n",
    " 'not',\n",
    " 'only',\n",
    " 'own',\n",
    " 'same',\n",
    " 'so',\n",
    " 'than',\n",
    " 'too',\n",
    " 'very',\n",
    " 's',\n",
    " 't',\n",
    " 'can',\n",
    " 'will',\n",
    " 'just',\n",
    " 'don',\n",
    " \"don't\",\n",
    " 'should',\n",
    " \"should've\",\n",
    " 'now',\n",
    " 'd',\n",
    " 'll',\n",
    " 'm',\n",
    " 'o',\n",
    " 're',\n",
    " 've',\n",
    " 'y',\n",
    " 'ain',\n",
    " 'aren',\n",
    " \"aren't\",\n",
    " 'couldn',\n",
    " \"couldn't\",\n",
    " 'didn',\n",
    " \"didn't\",\n",
    " 'doesn',\n",
    " \"doesn't\",\n",
    " 'hadn',\n",
    " \"hadn't\",\n",
    " 'hasn',\n",
    " \"hasn't\",\n",
    " 'haven',\n",
    " \"haven't\",\n",
    " 'isn',\n",
    " \"isn't\",\n",
    " 'ma',\n",
    " 'mightn',\n",
    " \"mightn't\",\n",
    " 'mustn',\n",
    " \"mustn't\",\n",
    " 'needn',\n",
    " \"needn't\",\n",
    " 'shan',\n",
    " \"shan't\",\n",
    " 'shouldn',\n",
    " \"shouldn't\",\n",
    " 'wasn',\n",
    " \"wasn't\",\n",
    " 'weren',\n",
    " \"weren't\",\n",
    " 'won',\n",
    " \"won't\",\n",
    " 'wouldn',\n",
    " \"wouldn't\",\"br\"])"
   ]
  },
  {
   "cell_type": "code",
   "execution_count": 22,
   "id": "4c85b2aa",
   "metadata": {},
   "outputs": [],
   "source": [
    "import contractions # converts short form to easy understandable format\n",
    "# it's => it is \n",
    "#don't =>do not\n",
    "#i'll => i will"
   ]
  },
  {
   "cell_type": "code",
   "execution_count": 38,
   "id": "d165dce6",
   "metadata": {},
   "outputs": [
    {
     "name": "stderr",
     "output_type": "stream",
     "text": [
      "100%|████████████████████████████████████████████████████████████████████████████| 5000/5000 [00:02<00:00, 1900.57it/s]\n"
     ]
    }
   ],
   "source": [
    "from tqdm import tqdm  # display progress bars for iterations\n",
    "from bs4 import BeautifulSoup #Imports the BeautifulSoup library for webscrapping &HTML parsing\n",
    "from nltk.stem import WordNetLemmatizer\n",
    "wordnet = WordNetLemmatizer()\n",
    "#stopwords = set(stopwords.words('english'))\n",
    "\n",
    "preprocessed_reviews = []\n",
    "\n",
    "for sentence in tqdm(final['Text'].values):\n",
    "    sentence = re.sub(r\"http\\S+\",\"\",sentence)\n",
    "    sentence = contractions.fix(sentence)\n",
    "    sentence = BeautifulSoup(sentence,'lxml',).get_text()\n",
    "    sentence = re.sub(\"\\S*\\d\\S*\",\"\",sentence).strip()\n",
    "    sentence = re.sub(\"[^a-zA-Z]+\",\" \",sentence)\n",
    "    #sentence = [wordnet.lemmatize(word) for word in sentence.split() if word.lower() not in stopwords]\n",
    "    sentence = ' '.join(e.lower() for e in sentence.split() if e.lower() not in stopwords)\n",
    "    preprocessed_reviews.append(sentence.strip())\n"
   ]
  },
  {
   "cell_type": "code",
   "execution_count": 39,
   "id": "e157411c",
   "metadata": {},
   "outputs": [
    {
     "data": {
      "text/plain": [
       "'\\n# Examples of above codes\\n\\n1.\\ndata = {\\'Text\\': [\\'This is sentence 1\\', \\'Another sentence\\', \\'And one more\\']}\\ndf = pd.DataFrame(data)\\n\\nfor sentence in df[\\'Text\\']:\\n    print(type(sentence))  # Output: <class \\'str\\'>\\n\\n# With .values\\nfor sentence in df[\\'Text\\'].values:\\n    print(type(sentence))  # Output: <class \\'numpy.str_\\'>\\n\\n2.sentence = re.sub(r\"http\\\\S+\",\"\",sentence)\\nsentence = \"Check out this website: http://www.example.com for more information.\"\\nCheck out this website:  for more information.\\n\\n3sentence = BeautifulSoup(sentence, \\'lxml\\').get_text()\\nsentence = \"<p>This is <b>bold</b> and <i>italic</i>.</p>\"\\nThis is bold and italic.\\n\\n4.sentence = re.sub(\"\\\\S*\\\\d\\\\S*\",\"\",sentence).strip()\\nsentence = re.sub(\"\\\\S*\\\\d\\\\S*\",\"\",sentence).strip()\\nRemove  digits from this example sentence.\\n\\n\\n'"
      ]
     },
     "execution_count": 39,
     "metadata": {},
     "output_type": "execute_result"
    }
   ],
   "source": [
    "\n",
    "\"\"\"\n",
    "# Examples of above codes\n",
    "\n",
    "1.\n",
    "data = {'Text': ['This is sentence 1', 'Another sentence', 'And one more']}\n",
    "df = pd.DataFrame(data)\n",
    "\n",
    "for sentence in df['Text']:\n",
    "    print(type(sentence))  # Output: <class 'str'>\n",
    "\n",
    "# With .values\n",
    "for sentence in df['Text'].values:\n",
    "    print(type(sentence))  # Output: <class 'numpy.str_'>\n",
    "\n",
    "2.sentence = re.sub(r\"http\\S+\",\"\",sentence)\n",
    "sentence = \"Check out this website: http://www.example.com for more information.\"\n",
    "Check out this website:  for more information.\n",
    "\n",
    "3sentence = BeautifulSoup(sentence, 'lxml').get_text()\n",
    "sentence = \"<p>This is <b>bold</b> and <i>italic</i>.</p>\"\n",
    "This is bold and italic.\n",
    "\n",
    "4.sentence = re.sub(\"\\S*\\d\\S*\",\"\",sentence).strip()\n",
    "sentence = re.sub(\"\\S*\\d\\S*\",\"\",sentence).strip()\n",
    "Remove  digits from this example sentence.\n",
    "\n",
    "\n",
    "\"\"\""
   ]
  },
  {
   "cell_type": "code",
   "execution_count": 40,
   "id": "bf04eb44",
   "metadata": {},
   "outputs": [
    {
     "name": "stdout",
     "output_type": "stream",
     "text": [
      "oatmeal good mushy soft like quaker oats way go\n",
      "******************************************************************\n",
      "bought office one put ordering today weeks shop either amazon brought door\n",
      "******************************************************************\n",
      "liked much ordered keepre ordering\n",
      "******************************************************************\n",
      "mild hot cocoa perfect winter evenings even good morning instead coffee love anytime next time try dark chocolate\n",
      "******************************************************************\n",
      "pretty wide appreciation acceptable coffee opinion stuff mediocre coffee drink regular decaf daily basis tasted like institutional cafeteria coffee normally fan swiss water decaffeination process decaf coffees disappointed quality gourmet coffee said try twice give fair review first time prepared way normally make coffee strong side second time followed directions exactly times using filtered water quality coffee maker uses melitta style cone filter taste stale ground like flavor watered roasted ground extra fine try put flavor back comparable quality low end bulk coffee brands decaf coffee like brew home dunkin newman name two price range also purchased pre ground taste much smoother full flavored coffee one would make point purchase better coffee choices money cheaper coffee choices quality\n",
      "******************************************************************\n"
     ]
    }
   ],
   "source": [
    "sent_0 = preprocessed_reviews[50]\n",
    "sent_1 = preprocessed_reviews[500]\n",
    "sent_2 = preprocessed_reviews[1550]\n",
    "sent_3 = preprocessed_reviews[3500]\n",
    "sent_4 = preprocessed_reviews[4500]\n",
    "print(sent_0)\n",
    "print(\"**********************\"*3)\n",
    "print(sent_1)\n",
    "print(\"**********************\"*3)\n",
    "print(sent_2)\n",
    "print(\"**********************\"*3)\n",
    "print(sent_3)\n",
    "print(\"**********************\"*3)\n",
    "print(sent_4)\n",
    "print(\"**********************\"*3)"
   ]
  },
  {
   "cell_type": "markdown",
   "id": "2fa90fb8",
   "metadata": {},
   "source": [
    "# TF-IDF"
   ]
  },
  {
   "cell_type": "code",
   "execution_count": 57,
   "id": "3d812e97",
   "metadata": {},
   "outputs": [
    {
     "name": "stdout",
     "output_type": "stream",
     "text": [
      "Some Features Name : ['ability', 'able', 'able buy', 'able drink', 'able eat', 'able feed', 'able find', 'able get', 'able give', 'able go', 'able make', 'able order', 'able purchase', 'able save', 'able share', 'able try', 'able use', 'absence', 'absent', 'absolute']\n",
      "***************************************************\n",
      "The type of count Vectorizer : <class 'scipy.sparse._csr.csr_matrix'>\n",
      "The shape of the Text TFIDF vectorizer : (5000, 25632)\n",
      "The number of unique words : 25632\n"
     ]
    }
   ],
   "source": [
    "tf_idf_vect = TfidfVectorizer(ngram_range=(1, 2),max_df=0.85, min_df=2,)\n",
    "tf_idf_vect.fit(preprocessed_reviews)\n",
    "print(\"Some Features Name :\",tf_idf_vect.get_feature_names()[0:20])\n",
    "\n",
    "print(\"*****************\"*3)\n",
    "\n",
    "final_counts_tfidf = tf_idf_vect.transform(preprocessed_reviews)\n",
    "\n",
    "print(\"The type of count Vectorizer :\",type(final_counts_tfidf))\n",
    "\n",
    "print(\"The shape of the Text TFIDF vectorizer :\", final_counts_tfidf.get_shape())\n",
    "\n",
    "print(\"The number of unique words :\", final_counts_tfidf.get_shape()[1])"
   ]
  },
  {
   "cell_type": "code",
   "execution_count": 58,
   "id": "de582ce2",
   "metadata": {},
   "outputs": [],
   "source": [
    "final_counts_tfidf = tf_idf_vect.transform(preprocessed_reviews).toarray()"
   ]
  },
  {
   "cell_type": "code",
   "execution_count": 59,
   "id": "4dc6326d",
   "metadata": {},
   "outputs": [
    {
     "data": {
      "text/html": [
       "<div>\n",
       "<style scoped>\n",
       "    .dataframe tbody tr th:only-of-type {\n",
       "        vertical-align: middle;\n",
       "    }\n",
       "\n",
       "    .dataframe tbody tr th {\n",
       "        vertical-align: top;\n",
       "    }\n",
       "\n",
       "    .dataframe thead th {\n",
       "        text-align: right;\n",
       "    }\n",
       "</style>\n",
       "<table border=\"1\" class=\"dataframe\">\n",
       "  <thead>\n",
       "    <tr style=\"text-align: right;\">\n",
       "      <th></th>\n",
       "      <th>0</th>\n",
       "      <th>1</th>\n",
       "      <th>2</th>\n",
       "      <th>3</th>\n",
       "      <th>4</th>\n",
       "      <th>5</th>\n",
       "      <th>6</th>\n",
       "      <th>7</th>\n",
       "      <th>8</th>\n",
       "      <th>9</th>\n",
       "      <th>...</th>\n",
       "      <th>25622</th>\n",
       "      <th>25623</th>\n",
       "      <th>25624</th>\n",
       "      <th>25625</th>\n",
       "      <th>25626</th>\n",
       "      <th>25627</th>\n",
       "      <th>25628</th>\n",
       "      <th>25629</th>\n",
       "      <th>25630</th>\n",
       "      <th>25631</th>\n",
       "    </tr>\n",
       "  </thead>\n",
       "  <tbody>\n",
       "    <tr>\n",
       "      <th>0</th>\n",
       "      <td>0.0</td>\n",
       "      <td>0.0</td>\n",
       "      <td>0.0</td>\n",
       "      <td>0.0</td>\n",
       "      <td>0.0</td>\n",
       "      <td>0.0</td>\n",
       "      <td>0.0</td>\n",
       "      <td>0.0</td>\n",
       "      <td>0.0</td>\n",
       "      <td>0.0</td>\n",
       "      <td>...</td>\n",
       "      <td>0.0</td>\n",
       "      <td>0.0</td>\n",
       "      <td>0.0</td>\n",
       "      <td>0.0</td>\n",
       "      <td>0.0</td>\n",
       "      <td>0.0</td>\n",
       "      <td>0.0</td>\n",
       "      <td>0.0</td>\n",
       "      <td>0.0</td>\n",
       "      <td>0.0</td>\n",
       "    </tr>\n",
       "    <tr>\n",
       "      <th>1</th>\n",
       "      <td>0.0</td>\n",
       "      <td>0.0</td>\n",
       "      <td>0.0</td>\n",
       "      <td>0.0</td>\n",
       "      <td>0.0</td>\n",
       "      <td>0.0</td>\n",
       "      <td>0.0</td>\n",
       "      <td>0.0</td>\n",
       "      <td>0.0</td>\n",
       "      <td>0.0</td>\n",
       "      <td>...</td>\n",
       "      <td>0.0</td>\n",
       "      <td>0.0</td>\n",
       "      <td>0.0</td>\n",
       "      <td>0.0</td>\n",
       "      <td>0.0</td>\n",
       "      <td>0.0</td>\n",
       "      <td>0.0</td>\n",
       "      <td>0.0</td>\n",
       "      <td>0.0</td>\n",
       "      <td>0.0</td>\n",
       "    </tr>\n",
       "    <tr>\n",
       "      <th>2</th>\n",
       "      <td>0.0</td>\n",
       "      <td>0.0</td>\n",
       "      <td>0.0</td>\n",
       "      <td>0.0</td>\n",
       "      <td>0.0</td>\n",
       "      <td>0.0</td>\n",
       "      <td>0.0</td>\n",
       "      <td>0.0</td>\n",
       "      <td>0.0</td>\n",
       "      <td>0.0</td>\n",
       "      <td>...</td>\n",
       "      <td>0.0</td>\n",
       "      <td>0.0</td>\n",
       "      <td>0.0</td>\n",
       "      <td>0.0</td>\n",
       "      <td>0.0</td>\n",
       "      <td>0.0</td>\n",
       "      <td>0.0</td>\n",
       "      <td>0.0</td>\n",
       "      <td>0.0</td>\n",
       "      <td>0.0</td>\n",
       "    </tr>\n",
       "    <tr>\n",
       "      <th>3</th>\n",
       "      <td>0.0</td>\n",
       "      <td>0.0</td>\n",
       "      <td>0.0</td>\n",
       "      <td>0.0</td>\n",
       "      <td>0.0</td>\n",
       "      <td>0.0</td>\n",
       "      <td>0.0</td>\n",
       "      <td>0.0</td>\n",
       "      <td>0.0</td>\n",
       "      <td>0.0</td>\n",
       "      <td>...</td>\n",
       "      <td>0.0</td>\n",
       "      <td>0.0</td>\n",
       "      <td>0.0</td>\n",
       "      <td>0.0</td>\n",
       "      <td>0.0</td>\n",
       "      <td>0.0</td>\n",
       "      <td>0.0</td>\n",
       "      <td>0.0</td>\n",
       "      <td>0.0</td>\n",
       "      <td>0.0</td>\n",
       "    </tr>\n",
       "    <tr>\n",
       "      <th>4</th>\n",
       "      <td>0.0</td>\n",
       "      <td>0.0</td>\n",
       "      <td>0.0</td>\n",
       "      <td>0.0</td>\n",
       "      <td>0.0</td>\n",
       "      <td>0.0</td>\n",
       "      <td>0.0</td>\n",
       "      <td>0.0</td>\n",
       "      <td>0.0</td>\n",
       "      <td>0.0</td>\n",
       "      <td>...</td>\n",
       "      <td>0.0</td>\n",
       "      <td>0.0</td>\n",
       "      <td>0.0</td>\n",
       "      <td>0.0</td>\n",
       "      <td>0.0</td>\n",
       "      <td>0.0</td>\n",
       "      <td>0.0</td>\n",
       "      <td>0.0</td>\n",
       "      <td>0.0</td>\n",
       "      <td>0.0</td>\n",
       "    </tr>\n",
       "  </tbody>\n",
       "</table>\n",
       "<p>5 rows × 25632 columns</p>\n",
       "</div>"
      ],
      "text/plain": [
       "   0      1      2      3      4      5      6      7      8      9      ...  \\\n",
       "0    0.0    0.0    0.0    0.0    0.0    0.0    0.0    0.0    0.0    0.0  ...   \n",
       "1    0.0    0.0    0.0    0.0    0.0    0.0    0.0    0.0    0.0    0.0  ...   \n",
       "2    0.0    0.0    0.0    0.0    0.0    0.0    0.0    0.0    0.0    0.0  ...   \n",
       "3    0.0    0.0    0.0    0.0    0.0    0.0    0.0    0.0    0.0    0.0  ...   \n",
       "4    0.0    0.0    0.0    0.0    0.0    0.0    0.0    0.0    0.0    0.0  ...   \n",
       "\n",
       "   25622  25623  25624  25625  25626  25627  25628  25629  25630  25631  \n",
       "0    0.0    0.0    0.0    0.0    0.0    0.0    0.0    0.0    0.0    0.0  \n",
       "1    0.0    0.0    0.0    0.0    0.0    0.0    0.0    0.0    0.0    0.0  \n",
       "2    0.0    0.0    0.0    0.0    0.0    0.0    0.0    0.0    0.0    0.0  \n",
       "3    0.0    0.0    0.0    0.0    0.0    0.0    0.0    0.0    0.0    0.0  \n",
       "4    0.0    0.0    0.0    0.0    0.0    0.0    0.0    0.0    0.0    0.0  \n",
       "\n",
       "[5 rows x 25632 columns]"
      ]
     },
     "execution_count": 59,
     "metadata": {},
     "output_type": "execute_result"
    }
   ],
   "source": [
    "pd.DataFrame(final_counts_tfidf).head()"
   ]
  },
  {
   "cell_type": "code",
   "execution_count": 60,
   "id": "cb0332e6",
   "metadata": {},
   "outputs": [],
   "source": [
    "y = final['Score']"
   ]
  },
  {
   "cell_type": "code",
   "execution_count": 61,
   "id": "f1e5d2cb",
   "metadata": {},
   "outputs": [
    {
     "data": {
      "text/plain": [
       "0    1\n",
       "1    3\n",
       "2    1\n",
       "3    3\n",
       "4    1\n",
       "Name: Score, dtype: int64"
      ]
     },
     "execution_count": 61,
     "metadata": {},
     "output_type": "execute_result"
    }
   ],
   "source": [
    "y.head()"
   ]
  },
  {
   "cell_type": "code",
   "execution_count": 62,
   "id": "ff9eac3a",
   "metadata": {},
   "outputs": [],
   "source": [
    "from sklearn.model_selection import train_test_split\n",
    "x_train,x_test,y_train,y_test = train_test_split(final_counts_tfidf,y,test_size =0.2,\n",
    "                                                random_state =5,stratify = y)"
   ]
  },
  {
   "cell_type": "code",
   "execution_count": 63,
   "id": "206dd462",
   "metadata": {},
   "outputs": [
    {
     "data": {
      "text/plain": [
       "RandomForestClassifier()"
      ]
     },
     "execution_count": 63,
     "metadata": {},
     "output_type": "execute_result"
    }
   ],
   "source": [
    "from sklearn.ensemble import RandomForestClassifier\n",
    "rf = RandomForestClassifier()\n",
    "rf.fit(x_train,y_train)"
   ]
  },
  {
   "cell_type": "code",
   "execution_count": 64,
   "id": "98ae4bd3",
   "metadata": {},
   "outputs": [],
   "source": [
    "y_pred_train = rf.predict(x_train)\n",
    "y_pred_test = rf.predict(x_test)"
   ]
  },
  {
   "cell_type": "code",
   "execution_count": 65,
   "id": "b0530b9c",
   "metadata": {},
   "outputs": [
    {
     "name": "stdout",
     "output_type": "stream",
     "text": [
      "Train Accuracy: 1.0\n",
      "***************\n",
      "Test Accuracy : 0.788\n"
     ]
    }
   ],
   "source": [
    "print(\"Train Accuracy:\",accuracy_score(y_train,y_pred_train))\n",
    "print(\"*\"*15)\n",
    "print(\"Test Accuracy :\", accuracy_score(y_test,y_pred_test))"
   ]
  },
  {
   "cell_type": "code",
   "execution_count": 66,
   "id": "53a9843a",
   "metadata": {},
   "outputs": [
    {
     "name": "stdout",
     "output_type": "stream",
     "text": [
      "Train Accuracy:               precision    recall  f1-score   support\n",
      "\n",
      "           1       1.00      1.00      1.00      3077\n",
      "           2       1.00      1.00      1.00       316\n",
      "           3       1.00      1.00      1.00       607\n",
      "\n",
      "    accuracy                           1.00      4000\n",
      "   macro avg       1.00      1.00      1.00      4000\n",
      "weighted avg       1.00      1.00      1.00      4000\n",
      "\n",
      "***************\n",
      "Test Accuracy :               precision    recall  f1-score   support\n",
      "\n",
      "           1       0.79      1.00      0.88       769\n",
      "           2       1.00      0.01      0.02        79\n",
      "           3       0.86      0.12      0.21       152\n",
      "\n",
      "    accuracy                           0.79      1000\n",
      "   macro avg       0.88      0.38      0.37      1000\n",
      "weighted avg       0.81      0.79      0.71      1000\n",
      "\n"
     ]
    }
   ],
   "source": [
    "print(\"Train Accuracy:\",classification_report(y_train,y_pred_train))\n",
    "print(\"*\"*15)\n",
    "print(\"Test Accuracy :\", classification_report(y_test,y_pred_test))"
   ]
  },
  {
   "cell_type": "markdown",
   "id": "34c40fb1",
   "metadata": {},
   "source": [
    "# PCA"
   ]
  },
  {
   "cell_type": "code",
   "execution_count": 52,
   "id": "bfcca7be",
   "metadata": {},
   "outputs": [],
   "source": [
    "from sklearn.decomposition import PCA\n"
   ]
  },
  {
   "cell_type": "code",
   "execution_count": 53,
   "id": "81144d63",
   "metadata": {},
   "outputs": [],
   "source": [
    "pca = PCA(n_components=None)\n",
    "x_train_n = pca.fit_transform(x_train)\n",
    "x_test_n = pca.fit_transform(x_test)"
   ]
  },
  {
   "cell_type": "code",
   "execution_count": 68,
   "id": "82e9f203",
   "metadata": {},
   "outputs": [],
   "source": [
    "explained_variance = pca.explained_variance_ratio_"
   ]
  },
  {
   "cell_type": "code",
   "execution_count": 69,
   "id": "bfdfe915",
   "metadata": {},
   "outputs": [
    {
     "data": {
      "text/plain": [
       "array([1.00327574e-02, 8.38291865e-03, 7.49444836e-03, 7.00915460e-03,\n",
       "       6.89386448e-03, 5.75856339e-03, 5.20107135e-03, 4.84852825e-03,\n",
       "       4.33113670e-03, 4.22619304e-03, 4.13271908e-03, 3.94428551e-03,\n",
       "       3.91472697e-03, 3.82925107e-03, 3.78512740e-03, 3.68062785e-03,\n",
       "       3.65164615e-03, 3.51826243e-03, 3.43665556e-03, 3.40751523e-03,\n",
       "       3.37169184e-03, 3.32817589e-03, 3.29652550e-03, 3.20825226e-03,\n",
       "       3.16670957e-03, 3.13552330e-03, 3.10258562e-03, 3.08502185e-03,\n",
       "       3.05402662e-03, 3.01908572e-03, 2.95830223e-03, 2.94283775e-03,\n",
       "       2.91272376e-03, 2.90145013e-03, 2.86139328e-03, 2.84865946e-03,\n",
       "       2.83009223e-03, 2.79273199e-03, 2.74993872e-03, 2.73848650e-03,\n",
       "       2.72029642e-03, 2.69995767e-03, 2.69282243e-03, 2.67862260e-03,\n",
       "       2.65238535e-03, 2.62984501e-03, 2.60573528e-03, 2.59686083e-03,\n",
       "       2.58333704e-03, 2.54578386e-03, 2.54192864e-03, 2.52578266e-03,\n",
       "       2.51289130e-03, 2.47699052e-03, 2.47015347e-03, 2.45522379e-03,\n",
       "       2.44024258e-03, 2.43369580e-03, 2.41014486e-03, 2.39270471e-03,\n",
       "       2.38415122e-03, 2.36863524e-03, 2.36267514e-03, 2.35327141e-03,\n",
       "       2.32357448e-03, 2.31420594e-03, 2.29101374e-03, 2.28774306e-03,\n",
       "       2.26719577e-03, 2.26290633e-03, 2.24898582e-03, 2.23793500e-03,\n",
       "       2.22570753e-03, 2.22193908e-03, 2.20779940e-03, 2.18814417e-03,\n",
       "       2.17303126e-03, 2.17281158e-03, 2.16712794e-03, 2.15267880e-03,\n",
       "       2.15147420e-03, 2.14376632e-03, 2.12564854e-03, 2.11491280e-03,\n",
       "       2.09933207e-03, 2.09290807e-03, 2.08828296e-03, 2.07590317e-03,\n",
       "       2.06892374e-03, 2.04735983e-03, 2.03495562e-03, 2.02848313e-03,\n",
       "       2.02136929e-03, 2.01937445e-03, 2.00627473e-03, 1.99760015e-03,\n",
       "       1.98744688e-03, 1.97942108e-03, 1.96166639e-03, 1.95197979e-03,\n",
       "       1.94906482e-03, 1.93921270e-03, 1.92911762e-03, 1.92877901e-03,\n",
       "       1.91986034e-03, 1.91461001e-03, 1.90670145e-03, 1.89931048e-03,\n",
       "       1.89514318e-03, 1.89126672e-03, 1.87960552e-03, 1.87239697e-03,\n",
       "       1.86189944e-03, 1.85457986e-03, 1.85216654e-03, 1.84371531e-03,\n",
       "       1.84163848e-03, 1.83795379e-03, 1.82494190e-03, 1.82354546e-03,\n",
       "       1.80884392e-03, 1.80250819e-03, 1.79995592e-03, 1.79272113e-03,\n",
       "       1.78691848e-03, 1.78575049e-03, 1.77775477e-03, 1.76649110e-03,\n",
       "       1.76092371e-03, 1.75465857e-03, 1.74581237e-03, 1.74155839e-03,\n",
       "       1.73726564e-03, 1.73495262e-03, 1.72106953e-03, 1.72004572e-03,\n",
       "       1.71319411e-03, 1.70679342e-03, 1.69656266e-03, 1.69010424e-03,\n",
       "       1.68119630e-03, 1.67922939e-03, 1.67217126e-03, 1.66993997e-03,\n",
       "       1.66076864e-03, 1.65650671e-03, 1.65173785e-03, 1.64794501e-03,\n",
       "       1.64099774e-03, 1.63825881e-03, 1.62688377e-03, 1.62463470e-03,\n",
       "       1.62005154e-03, 1.61343221e-03, 1.60533997e-03, 1.60489885e-03,\n",
       "       1.59866016e-03, 1.59615778e-03, 1.58998674e-03, 1.58955317e-03,\n",
       "       1.58512080e-03, 1.57459532e-03, 1.57144288e-03, 1.56432818e-03,\n",
       "       1.55743428e-03, 1.55398628e-03, 1.54728661e-03, 1.54383412e-03,\n",
       "       1.53504431e-03, 1.53061694e-03, 1.52742233e-03, 1.52579717e-03,\n",
       "       1.52180540e-03, 1.51513517e-03, 1.50774782e-03, 1.50318471e-03,\n",
       "       1.50263966e-03, 1.49607291e-03, 1.49246448e-03, 1.49062245e-03,\n",
       "       1.48922579e-03, 1.48493059e-03, 1.48179695e-03, 1.47836555e-03,\n",
       "       1.46666032e-03, 1.45987525e-03, 1.45614828e-03, 1.45335067e-03,\n",
       "       1.45187938e-03, 1.44692144e-03, 1.44232369e-03, 1.43803199e-03,\n",
       "       1.43125556e-03, 1.42762007e-03, 1.42465943e-03, 1.42309311e-03,\n",
       "       1.42081325e-03, 1.41143869e-03, 1.40961184e-03, 1.40833263e-03,\n",
       "       1.40694509e-03, 1.40106313e-03, 1.39738134e-03, 1.39356069e-03,\n",
       "       1.38906704e-03, 1.38805606e-03, 1.38622066e-03, 1.38068200e-03,\n",
       "       1.37964837e-03, 1.36930974e-03, 1.36650248e-03, 1.36508346e-03,\n",
       "       1.35909561e-03, 1.35640779e-03, 1.35323694e-03, 1.34321933e-03,\n",
       "       1.34121478e-03, 1.33815234e-03, 1.33643635e-03, 1.33409525e-03,\n",
       "       1.33285257e-03, 1.32859224e-03, 1.32402289e-03, 1.31760459e-03,\n",
       "       1.31328425e-03, 1.31154111e-03, 1.30763907e-03, 1.30639439e-03,\n",
       "       1.30485073e-03, 1.30158961e-03, 1.29735140e-03, 1.29548883e-03,\n",
       "       1.28993190e-03, 1.28871874e-03, 1.28785089e-03, 1.28359930e-03,\n",
       "       1.28152558e-03, 1.27641159e-03, 1.27368346e-03, 1.26986236e-03,\n",
       "       1.26741418e-03, 1.26530148e-03, 1.26035400e-03, 1.25808976e-03,\n",
       "       1.25450226e-03, 1.25164622e-03, 1.24776747e-03, 1.24376589e-03,\n",
       "       1.24123470e-03, 1.23706165e-03, 1.23507859e-03, 1.23110481e-03,\n",
       "       1.22784983e-03, 1.22575568e-03, 1.22363037e-03, 1.22230516e-03,\n",
       "       1.22016046e-03, 1.21572071e-03, 1.21137541e-03, 1.20590798e-03,\n",
       "       1.20478976e-03, 1.20287274e-03, 1.20119370e-03, 1.20017551e-03,\n",
       "       1.19639029e-03, 1.19149481e-03, 1.18921032e-03, 1.18751299e-03,\n",
       "       1.18579541e-03, 1.18363637e-03, 1.18152449e-03, 1.17910414e-03,\n",
       "       1.17534750e-03, 1.17236340e-03, 1.16986525e-03, 1.16932804e-03,\n",
       "       1.16556389e-03, 1.16256878e-03, 1.16079364e-03, 1.16021388e-03,\n",
       "       1.15806211e-03, 1.15035024e-03, 1.14684086e-03, 1.14272793e-03,\n",
       "       1.14070423e-03, 1.13812566e-03, 1.13714782e-03, 1.13332264e-03,\n",
       "       1.13253676e-03, 1.12907900e-03, 1.12728356e-03, 1.12494346e-03,\n",
       "       1.12105577e-03, 1.11685080e-03, 1.11546672e-03, 1.11324894e-03,\n",
       "       1.11147737e-03, 1.10967084e-03, 1.10795051e-03, 1.10527073e-03,\n",
       "       1.10371995e-03, 1.10197968e-03, 1.09979729e-03, 1.09675996e-03,\n",
       "       1.09483288e-03, 1.09205144e-03, 1.09111268e-03, 1.08719594e-03,\n",
       "       1.08583007e-03, 1.08380921e-03, 1.08245847e-03, 1.07960937e-03,\n",
       "       1.07814186e-03, 1.07447766e-03, 1.07424951e-03, 1.07057877e-03,\n",
       "       1.06881081e-03, 1.06672966e-03, 1.06567428e-03, 1.06385512e-03,\n",
       "       1.05994327e-03, 1.05925426e-03, 1.05708822e-03, 1.05366428e-03,\n",
       "       1.05168265e-03, 1.04748154e-03, 1.04568803e-03, 1.04441443e-03,\n",
       "       1.04229844e-03, 1.04183812e-03, 1.03930348e-03, 1.03716309e-03,\n",
       "       1.03257785e-03, 1.03106568e-03, 1.02915870e-03, 1.02712873e-03,\n",
       "       1.02525649e-03, 1.02420944e-03, 1.02110868e-03, 1.01860969e-03,\n",
       "       1.01686419e-03, 1.01523492e-03, 1.01355877e-03, 1.01120578e-03,\n",
       "       1.01032889e-03, 1.00768063e-03, 1.00529637e-03, 1.00249876e-03,\n",
       "       1.00190743e-03, 1.00046909e-03, 9.96195507e-04, 9.95432624e-04,\n",
       "       9.94733746e-04, 9.91564867e-04, 9.89742157e-04, 9.88310078e-04,\n",
       "       9.87550866e-04, 9.85190932e-04, 9.82777444e-04, 9.79720672e-04,\n",
       "       9.79443057e-04, 9.77340744e-04, 9.74967407e-04, 9.73684438e-04,\n",
       "       9.69069404e-04, 9.67398021e-04, 9.65700624e-04, 9.64418185e-04,\n",
       "       9.63208025e-04, 9.60894645e-04, 9.59182923e-04, 9.57368597e-04,\n",
       "       9.55433904e-04, 9.50888762e-04, 9.50141111e-04, 9.48654116e-04,\n",
       "       9.47471487e-04, 9.45828233e-04, 9.43791668e-04, 9.42285360e-04,\n",
       "       9.40769301e-04, 9.40002148e-04, 9.37694745e-04, 9.35362948e-04,\n",
       "       9.33202925e-04, 9.31781400e-04, 9.31017676e-04, 9.28071750e-04,\n",
       "       9.26312651e-04, 9.24677304e-04, 9.24181501e-04, 9.21996955e-04,\n",
       "       9.20286751e-04, 9.18597902e-04, 9.17298583e-04, 9.16590429e-04,\n",
       "       9.14248264e-04, 9.11046328e-04, 9.09599208e-04, 9.08606214e-04,\n",
       "       9.07381628e-04, 9.04834752e-04, 9.02607865e-04, 9.00176569e-04,\n",
       "       8.99656312e-04, 8.98673075e-04, 8.95384670e-04, 8.93584082e-04,\n",
       "       8.90266313e-04, 8.89566509e-04, 8.88475483e-04, 8.87108755e-04,\n",
       "       8.84982728e-04, 8.84119038e-04, 8.81484999e-04, 8.79425015e-04,\n",
       "       8.77948739e-04, 8.76530037e-04, 8.74659772e-04, 8.71607948e-04,\n",
       "       8.70794901e-04, 8.70684084e-04, 8.67357833e-04, 8.66888485e-04,\n",
       "       8.65939538e-04, 8.64454948e-04, 8.62220609e-04, 8.61216723e-04,\n",
       "       8.58173656e-04, 8.55896506e-04, 8.53668578e-04, 8.52814902e-04,\n",
       "       8.52113925e-04, 8.50553813e-04, 8.47824853e-04, 8.45737354e-04,\n",
       "       8.45123668e-04, 8.43001843e-04, 8.41354062e-04, 8.40293159e-04,\n",
       "       8.39870555e-04, 8.38240981e-04, 8.36315938e-04, 8.31990025e-04,\n",
       "       8.31634667e-04, 8.30865113e-04, 8.29852749e-04, 8.27666159e-04,\n",
       "       8.25866809e-04, 8.25119158e-04, 8.24448443e-04, 8.20444814e-04,\n",
       "       8.19983126e-04, 8.17886875e-04, 8.16945200e-04, 8.15113590e-04,\n",
       "       8.13827652e-04, 8.11918235e-04, 8.10033878e-04, 8.08548080e-04,\n",
       "       8.08329111e-04, 8.07462956e-04, 8.06898367e-04, 8.03233977e-04,\n",
       "       8.02199819e-04, 8.01276591e-04, 8.00964389e-04, 7.98799482e-04,\n",
       "       7.98040849e-04, 7.97708595e-04, 7.96657926e-04, 7.94708623e-04,\n",
       "       7.92748765e-04, 7.91448323e-04, 7.90698259e-04, 7.87304271e-04,\n",
       "       7.86349857e-04, 7.84862869e-04, 7.84555326e-04, 7.83058207e-04,\n",
       "       7.81817545e-04, 7.79595565e-04, 7.78420415e-04, 7.75848554e-04,\n",
       "       7.74441385e-04, 7.72970360e-04, 7.72014368e-04, 7.70619067e-04,\n",
       "       7.67889517e-04, 7.66956589e-04, 7.65706844e-04, 7.64186696e-04,\n",
       "       7.63272320e-04, 7.62375945e-04, 7.59582072e-04, 7.59330752e-04,\n",
       "       7.57490530e-04, 7.56613359e-04, 7.53774391e-04, 7.52606926e-04,\n",
       "       7.52144727e-04, 7.49716175e-04, 7.48837393e-04, 7.48557879e-04,\n",
       "       7.46737026e-04, 7.45407562e-04, 7.42698398e-04, 7.42237297e-04,\n",
       "       7.39943183e-04, 7.38911460e-04, 7.38135782e-04, 7.35323422e-04,\n",
       "       7.35119471e-04, 7.33667352e-04, 7.33473843e-04, 7.31591393e-04,\n",
       "       7.29174816e-04, 7.27599239e-04, 7.26806412e-04, 7.26009152e-04,\n",
       "       7.25319186e-04, 7.22628476e-04, 7.21645801e-04, 7.19678867e-04,\n",
       "       7.17477770e-04, 7.15796231e-04, 7.15125872e-04, 7.14515676e-04,\n",
       "       7.13938488e-04, 7.11572375e-04, 7.08726234e-04, 7.07525747e-04,\n",
       "       7.07124753e-04, 7.06795463e-04, 7.04968883e-04, 7.04301894e-04,\n",
       "       7.03451666e-04, 7.01871637e-04, 7.00165409e-04, 6.99126937e-04,\n",
       "       6.97694587e-04, 6.96812342e-04, 6.95175082e-04, 6.94765265e-04,\n",
       "       6.93013198e-04, 6.90325936e-04, 6.88648226e-04, 6.87988853e-04,\n",
       "       6.86428280e-04, 6.85650473e-04, 6.84616750e-04, 6.83917872e-04,\n",
       "       6.83108304e-04, 6.82241346e-04, 6.79508002e-04, 6.78427040e-04,\n",
       "       6.78058432e-04, 6.76222369e-04, 6.74675479e-04, 6.73822144e-04,\n",
       "       6.72857467e-04, 6.71265336e-04, 6.69495608e-04, 6.68345197e-04,\n",
       "       6.67289615e-04, 6.65545885e-04, 6.65045085e-04, 6.63025734e-04,\n",
       "       6.62191262e-04, 6.60583860e-04, 6.59733879e-04, 6.58761845e-04,\n",
       "       6.57832982e-04, 6.56272731e-04, 6.55553378e-04, 6.53732860e-04,\n",
       "       6.51939161e-04, 6.51456894e-04, 6.50271224e-04, 6.49880696e-04,\n",
       "       6.48450183e-04, 6.46213554e-04, 6.45027410e-04, 6.44709118e-04,\n",
       "       6.41693492e-04, 6.41448447e-04, 6.40612980e-04, 6.39714893e-04,\n",
       "       6.38211057e-04, 6.36369160e-04, 6.35383128e-04, 6.34208366e-04,\n",
       "       6.32993689e-04, 6.32698498e-04, 6.31839990e-04, 6.30532778e-04,\n",
       "       6.29439292e-04, 6.28184165e-04, 6.26262084e-04, 6.24740947e-04,\n",
       "       6.23608369e-04, 6.21768854e-04, 6.21008928e-04, 6.19444410e-04,\n",
       "       6.18692847e-04, 6.16491508e-04, 6.14959261e-04, 6.14578668e-04,\n",
       "       6.14093294e-04, 6.13166247e-04, 6.11078690e-04, 6.10082376e-04,\n",
       "       6.08515245e-04, 6.07211127e-04, 6.06764280e-04, 6.05359287e-04,\n",
       "       6.05107550e-04, 6.04000392e-04, 6.03475243e-04, 6.01590005e-04,\n",
       "       5.99367948e-04, 5.98560158e-04, 5.96526359e-04, 5.95415738e-04,\n",
       "       5.93052744e-04, 5.92744392e-04, 5.91847958e-04, 5.89962600e-04,\n",
       "       5.89095263e-04, 5.88428009e-04, 5.87316222e-04, 5.85892580e-04,\n",
       "       5.85346876e-04, 5.83881466e-04, 5.82867835e-04, 5.82110960e-04,\n",
       "       5.80629323e-04, 5.79063572e-04, 5.77698542e-04, 5.76698441e-04,\n",
       "       5.74551027e-04, 5.74259752e-04, 5.74112526e-04, 5.72630306e-04,\n",
       "       5.72190195e-04, 5.70345659e-04, 5.69954066e-04, 5.68512315e-04,\n",
       "       5.67636325e-04, 5.66705258e-04, 5.64315806e-04, 5.64226059e-04,\n",
       "       5.62047021e-04, 5.61968390e-04, 5.61429068e-04, 5.60612313e-04,\n",
       "       5.58902301e-04, 5.57621509e-04, 5.56289182e-04, 5.55772767e-04,\n",
       "       5.53115178e-04, 5.52277596e-04, 5.51114187e-04, 5.50877156e-04,\n",
       "       5.50316699e-04, 5.48705231e-04, 5.47799584e-04, 5.46325933e-04,\n",
       "       5.45942621e-04, 5.44078078e-04, 5.43087729e-04, 5.41914560e-04,\n",
       "       5.41080930e-04, 5.39259402e-04, 5.38099009e-04, 5.37092075e-04,\n",
       "       5.35898433e-04, 5.35493805e-04, 5.34231089e-04, 5.32995773e-04,\n",
       "       5.32022349e-04, 5.31454594e-04, 5.29753332e-04, 5.28068037e-04,\n",
       "       5.27696724e-04, 5.25677737e-04, 5.24655492e-04, 5.23659032e-04,\n",
       "       5.22639286e-04, 5.22019572e-04, 5.20206132e-04, 5.19491656e-04,\n",
       "       5.17755210e-04, 5.17053293e-04, 5.16238688e-04, 5.15342395e-04,\n",
       "       5.15223516e-04, 5.14615603e-04, 5.13698557e-04, 5.12424437e-04,\n",
       "       5.10648706e-04, 5.08782450e-04, 5.07279074e-04, 5.07172547e-04,\n",
       "       5.05925747e-04, 5.05568865e-04, 5.04511476e-04, 5.03275486e-04,\n",
       "       5.02700472e-04, 5.00771264e-04, 5.00642410e-04, 5.00081755e-04,\n",
       "       4.98540823e-04, 4.97357983e-04, 4.94825761e-04, 4.94638456e-04,\n",
       "       4.93971323e-04, 4.92031714e-04, 4.91167233e-04, 4.90896128e-04,\n",
       "       4.88724011e-04, 4.88032179e-04, 4.87491481e-04, 4.86851848e-04,\n",
       "       4.85614520e-04, 4.83738336e-04, 4.82648937e-04, 4.82554471e-04,\n",
       "       4.81086914e-04, 4.80019998e-04, 4.79267645e-04, 4.78546496e-04,\n",
       "       4.78254665e-04, 4.76348637e-04, 4.75787378e-04, 4.74076319e-04,\n",
       "       4.73082186e-04, 4.71712446e-04, 4.70759972e-04, 4.69968268e-04,\n",
       "       4.69233107e-04, 4.68245109e-04, 4.67034687e-04, 4.66192972e-04,\n",
       "       4.65514195e-04, 4.64473592e-04, 4.63141793e-04, 4.61863574e-04,\n",
       "       4.59424828e-04, 4.58428054e-04, 4.57697483e-04, 4.56867059e-04,\n",
       "       4.55856548e-04, 4.54328449e-04, 4.53512650e-04, 4.52994243e-04,\n",
       "       4.51977900e-04, 4.51675617e-04, 4.50427296e-04, 4.49936146e-04,\n",
       "       4.48970223e-04, 4.47065192e-04, 4.45548297e-04, 4.44639460e-04,\n",
       "       4.44389705e-04, 4.43134894e-04, 4.40814069e-04, 4.39983053e-04,\n",
       "       4.39624204e-04, 4.38815517e-04, 4.36322278e-04, 4.35678294e-04,\n",
       "       4.34199053e-04, 4.33531920e-04, 4.32999800e-04, 4.31923289e-04,\n",
       "       4.31167363e-04, 4.30499227e-04, 4.29081712e-04, 4.28254238e-04,\n",
       "       4.26679792e-04, 4.25918096e-04, 4.25044507e-04, 4.24196381e-04,\n",
       "       4.23337674e-04, 4.22315772e-04, 4.22108981e-04, 4.21279617e-04,\n",
       "       4.20138001e-04, 4.17957889e-04, 4.16769933e-04, 4.15754193e-04,\n",
       "       4.15496570e-04, 4.13408804e-04, 4.12738256e-04, 4.11906350e-04,\n",
       "       4.11345074e-04, 4.10160714e-04, 4.09117626e-04, 4.08560417e-04,\n",
       "       4.07818312e-04, 4.06866522e-04, 4.05676299e-04, 4.04881233e-04,\n",
       "       4.03131816e-04, 4.03085034e-04, 4.02265591e-04, 4.00516963e-04,\n",
       "       3.99444993e-04, 3.98229652e-04, 3.96886536e-04, 3.96617240e-04,\n",
       "       3.94862995e-04, 3.93824617e-04, 3.93124369e-04, 3.91843280e-04,\n",
       "       3.89639381e-04, 3.88856004e-04, 3.87730022e-04, 3.86550177e-04,\n",
       "       3.86172498e-04, 3.84863220e-04, 3.84373592e-04, 3.83564934e-04,\n",
       "       3.82868893e-04, 3.81512250e-04, 3.80445687e-04, 3.79406408e-04,\n",
       "       3.79058560e-04, 3.77690856e-04, 3.77511039e-04, 3.76428299e-04,\n",
       "       3.76126963e-04, 3.74838587e-04, 3.73381674e-04, 3.72150739e-04,\n",
       "       3.70747612e-04, 3.70190342e-04, 3.68758911e-04, 3.67414828e-04,\n",
       "       3.67335952e-04, 3.65500350e-04, 3.64816544e-04, 3.63276666e-04,\n",
       "       3.62901392e-04, 3.62222371e-04, 3.60074538e-04, 3.58015923e-04,\n",
       "       3.56835045e-04, 3.56542823e-04, 3.56236580e-04, 3.53899511e-04,\n",
       "       3.52432205e-04, 3.51588351e-04, 3.51282824e-04, 3.49741770e-04,\n",
       "       3.49620117e-04, 3.47109251e-04, 3.46508727e-04, 3.44778658e-04,\n",
       "       3.43932468e-04, 3.43823186e-04, 3.42356318e-04, 3.42091154e-04,\n",
       "       3.39675913e-04, 3.38695474e-04, 3.37598226e-04, 3.36906545e-04,\n",
       "       3.36263849e-04, 3.35277718e-04, 3.34885297e-04, 3.33376221e-04,\n",
       "       3.32140331e-04, 3.30741549e-04, 3.29220271e-04, 3.27129866e-04,\n",
       "       3.26718123e-04, 3.26123060e-04, 3.24973168e-04, 3.23183795e-04,\n",
       "       3.22509368e-04, 3.22098312e-04, 3.21432358e-04, 3.19635177e-04,\n",
       "       3.18914017e-04, 3.17908729e-04, 3.16616643e-04, 3.15845781e-04,\n",
       "       3.14689650e-04, 3.13386395e-04, 3.13022967e-04, 3.11255675e-04,\n",
       "       3.10652406e-04, 3.09726722e-04, 3.08158674e-04, 3.06818230e-04,\n",
       "       3.05491911e-04, 3.04811193e-04, 3.03945135e-04, 3.02641627e-04,\n",
       "       3.02339214e-04, 3.00060591e-04, 2.98441132e-04, 2.97721488e-04,\n",
       "       2.96806891e-04, 2.96171821e-04, 2.95002113e-04, 2.91829324e-04,\n",
       "       2.91049322e-04, 2.89971256e-04, 2.88872827e-04, 2.88130954e-04,\n",
       "       2.87418369e-04, 2.86883048e-04, 2.85104110e-04, 2.84715090e-04,\n",
       "       2.83092613e-04, 2.80535614e-04, 2.79756226e-04, 2.78694538e-04,\n",
       "       2.77583222e-04, 2.75997732e-04, 2.74059149e-04, 2.73069036e-04,\n",
       "       2.72902764e-04, 2.72365612e-04, 2.70600292e-04, 2.69445101e-04,\n",
       "       2.68221798e-04, 2.66348534e-04, 2.65477209e-04, 2.64597994e-04,\n",
       "       2.62420083e-04, 2.62281326e-04, 2.61462970e-04, 2.59451456e-04,\n",
       "       2.56686332e-04, 2.56327640e-04, 2.54295071e-04, 2.52441627e-04,\n",
       "       2.50792829e-04, 2.50477483e-04, 2.48822962e-04, 2.48039691e-04,\n",
       "       2.46120668e-04, 2.44615144e-04, 2.43715069e-04, 2.42330155e-04,\n",
       "       2.40548077e-04, 2.38884645e-04, 2.36613834e-04, 2.36109596e-04,\n",
       "       2.35327766e-04, 2.33502952e-04, 2.32347679e-04, 2.29720933e-04,\n",
       "       2.28139034e-04, 2.26499340e-04, 2.24456166e-04, 2.23819755e-04,\n",
       "       2.22898477e-04, 2.21888240e-04, 2.19609444e-04, 2.18189944e-04,\n",
       "       2.15018472e-04, 2.14261281e-04, 2.11331041e-04, 2.10036020e-04,\n",
       "       2.08366549e-04, 2.06431048e-04, 2.06243003e-04, 2.03195740e-04,\n",
       "       2.02110289e-04, 2.00888183e-04, 1.98039922e-04, 1.96276045e-04,\n",
       "       1.91443933e-04, 1.89044866e-04, 1.86046888e-04, 1.82554889e-04,\n",
       "       1.81705229e-04, 1.78305032e-04, 1.75878946e-04, 1.75027328e-04,\n",
       "       1.72578106e-04, 1.70401637e-04, 1.68456780e-04, 1.64602569e-04,\n",
       "       1.59738565e-04, 1.54217642e-04, 1.51876545e-04, 1.46342513e-04,\n",
       "       1.37024655e-04, 6.00496042e-05, 2.31438553e-05, 1.79237677e-05,\n",
       "       3.28100245e-33, 2.94127980e-34, 2.77695764e-34, 1.71574651e-34])"
      ]
     },
     "execution_count": 69,
     "metadata": {},
     "output_type": "execute_result"
    }
   ],
   "source": [
    "explained_variance"
   ]
  },
  {
   "cell_type": "code",
   "execution_count": 70,
   "id": "7137c2e0",
   "metadata": {},
   "outputs": [
    {
     "data": {
      "text/plain": [
       "1000"
      ]
     },
     "execution_count": 70,
     "metadata": {},
     "output_type": "execute_result"
    }
   ],
   "source": [
    "len(explained_variance)"
   ]
  },
  {
   "cell_type": "code",
   "execution_count": 71,
   "id": "1370b13c",
   "metadata": {},
   "outputs": [],
   "source": [
    "pca = PCA(n_components=100)\n",
    "x_train_100 = pca.fit_transform(x_train)\n",
    "x_test_100 = pca.fit_transform(x_test)"
   ]
  },
  {
   "cell_type": "code",
   "execution_count": 73,
   "id": "00fa5411",
   "metadata": {},
   "outputs": [
    {
     "data": {
      "text/plain": [
       "RandomForestClassifier()"
      ]
     },
     "execution_count": 73,
     "metadata": {},
     "output_type": "execute_result"
    }
   ],
   "source": [
    "rf = RandomForestClassifier()\n",
    "rf.fit(x_train_100, y_train)"
   ]
  },
  {
   "cell_type": "code",
   "execution_count": 74,
   "id": "0d24f07b",
   "metadata": {},
   "outputs": [],
   "source": [
    "y_pred_train = rf.predict(x_train_100)\n",
    "y_pred_test = rf.predict(x_test_100)"
   ]
  },
  {
   "cell_type": "code",
   "execution_count": 75,
   "id": "5a89f214",
   "metadata": {},
   "outputs": [
    {
     "name": "stdout",
     "output_type": "stream",
     "text": [
      "Train Accuracy: 1.0\n",
      "***************\n",
      "Test Accuracy : 0.77\n"
     ]
    }
   ],
   "source": [
    "print(\"Train Accuracy:\",accuracy_score(y_train,y_pred_train))\n",
    "print(\"*\"*15)\n",
    "print(\"Test Accuracy :\", accuracy_score(y_test,y_pred_test))"
   ]
  },
  {
   "cell_type": "code",
   "execution_count": 76,
   "id": "3d0bee37",
   "metadata": {},
   "outputs": [
    {
     "name": "stdout",
     "output_type": "stream",
     "text": [
      "Train Accuracy:               precision    recall  f1-score   support\n",
      "\n",
      "           1       1.00      1.00      1.00      3077\n",
      "           2       1.00      1.00      1.00       316\n",
      "           3       1.00      1.00      1.00       607\n",
      "\n",
      "    accuracy                           1.00      4000\n",
      "   macro avg       1.00      1.00      1.00      4000\n",
      "weighted avg       1.00      1.00      1.00      4000\n",
      "\n",
      "***************\n",
      "Test Accuracy :               precision    recall  f1-score   support\n",
      "\n",
      "           1       0.77      1.00      0.87       769\n",
      "           2       0.00      0.00      0.00        79\n",
      "           3       0.33      0.01      0.01       152\n",
      "\n",
      "    accuracy                           0.77      1000\n",
      "   macro avg       0.37      0.34      0.29      1000\n",
      "weighted avg       0.64      0.77      0.67      1000\n",
      "\n"
     ]
    }
   ],
   "source": [
    "print(\"Train Accuracy:\",classification_report(y_train,y_pred_train))\n",
    "print(\"*\"*15)\n",
    "print(\"Test Accuracy :\", classification_report(y_test,y_pred_test))"
   ]
  },
  {
   "cell_type": "markdown",
   "id": "e724dfa3",
   "metadata": {},
   "source": [
    "# Word2Vec-Self Trained Model"
   ]
  },
  {
   "cell_type": "code",
   "execution_count": 83,
   "id": "abb55e02",
   "metadata": {},
   "outputs": [
    {
     "ename": "TypeError",
     "evalue": "'int' object is not iterable",
     "output_type": "error",
     "traceback": [
      "\u001b[1;31m---------------------------------------------------------------------------\u001b[0m",
      "\u001b[1;31mTypeError\u001b[0m                                 Traceback (most recent call last)",
      "\u001b[1;32m~\\AppData\\Local\\Temp\\ipykernel_8340\\3905323394.py\u001b[0m in \u001b[0;36m<module>\u001b[1;34m\u001b[0m\n\u001b[0;32m      5\u001b[0m \u001b[1;33m\u001b[0m\u001b[0m\n\u001b[0;32m      6\u001b[0m \u001b[0mmodel\u001b[0m \u001b[1;33m=\u001b[0m\u001b[0mgensim\u001b[0m\u001b[1;33m.\u001b[0m\u001b[0mmodels\u001b[0m\u001b[1;33m.\u001b[0m\u001b[0mWord2Vec\u001b[0m\u001b[1;33m(\u001b[0m\u001b[0mwindow\u001b[0m \u001b[1;33m=\u001b[0m \u001b[1;36m10\u001b[0m\u001b[1;33m,\u001b[0m \u001b[0mmin_count\u001b[0m \u001b[1;33m=\u001b[0m \u001b[1;36m2\u001b[0m\u001b[1;33m,\u001b[0m \u001b[0msg\u001b[0m\u001b[1;33m=\u001b[0m\u001b[1;36m0\u001b[0m\u001b[1;33m)\u001b[0m\u001b[1;33m\u001b[0m\u001b[1;33m\u001b[0m\u001b[0m\n\u001b[1;32m----> 7\u001b[1;33m \u001b[0mmodel\u001b[0m\u001b[1;33m.\u001b[0m\u001b[0mbuild_vocab\u001b[0m\u001b[1;33m(\u001b[0m\u001b[0mpreprocessed_reviews1\u001b[0m\u001b[1;33m,\u001b[0m\u001b[0mtotal_examples\u001b[0m \u001b[1;33m=\u001b[0m \u001b[0mmodel\u001b[0m\u001b[1;33m.\u001b[0m\u001b[0mcorpus_count\u001b[0m\u001b[1;33m,\u001b[0m\u001b[0mepochs\u001b[0m \u001b[1;33m=\u001b[0m \u001b[0mmodel\u001b[0m\u001b[1;33m.\u001b[0m\u001b[0mepochs\u001b[0m\u001b[1;33m)\u001b[0m\u001b[1;33m\u001b[0m\u001b[1;33m\u001b[0m\u001b[0m\n\u001b[0m",
      "\u001b[1;32m~\\anaconda3\\lib\\site-packages\\gensim\\models\\word2vec.py\u001b[0m in \u001b[0;36mbuild_vocab\u001b[1;34m(self, corpus_iterable, corpus_file, update, progress_per, keep_raw_vocab, trim_rule, **kwargs)\u001b[0m\n\u001b[0;32m    485\u001b[0m         \"\"\"\n\u001b[0;32m    486\u001b[0m         \u001b[0mself\u001b[0m\u001b[1;33m.\u001b[0m\u001b[0m_check_corpus_sanity\u001b[0m\u001b[1;33m(\u001b[0m\u001b[0mcorpus_iterable\u001b[0m\u001b[1;33m=\u001b[0m\u001b[0mcorpus_iterable\u001b[0m\u001b[1;33m,\u001b[0m \u001b[0mcorpus_file\u001b[0m\u001b[1;33m=\u001b[0m\u001b[0mcorpus_file\u001b[0m\u001b[1;33m,\u001b[0m \u001b[0mpasses\u001b[0m\u001b[1;33m=\u001b[0m\u001b[1;36m1\u001b[0m\u001b[1;33m)\u001b[0m\u001b[1;33m\u001b[0m\u001b[1;33m\u001b[0m\u001b[0m\n\u001b[1;32m--> 487\u001b[1;33m         total_words, corpus_count = self.scan_vocab(\n\u001b[0m\u001b[0;32m    488\u001b[0m             corpus_iterable=corpus_iterable, corpus_file=corpus_file, progress_per=progress_per, trim_rule=trim_rule)\n\u001b[0;32m    489\u001b[0m         \u001b[0mself\u001b[0m\u001b[1;33m.\u001b[0m\u001b[0mcorpus_count\u001b[0m \u001b[1;33m=\u001b[0m \u001b[0mcorpus_count\u001b[0m\u001b[1;33m\u001b[0m\u001b[1;33m\u001b[0m\u001b[0m\n",
      "\u001b[1;32m~\\anaconda3\\lib\\site-packages\\gensim\\models\\word2vec.py\u001b[0m in \u001b[0;36mscan_vocab\u001b[1;34m(self, corpus_iterable, corpus_file, progress_per, workers, trim_rule)\u001b[0m\n\u001b[0;32m    580\u001b[0m             \u001b[0mcorpus_iterable\u001b[0m \u001b[1;33m=\u001b[0m \u001b[0mLineSentence\u001b[0m\u001b[1;33m(\u001b[0m\u001b[0mcorpus_file\u001b[0m\u001b[1;33m)\u001b[0m\u001b[1;33m\u001b[0m\u001b[1;33m\u001b[0m\u001b[0m\n\u001b[0;32m    581\u001b[0m \u001b[1;33m\u001b[0m\u001b[0m\n\u001b[1;32m--> 582\u001b[1;33m         \u001b[0mtotal_words\u001b[0m\u001b[1;33m,\u001b[0m \u001b[0mcorpus_count\u001b[0m \u001b[1;33m=\u001b[0m \u001b[0mself\u001b[0m\u001b[1;33m.\u001b[0m\u001b[0m_scan_vocab\u001b[0m\u001b[1;33m(\u001b[0m\u001b[0mcorpus_iterable\u001b[0m\u001b[1;33m,\u001b[0m \u001b[0mprogress_per\u001b[0m\u001b[1;33m,\u001b[0m \u001b[0mtrim_rule\u001b[0m\u001b[1;33m)\u001b[0m\u001b[1;33m\u001b[0m\u001b[1;33m\u001b[0m\u001b[0m\n\u001b[0m\u001b[0;32m    583\u001b[0m \u001b[1;33m\u001b[0m\u001b[0m\n\u001b[0;32m    584\u001b[0m         logger.info(\n",
      "\u001b[1;32m~\\anaconda3\\lib\\site-packages\\gensim\\models\\word2vec.py\u001b[0m in \u001b[0;36m_scan_vocab\u001b[1;34m(self, sentences, progress_per, trim_rule)\u001b[0m\n\u001b[0;32m    563\u001b[0m                     \u001b[0msentence_no\u001b[0m\u001b[1;33m,\u001b[0m \u001b[0mtotal_words\u001b[0m\u001b[1;33m,\u001b[0m \u001b[0mlen\u001b[0m\u001b[1;33m(\u001b[0m\u001b[0mvocab\u001b[0m\u001b[1;33m)\u001b[0m\u001b[1;33m,\u001b[0m\u001b[1;33m\u001b[0m\u001b[1;33m\u001b[0m\u001b[0m\n\u001b[0;32m    564\u001b[0m                 )\n\u001b[1;32m--> 565\u001b[1;33m             \u001b[1;32mfor\u001b[0m \u001b[0mword\u001b[0m \u001b[1;32min\u001b[0m \u001b[0msentence\u001b[0m\u001b[1;33m:\u001b[0m\u001b[1;33m\u001b[0m\u001b[1;33m\u001b[0m\u001b[0m\n\u001b[0m\u001b[0;32m    566\u001b[0m                 \u001b[0mvocab\u001b[0m\u001b[1;33m[\u001b[0m\u001b[0mword\u001b[0m\u001b[1;33m]\u001b[0m \u001b[1;33m+=\u001b[0m \u001b[1;36m1\u001b[0m\u001b[1;33m\u001b[0m\u001b[1;33m\u001b[0m\u001b[0m\n\u001b[0;32m    567\u001b[0m             \u001b[0mtotal_words\u001b[0m \u001b[1;33m+=\u001b[0m \u001b[0mlen\u001b[0m\u001b[1;33m(\u001b[0m\u001b[0msentence\u001b[0m\u001b[1;33m)\u001b[0m\u001b[1;33m\u001b[0m\u001b[1;33m\u001b[0m\u001b[0m\n",
      "\u001b[1;31mTypeError\u001b[0m: 'int' object is not iterable"
     ]
    }
   ],
   "source": [
    "import gensim\n",
    "from gensim.models import Word2Vec\n",
    "\n",
    "preprocessed_reviews1 = pd.DataFrame(preprocessed_reviews)\n",
    "\n",
    "model =gensim.models.Word2Vec(window = 10, min_count = 2, sg=0)\n",
    "model.build_vocab(preprocessed_reviews1,total_examples = model.corpus_count,epochs = model.epochs)"
   ]
  },
  {
   "cell_type": "markdown",
   "id": "691c1acd",
   "metadata": {},
   "source": [
    "# Word2Vec-Pre Trained Model"
   ]
  },
  {
   "cell_type": "code",
   "execution_count": null,
   "id": "a94d0023",
   "metadata": {},
   "outputs": [],
   "source": [
    "#this is has to run only in GPU device\n",
    "i = 0\n",
    "list_of_sentence = []\n",
    "for sentence in preprocessed_reviews:\n",
    "    list_of_sentence.append(sentence.split())\n",
    "    \n",
    "is_your_ram_gt_16g = False\n",
    "want_to_use_google_w2v = False\n",
    "want_to_train_w2v =True\n",
    "\n",
    "if want_to_train_w2v:\n",
    "    w2v_model =Word2Vec(list_of_sentence,window =10, min_count =2,sg=0)\n",
    "    print(w2v_model.wv.most_similar('good'))\n",
    "    print(\"*\"*20)\n",
    "    print(w2vmodel.wv.most_similar('bad'))\n",
    "elif want_to_use_google_w2v and is_your_ram_gt_16g:\n",
    "    if os.path.isfile(\"GoogleNews-vectors-negative300.bin\")"
   ]
  },
  {
   "cell_type": "code",
   "execution_count": null,
   "id": "336d202e",
   "metadata": {},
   "outputs": [],
   "source": []
  },
  {
   "cell_type": "code",
   "execution_count": null,
   "id": "05885db1",
   "metadata": {},
   "outputs": [],
   "source": []
  },
  {
   "cell_type": "code",
   "execution_count": null,
   "id": "ce026fca",
   "metadata": {},
   "outputs": [],
   "source": []
  },
  {
   "cell_type": "code",
   "execution_count": null,
   "id": "c476b892",
   "metadata": {},
   "outputs": [],
   "source": []
  },
  {
   "cell_type": "code",
   "execution_count": null,
   "id": "f09d40a4",
   "metadata": {},
   "outputs": [],
   "source": []
  }
 ],
 "metadata": {
  "kernelspec": {
   "display_name": "Python 3 (ipykernel)",
   "language": "python",
   "name": "python3"
  },
  "language_info": {
   "codemirror_mode": {
    "name": "ipython",
    "version": 3
   },
   "file_extension": ".py",
   "mimetype": "text/x-python",
   "name": "python",
   "nbconvert_exporter": "python",
   "pygments_lexer": "ipython3",
   "version": "3.9.13"
  }
 },
 "nbformat": 4,
 "nbformat_minor": 5
}
