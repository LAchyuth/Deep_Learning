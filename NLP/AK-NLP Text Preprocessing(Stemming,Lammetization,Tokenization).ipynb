{
 "cells": [
  {
   "cell_type": "code",
   "execution_count": 1,
   "id": "4a6c2111",
   "metadata": {},
   "outputs": [
    {
     "name": "stderr",
     "output_type": "stream",
     "text": [
      "C:\\Users\\achyu\\anaconda3\\lib\\site-packages\\scipy\\__init__.py:155: UserWarning: A NumPy version >=1.18.5 and <1.25.0 is required for this version of SciPy (detected version 1.26.3\n",
      "  warnings.warn(f\"A NumPy version >={np_minversion} and <{np_maxversion}\"\n"
     ]
    },
    {
     "name": "stdout",
     "output_type": "stream",
     "text": [
      "showing info https://raw.githubusercontent.com/nltk/nltk_data/gh-pages/index.xml\n"
     ]
    },
    {
     "data": {
      "text/plain": [
       "True"
      ]
     },
     "execution_count": 1,
     "metadata": {},
     "output_type": "execute_result"
    }
   ],
   "source": [
    "import nltk\n",
    "nltk.download()"
   ]
  },
  {
   "cell_type": "markdown",
   "id": "c6f210a5",
   "metadata": {},
   "source": [
    "# NLTK-Lemmatization"
   ]
  },
  {
   "cell_type": "code",
   "execution_count": 11,
   "id": "892bb183",
   "metadata": {},
   "outputs": [
    {
     "name": "stdout",
     "output_type": "stream",
     "text": [
      "dancing: dancing\n",
      "Happier: Happier\n",
      "happier: happy\n"
     ]
    }
   ],
   "source": [
    "from nltk.stem import WordNetLemmatizer\n",
    "\n",
    "# creating the object for lemmatizer\n",
    "\n",
    "lemmatizer = WordNetLemmatizer()\n",
    "\n",
    "print(\"dancing:\", lemmatizer.lemmatize(\"dancing\", pos ='a'))\n",
    "print(\"Happier:\", lemmatizer.lemmatize(\"Happier\"))\n",
    "print(\"happier:\", lemmatizer.lemmatize(\"happier\",pos ='a'))"
   ]
  },
  {
   "cell_type": "code",
   "execution_count": 18,
   "id": "3a2dfb32",
   "metadata": {},
   "outputs": [],
   "source": [
    "words = ['happy','happier','happiest','happiness','run','runs','ran','running','historii']"
   ]
  },
  {
   "cell_type": "code",
   "execution_count": 19,
   "id": "a61b429a",
   "metadata": {},
   "outputs": [
    {
     "name": "stdout",
     "output_type": "stream",
     "text": [
      "happy--->happy\n",
      "happier--->happier\n",
      "happiest--->happiest\n",
      "happiness--->happiness\n",
      "run--->run\n",
      "runs--->run\n",
      "ran--->ran\n",
      "running--->running\n",
      "historii--->historii\n"
     ]
    }
   ],
   "source": [
    "for word in words:\n",
    "    print(word + '--->' + lemmatizer.lemmatize(word))"
   ]
  },
  {
   "cell_type": "code",
   "execution_count": 25,
   "id": "cac5fd16",
   "metadata": {},
   "outputs": [
    {
     "name": "stdout",
     "output_type": "stream",
     "text": [
      "happy--->happy\n",
      "happier--->happy\n",
      "happiest--->happy\n",
      "happiness--->happiness\n",
      "run--->run\n",
      "runs--->runs\n",
      "ran--->ran\n",
      "running--->running\n",
      "historii--->historii\n"
     ]
    }
   ],
   "source": [
    "for word in words:\n",
    "    print(word + '--->' + lemmatizer.lemmatize(word, pos ='a'))"
   ]
  },
  {
   "cell_type": "markdown",
   "id": "1e4993dd",
   "metadata": {},
   "source": [
    "# NLTK-Stemming"
   ]
  },
  {
   "cell_type": "code",
   "execution_count": 23,
   "id": "706b4208",
   "metadata": {},
   "outputs": [
    {
     "name": "stdout",
     "output_type": "stream",
     "text": [
      "helping: help\n"
     ]
    }
   ],
   "source": [
    "from nltk.stem import PorterStemmer\n",
    "\n",
    "ps = PorterStemmer()\n",
    "\n",
    "print(\"helping:\", ps.stem(\"helping\"))"
   ]
  },
  {
   "cell_type": "code",
   "execution_count": 24,
   "id": "9246051c",
   "metadata": {},
   "outputs": [
    {
     "name": "stdout",
     "output_type": "stream",
     "text": [
      "caring: care\n"
     ]
    }
   ],
   "source": [
    "print(\"caring:\", ps.stem(\"caring\"))"
   ]
  },
  {
   "cell_type": "code",
   "execution_count": 26,
   "id": "b66170d8",
   "metadata": {},
   "outputs": [
    {
     "name": "stdout",
     "output_type": "stream",
     "text": [
      "happy--->happi\n",
      "happier--->happier\n",
      "happiest--->happiest\n",
      "happiness--->happi\n",
      "run--->run\n",
      "runs--->run\n",
      "ran--->ran\n",
      "running--->run\n",
      "historii--->historii\n"
     ]
    }
   ],
   "source": [
    "for word in words:\n",
    "    print(word + '--->' + ps.stem(word))\n",
    "    \n",
    "# historii should be history    "
   ]
  },
  {
   "cell_type": "code",
   "execution_count": 27,
   "id": "b01acc32",
   "metadata": {},
   "outputs": [],
   "source": [
    "from nltk.stem.snowball import SnowballStemmer\n",
    "s_stemmer = SnowballStemmer(language ='english')"
   ]
  },
  {
   "cell_type": "code",
   "execution_count": 28,
   "id": "5496d488",
   "metadata": {},
   "outputs": [
    {
     "name": "stdout",
     "output_type": "stream",
     "text": [
      "happy--->happi\n",
      "happier--->happier\n",
      "happiest--->happiest\n",
      "happiness--->happi\n",
      "run--->run\n",
      "runs--->run\n",
      "ran--->ran\n",
      "running--->run\n",
      "historii--->historii\n"
     ]
    }
   ],
   "source": [
    "for word in words:\n",
    "    print(word + '--->' + s_stemmer.stem(word))"
   ]
  },
  {
   "cell_type": "code",
   "execution_count": 31,
   "id": "d73e2a12",
   "metadata": {},
   "outputs": [],
   "source": [
    "paragraph = \"India was not a land of perpetual hostility, a territory constantly labelling people as ‘them’ and ‘us’. The campaign to keep emotions stoked and the polity polarised has taken great perseverance, writes the political analyst in his new booThe Ayodhya movement is unprecedented in the annals of Indian history. The success of the sangh parivar lies in having ensured that the passion and paranoia aroused in the course of the agitation for the Ram temple, was not limited to merely demolishing the Babri Masjid and constructing a new temple in its place.In addition to it, sentiments stirred in the minds of a large section of Hindus have become integral in their psyche. From a time when the dominant section of Hindus was in principle, of the view that it was obligatory for the majority to safeguard the interests of the minorities, the same people have now begun to think that the obligation is on minorities, to ensure that sentiments of the majority are not hurt.\"\n",
    "\n",
    "# paragraph should be 1 line"
   ]
  },
  {
   "cell_type": "code",
   "execution_count": 30,
   "id": "6915a14b",
   "metadata": {},
   "outputs": [
    {
     "data": {
      "text/plain": [
       "'India was not a land of perpetual hostility, a territory constantly labelling people as ‘them’ and ‘us’. The campaign to keep emotions stoked and the polity polarised has taken great perseverance, writes the political analyst in his new booThe Ayodhya movement is unprecedented in the annals of Indian history. The success of the sangh parivar lies in having ensured that the passion and paranoia aroused in the course of the agitation for the Ram temple, was not limited to merely demolishing the Babri Masjid and constructing a new temple in its place.In addition to it, sentiments stirred in the minds of a large section of Hindus have become integral in their psyche. From a time when the dominant section of Hindus was in principle, of the view that it was obligatory for the majority to safeguard the interests of the minorities, the same people have now begun to think that the obligation is on minorities, to ensure that sentiments of the majority are not hurt.'"
      ]
     },
     "execution_count": 30,
     "metadata": {},
     "output_type": "execute_result"
    }
   ],
   "source": [
    "paragraph"
   ]
  },
  {
   "cell_type": "markdown",
   "id": "3e062fd6",
   "metadata": {},
   "source": [
    "# NLTK - Tokenization(Word Token)"
   ]
  },
  {
   "cell_type": "code",
   "execution_count": 33,
   "id": "23cce99a",
   "metadata": {},
   "outputs": [],
   "source": [
    "words = nltk.word_tokenize(paragraph)"
   ]
  },
  {
   "cell_type": "code",
   "execution_count": 34,
   "id": "21a206de",
   "metadata": {},
   "outputs": [
    {
     "data": {
      "text/plain": [
       "['India',\n",
       " 'was',\n",
       " 'not',\n",
       " 'a',\n",
       " 'land',\n",
       " 'of',\n",
       " 'perpetual',\n",
       " 'hostility',\n",
       " ',',\n",
       " 'a',\n",
       " 'territory',\n",
       " 'constantly',\n",
       " 'labelling',\n",
       " 'people',\n",
       " 'as',\n",
       " '‘',\n",
       " 'them',\n",
       " '’',\n",
       " 'and',\n",
       " '‘',\n",
       " 'us',\n",
       " '’',\n",
       " '.',\n",
       " 'The',\n",
       " 'campaign',\n",
       " 'to',\n",
       " 'keep',\n",
       " 'emotions',\n",
       " 'stoked',\n",
       " 'and',\n",
       " 'the',\n",
       " 'polity',\n",
       " 'polarised',\n",
       " 'has',\n",
       " 'taken',\n",
       " 'great',\n",
       " 'perseverance',\n",
       " ',',\n",
       " 'writes',\n",
       " 'the',\n",
       " 'political',\n",
       " 'analyst',\n",
       " 'in',\n",
       " 'his',\n",
       " 'new',\n",
       " 'booThe',\n",
       " 'Ayodhya',\n",
       " 'movement',\n",
       " 'is',\n",
       " 'unprecedented',\n",
       " 'in',\n",
       " 'the',\n",
       " 'annals',\n",
       " 'of',\n",
       " 'Indian',\n",
       " 'history',\n",
       " '.',\n",
       " 'The',\n",
       " 'success',\n",
       " 'of',\n",
       " 'the',\n",
       " 'sangh',\n",
       " 'parivar',\n",
       " 'lies',\n",
       " 'in',\n",
       " 'having',\n",
       " 'ensured',\n",
       " 'that',\n",
       " 'the',\n",
       " 'passion',\n",
       " 'and',\n",
       " 'paranoia',\n",
       " 'aroused',\n",
       " 'in',\n",
       " 'the',\n",
       " 'course',\n",
       " 'of',\n",
       " 'the',\n",
       " 'agitation',\n",
       " 'for',\n",
       " 'the',\n",
       " 'Ram',\n",
       " 'temple',\n",
       " ',',\n",
       " 'was',\n",
       " 'not',\n",
       " 'limited',\n",
       " 'to',\n",
       " 'merely',\n",
       " 'demolishing',\n",
       " 'the',\n",
       " 'Babri',\n",
       " 'Masjid',\n",
       " 'and',\n",
       " 'constructing',\n",
       " 'a',\n",
       " 'new',\n",
       " 'temple',\n",
       " 'in',\n",
       " 'its',\n",
       " 'place.In',\n",
       " 'addition',\n",
       " 'to',\n",
       " 'it',\n",
       " ',',\n",
       " 'sentiments',\n",
       " 'stirred',\n",
       " 'in',\n",
       " 'the',\n",
       " 'minds',\n",
       " 'of',\n",
       " 'a',\n",
       " 'large',\n",
       " 'section',\n",
       " 'of',\n",
       " 'Hindus',\n",
       " 'have',\n",
       " 'become',\n",
       " 'integral',\n",
       " 'in',\n",
       " 'their',\n",
       " 'psyche',\n",
       " '.',\n",
       " 'From',\n",
       " 'a',\n",
       " 'time',\n",
       " 'when',\n",
       " 'the',\n",
       " 'dominant',\n",
       " 'section',\n",
       " 'of',\n",
       " 'Hindus',\n",
       " 'was',\n",
       " 'in',\n",
       " 'principle',\n",
       " ',',\n",
       " 'of',\n",
       " 'the',\n",
       " 'view',\n",
       " 'that',\n",
       " 'it',\n",
       " 'was',\n",
       " 'obligatory',\n",
       " 'for',\n",
       " 'the',\n",
       " 'majority',\n",
       " 'to',\n",
       " 'safeguard',\n",
       " 'the',\n",
       " 'interests',\n",
       " 'of',\n",
       " 'the',\n",
       " 'minorities',\n",
       " ',',\n",
       " 'the',\n",
       " 'same',\n",
       " 'people',\n",
       " 'have',\n",
       " 'now',\n",
       " 'begun',\n",
       " 'to',\n",
       " 'think',\n",
       " 'that',\n",
       " 'the',\n",
       " 'obligation',\n",
       " 'is',\n",
       " 'on',\n",
       " 'minorities',\n",
       " ',',\n",
       " 'to',\n",
       " 'ensure',\n",
       " 'that',\n",
       " 'sentiments',\n",
       " 'of',\n",
       " 'the',\n",
       " 'majority',\n",
       " 'are',\n",
       " 'not',\n",
       " 'hurt',\n",
       " '.']"
      ]
     },
     "execution_count": 34,
     "metadata": {},
     "output_type": "execute_result"
    }
   ],
   "source": [
    "words"
   ]
  },
  {
   "cell_type": "code",
   "execution_count": 45,
   "id": "bea59dd2",
   "metadata": {},
   "outputs": [
    {
     "name": "stdout",
     "output_type": "stream",
     "text": [
      "India\n",
      "was\n",
      "not\n",
      "a\n",
      "land\n",
      "of\n",
      "perpetual\n",
      "hostility\n",
      ",\n",
      "a\n",
      "territory\n",
      "constantly\n",
      "labelling\n",
      "people\n",
      "as\n",
      "‘\n",
      "them\n",
      "’\n",
      "and\n",
      "‘\n",
      "us\n",
      "’\n",
      ".\n",
      "The\n",
      "campaign\n",
      "to\n",
      "keep\n",
      "emotions\n",
      "stoked\n",
      "and\n",
      "the\n",
      "polity\n",
      "polarised\n",
      "has\n",
      "taken\n",
      "great\n",
      "perseverance\n",
      ",\n",
      "writes\n",
      "the\n",
      "political\n",
      "analyst\n",
      "in\n",
      "his\n",
      "new\n",
      "booThe\n",
      "Ayodhya\n",
      "movement\n",
      "is\n",
      "unprecedented\n",
      "in\n",
      "the\n",
      "annals\n",
      "of\n",
      "Indian\n",
      "history\n",
      ".\n",
      "The\n",
      "success\n",
      "of\n",
      "the\n",
      "sangh\n",
      "parivar\n",
      "lies\n",
      "in\n",
      "having\n",
      "ensured\n",
      "that\n",
      "the\n",
      "passion\n",
      "and\n",
      "paranoia\n",
      "aroused\n",
      "in\n",
      "the\n",
      "course\n",
      "of\n",
      "the\n",
      "agitation\n",
      "for\n",
      "the\n",
      "Ram\n",
      "temple\n",
      ",\n",
      "was\n",
      "not\n",
      "limited\n",
      "to\n",
      "merely\n",
      "demolishing\n",
      "the\n",
      "Babri\n",
      "Masjid\n",
      "and\n",
      "constructing\n",
      "a\n",
      "new\n",
      "temple\n",
      "in\n",
      "its\n",
      "place.In\n",
      "addition\n",
      "to\n",
      "it\n",
      ",\n",
      "sentiments\n",
      "stirred\n",
      "in\n",
      "the\n",
      "minds\n",
      "of\n",
      "a\n",
      "large\n",
      "section\n",
      "of\n",
      "Hindus\n",
      "have\n",
      "become\n",
      "integral\n",
      "in\n",
      "their\n",
      "psyche\n",
      ".\n",
      "From\n",
      "a\n",
      "time\n",
      "when\n",
      "the\n",
      "dominant\n",
      "section\n",
      "of\n",
      "Hindus\n",
      "was\n",
      "in\n",
      "principle\n",
      ",\n",
      "of\n",
      "the\n",
      "view\n",
      "that\n",
      "it\n",
      "was\n",
      "obligatory\n",
      "for\n",
      "the\n",
      "majority\n",
      "to\n",
      "safeguard\n",
      "the\n",
      "interests\n",
      "of\n",
      "the\n",
      "minorities\n",
      ",\n",
      "the\n",
      "same\n",
      "people\n",
      "have\n",
      "now\n",
      "begun\n",
      "to\n",
      "think\n",
      "that\n",
      "the\n",
      "obligation\n",
      "is\n",
      "on\n",
      "minorities\n",
      ",\n",
      "to\n",
      "ensure\n",
      "that\n",
      "sentiments\n",
      "of\n",
      "the\n",
      "majority\n",
      "are\n",
      "not\n",
      "hurt\n",
      ".\n"
     ]
    }
   ],
   "source": [
    "for word in nltk.word_tokenize(paragraph):\n",
    "    print(word)\n"
   ]
  },
  {
   "cell_type": "markdown",
   "id": "46a84972",
   "metadata": {},
   "source": [
    "# NLTK - Tokenization(Whitespace Tokenization)"
   ]
  },
  {
   "cell_type": "code",
   "execution_count": 47,
   "id": "b2a949a8",
   "metadata": {},
   "outputs": [],
   "source": [
    "white_token = nltk.tokenize.WhitespaceTokenizer()"
   ]
  },
  {
   "cell_type": "code",
   "execution_count": 48,
   "id": "ff2e5c17",
   "metadata": {},
   "outputs": [
    {
     "data": {
      "text/plain": [
       "['India',\n",
       " 'was',\n",
       " 'not',\n",
       " 'a',\n",
       " 'land',\n",
       " 'of',\n",
       " 'perpetual',\n",
       " 'hostility,',\n",
       " 'a',\n",
       " 'territory',\n",
       " 'constantly',\n",
       " 'labelling',\n",
       " 'people',\n",
       " 'as',\n",
       " '‘them’',\n",
       " 'and',\n",
       " '‘us’.',\n",
       " 'The',\n",
       " 'campaign',\n",
       " 'to',\n",
       " 'keep',\n",
       " 'emotions',\n",
       " 'stoked',\n",
       " 'and',\n",
       " 'the',\n",
       " 'polity',\n",
       " 'polarised',\n",
       " 'has',\n",
       " 'taken',\n",
       " 'great',\n",
       " 'perseverance,',\n",
       " 'writes',\n",
       " 'the',\n",
       " 'political',\n",
       " 'analyst',\n",
       " 'in',\n",
       " 'his',\n",
       " 'new',\n",
       " 'booThe',\n",
       " 'Ayodhya',\n",
       " 'movement',\n",
       " 'is',\n",
       " 'unprecedented',\n",
       " 'in',\n",
       " 'the',\n",
       " 'annals',\n",
       " 'of',\n",
       " 'Indian',\n",
       " 'history.',\n",
       " 'The',\n",
       " 'success',\n",
       " 'of',\n",
       " 'the',\n",
       " 'sangh',\n",
       " 'parivar',\n",
       " 'lies',\n",
       " 'in',\n",
       " 'having',\n",
       " 'ensured',\n",
       " 'that',\n",
       " 'the',\n",
       " 'passion',\n",
       " 'and',\n",
       " 'paranoia',\n",
       " 'aroused',\n",
       " 'in',\n",
       " 'the',\n",
       " 'course',\n",
       " 'of',\n",
       " 'the',\n",
       " 'agitation',\n",
       " 'for',\n",
       " 'the',\n",
       " 'Ram',\n",
       " 'temple,',\n",
       " 'was',\n",
       " 'not',\n",
       " 'limited',\n",
       " 'to',\n",
       " 'merely',\n",
       " 'demolishing',\n",
       " 'the',\n",
       " 'Babri',\n",
       " 'Masjid',\n",
       " 'and',\n",
       " 'constructing',\n",
       " 'a',\n",
       " 'new',\n",
       " 'temple',\n",
       " 'in',\n",
       " 'its',\n",
       " 'place.In',\n",
       " 'addition',\n",
       " 'to',\n",
       " 'it,',\n",
       " 'sentiments',\n",
       " 'stirred',\n",
       " 'in',\n",
       " 'the',\n",
       " 'minds',\n",
       " 'of',\n",
       " 'a',\n",
       " 'large',\n",
       " 'section',\n",
       " 'of',\n",
       " 'Hindus',\n",
       " 'have',\n",
       " 'become',\n",
       " 'integral',\n",
       " 'in',\n",
       " 'their',\n",
       " 'psyche.',\n",
       " 'From',\n",
       " 'a',\n",
       " 'time',\n",
       " 'when',\n",
       " 'the',\n",
       " 'dominant',\n",
       " 'section',\n",
       " 'of',\n",
       " 'Hindus',\n",
       " 'was',\n",
       " 'in',\n",
       " 'principle,',\n",
       " 'of',\n",
       " 'the',\n",
       " 'view',\n",
       " 'that',\n",
       " 'it',\n",
       " 'was',\n",
       " 'obligatory',\n",
       " 'for',\n",
       " 'the',\n",
       " 'majority',\n",
       " 'to',\n",
       " 'safeguard',\n",
       " 'the',\n",
       " 'interests',\n",
       " 'of',\n",
       " 'the',\n",
       " 'minorities,',\n",
       " 'the',\n",
       " 'same',\n",
       " 'people',\n",
       " 'have',\n",
       " 'now',\n",
       " 'begun',\n",
       " 'to',\n",
       " 'think',\n",
       " 'that',\n",
       " 'the',\n",
       " 'obligation',\n",
       " 'is',\n",
       " 'on',\n",
       " 'minorities,',\n",
       " 'to',\n",
       " 'ensure',\n",
       " 'that',\n",
       " 'sentiments',\n",
       " 'of',\n",
       " 'the',\n",
       " 'majority',\n",
       " 'are',\n",
       " 'not',\n",
       " 'hurt.']"
      ]
     },
     "execution_count": 48,
     "metadata": {},
     "output_type": "execute_result"
    }
   ],
   "source": [
    "white_token.tokenize(paragraph)"
   ]
  },
  {
   "cell_type": "code",
   "execution_count": 56,
   "id": "b9503e87",
   "metadata": {},
   "outputs": [
    {
     "name": "stdout",
     "output_type": "stream",
     "text": [
      "India\n",
      "was\n",
      "not\n",
      "a\n",
      "land\n",
      "of\n",
      "perpetual\n",
      "hostility,\n",
      "a\n",
      "territory\n",
      "constantly\n",
      "labelling\n",
      "people\n",
      "as\n",
      "‘them’\n",
      "and\n",
      "‘us’.\n",
      "The\n",
      "campaign\n",
      "to\n",
      "keep\n",
      "emotions\n",
      "stoked\n",
      "and\n",
      "the\n",
      "polity\n",
      "polarised\n",
      "has\n",
      "taken\n",
      "great\n",
      "perseverance,\n",
      "writes\n",
      "the\n",
      "political\n",
      "analyst\n",
      "in\n",
      "his\n",
      "new\n",
      "booThe\n",
      "Ayodhya\n",
      "movement\n",
      "is\n",
      "unprecedented\n",
      "in\n",
      "the\n",
      "annals\n",
      "of\n",
      "Indian\n",
      "history.\n",
      "The\n",
      "success\n",
      "of\n",
      "the\n",
      "sangh\n",
      "parivar\n",
      "lies\n",
      "in\n",
      "having\n",
      "ensured\n",
      "that\n",
      "the\n",
      "passion\n",
      "and\n",
      "paranoia\n",
      "aroused\n",
      "in\n",
      "the\n",
      "course\n",
      "of\n",
      "the\n",
      "agitation\n",
      "for\n",
      "the\n",
      "Ram\n",
      "temple,\n",
      "was\n",
      "not\n",
      "limited\n",
      "to\n",
      "merely\n",
      "demolishing\n",
      "the\n",
      "Babri\n",
      "Masjid\n",
      "and\n",
      "constructing\n",
      "a\n",
      "new\n",
      "temple\n",
      "in\n",
      "its\n",
      "place.In\n",
      "addition\n",
      "to\n",
      "it,\n",
      "sentiments\n",
      "stirred\n",
      "in\n",
      "the\n",
      "minds\n",
      "of\n",
      "a\n",
      "large\n",
      "section\n",
      "of\n",
      "Hindus\n",
      "have\n",
      "become\n",
      "integral\n",
      "in\n",
      "their\n",
      "psyche.\n",
      "From\n",
      "a\n",
      "time\n",
      "when\n",
      "the\n",
      "dominant\n",
      "section\n",
      "of\n",
      "Hindus\n",
      "was\n",
      "in\n",
      "principle,\n",
      "of\n",
      "the\n",
      "view\n",
      "that\n",
      "it\n",
      "was\n",
      "obligatory\n",
      "for\n",
      "the\n",
      "majority\n",
      "to\n",
      "safeguard\n",
      "the\n",
      "interests\n",
      "of\n",
      "the\n",
      "minorities,\n",
      "the\n",
      "same\n",
      "people\n",
      "have\n",
      "now\n",
      "begun\n",
      "to\n",
      "think\n",
      "that\n",
      "the\n",
      "obligation\n",
      "is\n",
      "on\n",
      "minorities,\n",
      "to\n",
      "ensure\n",
      "that\n",
      "sentiments\n",
      "of\n",
      "the\n",
      "majority\n",
      "are\n",
      "not\n",
      "hurt.\n"
     ]
    }
   ],
   "source": [
    "for whitespace in white_token.tokenize(paragraph):\n",
    "    print(whitespace)"
   ]
  },
  {
   "cell_type": "markdown",
   "id": "b1f64dec",
   "metadata": {},
   "source": [
    "# NLTK - Tokenization(Punctuation Tokenization)"
   ]
  },
  {
   "cell_type": "code",
   "execution_count": 53,
   "id": "be9f35eb",
   "metadata": {},
   "outputs": [],
   "source": [
    "word_punct = nltk.tokenize.WordPunctTokenizer()"
   ]
  },
  {
   "cell_type": "code",
   "execution_count": 54,
   "id": "80e0cf96",
   "metadata": {},
   "outputs": [
    {
     "data": {
      "text/plain": [
       "['India',\n",
       " 'was',\n",
       " 'not',\n",
       " 'a',\n",
       " 'land',\n",
       " 'of',\n",
       " 'perpetual',\n",
       " 'hostility',\n",
       " ',',\n",
       " 'a',\n",
       " 'territory',\n",
       " 'constantly',\n",
       " 'labelling',\n",
       " 'people',\n",
       " 'as',\n",
       " '‘',\n",
       " 'them',\n",
       " '’',\n",
       " 'and',\n",
       " '‘',\n",
       " 'us',\n",
       " '’.',\n",
       " 'The',\n",
       " 'campaign',\n",
       " 'to',\n",
       " 'keep',\n",
       " 'emotions',\n",
       " 'stoked',\n",
       " 'and',\n",
       " 'the',\n",
       " 'polity',\n",
       " 'polarised',\n",
       " 'has',\n",
       " 'taken',\n",
       " 'great',\n",
       " 'perseverance',\n",
       " ',',\n",
       " 'writes',\n",
       " 'the',\n",
       " 'political',\n",
       " 'analyst',\n",
       " 'in',\n",
       " 'his',\n",
       " 'new',\n",
       " 'booThe',\n",
       " 'Ayodhya',\n",
       " 'movement',\n",
       " 'is',\n",
       " 'unprecedented',\n",
       " 'in',\n",
       " 'the',\n",
       " 'annals',\n",
       " 'of',\n",
       " 'Indian',\n",
       " 'history',\n",
       " '.',\n",
       " 'The',\n",
       " 'success',\n",
       " 'of',\n",
       " 'the',\n",
       " 'sangh',\n",
       " 'parivar',\n",
       " 'lies',\n",
       " 'in',\n",
       " 'having',\n",
       " 'ensured',\n",
       " 'that',\n",
       " 'the',\n",
       " 'passion',\n",
       " 'and',\n",
       " 'paranoia',\n",
       " 'aroused',\n",
       " 'in',\n",
       " 'the',\n",
       " 'course',\n",
       " 'of',\n",
       " 'the',\n",
       " 'agitation',\n",
       " 'for',\n",
       " 'the',\n",
       " 'Ram',\n",
       " 'temple',\n",
       " ',',\n",
       " 'was',\n",
       " 'not',\n",
       " 'limited',\n",
       " 'to',\n",
       " 'merely',\n",
       " 'demolishing',\n",
       " 'the',\n",
       " 'Babri',\n",
       " 'Masjid',\n",
       " 'and',\n",
       " 'constructing',\n",
       " 'a',\n",
       " 'new',\n",
       " 'temple',\n",
       " 'in',\n",
       " 'its',\n",
       " 'place',\n",
       " '.',\n",
       " 'In',\n",
       " 'addition',\n",
       " 'to',\n",
       " 'it',\n",
       " ',',\n",
       " 'sentiments',\n",
       " 'stirred',\n",
       " 'in',\n",
       " 'the',\n",
       " 'minds',\n",
       " 'of',\n",
       " 'a',\n",
       " 'large',\n",
       " 'section',\n",
       " 'of',\n",
       " 'Hindus',\n",
       " 'have',\n",
       " 'become',\n",
       " 'integral',\n",
       " 'in',\n",
       " 'their',\n",
       " 'psyche',\n",
       " '.',\n",
       " 'From',\n",
       " 'a',\n",
       " 'time',\n",
       " 'when',\n",
       " 'the',\n",
       " 'dominant',\n",
       " 'section',\n",
       " 'of',\n",
       " 'Hindus',\n",
       " 'was',\n",
       " 'in',\n",
       " 'principle',\n",
       " ',',\n",
       " 'of',\n",
       " 'the',\n",
       " 'view',\n",
       " 'that',\n",
       " 'it',\n",
       " 'was',\n",
       " 'obligatory',\n",
       " 'for',\n",
       " 'the',\n",
       " 'majority',\n",
       " 'to',\n",
       " 'safeguard',\n",
       " 'the',\n",
       " 'interests',\n",
       " 'of',\n",
       " 'the',\n",
       " 'minorities',\n",
       " ',',\n",
       " 'the',\n",
       " 'same',\n",
       " 'people',\n",
       " 'have',\n",
       " 'now',\n",
       " 'begun',\n",
       " 'to',\n",
       " 'think',\n",
       " 'that',\n",
       " 'the',\n",
       " 'obligation',\n",
       " 'is',\n",
       " 'on',\n",
       " 'minorities',\n",
       " ',',\n",
       " 'to',\n",
       " 'ensure',\n",
       " 'that',\n",
       " 'sentiments',\n",
       " 'of',\n",
       " 'the',\n",
       " 'majority',\n",
       " 'are',\n",
       " 'not',\n",
       " 'hurt',\n",
       " '.']"
      ]
     },
     "execution_count": 54,
     "metadata": {},
     "output_type": "execute_result"
    }
   ],
   "source": [
    "word_punct.tokenize(paragraph)"
   ]
  },
  {
   "cell_type": "code",
   "execution_count": null,
   "id": "9935c2cf",
   "metadata": {},
   "outputs": [],
   "source": []
  },
  {
   "cell_type": "markdown",
   "id": "55dfa871",
   "metadata": {},
   "source": [
    "# NLTK - Tokenization(Sentence Tokenization)"
   ]
  },
  {
   "cell_type": "code",
   "execution_count": 70,
   "id": "4926ae59",
   "metadata": {},
   "outputs": [],
   "source": [
    "sentence = nltk.sent_tokenize(paragraph)"
   ]
  },
  {
   "cell_type": "code",
   "execution_count": 71,
   "id": "5ea59f52",
   "metadata": {},
   "outputs": [
    {
     "data": {
      "text/plain": [
       "['India was not a land of perpetual hostility, a territory constantly labelling people as ‘them’ and ‘us’.',\n",
       " 'The campaign to keep emotions stoked and the polity polarised has taken great perseverance, writes the political analyst in his new booThe Ayodhya movement is unprecedented in the annals of Indian history.',\n",
       " 'The success of the sangh parivar lies in having ensured that the passion and paranoia aroused in the course of the agitation for the Ram temple, was not limited to merely demolishing the Babri Masjid and constructing a new temple in its place.In addition to it, sentiments stirred in the minds of a large section of Hindus have become integral in their psyche.',\n",
       " 'From a time when the dominant section of Hindus was in principle, of the view that it was obligatory for the majority to safeguard the interests of the minorities, the same people have now begun to think that the obligation is on minorities, to ensure that sentiments of the majority are not hurt.']"
      ]
     },
     "execution_count": 71,
     "metadata": {},
     "output_type": "execute_result"
    }
   ],
   "source": [
    "sentence"
   ]
  },
  {
   "cell_type": "code",
   "execution_count": 57,
   "id": "6fadbe64",
   "metadata": {},
   "outputs": [
    {
     "data": {
      "text/plain": [
       "4"
      ]
     },
     "execution_count": 57,
     "metadata": {},
     "output_type": "execute_result"
    }
   ],
   "source": [
    "len(sentence)"
   ]
  },
  {
   "cell_type": "code",
   "execution_count": 44,
   "id": "9487feac",
   "metadata": {},
   "outputs": [
    {
     "name": "stdout",
     "output_type": "stream",
     "text": [
      "India was not a land of perpetual hostility, a territory constantly labelling people as ‘them’ and ‘us’.\n",
      "The campaign to keep emotions stoked and the polity polarised has taken great perseverance, writes the political analyst in his new booThe Ayodhya movement is unprecedented in the annals of Indian history.\n",
      "The success of the sangh parivar lies in having ensured that the passion and paranoia aroused in the course of the agitation for the Ram temple, was not limited to merely demolishing the Babri Masjid and constructing a new temple in its place.In addition to it, sentiments stirred in the minds of a large section of Hindus have become integral in their psyche.\n",
      "From a time when the dominant section of Hindus was in principle, of the view that it was obligatory for the majority to safeguard the interests of the minorities, the same people have now begun to think that the obligation is on minorities, to ensure that sentiments of the majority are not hurt.\n"
     ]
    }
   ],
   "source": [
    "for sent in nltk.sent_tokenize(paragraph):\n",
    "    print(sent)"
   ]
  },
  {
   "cell_type": "markdown",
   "id": "af601fd6",
   "metadata": {},
   "source": [
    "# NLTK - Stopwords"
   ]
  },
  {
   "cell_type": "code",
   "execution_count": 59,
   "id": "d5e88636",
   "metadata": {},
   "outputs": [],
   "source": [
    "from nltk.corpus import stopwords\n",
    "\n",
    "# corpus = consolidated(all put to together)"
   ]
  },
  {
   "cell_type": "code",
   "execution_count": 62,
   "id": "d1bde1eb",
   "metadata": {},
   "outputs": [
    {
     "name": "stdout",
     "output_type": "stream",
     "text": [
      "['au', 'aux', 'avec', 'ce', 'ces', 'dans', 'de', 'des', 'du', 'elle', 'en', 'et', 'eux', 'il', 'ils', 'je', 'la', 'le', 'les', 'leur', 'lui', 'ma', 'mais', 'me', 'même', 'mes', 'moi', 'mon', 'ne', 'nos', 'notre', 'nous', 'on', 'ou', 'par', 'pas', 'pour', 'qu', 'que', 'qui', 'sa', 'se', 'ses', 'son', 'sur', 'ta', 'te', 'tes', 'toi', 'ton', 'tu', 'un', 'une', 'vos', 'votre', 'vous', 'c', 'd', 'j', 'l', 'à', 'm', 'n', 's', 't', 'y', 'été', 'étée', 'étées', 'étés', 'étant', 'étante', 'étants', 'étantes', 'suis', 'es', 'est', 'sommes', 'êtes', 'sont', 'serai', 'seras', 'sera', 'serons', 'serez', 'seront', 'serais', 'serait', 'serions', 'seriez', 'seraient', 'étais', 'était', 'étions', 'étiez', 'étaient', 'fus', 'fut', 'fûmes', 'fûtes', 'furent', 'sois', 'soit', 'soyons', 'soyez', 'soient', 'fusse', 'fusses', 'fût', 'fussions', 'fussiez', 'fussent', 'ayant', 'ayante', 'ayantes', 'ayants', 'eu', 'eue', 'eues', 'eus', 'ai', 'as', 'avons', 'avez', 'ont', 'aurai', 'auras', 'aura', 'aurons', 'aurez', 'auront', 'aurais', 'aurait', 'aurions', 'auriez', 'auraient', 'avais', 'avait', 'avions', 'aviez', 'avaient', 'eut', 'eûmes', 'eûtes', 'eurent', 'aie', 'aies', 'ait', 'ayons', 'ayez', 'aient', 'eusse', 'eusses', 'eût', 'eussions', 'eussiez', 'eussent']\n"
     ]
    }
   ],
   "source": [
    "print(stopwords.words('french'))"
   ]
  },
  {
   "cell_type": "code",
   "execution_count": 63,
   "id": "b83cb417",
   "metadata": {},
   "outputs": [
    {
     "name": "stdout",
     "output_type": "stream",
     "text": [
      "['a', 'aadi', 'aaj', 'aap', 'aapne', 'aata', 'aati', 'aaya', 'aaye', 'ab', 'abbe', 'abbey', 'abe', 'abhi', 'able', 'about', 'above', 'accha', 'according', 'accordingly', 'acha', 'achcha', 'across', 'actually', 'after', 'afterwards', 'again', 'against', 'agar', 'ain', 'aint', \"ain't\", 'aisa', 'aise', 'aisi', 'alag', 'all', 'allow', 'allows', 'almost', 'alone', 'along', 'already', 'also', 'although', 'always', 'am', 'among', 'amongst', 'an', 'and', 'andar', 'another', 'any', 'anybody', 'anyhow', 'anyone', 'anything', 'anyway', 'anyways', 'anywhere', 'ap', 'apan', 'apart', 'apna', 'apnaa', 'apne', 'apni', 'appear', 'are', 'aren', 'arent', \"aren't\", 'around', 'arre', 'as', 'aside', 'ask', 'asking', 'at', 'aur', 'avum', 'aya', 'aye', 'baad', 'baar', 'bad', 'bahut', 'bana', 'banae', 'banai', 'banao', 'banaya', 'banaye', 'banayi', 'banda', 'bande', 'bandi', 'bane', 'bani', 'bas', 'bata', 'batao', 'bc', 'be', 'became', 'because', 'become', 'becomes', 'becoming', 'been', 'before', 'beforehand', 'behind', 'being', 'below', 'beside', 'besides', 'best', 'better', 'between', 'beyond', 'bhai', 'bheetar', 'bhi', 'bhitar', 'bht', 'bilkul', 'bohot', 'bol', 'bola', 'bole', 'boli', 'bolo', 'bolta', 'bolte', 'bolti', 'both', 'brief', 'bro', 'btw', 'but', 'by', 'came', 'can', 'cannot', 'cant', \"can't\", 'cause', 'causes', 'certain', 'certainly', 'chahiye', 'chaiye', 'chal', 'chalega', 'chhaiye', 'clearly', \"c'mon\", 'com', 'come', 'comes', 'could', 'couldn', 'couldnt', \"couldn't\", 'd', 'de', 'dede', 'dega', 'degi', 'dekh', 'dekha', 'dekhe', 'dekhi', 'dekho', 'denge', 'dhang', 'di', 'did', 'didn', 'didnt', \"didn't\", 'dijiye', 'diya', 'diyaa', 'diye', 'diyo', 'do', 'does', 'doesn', 'doesnt', \"doesn't\", 'doing', 'done', 'dono', 'dont', \"don't\", 'doosra', 'doosre', 'down', 'downwards', 'dude', 'dunga', 'dungi', 'during', 'dusra', 'dusre', 'dusri', 'dvaara', 'dvara', 'dwaara', 'dwara', 'each', 'edu', 'eg', 'eight', 'either', 'ek', 'else', 'elsewhere', 'enough', 'etc', 'even', 'ever', 'every', 'everybody', 'everyone', 'everything', 'everywhere', 'ex', 'exactly', 'example', 'except', 'far', 'few', 'fifth', 'fir', 'first', 'five', 'followed', 'following', 'follows', 'for', 'forth', 'four', 'from', 'further', 'furthermore', 'gaya', 'gaye', 'gayi', 'get', 'gets', 'getting', 'ghar', 'given', 'gives', 'go', 'goes', 'going', 'gone', 'good', 'got', 'gotten', 'greetings', 'haan', 'had', 'hadd', 'hadn', 'hadnt', \"hadn't\", 'hai', 'hain', 'hamara', 'hamare', 'hamari', 'hamne', 'han', 'happens', 'har', 'hardly', 'has', 'hasn', 'hasnt', \"hasn't\", 'have', 'haven', 'havent', \"haven't\", 'having', 'he', 'hello', 'help', 'hence', 'her', 'here', 'hereafter', 'hereby', 'herein', \"here's\", 'hereupon', 'hers', 'herself', \"he's\", 'hi', 'him', 'himself', 'his', 'hither', 'hm', 'hmm', 'ho', 'hoga', 'hoge', 'hogi', 'hona', 'honaa', 'hone', 'honge', 'hongi', 'honi', 'hopefully', 'hota', 'hotaa', 'hote', 'hoti', 'how', 'howbeit', 'however', 'hoyenge', 'hoyengi', 'hu', 'hua', 'hue', 'huh', 'hui', 'hum', 'humein', 'humne', 'hun', 'huye', 'huyi', 'i', \"i'd\", 'idk', 'ie', 'if', \"i'll\", \"i'm\", 'imo', 'in', 'inasmuch', 'inc', 'inhe', 'inhi', 'inho', 'inka', 'inkaa', 'inke', 'inki', 'inn', 'inner', 'inse', 'insofar', 'into', 'inward', 'is', 'ise', 'isi', 'iska', 'iskaa', 'iske', 'iski', 'isme', 'isn', 'isne', 'isnt', \"isn't\", 'iss', 'isse', 'issi', 'isski', 'it', \"it'd\", \"it'll\", 'itna', 'itne', 'itni', 'itno', 'its', \"it's\", 'itself', 'ityaadi', 'ityadi', \"i've\", 'ja', 'jaa', 'jab', 'jabh', 'jaha', 'jahaan', 'jahan', 'jaisa', 'jaise', 'jaisi', 'jata', 'jayega', 'jidhar', 'jin', 'jinhe', 'jinhi', 'jinho', 'jinhone', 'jinka', 'jinke', 'jinki', 'jinn', 'jis', 'jise', 'jiska', 'jiske', 'jiski', 'jisme', 'jiss', 'jisse', 'jitna', 'jitne', 'jitni', 'jo', 'just', 'jyaada', 'jyada', 'k', 'ka', 'kaafi', 'kab', 'kabhi', 'kafi', 'kaha', 'kahaa', 'kahaan', 'kahan', 'kahi', 'kahin', 'kahte', 'kaisa', 'kaise', 'kaisi', 'kal', 'kam', 'kar', 'kara', 'kare', 'karega', 'karegi', 'karen', 'karenge', 'kari', 'karke', 'karna', 'karne', 'karni', 'karo', 'karta', 'karte', 'karti', 'karu', 'karun', 'karunga', 'karungi', 'kaun', 'kaunsa', 'kayi', 'kch', 'ke', 'keep', 'keeps', 'keh', 'kehte', 'kept', 'khud', 'ki', 'kin', 'kine', 'kinhe', 'kinho', 'kinka', 'kinke', 'kinki', 'kinko', 'kinn', 'kino', 'kis', 'kise', 'kisi', 'kiska', 'kiske', 'kiski', 'kisko', 'kisliye', 'kisne', 'kitna', 'kitne', 'kitni', 'kitno', 'kiya', 'kiye', 'know', 'known', 'knows', 'ko', 'koi', 'kon', 'konsa', 'koyi', 'krna', 'krne', 'kuch', 'kuchch', 'kuchh', 'kul', 'kull', 'kya', 'kyaa', 'kyu', 'kyuki', 'kyun', 'kyunki', 'lagta', 'lagte', 'lagti', 'last', 'lately', 'later', 'le', 'least', 'lekar', 'lekin', 'less', 'lest', 'let', \"let's\", 'li', 'like', 'liked', 'likely', 'little', 'liya', 'liye', 'll', 'lo', 'log', 'logon', 'lol', 'look', 'looking', 'looks', 'ltd', 'lunga', 'm', 'maan', 'maana', 'maane', 'maani', 'maano', 'magar', 'mai', 'main', 'maine', 'mainly', 'mana', 'mane', 'mani', 'mano', 'many', 'mat', 'may', 'maybe', 'me', 'mean', 'meanwhile', 'mein', 'mera', 'mere', 'merely', 'meri', 'might', 'mightn', 'mightnt', \"mightn't\", 'mil', 'mjhe', 'more', 'moreover', 'most', 'mostly', 'much', 'mujhe', 'must', 'mustn', 'mustnt', \"mustn't\", 'my', 'myself', 'na', 'naa', 'naah', 'nahi', 'nahin', 'nai', 'name', 'namely', 'nd', 'ne', 'near', 'nearly', 'necessary', 'neeche', 'need', 'needn', 'neednt', \"needn't\", 'needs', 'neither', 'never', 'nevertheless', 'new', 'next', 'nhi', 'nine', 'no', 'nobody', 'non', 'none', 'noone', 'nope', 'nor', 'normally', 'not', 'nothing', 'novel', 'now', 'nowhere', 'o', 'obviously', 'of', 'off', 'often', 'oh', 'ok', 'okay', 'old', 'on', 'once', 'one', 'ones', 'only', 'onto', 'or', 'other', 'others', 'otherwise', 'ought', 'our', 'ours', 'ourselves', 'out', 'outside', 'over', 'overall', 'own', 'par', 'pata', 'pe', 'pehla', 'pehle', 'pehli', 'people', 'per', 'perhaps', 'phla', 'phle', 'phli', 'placed', 'please', 'plus', 'poora', 'poori', 'provides', 'pura', 'puri', 'q', 'que', 'quite', 'raha', 'rahaa', 'rahe', 'rahi', 'rakh', 'rakha', 'rakhe', 'rakhen', 'rakhi', 'rakho', 'rather', 're', 'really', 'reasonably', 'regarding', 'regardless', 'regards', 'rehte', 'rha', 'rhaa', 'rhe', 'rhi', 'ri', 'right', 's', 'sa', 'saara', 'saare', 'saath', 'sab', 'sabhi', 'sabse', 'sahi', 'said', 'sakta', 'saktaa', 'sakte', 'sakti', 'same', 'sang', 'sara', 'sath', 'saw', 'say', 'saying', 'says', 'se', 'second', 'secondly', 'see', 'seeing', 'seem', 'seemed', 'seeming', 'seems', 'seen', 'self', 'selves', 'sensible', 'sent', 'serious', 'seriously', 'seven', 'several', 'shall', 'shan', 'shant', \"shan't\", 'she', \"she's\", 'should', 'shouldn', 'shouldnt', \"shouldn't\", \"should've\", 'si', 'since', 'six', 'so', 'soch', 'some', 'somebody', 'somehow', 'someone', 'something', 'sometime', 'sometimes', 'somewhat', 'somewhere', 'soon', 'still', 'sub', 'such', 'sup', 'sure', 't', 'tab', 'tabh', 'tak', 'take', 'taken', 'tarah', 'teen', 'teeno', 'teesra', 'teesre', 'teesri', 'tell', 'tends', 'tera', 'tere', 'teri', 'th', 'tha', 'than', 'thank', 'thanks', 'thanx', 'that', \"that'll\", 'thats', \"that's\", 'the', 'theek', 'their', 'theirs', 'them', 'themselves', 'then', 'thence', 'there', 'thereafter', 'thereby', 'therefore', 'therein', 'theres', \"there's\", 'thereupon', 'these', 'they', \"they'd\", \"they'll\", \"they're\", \"they've\", 'thi', 'thik', 'thing', 'think', 'thinking', 'third', 'this', 'tho', 'thoda', 'thodi', 'thorough', 'thoroughly', 'those', 'though', 'thought', 'three', 'through', 'throughout', 'thru', 'thus', 'tjhe', 'to', 'together', 'toh', 'too', 'took', 'toward', 'towards', 'tried', 'tries', 'true', 'truly', 'try', 'trying', 'tu', 'tujhe', 'tum', 'tumhara', 'tumhare', 'tumhari', 'tune', 'twice', 'two', 'um', 'umm', 'un', 'under', 'unhe', 'unhi', 'unho', 'unhone', 'unka', 'unkaa', 'unke', 'unki', 'unko', 'unless', 'unlikely', 'unn', 'unse', 'until', 'unto', 'up', 'upar', 'upon', 'us', 'use', 'used', 'useful', 'uses', 'usi', 'using', 'uska', 'uske', 'usne', 'uss', 'usse', 'ussi', 'usually', 'vaala', 'vaale', 'vaali', 'vahaan', 'vahan', 'vahi', 'vahin', 'vaisa', 'vaise', 'vaisi', 'vala', 'vale', 'vali', 'various', 've', 'very', 'via', 'viz', 'vo', 'waala', 'waale', 'waali', 'wagaira', 'wagairah', 'wagerah', 'waha', 'wahaan', 'wahan', 'wahi', 'wahin', 'waisa', 'waise', 'waisi', 'wala', 'wale', 'wali', 'want', 'wants', 'was', 'wasn', 'wasnt', \"wasn't\", 'way', 'we', \"we'd\", 'well', \"we'll\", 'went', 'were', \"we're\", 'weren', 'werent', \"weren't\", \"we've\", 'what', 'whatever', \"what's\", 'when', 'whence', 'whenever', 'where', 'whereafter', 'whereas', 'whereby', 'wherein', \"where's\", 'whereupon', 'wherever', 'whether', 'which', 'while', 'who', 'whoever', 'whole', 'whom', \"who's\", 'whose', 'why', 'will', 'willing', 'with', 'within', 'without', 'wo', 'woh', 'wohi', 'won', 'wont', \"won't\", 'would', 'wouldn', 'wouldnt', \"wouldn't\", 'y', 'ya', 'yadi', 'yah', 'yaha', 'yahaan', 'yahan', 'yahi', 'yahin', 'ye', 'yeah', 'yeh', 'yehi', 'yes', 'yet', 'you', \"you'd\", \"you'll\", 'your', \"you're\", 'yours', 'yourself', 'yourselves', \"you've\", 'yup']\n"
     ]
    }
   ],
   "source": [
    "print(stopwords.words('hinglish'))"
   ]
  },
  {
   "cell_type": "code",
   "execution_count": null,
   "id": "27fcdeda",
   "metadata": {},
   "outputs": [],
   "source": []
  },
  {
   "cell_type": "markdown",
   "id": "8fb4218b",
   "metadata": {},
   "source": [
    "# Stemming"
   ]
  },
  {
   "cell_type": "code",
   "execution_count": 64,
   "id": "2d2c75dd",
   "metadata": {},
   "outputs": [],
   "source": [
    "for i in range(len(sentence)):\n",
    "    words = nltk.word_tokenize(sentence[i])\n",
    "    words = [ps.stem(word) for word in words if word not in set(stopwords.words('english'))]\n",
    "    sentence[i] = ' '.join(words)"
   ]
  },
  {
   "cell_type": "code",
   "execution_count": 65,
   "id": "5a00aeb8",
   "metadata": {},
   "outputs": [
    {
     "data": {
      "text/plain": [
       "['india land perpetu hostil , territori constantli label peopl ‘ ’ ‘ us ’ .',\n",
       " 'the campaign keep emot stoke politi polaris taken great persever , write polit analyst new booth ayodhya movement unpreced annal indian histori .',\n",
       " 'the success sangh parivar lie ensur passion paranoia arous cours agit ram templ , limit mere demolish babri masjid construct new templ place.in addit , sentiment stir mind larg section hindu becom integr psych .',\n",
       " 'from time domin section hindu principl , view obligatori major safeguard interest minor , peopl begun think oblig minor , ensur sentiment major hurt .']"
      ]
     },
     "execution_count": 65,
     "metadata": {},
     "output_type": "execute_result"
    }
   ],
   "source": [
    "sentence\n",
    "# In stemming by default it will convert to lowercase\n",
    "#India was not a land of perpetual hostility, a territory constantly labelling people as ‘them’ and ‘us’.\n"
   ]
  },
  {
   "cell_type": "markdown",
   "id": "023e943f",
   "metadata": {},
   "source": [
    "# Lemmatizer"
   ]
  },
  {
   "cell_type": "code",
   "execution_count": 72,
   "id": "57c93b76",
   "metadata": {},
   "outputs": [],
   "source": [
    "for i in range(len(sentence)):\n",
    "    words = nltk.word_tokenize(sentence[i])\n",
    "    words = [lemmatizer.lemmatize(word) for word in words if word not in set(stopwords.words('english'))]\n",
    "    sentence[i] = ' '.join(words)"
   ]
  },
  {
   "cell_type": "code",
   "execution_count": 73,
   "id": "e59d35be",
   "metadata": {},
   "outputs": [
    {
     "data": {
      "text/plain": [
       "['India land perpetual hostility , territory constantly labelling people ‘ ’ ‘ u ’ .',\n",
       " 'The campaign keep emotion stoked polity polarised taken great perseverance , writes political analyst new booThe Ayodhya movement unprecedented annals Indian history .',\n",
       " 'The success sangh parivar lie ensured passion paranoia aroused course agitation Ram temple , limited merely demolishing Babri Masjid constructing new temple place.In addition , sentiment stirred mind large section Hindus become integral psyche .',\n",
       " 'From time dominant section Hindus principle , view obligatory majority safeguard interest minority , people begun think obligation minority , ensure sentiment majority hurt .']"
      ]
     },
     "execution_count": 73,
     "metadata": {},
     "output_type": "execute_result"
    }
   ],
   "source": [
    "sentence\n",
    "\n",
    "#India was not a land of perpetual hostility, a territory constantly labelling people as ‘them’ and ‘us’."
   ]
  },
  {
   "cell_type": "code",
   "execution_count": null,
   "id": "ff19508d",
   "metadata": {},
   "outputs": [],
   "source": []
  },
  {
   "cell_type": "markdown",
   "id": "94674cc3",
   "metadata": {},
   "source": [
    "# NLTK : Processing Raw Text"
   ]
  },
  {
   "cell_type": "code",
   "execution_count": 74,
   "id": "f99bacf0",
   "metadata": {},
   "outputs": [],
   "source": [
    "my_input = \"Python is a Programming Language that is interpreted and high-level language. It is also called OOPS language. \""
   ]
  },
  {
   "cell_type": "code",
   "execution_count": 75,
   "id": "7e5f3b18",
   "metadata": {},
   "outputs": [
    {
     "name": "stdout",
     "output_type": "stream",
     "text": [
      "Text in lowercase: python is a programming language that is interpreted and high-level language. it is also called oops language. \n"
     ]
    }
   ],
   "source": [
    "print(\"Text in lowercase:\", my_input.lower())"
   ]
  },
  {
   "cell_type": "code",
   "execution_count": 76,
   "id": "cd3a301d",
   "metadata": {},
   "outputs": [],
   "source": [
    "my_input1 = \"Team A has 6 batsman and 5 bowlers,while team b has 5batsman and 6 bolwers\""
   ]
  },
  {
   "cell_type": "markdown",
   "id": "01ece5ef",
   "metadata": {},
   "source": [
    "# Regular Expression"
   ]
  },
  {
   "cell_type": "code",
   "execution_count": 77,
   "id": "b09fed87",
   "metadata": {},
   "outputs": [],
   "source": [
    "import re"
   ]
  },
  {
   "cell_type": "code",
   "execution_count": 78,
   "id": "7c490180",
   "metadata": {},
   "outputs": [
    {
     "name": "stdout",
     "output_type": "stream",
     "text": [
      "Numbers Removed: Team A has  batsman and  bowlers,while team b has batsman and  bolwers\n"
     ]
    }
   ],
   "source": [
    "# removing numbers from the input\n",
    "\n",
    "output = re.sub(r\"\\d+\",\"\",my_input1)\n",
    "print(\"Numbers Removed:\",output)"
   ]
  },
  {
   "cell_type": "markdown",
   "id": "3c770ddd",
   "metadata": {},
   "source": [
    "# String"
   ]
  },
  {
   "cell_type": "code",
   "execution_count": 79,
   "id": "cf4c19e0",
   "metadata": {},
   "outputs": [],
   "source": [
    "import string"
   ]
  },
  {
   "cell_type": "code",
   "execution_count": 82,
   "id": "4fb08db2",
   "metadata": {},
   "outputs": [
    {
     "data": {
      "text/plain": [
       "'Sentence. having. string with. Punctuation?'"
      ]
     },
     "execution_count": 82,
     "metadata": {},
     "output_type": "execute_result"
    }
   ],
   "source": [
    "input_str = \"Sentence. having. string with. Punctuation?\"\n",
    "input_str"
   ]
  },
  {
   "cell_type": "code",
   "execution_count": 84,
   "id": "86f385e8",
   "metadata": {},
   "outputs": [
    {
     "name": "stdout",
     "output_type": "stream",
     "text": [
      "result after removing punctuation : Sentence having string with Punctuation\n"
     ]
    }
   ],
   "source": [
    "# Remove Punctuation\n",
    "\n",
    "result = re.sub('[%s]' %re.escape(string.punctuation), '',input_str)\n",
    "print(\"result after removing punctuation :\",result)"
   ]
  },
  {
   "cell_type": "code",
   "execution_count": 85,
   "id": "3521f7ee",
   "metadata": {},
   "outputs": [
    {
     "data": {
      "text/plain": [
       "'python is programming          language \\t\\n\\t\\tHello \\t'"
      ]
     },
     "execution_count": 85,
     "metadata": {},
     "output_type": "execute_result"
    }
   ],
   "source": [
    "input_str1 = \"python is programming          language \\t\\n\\t\\tHello \\t\"\n",
    "input_str1"
   ]
  },
  {
   "cell_type": "code",
   "execution_count": 87,
   "id": "3a0f2035",
   "metadata": {},
   "outputs": [
    {
     "name": "stdout",
     "output_type": "stream",
     "text": [
      "Remove spaces using regex: pythonisprogramminglanguageHello\n"
     ]
    }
   ],
   "source": [
    "print(\"Remove spaces using regex:\", re.sub(r\"\\s+\",\"\",input_str1))"
   ]
  },
  {
   "cell_type": "code",
   "execution_count": 91,
   "id": "fb59d273",
   "metadata": {},
   "outputs": [
    {
     "name": "stdout",
     "output_type": "stream",
     "text": [
      "Remove spaces using regex:python is programming          language \t\n",
      "\t\tHello \t\n",
      "\n"
     ]
    }
   ],
   "source": [
    "print(\"Remove spaces using regex:\", re.sub(r\"^\\s+\",\"\",input_str1),\"\\n\",sep ='')"
   ]
  },
  {
   "cell_type": "code",
   "execution_count": 92,
   "id": "2ee6d816",
   "metadata": {},
   "outputs": [
    {
     "name": "stdout",
     "output_type": "stream",
     "text": [
      "Remove spaces using regex:python is programming          language \t\n",
      "\t\tHello\n",
      "\n"
     ]
    }
   ],
   "source": [
    "print(\"Remove spaces using regex:\", re.sub(r\"^\\s+|\\s+$\",\"\",input_str1),\"\\n\",sep ='')"
   ]
  },
  {
   "cell_type": "code",
   "execution_count": 93,
   "id": "177c45bf",
   "metadata": {},
   "outputs": [],
   "source": [
    "paragraph1 =\"BENGALURU: All India Majlis-e-Ittehadul Muslimeen (AIMIM) chief Asaduddin Owaisi on Saturday claimed that the Babri Masjid in Ayodhya was “very systematically snatched from the Muslims”He told media that Ram Mandir did not exist when Vishwa Hindu Parishad (VHP) was formed, and Mahatma Gandhi never mentioned anything about it. “...the Muslims had offered namaz in the area for 500 years.When Congress’ GB Pant was the chief minister of Uttar Pradesh, idols were placed inside the masjid. A collector named Nair shut down the masjid and started performing puja there. In the 1950s, Nair became the Jan Sangh’s first member of Parliament,” Owaisi said.Taking potshots on opposition parties and the BJP, Owaisi questioned Delhi chief minister Arvind Kejriwal’s decision to organise Sunderkand Paath and Hanuman Chalisa at government schools, raising concerns about imposition of religion in educational institutions.Explore Your Financial Landscape with Personalized Credit Insights.\""
   ]
  },
  {
   "cell_type": "code",
   "execution_count": 94,
   "id": "9c34dd6c",
   "metadata": {},
   "outputs": [
    {
     "data": {
      "text/plain": [
       "'BENGALURU: All India Majlis-e-Ittehadul Muslimeen (AIMIM) chief Asaduddin Owaisi on Saturday claimed that the Babri Masjid in Ayodhya was “very systematically snatched from the Muslims”He told media that Ram Mandir did not exist when Vishwa Hindu Parishad (VHP) was formed, and Mahatma Gandhi never mentioned anything about it. “...the Muslims had offered namaz in the area for 500 years.When Congress’ GB Pant was the chief minister of Uttar Pradesh, idols were placed inside the masjid. A collector named Nair shut down the masjid and started performing puja there. In the 1950s, Nair became the Jan Sangh’s first member of Parliament,” Owaisi said.Taking potshots on opposition parties and the BJP, Owaisi questioned Delhi chief minister Arvind Kejriwal’s decision to organise Sunderkand Paath and Hanuman Chalisa at government schools, raising concerns about imposition of religion in educational institutions.Explore Your Financial Landscape with Personalized Credit Insights.'"
      ]
     },
     "execution_count": 94,
     "metadata": {},
     "output_type": "execute_result"
    }
   ],
   "source": [
    "paragraph1"
   ]
  },
  {
   "cell_type": "code",
   "execution_count": 99,
   "id": "2856d0ba",
   "metadata": {},
   "outputs": [],
   "source": [
    "sentence =nltk.sent_tokenize(paragraph1)\n",
    "corpus = []\n",
    "\n",
    "for i in range(len(sentence)):\n",
    "    mysent = re.sub('[^a-zA-Z]',' ',sentence[i])\n",
    "    mysent = mysent.lower()\n",
    "    mysent = mysent.split()\n",
    "    mysent = [lemmatizer.lemmatize(word) for word in mysent if word not in set(stopwords.words('english'))]\n",
    "    mysent = ' '.join(mysent)\n",
    "    corpus.append(mysent)"
   ]
  },
  {
   "cell_type": "code",
   "execution_count": 100,
   "id": "9d33bf6a",
   "metadata": {},
   "outputs": [
    {
     "data": {
      "text/plain": [
       "['bengaluru india majlis e ittehadul muslimeen aimim chief asaduddin owaisi saturday claimed babri masjid ayodhya systematically snatched muslim told medium ram mandir exist vishwa hindu parishad vhp formed mahatma gandhi never mentioned anything',\n",
       " 'muslim offered namaz area year congress gb pant chief minister uttar pradesh idol placed inside masjid',\n",
       " 'collector named nair shut masjid started performing puja',\n",
       " 'nair became jan sangh first member parliament owaisi said taking potshot opposition party bjp owaisi questioned delhi chief minister arvind kejriwal decision organise sunderkand paath hanuman chalisa government school raising concern imposition religion educational institution explore financial landscape personalized credit insight']"
      ]
     },
     "execution_count": 100,
     "metadata": {},
     "output_type": "execute_result"
    }
   ],
   "source": [
    "corpus"
   ]
  },
  {
   "cell_type": "code",
   "execution_count": null,
   "id": "856b90df",
   "metadata": {},
   "outputs": [],
   "source": []
  },
  {
   "cell_type": "code",
   "execution_count": 101,
   "id": "d788063a",
   "metadata": {},
   "outputs": [],
   "source": [
    "from wordcloud import WordCloud"
   ]
  },
  {
   "cell_type": "code",
   "execution_count": 105,
   "id": "b5b30768",
   "metadata": {},
   "outputs": [
    {
     "data": {
      "text/plain": [
       "<wordcloud.wordcloud.WordCloud at 0x2584ca2c6d0>"
      ]
     },
     "execution_count": 105,
     "metadata": {},
     "output_type": "execute_result"
    }
   ],
   "source": [
    "wcloud = WordCloud( max_words=100,background_color='blue')\n",
    "wcloud.generate(paragraph)"
   ]
  },
  {
   "cell_type": "code",
   "execution_count": 106,
   "id": "bcb04dac",
   "metadata": {},
   "outputs": [
    {
     "data": {
      "image/png": "[encoded data removed]",
      "text/plain": [
       "<Figure size 2000x1500 with 1 Axes>"
      ]
     },
     "metadata": {},
     "output_type": "display_data"
    }
   ],
   "source": [
    "import matplotlib.pyplot as plt\n",
    "plt.figure(figsize =(20,15))\n",
    "plt.imshow(wcloud)\n",
    "plt.show()"
   ]
  },
  {
   "cell_type": "code",
   "execution_count": 108,
   "id": "195606aa",
   "metadata": {},
   "outputs": [
    {
     "data": {
      "text/plain": [
       "<wordcloud.wordcloud.WordCloud at 0x25849dabf40>"
      ]
     },
     "execution_count": 108,
     "metadata": {},
     "output_type": "execute_result"
    }
   ],
   "source": [
    "word_stop = nltk.corpus.stopwords.words('english')\n",
    "wcloud = WordCloud( max_words=100,background_color='white',stopwords = word_stop +['people','new','temple','sentiments'])\n",
    "wcloud.generate(paragraph)"
   ]
  },
  {
   "cell_type": "code",
   "execution_count": 109,
   "id": "f372dcf0",
   "metadata": {
    "scrolled": true
   },
   "outputs": [
    {
     "data": {
      "image/png": "[encoded data removed]",
      "text/plain": [
       "<Figure size 2000x1500 with 1 Axes>"
      ]
     },
     "metadata": {},
     "output_type": "display_data"
    }
   ],
   "source": [
    "import matplotlib.pyplot as plt\n",
    "plt.figure(figsize =(20,15))\n",
    "plt.imshow(wcloud)\n",
    "plt.show()"
   ]
  },
  {
   "cell_type": "code",
   "execution_count": null,
   "id": "8e4ac882",
   "metadata": {},
   "outputs": [],
   "source": []
  }
 ],
 "metadata": {
  "kernelspec": {
   "display_name": "Python 3 (ipykernel)",
   "language": "python",
   "name": "python3"
  },
  "language_info": {
   "codemirror_mode": {
    "name": "ipython",
    "version": 3
   },
   "file_extension": ".py",
   "mimetype": "text/x-python",
   "name": "python",
   "nbconvert_exporter": "python",
   "pygments_lexer": "ipython3",
   "version": "3.9.13"
  }
 },
 "nbformat": 4,
 "nbformat_minor": 5
}
