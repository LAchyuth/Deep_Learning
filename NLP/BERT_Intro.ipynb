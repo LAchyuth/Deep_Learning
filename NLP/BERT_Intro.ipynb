{
 "cells": [
  {
   "cell_type": "code",
   "execution_count": 1,
   "metadata": {
    "colab": {
     "base_uri": "https://localhost:8080/"
    },
    "id": "Q6bs_ID9ExM-",
    "outputId": "d50509b6-016b-43df-bffe-00c5c1685e49"
   },
   "outputs": [
    {
     "name": "stdout",
     "output_type": "stream",
     "text": [
      "Collecting tensorflow_text\n",
      "  Downloading tensorflow_text-2.15.0-cp310-cp310-manylinux_2_17_x86_64.manylinux2014_x86_64.whl (5.2 MB)\n",
      "\u001b[2K     \u001b[90m━━━━━━━━━━━━━━━━━━━━━━━━━━━━━━━━━━━━━━━━\u001b[0m \u001b[32m5.2/5.2 MB\u001b[0m \u001b[31m33.9 MB/s\u001b[0m eta \u001b[36m0:00:00\u001b[0m\n",
      "\u001b[?25hRequirement already satisfied: tensorflow-hub>=0.13.0 in /usr/local/lib/python3.10/dist-packages (from tensorflow_text) (0.16.1)\n",
      "Requirement already satisfied: tensorflow<2.16,>=2.15.0 in /usr/local/lib/python3.10/dist-packages (from tensorflow_text) (2.15.0)\n",
      "Requirement already satisfied: absl-py>=1.0.0 in /usr/local/lib/python3.10/dist-packages (from tensorflow<2.16,>=2.15.0->tensorflow_text) (1.4.0)\n",
      "Requirement already satisfied: astunparse>=1.6.0 in /usr/local/lib/python3.10/dist-packages (from tensorflow<2.16,>=2.15.0->tensorflow_text) (1.6.3)\n",
      "Requirement already satisfied: flatbuffers>=23.5.26 in /usr/local/lib/python3.10/dist-packages (from tensorflow<2.16,>=2.15.0->tensorflow_text) (23.5.26)\n",
      "Requirement already satisfied: gast!=0.5.0,!=0.5.1,!=0.5.2,>=0.2.1 in /usr/local/lib/python3.10/dist-packages (from tensorflow<2.16,>=2.15.0->tensorflow_text) (0.5.4)\n",
      "Requirement already satisfied: google-pasta>=0.1.1 in /usr/local/lib/python3.10/dist-packages (from tensorflow<2.16,>=2.15.0->tensorflow_text) (0.2.0)\n",
      "Requirement already satisfied: h5py>=2.9.0 in /usr/local/lib/python3.10/dist-packages (from tensorflow<2.16,>=2.15.0->tensorflow_text) (3.9.0)\n",
      "Requirement already satisfied: libclang>=13.0.0 in /usr/local/lib/python3.10/dist-packages (from tensorflow<2.16,>=2.15.0->tensorflow_text) (16.0.6)\n",
      "Requirement already satisfied: ml-dtypes~=0.2.0 in /usr/local/lib/python3.10/dist-packages (from tensorflow<2.16,>=2.15.0->tensorflow_text) (0.2.0)\n",
      "Requirement already satisfied: numpy<2.0.0,>=1.23.5 in /usr/local/lib/python3.10/dist-packages (from tensorflow<2.16,>=2.15.0->tensorflow_text) (1.25.2)\n",
      "Requirement already satisfied: opt-einsum>=2.3.2 in /usr/local/lib/python3.10/dist-packages (from tensorflow<2.16,>=2.15.0->tensorflow_text) (3.3.0)\n",
      "Requirement already satisfied: packaging in /usr/local/lib/python3.10/dist-packages (from tensorflow<2.16,>=2.15.0->tensorflow_text) (23.2)\n",
      "Requirement already satisfied: protobuf!=4.21.0,!=4.21.1,!=4.21.2,!=4.21.3,!=4.21.4,!=4.21.5,<5.0.0dev,>=3.20.3 in /usr/local/lib/python3.10/dist-packages (from tensorflow<2.16,>=2.15.0->tensorflow_text) (3.20.3)\n",
      "Requirement already satisfied: setuptools in /usr/local/lib/python3.10/dist-packages (from tensorflow<2.16,>=2.15.0->tensorflow_text) (67.7.2)\n",
      "Requirement already satisfied: six>=1.12.0 in /usr/local/lib/python3.10/dist-packages (from tensorflow<2.16,>=2.15.0->tensorflow_text) (1.16.0)\n",
      "Requirement already satisfied: termcolor>=1.1.0 in /usr/local/lib/python3.10/dist-packages (from tensorflow<2.16,>=2.15.0->tensorflow_text) (2.4.0)\n",
      "Requirement already satisfied: typing-extensions>=3.6.6 in /usr/local/lib/python3.10/dist-packages (from tensorflow<2.16,>=2.15.0->tensorflow_text) (4.9.0)\n",
      "Requirement already satisfied: wrapt<1.15,>=1.11.0 in /usr/local/lib/python3.10/dist-packages (from tensorflow<2.16,>=2.15.0->tensorflow_text) (1.14.1)\n",
      "Requirement already satisfied: tensorflow-io-gcs-filesystem>=0.23.1 in /usr/local/lib/python3.10/dist-packages (from tensorflow<2.16,>=2.15.0->tensorflow_text) (0.36.0)\n",
      "Requirement already satisfied: grpcio<2.0,>=1.24.3 in /usr/local/lib/python3.10/dist-packages (from tensorflow<2.16,>=2.15.0->tensorflow_text) (1.60.1)\n",
      "Requirement already satisfied: tensorboard<2.16,>=2.15 in /usr/local/lib/python3.10/dist-packages (from tensorflow<2.16,>=2.15.0->tensorflow_text) (2.15.2)\n",
      "Requirement already satisfied: tensorflow-estimator<2.16,>=2.15.0 in /usr/local/lib/python3.10/dist-packages (from tensorflow<2.16,>=2.15.0->tensorflow_text) (2.15.0)\n",
      "Requirement already satisfied: keras<2.16,>=2.15.0 in /usr/local/lib/python3.10/dist-packages (from tensorflow<2.16,>=2.15.0->tensorflow_text) (2.15.0)\n",
      "Requirement already satisfied: tf-keras>=2.14.1 in /usr/local/lib/python3.10/dist-packages (from tensorflow-hub>=0.13.0->tensorflow_text) (2.15.0)\n",
      "Requirement already satisfied: wheel<1.0,>=0.23.0 in /usr/local/lib/python3.10/dist-packages (from astunparse>=1.6.0->tensorflow<2.16,>=2.15.0->tensorflow_text) (0.42.0)\n",
      "Requirement already satisfied: google-auth<3,>=1.6.3 in /usr/local/lib/python3.10/dist-packages (from tensorboard<2.16,>=2.15->tensorflow<2.16,>=2.15.0->tensorflow_text) (2.27.0)\n",
      "Requirement already satisfied: google-auth-oauthlib<2,>=0.5 in /usr/local/lib/python3.10/dist-packages (from tensorboard<2.16,>=2.15->tensorflow<2.16,>=2.15.0->tensorflow_text) (1.2.0)\n",
      "Requirement already satisfied: markdown>=2.6.8 in /usr/local/lib/python3.10/dist-packages (from tensorboard<2.16,>=2.15->tensorflow<2.16,>=2.15.0->tensorflow_text) (3.5.2)\n",
      "Requirement already satisfied: requests<3,>=2.21.0 in /usr/local/lib/python3.10/dist-packages (from tensorboard<2.16,>=2.15->tensorflow<2.16,>=2.15.0->tensorflow_text) (2.31.0)\n",
      "Requirement already satisfied: tensorboard-data-server<0.8.0,>=0.7.0 in /usr/local/lib/python3.10/dist-packages (from tensorboard<2.16,>=2.15->tensorflow<2.16,>=2.15.0->tensorflow_text) (0.7.2)\n",
      "Requirement already satisfied: werkzeug>=1.0.1 in /usr/local/lib/python3.10/dist-packages (from tensorboard<2.16,>=2.15->tensorflow<2.16,>=2.15.0->tensorflow_text) (3.0.1)\n",
      "Requirement already satisfied: cachetools<6.0,>=2.0.0 in /usr/local/lib/python3.10/dist-packages (from google-auth<3,>=1.6.3->tensorboard<2.16,>=2.15->tensorflow<2.16,>=2.15.0->tensorflow_text) (5.3.2)\n",
      "Requirement already satisfied: pyasn1-modules>=0.2.1 in /usr/local/lib/python3.10/dist-packages (from google-auth<3,>=1.6.3->tensorboard<2.16,>=2.15->tensorflow<2.16,>=2.15.0->tensorflow_text) (0.3.0)\n",
      "Requirement already satisfied: rsa<5,>=3.1.4 in /usr/local/lib/python3.10/dist-packages (from google-auth<3,>=1.6.3->tensorboard<2.16,>=2.15->tensorflow<2.16,>=2.15.0->tensorflow_text) (4.9)\n",
      "Requirement already satisfied: requests-oauthlib>=0.7.0 in /usr/local/lib/python3.10/dist-packages (from google-auth-oauthlib<2,>=0.5->tensorboard<2.16,>=2.15->tensorflow<2.16,>=2.15.0->tensorflow_text) (1.3.1)\n",
      "Requirement already satisfied: charset-normalizer<4,>=2 in /usr/local/lib/python3.10/dist-packages (from requests<3,>=2.21.0->tensorboard<2.16,>=2.15->tensorflow<2.16,>=2.15.0->tensorflow_text) (3.3.2)\n",
      "Requirement already satisfied: idna<4,>=2.5 in /usr/local/lib/python3.10/dist-packages (from requests<3,>=2.21.0->tensorboard<2.16,>=2.15->tensorflow<2.16,>=2.15.0->tensorflow_text) (3.6)\n",
      "Requirement already satisfied: urllib3<3,>=1.21.1 in /usr/local/lib/python3.10/dist-packages (from requests<3,>=2.21.0->tensorboard<2.16,>=2.15->tensorflow<2.16,>=2.15.0->tensorflow_text) (2.0.7)\n",
      "Requirement already satisfied: certifi>=2017.4.17 in /usr/local/lib/python3.10/dist-packages (from requests<3,>=2.21.0->tensorboard<2.16,>=2.15->tensorflow<2.16,>=2.15.0->tensorflow_text) (2024.2.2)\n",
      "Requirement already satisfied: MarkupSafe>=2.1.1 in /usr/local/lib/python3.10/dist-packages (from werkzeug>=1.0.1->tensorboard<2.16,>=2.15->tensorflow<2.16,>=2.15.0->tensorflow_text) (2.1.5)\n",
      "Requirement already satisfied: pyasn1<0.6.0,>=0.4.6 in /usr/local/lib/python3.10/dist-packages (from pyasn1-modules>=0.2.1->google-auth<3,>=1.6.3->tensorboard<2.16,>=2.15->tensorflow<2.16,>=2.15.0->tensorflow_text) (0.5.1)\n",
      "Requirement already satisfied: oauthlib>=3.0.0 in /usr/local/lib/python3.10/dist-packages (from requests-oauthlib>=0.7.0->google-auth-oauthlib<2,>=0.5->tensorboard<2.16,>=2.15->tensorflow<2.16,>=2.15.0->tensorflow_text) (3.2.2)\n",
      "Installing collected packages: tensorflow_text\n",
      "Successfully installed tensorflow_text-2.15.0\n"
     ]
    }
   ],
   "source": [
    "!pip install tensorflow_text"
   ]
  },
  {
   "cell_type": "code",
   "execution_count": 2,
   "metadata": {
    "id": "dDAkXDP9Ey2z"
   },
   "outputs": [],
   "source": [
    "import numpy as np\n",
    "import tensorflow as tf\n",
    "import tensorflow_hub as hub\n",
    "import tensorflow_text as text"
   ]
  },
  {
   "cell_type": "code",
   "execution_count": 3,
   "metadata": {
    "id": "qRclYp6PEy5U"
   },
   "outputs": [],
   "source": [
    "preprocess_url = \"https://tfhub.dev/tensorflow/bert_en_uncased_preprocess/3\"\n",
    "encoder_url = \"https://tfhub.dev/tensorflow/bert_en_uncased_L-12_H-768_A-12/3\""
   ]
  },
  {
   "cell_type": "code",
   "execution_count": 6,
   "metadata": {
    "id": "20z03yuUEy7p"
   },
   "outputs": [],
   "source": [
    "bert_preprocess_model = hub.KerasLayer(preprocess_url)"
   ]
  },
  {
   "cell_type": "code",
   "execution_count": 14,
   "metadata": {
    "colab": {
     "base_uri": "https://localhost:8080/"
    },
    "id": "oc7SsPjxFRQK",
    "outputId": "5190ed2f-5f63-42ea-8778-f49cc706fdb2"
   },
   "outputs": [
    {
     "data": {
      "text/plain": [
       "dict_keys(['input_mask', 'input_word_ids', 'input_type_ids'])"
      ]
     },
     "execution_count": 14,
     "metadata": {},
     "output_type": "execute_result"
    }
   ],
   "source": [
    "my_test = ['turn off your light','nice to meet you', 'I love Amma nanna anna']\n",
    "text_preprocess = bert_preprocess_model(my_test)\n",
    "text_preprocess.keys()"
   ]
  },
  {
   "cell_type": "code",
   "execution_count": 15,
   "metadata": {
    "colab": {
     "base_uri": "https://localhost:8080/"
    },
    "id": "dpGcVRjuEy-K",
    "outputId": "fd3d6958-ab04-4066-dd0a-edd91a193e1d"
   },
   "outputs": [
    {
     "data": {
      "text/plain": [
       "<tf.Tensor: shape=(3, 128), dtype=int32, numpy=\n",
       "array([[0, 0, 0, 0, 0, 0, 0, 0, 0, 0, 0, 0, 0, 0, 0, 0, 0, 0, 0, 0, 0, 0,\n",
       "        0, 0, 0, 0, 0, 0, 0, 0, 0, 0, 0, 0, 0, 0, 0, 0, 0, 0, 0, 0, 0, 0,\n",
       "        0, 0, 0, 0, 0, 0, 0, 0, 0, 0, 0, 0, 0, 0, 0, 0, 0, 0, 0, 0, 0, 0,\n",
       "        0, 0, 0, 0, 0, 0, 0, 0, 0, 0, 0, 0, 0, 0, 0, 0, 0, 0, 0, 0, 0, 0,\n",
       "        0, 0, 0, 0, 0, 0, 0, 0, 0, 0, 0, 0, 0, 0, 0, 0, 0, 0, 0, 0, 0, 0,\n",
       "        0, 0, 0, 0, 0, 0, 0, 0, 0, 0, 0, 0, 0, 0, 0, 0, 0, 0],\n",
       "       [0, 0, 0, 0, 0, 0, 0, 0, 0, 0, 0, 0, 0, 0, 0, 0, 0, 0, 0, 0, 0, 0,\n",
       "        0, 0, 0, 0, 0, 0, 0, 0, 0, 0, 0, 0, 0, 0, 0, 0, 0, 0, 0, 0, 0, 0,\n",
       "        0, 0, 0, 0, 0, 0, 0, 0, 0, 0, 0, 0, 0, 0, 0, 0, 0, 0, 0, 0, 0, 0,\n",
       "        0, 0, 0, 0, 0, 0, 0, 0, 0, 0, 0, 0, 0, 0, 0, 0, 0, 0, 0, 0, 0, 0,\n",
       "        0, 0, 0, 0, 0, 0, 0, 0, 0, 0, 0, 0, 0, 0, 0, 0, 0, 0, 0, 0, 0, 0,\n",
       "        0, 0, 0, 0, 0, 0, 0, 0, 0, 0, 0, 0, 0, 0, 0, 0, 0, 0],\n",
       "       [0, 0, 0, 0, 0, 0, 0, 0, 0, 0, 0, 0, 0, 0, 0, 0, 0, 0, 0, 0, 0, 0,\n",
       "        0, 0, 0, 0, 0, 0, 0, 0, 0, 0, 0, 0, 0, 0, 0, 0, 0, 0, 0, 0, 0, 0,\n",
       "        0, 0, 0, 0, 0, 0, 0, 0, 0, 0, 0, 0, 0, 0, 0, 0, 0, 0, 0, 0, 0, 0,\n",
       "        0, 0, 0, 0, 0, 0, 0, 0, 0, 0, 0, 0, 0, 0, 0, 0, 0, 0, 0, 0, 0, 0,\n",
       "        0, 0, 0, 0, 0, 0, 0, 0, 0, 0, 0, 0, 0, 0, 0, 0, 0, 0, 0, 0, 0, 0,\n",
       "        0, 0, 0, 0, 0, 0, 0, 0, 0, 0, 0, 0, 0, 0, 0, 0, 0, 0]],\n",
       "      dtype=int32)>"
      ]
     },
     "execution_count": 15,
     "metadata": {},
     "output_type": "execute_result"
    }
   ],
   "source": [
    "text_preprocess['input_type_ids']"
   ]
  },
  {
   "cell_type": "code",
   "execution_count": 16,
   "metadata": {
    "colab": {
     "base_uri": "https://localhost:8080/"
    },
    "id": "e8XrUAP8EzAa",
    "outputId": "f6df013e-4aac-4988-92f9-e1b3edf4db3c"
   },
   "outputs": [
    {
     "data": {
      "text/plain": [
       "<tf.Tensor: shape=(3, 128), dtype=int32, numpy=\n",
       "array([[  101,  2735,  2125,  2115,  2422,   102,     0,     0,     0,\n",
       "            0,     0,     0,     0,     0,     0,     0,     0,     0,\n",
       "            0,     0,     0,     0,     0,     0,     0,     0,     0,\n",
       "            0,     0,     0,     0,     0,     0,     0,     0,     0,\n",
       "            0,     0,     0,     0,     0,     0,     0,     0,     0,\n",
       "            0,     0,     0,     0,     0,     0,     0,     0,     0,\n",
       "            0,     0,     0,     0,     0,     0,     0,     0,     0,\n",
       "            0,     0,     0,     0,     0,     0,     0,     0,     0,\n",
       "            0,     0,     0,     0,     0,     0,     0,     0,     0,\n",
       "            0,     0,     0,     0,     0,     0,     0,     0,     0,\n",
       "            0,     0,     0,     0,     0,     0,     0,     0,     0,\n",
       "            0,     0,     0,     0,     0,     0,     0,     0,     0,\n",
       "            0,     0,     0,     0,     0,     0,     0,     0,     0,\n",
       "            0,     0,     0,     0,     0,     0,     0,     0,     0,\n",
       "            0,     0],\n",
       "       [  101,  3835,  2000,  3113,  2017,   102,     0,     0,     0,\n",
       "            0,     0,     0,     0,     0,     0,     0,     0,     0,\n",
       "            0,     0,     0,     0,     0,     0,     0,     0,     0,\n",
       "            0,     0,     0,     0,     0,     0,     0,     0,     0,\n",
       "            0,     0,     0,     0,     0,     0,     0,     0,     0,\n",
       "            0,     0,     0,     0,     0,     0,     0,     0,     0,\n",
       "            0,     0,     0,     0,     0,     0,     0,     0,     0,\n",
       "            0,     0,     0,     0,     0,     0,     0,     0,     0,\n",
       "            0,     0,     0,     0,     0,     0,     0,     0,     0,\n",
       "            0,     0,     0,     0,     0,     0,     0,     0,     0,\n",
       "            0,     0,     0,     0,     0,     0,     0,     0,     0,\n",
       "            0,     0,     0,     0,     0,     0,     0,     0,     0,\n",
       "            0,     0,     0,     0,     0,     0,     0,     0,     0,\n",
       "            0,     0,     0,     0,     0,     0,     0,     0,     0,\n",
       "            0,     0],\n",
       "       [  101,  1045,  2293,  2572,  2863, 16660,  2532,  4698,   102,\n",
       "            0,     0,     0,     0,     0,     0,     0,     0,     0,\n",
       "            0,     0,     0,     0,     0,     0,     0,     0,     0,\n",
       "            0,     0,     0,     0,     0,     0,     0,     0,     0,\n",
       "            0,     0,     0,     0,     0,     0,     0,     0,     0,\n",
       "            0,     0,     0,     0,     0,     0,     0,     0,     0,\n",
       "            0,     0,     0,     0,     0,     0,     0,     0,     0,\n",
       "            0,     0,     0,     0,     0,     0,     0,     0,     0,\n",
       "            0,     0,     0,     0,     0,     0,     0,     0,     0,\n",
       "            0,     0,     0,     0,     0,     0,     0,     0,     0,\n",
       "            0,     0,     0,     0,     0,     0,     0,     0,     0,\n",
       "            0,     0,     0,     0,     0,     0,     0,     0,     0,\n",
       "            0,     0,     0,     0,     0,     0,     0,     0,     0,\n",
       "            0,     0,     0,     0,     0,     0,     0,     0,     0,\n",
       "            0,     0]], dtype=int32)>"
      ]
     },
     "execution_count": 16,
     "metadata": {},
     "output_type": "execute_result"
    }
   ],
   "source": [
    "text_preprocess['input_word_ids']"
   ]
  },
  {
   "cell_type": "code",
   "execution_count": null,
   "metadata": {
    "id": "fubHzRgCK5U6"
   },
   "outputs": [],
   "source": [
    "#101 - CLS token - as starting point\n",
    "#102 - SEP token - as ending point"
   ]
  },
  {
   "cell_type": "code",
   "execution_count": 17,
   "metadata": {
    "colab": {
     "base_uri": "https://localhost:8080/"
    },
    "id": "spoYuGVHEzDB",
    "outputId": "30f2dbd7-b47c-49e6-be26-f69c32dff270"
   },
   "outputs": [
    {
     "data": {
      "text/plain": [
       "<tf.Tensor: shape=(3, 128), dtype=int32, numpy=\n",
       "array([[1, 1, 1, 1, 1, 1, 0, 0, 0, 0, 0, 0, 0, 0, 0, 0, 0, 0, 0, 0, 0, 0,\n",
       "        0, 0, 0, 0, 0, 0, 0, 0, 0, 0, 0, 0, 0, 0, 0, 0, 0, 0, 0, 0, 0, 0,\n",
       "        0, 0, 0, 0, 0, 0, 0, 0, 0, 0, 0, 0, 0, 0, 0, 0, 0, 0, 0, 0, 0, 0,\n",
       "        0, 0, 0, 0, 0, 0, 0, 0, 0, 0, 0, 0, 0, 0, 0, 0, 0, 0, 0, 0, 0, 0,\n",
       "        0, 0, 0, 0, 0, 0, 0, 0, 0, 0, 0, 0, 0, 0, 0, 0, 0, 0, 0, 0, 0, 0,\n",
       "        0, 0, 0, 0, 0, 0, 0, 0, 0, 0, 0, 0, 0, 0, 0, 0, 0, 0],\n",
       "       [1, 1, 1, 1, 1, 1, 0, 0, 0, 0, 0, 0, 0, 0, 0, 0, 0, 0, 0, 0, 0, 0,\n",
       "        0, 0, 0, 0, 0, 0, 0, 0, 0, 0, 0, 0, 0, 0, 0, 0, 0, 0, 0, 0, 0, 0,\n",
       "        0, 0, 0, 0, 0, 0, 0, 0, 0, 0, 0, 0, 0, 0, 0, 0, 0, 0, 0, 0, 0, 0,\n",
       "        0, 0, 0, 0, 0, 0, 0, 0, 0, 0, 0, 0, 0, 0, 0, 0, 0, 0, 0, 0, 0, 0,\n",
       "        0, 0, 0, 0, 0, 0, 0, 0, 0, 0, 0, 0, 0, 0, 0, 0, 0, 0, 0, 0, 0, 0,\n",
       "        0, 0, 0, 0, 0, 0, 0, 0, 0, 0, 0, 0, 0, 0, 0, 0, 0, 0],\n",
       "       [1, 1, 1, 1, 1, 1, 1, 1, 1, 0, 0, 0, 0, 0, 0, 0, 0, 0, 0, 0, 0, 0,\n",
       "        0, 0, 0, 0, 0, 0, 0, 0, 0, 0, 0, 0, 0, 0, 0, 0, 0, 0, 0, 0, 0, 0,\n",
       "        0, 0, 0, 0, 0, 0, 0, 0, 0, 0, 0, 0, 0, 0, 0, 0, 0, 0, 0, 0, 0, 0,\n",
       "        0, 0, 0, 0, 0, 0, 0, 0, 0, 0, 0, 0, 0, 0, 0, 0, 0, 0, 0, 0, 0, 0,\n",
       "        0, 0, 0, 0, 0, 0, 0, 0, 0, 0, 0, 0, 0, 0, 0, 0, 0, 0, 0, 0, 0, 0,\n",
       "        0, 0, 0, 0, 0, 0, 0, 0, 0, 0, 0, 0, 0, 0, 0, 0, 0, 0]],\n",
       "      dtype=int32)>"
      ]
     },
     "execution_count": 17,
     "metadata": {},
     "output_type": "execute_result"
    }
   ],
   "source": [
    "text_preprocess['input_mask']"
   ]
  },
  {
   "cell_type": "code",
   "execution_count": 18,
   "metadata": {
    "id": "TzRWEpAMEzFh"
   },
   "outputs": [],
   "source": [
    "bert_model = hub.KerasLayer(encoder_url)"
   ]
  },
  {
   "cell_type": "code",
   "execution_count": 19,
   "metadata": {
    "id": "PfH__SMzEzIw"
   },
   "outputs": [],
   "source": [
    "bert_result = bert_model(text_preprocess)"
   ]
  },
  {
   "cell_type": "code",
   "execution_count": 20,
   "metadata": {
    "colab": {
     "base_uri": "https://localhost:8080/"
    },
    "id": "I0YPLw5sEzL7",
    "outputId": "488ffe5e-434a-429e-908c-89c2bde148b3"
   },
   "outputs": [
    {
     "data": {
      "text/plain": [
       "dict_keys(['default', 'pooled_output', 'encoder_outputs', 'sequence_output'])"
      ]
     },
     "execution_count": 20,
     "metadata": {},
     "output_type": "execute_result"
    }
   ],
   "source": [
    "bert_result.keys()"
   ]
  },
  {
   "cell_type": "code",
   "execution_count": 21,
   "metadata": {
    "colab": {
     "base_uri": "https://localhost:8080/"
    },
    "id": "LdM3bi_tEzOq",
    "outputId": "5ee12dbb-2836-4478-d8e7-1739bcb96567"
   },
   "outputs": [
    {
     "data": {
      "text/plain": [
       "<tf.Tensor: shape=(3, 768), dtype=float32, numpy=\n",
       "array([[-0.93794596, -0.3204129 , -0.71590376, ..., -0.15335166,\n",
       "        -0.7236935 ,  0.91708225],\n",
       "       [-0.9151437 , -0.33769265, -0.32997796, ..., -0.27260193,\n",
       "        -0.6857051 ,  0.9283448 ],\n",
       "       [-0.88634646, -0.5127099 , -0.6439721 , ..., -0.34905112,\n",
       "        -0.70260805,  0.912116  ]], dtype=float32)>"
      ]
     },
     "execution_count": 21,
     "metadata": {},
     "output_type": "execute_result"
    }
   ],
   "source": [
    "bert_result['default']\n",
    "# 3 - sentence\n",
    "#768 - bert base model length"
   ]
  },
  {
   "cell_type": "code",
   "execution_count": 22,
   "metadata": {
    "colab": {
     "base_uri": "https://localhost:8080/"
    },
    "id": "m2IcBwubEzRO",
    "outputId": "0b646763-9aa6-479f-a128-75a43f71100d"
   },
   "outputs": [
    {
     "data": {
      "text/plain": [
       "<tf.Tensor: shape=(3, 128, 768), dtype=float32, numpy=\n",
       "array([[[-0.09479013,  0.34507287, -0.3461476 , ..., -0.31168923,\n",
       "         -0.20191506,  0.19958632],\n",
       "        [ 0.6735527 ,  0.1974334 ,  0.20752442, ..., -0.05503698,\n",
       "         -0.21846071, -1.102461  ],\n",
       "        [-0.28480273, -0.10346453, -0.29538357, ..., -0.12958232,\n",
       "          0.4940308 , -0.05010235],\n",
       "        ...,\n",
       "        [ 0.35319188,  0.4622252 ,  0.45821887, ...,  0.13017753,\n",
       "         -0.55591714,  0.08855156],\n",
       "        [ 0.3004632 ,  0.4484887 ,  0.4657746 , ...,  0.07647607,\n",
       "         -0.54536116,  0.04742362],\n",
       "        [ 0.2925297 ,  0.41366357,  0.49874684, ...,  0.10523563,\n",
       "         -0.5841932 ,  0.04041333]],\n",
       "\n",
       "       [[ 0.07767205,  0.35863823,  0.14206295, ...,  0.01386192,\n",
       "          0.21017273,  0.21966219],\n",
       "        [ 0.2739254 , -0.09307075,  0.9069679 , ..., -0.20490491,\n",
       "         -0.7874201 ,  0.6380344 ],\n",
       "        [ 0.05126375,  0.10918806, -0.03899663, ..., -0.14166702,\n",
       "         -0.13486539, -0.00274808],\n",
       "        ...,\n",
       "        [ 0.12393108,  0.10288183,  0.51497024, ...,  0.22725144,\n",
       "         -0.36254328,  0.14657445],\n",
       "        [ 0.02489722,  0.11377202,  0.54502606, ...,  0.20747805,\n",
       "         -0.37221682,  0.12847771],\n",
       "        [ 0.10170139,  0.05538992,  0.56009406, ...,  0.37413222,\n",
       "         -0.16303042, -0.0694221 ]],\n",
       "\n",
       "       [[-0.6449997 ,  0.07741843, -0.02076552, ..., -0.5513354 ,\n",
       "          0.08508954,  0.03840544],\n",
       "        [-0.34693924,  0.54837257, -0.11493291, ..., -0.14301056,\n",
       "          0.35392347, -0.0190568 ],\n",
       "        [ 0.36109263,  1.2884171 ,  1.0457895 , ..., -0.5817687 ,\n",
       "          0.45806655,  0.21797773],\n",
       "        ...,\n",
       "        [-0.6051048 , -0.06963831,  0.32090175, ..., -0.24432641,\n",
       "         -0.20915914, -0.1128159 ],\n",
       "        [-0.5980142 , -0.01670628,  0.38097602, ..., -0.28554547,\n",
       "         -0.2516212 , -0.11019307],\n",
       "        [-0.576431  ,  0.04433167,  0.40947932, ..., -0.23014066,\n",
       "         -0.23144694, -0.05382095]]], dtype=float32)>"
      ]
     },
     "execution_count": 22,
     "metadata": {},
     "output_type": "execute_result"
    }
   ],
   "source": [
    "bert_result['sequence_output']"
   ]
  },
  {
   "cell_type": "code",
   "execution_count": 23,
   "metadata": {
    "colab": {
     "base_uri": "https://localhost:8080/"
    },
    "id": "8j_60n6KEzTu",
    "outputId": "76257448-759a-44f4-fc2b-6c083e5ff0b2"
   },
   "outputs": [
    {
     "data": {
      "text/plain": [
       "<tf.Tensor: shape=(3, 768), dtype=float32, numpy=\n",
       "array([[-0.93794596, -0.3204129 , -0.71590376, ..., -0.15335166,\n",
       "        -0.7236935 ,  0.91708225],\n",
       "       [-0.9151437 , -0.33769265, -0.32997796, ..., -0.27260193,\n",
       "        -0.6857051 ,  0.9283448 ],\n",
       "       [-0.88634646, -0.5127099 , -0.6439721 , ..., -0.34905112,\n",
       "        -0.70260805,  0.912116  ]], dtype=float32)>"
      ]
     },
     "execution_count": 23,
     "metadata": {},
     "output_type": "execute_result"
    }
   ],
   "source": [
    "bert_result['pooled_output']"
   ]
  },
  {
   "cell_type": "code",
   "execution_count": 24,
   "metadata": {
    "colab": {
     "base_uri": "https://localhost:8080/"
    },
    "id": "fxbhZRIfEzWT",
    "outputId": "cd10a732-62db-4e41-de9b-1208279bcbe9"
   },
   "outputs": [
    {
     "data": {
      "text/plain": [
       "[<tf.Tensor: shape=(3, 128, 768), dtype=float32, numpy=\n",
       " array([[[ 1.23868361e-01,  5.15157878e-02, -7.50974342e-02, ...,\n",
       "          -5.20934612e-02,  3.51240635e-02, -1.75303034e-02],\n",
       "         [-3.12642455e-01, -4.49806675e-02,  1.40574932e-01, ...,\n",
       "           5.07677317e-01,  2.16265500e-01, -1.76600003e+00],\n",
       "         [-2.72732675e-01, -9.74208564e-02,  1.03812528e+00, ...,\n",
       "          -7.58230090e-02,  7.15655029e-01, -2.25934982e-01],\n",
       "         ...,\n",
       "         [-3.68111134e-02, -1.22798443e-01,  5.77061892e-01, ...,\n",
       "           2.57708549e-01, -3.56560379e-01, -6.11344315e-02],\n",
       "         [-1.20892979e-01, -1.38749912e-01,  4.57589120e-01, ...,\n",
       "           2.64469355e-01, -2.64082134e-01, -1.28106311e-01],\n",
       "         [-1.63560137e-02, -8.69638771e-02,  4.63040948e-01, ...,\n",
       "           5.82251251e-01, -5.81920683e-01, -2.12515116e-01]],\n",
       " \n",
       "        [[ 9.67311636e-02,  5.99668846e-02, -2.51132250e-02, ...,\n",
       "          -1.43103302e-04,  7.99752846e-02,  1.85275972e-02],\n",
       "         [ 1.19450986e+00,  9.11099911e-01,  1.18490624e+00, ...,\n",
       "           2.47737795e-01, -3.42631370e-01, -3.76194328e-01],\n",
       "         [ 4.18000787e-01,  4.55725849e-01,  1.34932697e-01, ...,\n",
       "           2.47621715e-01,  5.62811852e-01,  1.49099797e-01],\n",
       "         ...,\n",
       "         [-8.62753913e-02, -2.53490150e-01,  6.75619841e-01, ...,\n",
       "           4.56506521e-01, -3.81652862e-01,  3.00608128e-02],\n",
       "         [-1.82225496e-01, -2.73018122e-01,  5.54327965e-01, ...,\n",
       "           4.94270444e-01, -2.72215903e-01, -5.93150482e-02],\n",
       "         [-6.13577627e-02, -1.98265225e-01,  5.78055263e-01, ...,\n",
       "           8.08470011e-01, -5.81061780e-01, -1.53851584e-01]],\n",
       " \n",
       "        [[ 1.70244798e-01,  9.77489352e-02, -1.06649652e-01, ...,\n",
       "           2.32854486e-03,  9.62514207e-02, -2.24048682e-02],\n",
       "         [ 7.72238672e-01,  1.04756689e+00, -2.60987133e-01, ...,\n",
       "           3.07287037e-01,  7.92052031e-01,  6.62113130e-02],\n",
       "         [ 1.48607504e+00,  8.42187047e-01,  7.83848912e-02, ...,\n",
       "           4.68585849e-01,  8.76703799e-01, -2.99406052e-01],\n",
       "         ...,\n",
       "         [ 1.23097375e-02, -2.12577417e-01,  6.17852807e-01, ...,\n",
       "           4.36422706e-01, -2.41096079e-01, -5.53469509e-02],\n",
       "         [-7.54832774e-02, -2.05513597e-01,  4.87903267e-01, ...,\n",
       "           4.58010495e-01, -1.55823141e-01, -1.55451685e-01],\n",
       "         [ 7.16824383e-02, -1.42040849e-01,  4.70430553e-01, ...,\n",
       "           7.85982072e-01, -4.67812866e-01, -2.43411109e-01]]],\n",
       "       dtype=float32)>,\n",
       " <tf.Tensor: shape=(3, 128, 768), dtype=float32, numpy=\n",
       " array([[[-9.48075950e-03, -1.89068347e-01, -1.71839625e-01, ...,\n",
       "           6.78425282e-02,  1.45370379e-01,  3.24921533e-02],\n",
       "         [ 9.68371034e-02,  7.34820813e-02,  5.16867936e-01, ...,\n",
       "           9.03718472e-01,  9.23534036e-02, -1.93976271e+00],\n",
       "         [-5.43314219e-01,  2.15362296e-01,  1.43440700e+00, ...,\n",
       "          -1.26440674e-01,  8.77796650e-01, -3.51720750e-02],\n",
       "         ...,\n",
       "         [-1.86457545e-01, -8.77483860e-02,  6.64861679e-01, ...,\n",
       "           8.91675591e-01, -4.50238258e-01, -2.57891178e-01],\n",
       "         [-3.73653203e-01,  2.22246125e-02,  6.42877638e-01, ...,\n",
       "           8.16759765e-01, -3.84982497e-01, -2.12285936e-01],\n",
       "         [-1.84495658e-01,  2.50961855e-02,  4.97205287e-01, ...,\n",
       "           1.03689885e+00, -6.01281404e-01, -2.31722906e-01]],\n",
       " \n",
       "        [[-7.11693466e-02, -1.47223368e-01, -1.78653166e-01, ...,\n",
       "           1.64101809e-01,  1.43211007e-01, -1.72388926e-03],\n",
       "         [ 8.58274400e-01,  1.14251816e+00,  1.78441322e+00, ...,\n",
       "           6.31427705e-01, -6.57111585e-01, -5.17579257e-01],\n",
       "         [ 3.56416315e-01,  1.90652817e-01,  3.98803890e-01, ...,\n",
       "           6.45244122e-01,  4.30898070e-01, -1.53680608e-01],\n",
       "         ...,\n",
       "         [-1.39382154e-01, -2.14942694e-01,  9.25738335e-01, ...,\n",
       "           1.10123050e+00, -5.42837381e-01, -3.36008877e-01],\n",
       "         [-3.94964010e-01, -2.33248860e-01,  6.63637340e-01, ...,\n",
       "           1.21832454e+00, -4.45340991e-01, -3.58573765e-01],\n",
       "         [-2.60421008e-01, -9.62420255e-02,  5.70593655e-01, ...,\n",
       "           1.35828221e+00, -6.21131897e-01, -4.18144733e-01]],\n",
       " \n",
       "        [[ 9.21114385e-02, -1.43853113e-01, -2.20777303e-01, ...,\n",
       "           8.89457911e-02,  8.69247094e-02,  2.75430642e-03],\n",
       "         [ 6.34942055e-01,  7.91390717e-01,  1.85976028e-01, ...,\n",
       "           4.38057452e-01,  3.92204404e-01,  2.01392144e-01],\n",
       "         [ 1.79525602e+00,  5.61481833e-01,  4.18250561e-01, ...,\n",
       "           1.05111551e+00,  7.86255062e-01, -3.96263182e-01],\n",
       "         ...,\n",
       "         [-1.00399174e-01, -1.16774872e-01,  4.45303768e-01, ...,\n",
       "           7.85693705e-01, -5.04220605e-01, -2.10982084e-01],\n",
       "         [-1.63748175e-01, -5.67530319e-02,  3.92721891e-01, ...,\n",
       "           7.91811705e-01, -4.45768356e-01, -2.96088725e-01],\n",
       "         [-3.97680700e-02, -2.08911821e-02,  3.31974417e-01, ...,\n",
       "           9.48580623e-01, -6.25450730e-01, -3.30890089e-01]]],\n",
       "       dtype=float32)>,\n",
       " <tf.Tensor: shape=(3, 128, 768), dtype=float32, numpy=\n",
       " array([[[ 0.01794597, -0.29210195,  0.0091635 , ...,  0.2275151 ,\n",
       "           0.15400241,  0.20818771],\n",
       "         [ 0.14685185, -0.16209295,  0.11465652, ...,  0.9852399 ,\n",
       "          -0.2027414 , -1.5143833 ],\n",
       "         [-0.54531264,  0.76304936,  1.3784865 , ...,  0.0743413 ,\n",
       "           0.36188358,  0.21426526],\n",
       "         ...,\n",
       "         [-0.14738041, -0.04964221,  0.84356725, ...,  1.0361489 ,\n",
       "          -0.12375754, -0.41609156],\n",
       "         [-0.37146378,  0.0561462 ,  0.7923848 , ...,  1.0063773 ,\n",
       "          -0.08240066, -0.33540216],\n",
       "         [-0.15203983,  0.02860389,  0.7208302 , ...,  1.1501606 ,\n",
       "          -0.3289896 , -0.31201506]],\n",
       " \n",
       "        [[-0.0686195 , -0.22979914, -0.02345038, ...,  0.31134924,\n",
       "           0.14488786,  0.20474884],\n",
       "         [ 1.2727071 ,  0.5104976 ,  1.3709085 , ...,  1.5295504 ,\n",
       "          -0.87159103, -0.00956413],\n",
       "         [ 0.7916808 ,  0.18115734,  0.65618265, ...,  0.79513675,\n",
       "           0.94111073,  0.11497464],\n",
       "         ...,\n",
       "         [-0.06531282, -0.21400066,  1.0770259 , ...,  1.1805452 ,\n",
       "          -0.00603672, -0.39881304],\n",
       "         [-0.28920346, -0.14572084,  0.8077674 , ...,  1.2974141 ,\n",
       "           0.03473068, -0.377641  ],\n",
       "         [-0.18072209, -0.07414715,  0.8001967 , ...,  1.3248212 ,\n",
       "          -0.15940276, -0.41670284]],\n",
       " \n",
       "        [[ 0.05138048, -0.200739  , -0.09780867, ...,  0.15593383,\n",
       "           0.05287233,  0.17441882],\n",
       "         [ 0.52424604,  0.33743057,  0.52451104, ...,  0.54455453,\n",
       "          -0.00766921,  0.41015616],\n",
       "         [ 1.9080789 ,  0.38604036,  0.5781288 , ...,  0.37693328,\n",
       "           0.5142473 , -0.21982308],\n",
       "         ...,\n",
       "         [-0.22137603,  0.02488565,  0.7169715 , ...,  0.83131456,\n",
       "          -0.25176355, -0.2815356 ],\n",
       "         [-0.35034624,  0.04276532,  0.6537576 , ...,  0.83862895,\n",
       "          -0.20830965, -0.39360985],\n",
       "         [-0.16288921,  0.03828903,  0.6824214 , ...,  0.99272007,\n",
       "          -0.41094637, -0.4139395 ]]], dtype=float32)>,\n",
       " <tf.Tensor: shape=(3, 128, 768), dtype=float32, numpy=\n",
       " array([[[ 0.28790385, -0.4381183 , -0.33019274, ...,  0.24488117,\n",
       "           0.04987844,  0.45993367],\n",
       "         [ 0.45713267, -0.16622494, -0.5241915 , ...,  0.2981635 ,\n",
       "          -0.40977794, -1.1453152 ],\n",
       "         [-0.05227306,  0.4708177 ,  0.27023363, ..., -0.3582429 ,\n",
       "           0.5351294 ,  0.01459696],\n",
       "         ...,\n",
       "         [-0.19651553, -0.2432783 ,  0.9217012 , ...,  0.89660996,\n",
       "          -0.41714725, -0.3338117 ],\n",
       "         [-0.5270747 , -0.08931652,  0.82926166, ...,  0.8650024 ,\n",
       "          -0.435883  , -0.3778691 ],\n",
       "         [-0.3716396 , -0.15244174,  0.7897622 , ...,  1.0357198 ,\n",
       "          -0.65947604, -0.29188672]],\n",
       " \n",
       "        [[ 0.1068555 , -0.2775544 , -0.6532713 , ...,  0.35617357,\n",
       "          -0.01004898,  0.52652514],\n",
       "         [ 1.2727257 ,  0.30716407,  1.4507967 , ...,  0.96928334,\n",
       "          -1.4301336 ,  0.33255324],\n",
       "         [ 1.0870265 , -0.27754778,  0.8117198 , ...,  0.7083591 ,\n",
       "           0.45612052,  0.10540012],\n",
       "         ...,\n",
       "         [-0.05747214, -0.41320592,  1.014384  , ...,  0.9799566 ,\n",
       "          -0.4278723 , -0.36559543],\n",
       "         [-0.26232174, -0.39405847,  0.9120458 , ...,  1.0346224 ,\n",
       "          -0.40607685, -0.3831703 ],\n",
       "         [-0.15433568, -0.31771833,  0.8904016 , ...,  1.1234053 ,\n",
       "          -0.5203721 , -0.52851784]],\n",
       " \n",
       "        [[ 0.20331673, -0.4214771 , -0.67923146, ...,  0.4892863 ,\n",
       "           0.12597157,  0.66602975],\n",
       "         [ 0.80449355,  0.02250463,  0.48290658, ...,  0.6552253 ,\n",
       "          -0.10651523,  0.0112686 ],\n",
       "         [ 1.5988221 ,  0.5925274 ,  0.53733456, ...,  0.43419108,\n",
       "           0.0120242 ,  0.09437841],\n",
       "         ...,\n",
       "         [-0.39128727, -0.5733565 ,  0.8191294 , ...,  0.9254805 ,\n",
       "          -0.699976  , -0.06528975],\n",
       "         [-0.5932628 , -0.540678  ,  0.6942285 , ...,  0.85413456,\n",
       "          -0.7556819 , -0.20542213],\n",
       "         [-0.3444338 , -0.52836853,  0.8875103 , ...,  1.1011956 ,\n",
       "          -0.8279514 , -0.2665938 ]]], dtype=float32)>,\n",
       " <tf.Tensor: shape=(3, 128, 768), dtype=float32, numpy=\n",
       " array([[[ 0.03860898, -0.47267246, -0.43296516, ..., -0.25498745,\n",
       "           0.03052158,  0.45953572],\n",
       "         [ 0.47998235, -0.0897387 , -0.6328076 , ...,  0.00994745,\n",
       "          -0.10103066, -0.69759756],\n",
       "         [ 0.09260137,  0.06103282,  0.7640214 , ..., -0.7301334 ,\n",
       "           0.39672127, -0.2799865 ],\n",
       "         ...,\n",
       "         [ 0.22797254, -0.08530182,  0.68876624, ...,  0.35192612,\n",
       "          -0.3970862 , -0.5137894 ],\n",
       "         [-0.02375839,  0.16571502,  0.55378187, ...,  0.22580443,\n",
       "          -0.41409168, -0.56813943],\n",
       "         [ 0.10114738,  0.00793313,  0.5629977 , ...,  0.35440266,\n",
       "          -0.5395243 , -0.5055034 ]],\n",
       " \n",
       "        [[ 0.00922192, -0.08052777, -0.47574106, ..., -0.1482719 ,\n",
       "           0.21510963,  0.5772653 ],\n",
       "         [ 0.48185885,  0.16513447,  0.8492307 , ...,  1.3520637 ,\n",
       "          -1.2338442 ,  0.2210329 ],\n",
       "         [ 1.5617548 , -0.3590271 ,  0.8223325 , ...,  1.2918825 ,\n",
       "           0.4777544 ,  0.18514894],\n",
       "         ...,\n",
       "         [ 0.19804648, -0.3767056 ,  1.1128069 , ...,  0.7170025 ,\n",
       "          -0.23833442, -0.8497275 ],\n",
       "         [-0.02734437, -0.32177094,  1.0569891 , ...,  0.70982385,\n",
       "          -0.19595462, -0.80049264],\n",
       "         [-0.00830237, -0.22794758,  1.1225046 , ...,  0.8365287 ,\n",
       "          -0.2714609 , -0.8990412 ]],\n",
       " \n",
       "        [[ 0.06237229, -0.28608063, -0.75226367, ...,  0.06043511,\n",
       "           0.4117777 ,  0.79293185],\n",
       "         [ 0.662732  , -0.225739  ,  0.23113596, ..., -0.03968666,\n",
       "          -0.0020032 ,  0.22675595],\n",
       "         [ 1.630035  ,  0.78835833,  0.2758201 , ..., -0.01194805,\n",
       "          -0.26478308,  0.0754089 ],\n",
       "         ...,\n",
       "         [-0.37497354, -0.2702017 ,  0.80262035, ...,  0.37848535,\n",
       "          -0.25599578, -0.36135367],\n",
       "         [-0.652905  , -0.13687584,  0.7574244 , ...,  0.3581111 ,\n",
       "          -0.32798982, -0.5170608 ],\n",
       "         [-0.47266197, -0.19480506,  0.90684247, ...,  0.5639771 ,\n",
       "          -0.4357047 , -0.58753693]]], dtype=float32)>,\n",
       " <tf.Tensor: shape=(3, 128, 768), dtype=float32, numpy=\n",
       " array([[[ 0.24989071, -0.48994282, -0.48357806, ..., -0.06864001,\n",
       "          -0.08788948,  0.67842835],\n",
       "         [ 0.02969119, -0.30965918, -0.21336913, ...,  0.05066707,\n",
       "          -0.5732532 , -1.025348  ],\n",
       "         [-0.54666513, -0.82472837, -0.02273713, ...,  0.05833973,\n",
       "           0.61571795, -0.20895346],\n",
       "         ...,\n",
       "         [ 0.16893965,  0.16088553,  1.1744075 , ...,  0.65825856,\n",
       "          -0.872063  , -0.38827547],\n",
       "         [-0.13665181,  0.34005147,  1.0197922 , ...,  0.5439711 ,\n",
       "          -0.8022095 , -0.42956144],\n",
       "         [-0.01978503,  0.1595575 ,  0.99359083, ...,  0.62703085,\n",
       "          -0.85991687, -0.37747437]],\n",
       " \n",
       "        [[ 0.12037966, -0.21020956, -0.22514501, ..., -0.16556817,\n",
       "          -0.06308375,  0.56428516],\n",
       "         [ 0.85110575, -0.10442752,  1.0459955 , ...,  1.5100033 ,\n",
       "          -0.9547385 ,  0.23231748],\n",
       "         [ 1.2981818 , -0.39591068,  1.2010944 , ...,  1.0721194 ,\n",
       "          -0.36338943,  0.14614926],\n",
       "         ...,\n",
       "         [ 0.13234217, -0.07896585,  1.3129866 , ...,  0.73982537,\n",
       "          -0.3064194 , -0.82387906],\n",
       "         [-0.13381937, -0.01818288,  1.2765156 , ...,  0.68935996,\n",
       "          -0.2620908 , -0.7744601 ],\n",
       "         [-0.09493562,  0.03494307,  1.3321416 , ...,  0.8316363 ,\n",
       "          -0.32665175, -0.941169  ]],\n",
       " \n",
       "        [[-0.06207661, -0.42564303, -0.9760952 , ..., -0.08156183,\n",
       "           0.31164986,  0.7828509 ],\n",
       "         [ 0.61735827, -0.06189323,  0.13002145, ...,  0.04831718,\n",
       "           0.53819555, -0.01982805],\n",
       "         [ 1.6235667 ,  0.7764138 ,  0.33623546, ..., -0.02776624,\n",
       "          -0.03141678,  0.42799392],\n",
       "         ...,\n",
       "         [-0.3773064 , -0.14051862,  1.075513  , ...,  0.57741445,\n",
       "          -0.42687836, -0.37305927],\n",
       "         [-0.6347109 ,  0.01867883,  1.1234301 , ...,  0.5466571 ,\n",
       "          -0.48619547, -0.47218782],\n",
       "         [-0.4962441 , -0.14328058,  1.2663097 , ...,  0.8280109 ,\n",
       "          -0.5056827 , -0.5489387 ]]], dtype=float32)>,\n",
       " <tf.Tensor: shape=(3, 128, 768), dtype=float32, numpy=\n",
       " array([[[ 0.75381696, -0.44752017, -0.10716681, ..., -0.54098547,\n",
       "           0.1039479 ,  0.94682384],\n",
       "         [ 0.6407854 ,  0.25097272, -0.01244545, ...,  0.64518607,\n",
       "           0.08735237, -1.100873  ],\n",
       "         [-0.01548306, -0.84340215,  0.1751219 , ...,  0.40196842,\n",
       "           0.07469969, -0.39671087],\n",
       "         ...,\n",
       "         [ 0.82145023,  0.36277965,  1.2480006 , ...,  1.0966765 ,\n",
       "          -0.81429076, -0.10280879],\n",
       "         [ 0.46224293,  0.4394741 ,  1.1886106 , ...,  0.851647  ,\n",
       "          -0.67092234, -0.23608783],\n",
       "         [ 0.41488415,  0.21021374,  1.1298624 , ...,  0.86957264,\n",
       "          -0.69956785, -0.16828698]],\n",
       " \n",
       "        [[ 0.11847128,  0.02966818,  0.18897228, ..., -0.33427837,\n",
       "          -0.29244962,  0.5234276 ],\n",
       "         [ 1.0298901 ,  0.40081438,  1.8863264 , ...,  0.93162256,\n",
       "          -0.70300364,  0.27630374],\n",
       "         [ 0.7523369 , -0.23909166,  1.4519361 , ...,  0.5011467 ,\n",
       "           0.44744527,  0.21356404],\n",
       "         ...,\n",
       "         [ 0.385625  ,  0.05197533,  1.6170444 , ...,  0.99310577,\n",
       "          -0.17865603, -0.6044817 ],\n",
       "         [ 0.07800312,  0.09763722,  1.5422393 , ...,  0.8759237 ,\n",
       "          -0.12177517, -0.5988975 ],\n",
       "         [ 0.08375195,  0.14092946,  1.5872566 , ...,  0.94616556,\n",
       "          -0.0599554 , -0.9528513 ]],\n",
       " \n",
       "        [[-0.01489152, -0.5579411 , -1.2263935 , ..., -0.02227606,\n",
       "           0.07177988,  1.1289097 ],\n",
       "         [ 0.5013038 , -0.11454991, -0.31613275, ...,  0.10363828,\n",
       "           0.44195583, -0.05238038],\n",
       "         [ 1.66142   ,  0.8633085 ,  0.2927559 , ...,  0.16523254,\n",
       "           0.22108462,  0.3434272 ],\n",
       "         ...,\n",
       "         [-0.13592106, -0.38287976,  1.31628   , ...,  0.8558281 ,\n",
       "          -0.29915154, -0.29177117],\n",
       "         [-0.29768503, -0.22917806,  1.3794601 , ...,  0.7208986 ,\n",
       "          -0.41255048, -0.42089427],\n",
       "         [-0.30584934, -0.34755626,  1.554448  , ...,  0.9947803 ,\n",
       "          -0.39796168, -0.4706131 ]]], dtype=float32)>,\n",
       " <tf.Tensor: shape=(3, 128, 768), dtype=float32, numpy=\n",
       " array([[[ 5.7001400e-01, -3.3758482e-01, -3.1296253e-01, ...,\n",
       "          -6.9611597e-01, -2.5224412e-02,  1.0607005e+00],\n",
       "         [ 9.0186220e-01,  1.0841900e-01,  3.0959567e-01, ...,\n",
       "           7.7723140e-01,  2.8488383e-01, -7.8765315e-01],\n",
       "         [-2.1648051e-01, -8.7011796e-01, -1.0436493e-01, ...,\n",
       "           1.0609219e+00,  2.2532532e-01, -5.1449120e-01],\n",
       "         ...,\n",
       "         [ 1.0772933e+00,  5.3899527e-01,  1.4621991e+00, ...,\n",
       "           1.2675951e+00, -6.1605328e-01,  1.9162668e-02],\n",
       "         [ 8.0671763e-01,  5.6785542e-01,  1.4620409e+00, ...,\n",
       "           9.9859226e-01, -5.3183424e-01, -1.4866534e-01],\n",
       "         [ 7.4999326e-01,  3.3733061e-01,  1.4147427e+00, ...,\n",
       "           9.4936329e-01, -6.3795727e-01, -1.4448163e-01]],\n",
       " \n",
       "        [[ 1.5447700e-01, -9.7292311e-02, -1.8455176e-01, ...,\n",
       "          -7.1664214e-01,  5.6325730e-02,  6.8015170e-01],\n",
       "         [ 7.3255134e-01,  2.0194063e-01,  2.1755598e+00, ...,\n",
       "           6.3955225e-03, -1.0738192e+00,  5.3940284e-01],\n",
       "         [ 3.2837790e-01, -5.4738522e-01,  1.7650242e+00, ...,\n",
       "           6.4329612e-01, -9.5742904e-02,  3.0981570e-01],\n",
       "         ...,\n",
       "         [ 2.6587626e-01,  2.8735167e-01,  1.9846016e+00, ...,\n",
       "           1.0429475e+00, -5.8202547e-01, -3.3978558e-01],\n",
       "         [-1.8864423e-03,  3.3650953e-01,  1.9490076e+00, ...,\n",
       "           8.8918316e-01, -6.1278003e-01, -3.2092217e-01],\n",
       "         [ 3.3560231e-02,  3.1168887e-01,  1.8765759e+00, ...,\n",
       "           9.4733626e-01, -4.2589238e-01, -7.6636630e-01]],\n",
       " \n",
       "        [[-2.8532165e-01, -3.7123191e-01, -8.4708107e-01, ...,\n",
       "          -4.4935119e-01, -7.5959966e-02,  7.1127886e-01],\n",
       "         [ 5.3269887e-01,  1.3143203e-01, -6.8394899e-01, ...,\n",
       "           9.8343045e-02,  4.0633392e-01,  4.2901263e-01],\n",
       "         [ 1.4899205e+00,  1.0638317e+00,  5.2441603e-01, ...,\n",
       "          -2.0364380e-01,  2.5008738e-01,  4.4552583e-01],\n",
       "         ...,\n",
       "         [-1.3669240e-01, -2.8181395e-01,  9.6852463e-01, ...,\n",
       "           6.3226479e-01, -3.9800754e-01, -3.9193773e-01],\n",
       "         [-2.7429488e-01, -2.7702183e-02,  1.0779501e+00, ...,\n",
       "           4.7987992e-01, -4.5866457e-01, -6.0467237e-01],\n",
       "         [-1.5400486e-01, -1.9914724e-01,  1.2342718e+00, ...,\n",
       "           7.5740296e-01, -5.0348920e-01, -5.9131455e-01]]], dtype=float32)>,\n",
       " <tf.Tensor: shape=(3, 128, 768), dtype=float32, numpy=\n",
       " array([[[ 0.38722473,  0.28530437, -0.85906184, ..., -0.5194638 ,\n",
       "          -0.5611757 ,  0.6109814 ],\n",
       "         [ 0.8041305 ,  0.29165074,  0.12834024, ..., -0.03515481,\n",
       "          -0.14872968, -0.76614046],\n",
       "         [-0.3824697 , -0.70448345, -0.538811  , ...,  0.7940336 ,\n",
       "           0.64225566, -0.6696796 ],\n",
       "         ...,\n",
       "         [ 1.081089  ,  0.84264857,  0.93907183, ...,  1.1458282 ,\n",
       "          -0.526376  ,  0.28145722],\n",
       "         [ 0.87084025,  0.8609929 ,  0.89391124, ...,  0.9132079 ,\n",
       "          -0.45035368,  0.10714302],\n",
       "         [ 0.76154345,  0.6907453 ,  0.92003417, ...,  0.9695525 ,\n",
       "          -0.5849283 ,  0.1261585 ]],\n",
       " \n",
       "        [[ 0.08046808,  0.22824612, -0.27332145, ..., -0.07821217,\n",
       "          -0.07152212,  0.4559203 ],\n",
       "         [ 0.3576942 ,  0.16076514,  1.6581177 , ..., -0.16242996,\n",
       "          -1.2274045 ,  0.7497953 ],\n",
       "         [ 0.44643468, -0.5651648 ,  0.8883982 , ...,  0.7043066 ,\n",
       "          -0.36039782,  0.27712578],\n",
       "         ...,\n",
       "         [ 0.28491378,  0.6455403 ,  1.4127336 , ...,  0.8809169 ,\n",
       "          -1.0801493 ,  0.11847625],\n",
       "         [-0.06170407,  0.76783794,  1.0774587 , ...,  0.72557837,\n",
       "          -1.1477346 ,  0.1861461 ],\n",
       "         [ 0.23319617,  0.6497025 ,  1.4616947 , ...,  0.9492086 ,\n",
       "          -0.5916298 , -0.37094456]],\n",
       " \n",
       "        [[-0.5599731 ,  0.28168944, -0.4275427 , ..., -0.05245373,\n",
       "          -0.04360478,  0.5164452 ],\n",
       "         [ 0.21472926,  0.8304119 , -0.18942805, ...,  0.2566664 ,\n",
       "           0.12965578,  0.2681612 ],\n",
       "         [ 1.1692889 ,  1.4059014 ,  0.7817835 , ..., -0.4748541 ,\n",
       "           0.46331555,  0.47289234],\n",
       "         ...,\n",
       "         [-0.01230035, -0.06400423,  0.85484535, ...,  0.41888967,\n",
       "          -0.14523153, -0.43393388],\n",
       "         [-0.04420607,  0.17576781,  1.1546694 , ...,  0.3119241 ,\n",
       "          -0.21840766, -0.6547771 ],\n",
       "         [ 0.00494209,  0.17002527,  1.3853352 , ...,  0.6159771 ,\n",
       "          -0.30857566, -0.54734933]]], dtype=float32)>,\n",
       " <tf.Tensor: shape=(3, 128, 768), dtype=float32, numpy=\n",
       " array([[[-0.13805723,  0.09695042, -0.660758  , ..., -0.5972204 ,\n",
       "          -1.1105307 ,  0.4026499 ],\n",
       "         [ 1.0946885 ,  0.0506973 ,  0.2151433 , ..., -0.33661947,\n",
       "           0.20181422, -1.3890346 ],\n",
       "         [-0.06454812, -0.15446073, -0.30739442, ...,  0.5091667 ,\n",
       "           1.1747954 , -0.94082886],\n",
       "         ...,\n",
       "         [ 1.1715236 ,  0.9457513 ,  0.8817866 , ...,  0.68863493,\n",
       "          -0.5383091 ,  0.43938673],\n",
       "         [ 0.948586  ,  0.94739115,  0.804137  , ...,  0.53123564,\n",
       "          -0.56509566,  0.28337806],\n",
       "         [ 0.8429442 ,  0.7945714 ,  0.857854  , ...,  0.5977852 ,\n",
       "          -0.80104107,  0.2990366 ]],\n",
       " \n",
       "        [[-0.12160301,  0.0946319 ,  0.39924666, ..., -0.1876457 ,\n",
       "          -0.26690844,  0.84116524],\n",
       "         [ 0.21845825, -0.6390783 ,  1.5572149 , ..., -0.13616475,\n",
       "          -1.1046993 ,  0.57641536],\n",
       "         [ 0.2233793 , -1.1759566 ,  0.76765823, ...,  0.30120468,\n",
       "          -0.22209758,  0.21795695],\n",
       "         ...,\n",
       "         [ 0.23895964,  0.47789437,  1.3125247 , ...,  0.4885679 ,\n",
       "          -1.0745445 ,  0.43153006],\n",
       "         [-0.15124726,  0.6203948 ,  1.1716636 , ...,  0.30051497,\n",
       "          -1.1037685 ,  0.4788128 ],\n",
       "         [ 0.11800314,  0.44793993,  1.256809  , ...,  0.6650206 ,\n",
       "          -0.5628223 ,  0.0095276 ]],\n",
       " \n",
       "        [[-0.68646985, -0.04768921, -0.23278159, ...,  0.03906022,\n",
       "           0.02722849,  0.22552405],\n",
       "         [ 0.2509384 ,  0.9024443 ,  0.41761607, ...,  0.39600328,\n",
       "           0.3300457 , -0.02586687],\n",
       "         [ 0.92298436,  1.4258697 ,  0.9868114 , ..., -0.43776014,\n",
       "           1.0568615 ,  0.43795586],\n",
       "         ...,\n",
       "         [-0.2563191 ,  0.0692111 ,  1.0046985 , ...,  0.1136242 ,\n",
       "          -0.2053244 , -0.08656782],\n",
       "         [-0.3383783 ,  0.2835815 ,  1.3193038 , ...,  0.03090258,\n",
       "          -0.2763695 , -0.25137642],\n",
       "         [-0.33259326,  0.37372938,  1.4175237 , ...,  0.32073203,\n",
       "          -0.4136769 , -0.27457607]]], dtype=float32)>,\n",
       " <tf.Tensor: shape=(3, 128, 768), dtype=float32, numpy=\n",
       " array([[[ 0.2163175 ,  0.4950205 , -0.17175207, ..., -0.44523033,\n",
       "          -1.2950879 , -0.08601286],\n",
       "         [ 1.2648946 ,  0.4371252 ,  0.25429457, ..., -0.4600586 ,\n",
       "          -0.46181303, -1.447672  ],\n",
       "         [ 0.14230835, -0.17800944, -0.82005507, ...,  0.03359351,\n",
       "           0.8284128 , -0.54129857],\n",
       "         ...,\n",
       "         [ 1.2520008 ,  1.0524902 ,  0.9675166 , ...,  0.32461825,\n",
       "          -1.1329237 , -0.0340682 ],\n",
       "         [ 1.0651975 ,  1.012127  ,  0.94760126, ...,  0.20395435,\n",
       "          -1.1405672 , -0.10093489],\n",
       "         [ 1.0136243 ,  0.8934921 ,  1.020271  , ...,  0.19322422,\n",
       "          -1.2715129 , -0.0548749 ]],\n",
       " \n",
       "        [[ 0.13046956,  0.40462178,  0.48694777, ..., -0.14452012,\n",
       "           0.10010994,  0.14138237],\n",
       "         [ 0.2534872 , -0.16138203,  1.2413222 , ..., -0.5372497 ,\n",
       "          -0.8450553 ,  0.03887943],\n",
       "         [-0.142478  , -0.6017348 ,  0.43589061, ..., -0.27050674,\n",
       "          -0.10231815, -0.3812322 ],\n",
       "         ...,\n",
       "         [ 0.39382097,  0.20416448,  1.1390209 , ...,  0.14644474,\n",
       "          -0.8314243 ,  0.28550556],\n",
       "         [ 0.07733209,  0.32026896,  1.1152728 , ..., -0.03429148,\n",
       "          -0.89113307,  0.28942502],\n",
       "         [ 0.26358443,  0.08847624,  1.0919484 , ...,  0.30402568,\n",
       "          -0.4430811 , -0.07637419]],\n",
       " \n",
       "        [[-0.75798744,  0.16069074,  0.04802335, ..., -0.25906965,\n",
       "           0.00174912, -0.01116219],\n",
       "         [ 0.07645026,  0.9715273 ,  0.4810018 , ..., -0.19871463,\n",
       "           0.03625443,  0.08479314],\n",
       "         [ 0.6088982 ,  1.4728655 ,  0.87756985, ..., -0.74590725,\n",
       "           0.6950012 ,  0.49481267],\n",
       "         ...,\n",
       "         [-0.6604065 ,  0.07357027,  1.0258732 , ..., -0.3787089 ,\n",
       "          -0.64386284, -0.3054069 ],\n",
       "         [-0.6450214 ,  0.19424325,  1.1841632 , ..., -0.4592417 ,\n",
       "          -0.7090373 , -0.35510924],\n",
       "         [-0.66380346,  0.2937441 ,  1.215149  , ..., -0.22177337,\n",
       "          -0.6389984 , -0.28586727]]], dtype=float32)>,\n",
       " <tf.Tensor: shape=(3, 128, 768), dtype=float32, numpy=\n",
       " array([[[-0.09479013,  0.34507287, -0.3461476 , ..., -0.31168923,\n",
       "          -0.20191506,  0.19958632],\n",
       "         [ 0.6735527 ,  0.1974334 ,  0.20752442, ..., -0.05503698,\n",
       "          -0.21846071, -1.102461  ],\n",
       "         [-0.28480273, -0.10346453, -0.29538357, ..., -0.12958232,\n",
       "           0.4940308 , -0.05010235],\n",
       "         ...,\n",
       "         [ 0.35319188,  0.4622252 ,  0.45821887, ...,  0.13017753,\n",
       "          -0.55591714,  0.08855156],\n",
       "         [ 0.3004632 ,  0.4484887 ,  0.4657746 , ...,  0.07647607,\n",
       "          -0.54536116,  0.04742362],\n",
       "         [ 0.2925297 ,  0.41366357,  0.49874684, ...,  0.10523563,\n",
       "          -0.5841932 ,  0.04041333]],\n",
       " \n",
       "        [[ 0.07767205,  0.35863823,  0.14206295, ...,  0.01386192,\n",
       "           0.21017273,  0.21966219],\n",
       "         [ 0.2739254 , -0.09307075,  0.9069679 , ..., -0.20490491,\n",
       "          -0.7874201 ,  0.6380344 ],\n",
       "         [ 0.05126375,  0.10918806, -0.03899663, ..., -0.14166702,\n",
       "          -0.13486539, -0.00274808],\n",
       "         ...,\n",
       "         [ 0.12393108,  0.10288183,  0.51497024, ...,  0.22725144,\n",
       "          -0.36254328,  0.14657445],\n",
       "         [ 0.02489722,  0.11377202,  0.54502606, ...,  0.20747805,\n",
       "          -0.37221682,  0.12847771],\n",
       "         [ 0.10170139,  0.05538992,  0.56009406, ...,  0.37413222,\n",
       "          -0.16303042, -0.0694221 ]],\n",
       " \n",
       "        [[-0.6449997 ,  0.07741843, -0.02076552, ..., -0.5513354 ,\n",
       "           0.08508954,  0.03840544],\n",
       "         [-0.34693924,  0.54837257, -0.11493291, ..., -0.14301056,\n",
       "           0.35392347, -0.0190568 ],\n",
       "         [ 0.36109263,  1.2884171 ,  1.0457895 , ..., -0.5817687 ,\n",
       "           0.45806655,  0.21797773],\n",
       "         ...,\n",
       "         [-0.6051048 , -0.06963831,  0.32090175, ..., -0.24432641,\n",
       "          -0.20915914, -0.1128159 ],\n",
       "         [-0.5980142 , -0.01670628,  0.38097602, ..., -0.28554547,\n",
       "          -0.2516212 , -0.11019307],\n",
       "         [-0.576431  ,  0.04433167,  0.40947932, ..., -0.23014066,\n",
       "          -0.23144694, -0.05382095]]], dtype=float32)>]"
      ]
     },
     "execution_count": 24,
     "metadata": {},
     "output_type": "execute_result"
    }
   ],
   "source": [
    " bert_result['encoder_outputs']"
   ]
  },
  {
   "cell_type": "code",
   "execution_count": 25,
   "metadata": {
    "colab": {
     "base_uri": "https://localhost:8080/"
    },
    "id": "ke6PnZRmNFd_",
    "outputId": "1d031d80-72c2-4fb9-84b2-80418a83e0bb"
   },
   "outputs": [
    {
     "data": {
      "text/plain": [
       "12"
      ]
     },
     "execution_count": 25,
     "metadata": {},
     "output_type": "execute_result"
    }
   ],
   "source": [
    " len(bert_result['encoder_outputs'])\n",
    " # bert base model has 12 encoder that what it is showing(where as large model gives 24)"
   ]
  },
  {
   "cell_type": "code",
   "execution_count": null,
   "metadata": {
    "id": "dlba-cGvNRH6"
   },
   "outputs": [],
   "source": [
    ""
   ]
  },
  {
   "cell_type": "code",
   "execution_count": null,
   "metadata": {
    "id": "IHiv-GzNNiLB"
   },
   "outputs": [],
   "source": []
  },
  {
   "cell_type": "code",
   "execution_count": null,
   "metadata": {
    "id": "UaH4KlGyNiNr"
   },
   "outputs": [],
   "source": []
  },
  {
   "cell_type": "code",
   "execution_count": null,
   "metadata": {
    "id": "988FeRtdNiQE"
   },
   "outputs": [],
   "source": []
  },
  {
   "cell_type": "code",
   "execution_count": null,
   "metadata": {
    "id": "mfXmzXNRNiSX"
   },
   "outputs": [],
   "source": []
  },
  {
   "cell_type": "code",
   "execution_count": null,
   "metadata": {
    "id": "jK93Wb08NiU8"
   },
   "outputs": [],
   "source": []
  },
  {
   "cell_type": "code",
   "execution_count": null,
   "metadata": {
    "id": "qIDwcX2INiXJ"
   },
   "outputs": [],
   "source": []
  },
  {
   "cell_type": "code",
   "execution_count": null,
   "metadata": {
    "id": "2u59QLZSNiZv"
   },
   "outputs": [],
   "source": []
  },
  {
   "cell_type": "code",
   "execution_count": null,
   "metadata": {
    "id": "Y9xAW3ERNib1"
   },
   "outputs": [],
   "source": []
  },
  {
   "cell_type": "code",
   "execution_count": null,
   "metadata": {
    "id": "9_gL_CooNiek"
   },
   "outputs": [],
   "source": []
  },
  {
   "cell_type": "code",
   "execution_count": null,
   "metadata": {
    "id": "ake7DgrkNihG"
   },
   "outputs": [],
   "source": []
  },
  {
   "cell_type": "code",
   "execution_count": null,
   "metadata": {
    "id": "ZSDgn4GkNijh"
   },
   "outputs": [],
   "source": []
  },
  {
   "cell_type": "code",
   "execution_count": null,
   "metadata": {
    "id": "6ShFtjF1NimN"
   },
   "outputs": [],
   "source": []
  },
  {
   "cell_type": "code",
   "execution_count": null,
   "metadata": {
    "id": "1MEdeU4TNipt"
   },
   "outputs": [],
   "source": []
  }
 ],
 "metadata": {
  "colab": {
   "provenance": []
  },
  "kernelspec": {
   "display_name": "Python 3",
   "name": "python3"
  },
  "language_info": {
   "name": "python"
  }
 },
 "nbformat": 4,
 "nbformat_minor": 0
}
