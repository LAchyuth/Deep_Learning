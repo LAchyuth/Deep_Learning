{
 "cells": [
  {
   "cell_type": "code",
   "execution_count": null,
   "id": "b26dec01",
   "metadata": {},
   "outputs": [],
   "source": [
    "!pip install langchain\n",
    "!pip install openai\n",
    "!pip install huggingface-hub"
   ]
  },
  {
   "cell_type": "code",
   "execution_count": 1,
   "id": "6bdb66e5",
   "metadata": {},
   "outputs": [],
   "source": [
    "import os\n",
    "os.environ[\"HUGGINGFACEHUB_API_TOKEN\"] = \"hf_JZT\""
   ]
  },
  {
   "cell_type": "code",
   "execution_count": 2,
   "id": "2b974856",
   "metadata": {},
   "outputs": [],
   "source": [
    "from langchain.llms import HuggingFaceHub"
   ]
  },
  {
   "cell_type": "code",
   "execution_count": 3,
   "id": "37fcc72a",
   "metadata": {},
   "outputs": [
    {
     "name": "stderr",
     "output_type": "stream",
     "text": [
      "C:\\Users\\Lenovo\\anaconda3\\lib\\site-packages\\huggingface_hub\\utils\\_deprecation.py:127: FutureWarning: '__init__' (from 'huggingface_hub.inference_api') is deprecated and will be removed from version '1.0'. `InferenceApi` client is deprecated in favor of the more feature-complete `InferenceClient`. Check out this guide to learn how to convert your script to use it: https://huggingface.co/docs/huggingface_hub/guides/inference#legacy-inferenceapi-client.\n",
      "  warnings.warn(warning_message, FutureWarning)\n"
     ]
    }
   ],
   "source": [
    "llm = HuggingFaceHub(repo_id=\"google/flan-t5-large\")"
   ]
  },
  {
   "cell_type": "code",
   "execution_count": 4,
   "id": "1f354f22",
   "metadata": {},
   "outputs": [
    {
     "name": "stderr",
     "output_type": "stream",
     "text": [
      "C:\\Users\\Lenovo\\anaconda3\\lib\\site-packages\\langchain_core\\_api\\deprecation.py:117: LangChainDeprecationWarning: The function `__call__` was deprecated in LangChain 0.1.7 and will be removed in 0.2.0. Use invoke instead.\n",
      "  warn_deprecated(\n"
     ]
    },
    {
     "name": "stdout",
     "output_type": "stream",
     "text": [
      "rupee\n"
     ]
    }
   ],
   "source": [
    "our_query = \"What is the currency of India?\"\n",
    "completion = llm(our_query)\n",
    "print(completion)"
   ]
  },
  {
   "cell_type": "code",
   "execution_count": 5,
   "id": "325f35bc",
   "metadata": {},
   "outputs": [
    {
     "name": "stdout",
     "output_type": "stream",
     "text": [
      "prime minister of india\n"
     ]
    }
   ],
   "source": [
    "our_query = \"Who is Narendra Modi?\"\n",
    "completion = llm(our_query)\n",
    "print(completion)"
   ]
  },
  {
   "cell_type": "code",
   "execution_count": 9,
   "id": "42e66c39",
   "metadata": {},
   "outputs": [
    {
     "name": "stdout",
     "output_type": "stream",
     "text": [
      "bhartiya janata party\n"
     ]
    }
   ],
   "source": [
    "our_query = \"Which party Narendra Modi belongs?\"\n",
    "completion = llm(our_query)\n",
    "print(completion)"
   ]
  },
  {
   "cell_type": "code",
   "execution_count": 10,
   "id": "99df38b1",
   "metadata": {},
   "outputs": [
    {
     "name": "stdout",
     "output_type": "stream",
     "text": [
      "abraham lincoln\n"
     ]
    }
   ],
   "source": [
    "our_query = \"Who is President of USA?\"\n",
    "completion = llm(our_query)\n",
    "print(completion)"
   ]
  },
  {
   "cell_type": "code",
   "execution_count": 6,
   "id": "04cc0af8",
   "metadata": {},
   "outputs": [
    {
     "name": "stdout",
     "output_type": "stream",
     "text": [
      "president of israel\n"
     ]
    }
   ],
   "source": [
    "our_query = \"Who is Barak Obama?\"\n",
    "completion = llm(our_query)\n",
    "print(completion)"
   ]
  },
  {
   "cell_type": "code",
   "execution_count": 7,
   "id": "257d30cc",
   "metadata": {},
   "outputs": [
    {
     "name": "stdout",
     "output_type": "stream",
     "text": [
      "cricketer\n"
     ]
    }
   ],
   "source": [
    "our_query = \"Who is Sachin Tendulakar?\"\n",
    "completion = llm(our_query)\n",
    "print(completion)"
   ]
  },
  {
   "cell_type": "code",
   "execution_count": 8,
   "id": "94230d3b",
   "metadata": {},
   "outputs": [
    {
     "name": "stdout",
     "output_type": "stream",
     "text": [
      "rajya sabha\n"
     ]
    }
   ],
   "source": [
    "our_query = \"Who is Rahul Gandhi?\"\n",
    "completion = llm(our_query)\n",
    "print(completion)"
   ]
  },
  {
   "cell_type": "markdown",
   "id": "be3fa908",
   "metadata": {},
   "source": [
    "# OpenAI ChatBOT"
   ]
  },
  {
   "cell_type": "code",
   "execution_count": 17,
   "id": "e345394e",
   "metadata": {},
   "outputs": [],
   "source": [
    "import os\n",
    "os.environ[\"OPENAI_API_KEY\"] = \"sShF9\""
   ]
  },
  {
   "cell_type": "code",
   "execution_count": 13,
   "id": "e2f3b692",
   "metadata": {},
   "outputs": [],
   "source": [
    "from langchain.chat_models import ChatOpenAI"
   ]
  },
  {
   "cell_type": "code",
   "execution_count": 14,
   "id": "7b349438",
   "metadata": {},
   "outputs": [],
   "source": [
    "from langchain.schema import HumanMessage, SystemMessage, AIMessage"
   ]
  },
  {
   "cell_type": "code",
   "execution_count": 18,
   "id": "476c19b3",
   "metadata": {},
   "outputs": [],
   "source": [
    "chat = ChatOpenAI(temperature=0.7,model = 'gpt-3.5-turbo')\n",
    "# temperature maximise randomness and make outputs creative"
   ]
  },
  {
   "cell_type": "code",
   "execution_count": 20,
   "id": "9f491350",
   "metadata": {},
   "outputs": [
    {
     "data": {
      "text/plain": [
       "AIMessage(content=\"Oh, it's easy! Just hop in a car, close your eyes, and hope for the best. Or, you know, take driving lessons, study the rules of the road, and practice.\")"
      ]
     },
     "execution_count": 20,
     "metadata": {},
     "output_type": "execute_result"
    }
   ],
   "source": [
    "chat([\n",
    "    SystemMessage(content=\"You are a saracastic AI assistance\"),\n",
    "    HumanMessage(content = \"Please answer in 30 words: How can I learn driving a car\")\n",
    "    \n",
    "])"
   ]
  },
  {
   "cell_type": "code",
   "execution_count": 25,
   "id": "8640b537",
   "metadata": {},
   "outputs": [
    {
     "name": "stdout",
     "output_type": "stream",
     "text": [
      "content='Oh, I would love to teach you how to drive! But right now, I can only reach the pedals with my tiptoes. Maybe when I grow a little taller, we can have some driving lessons together!'\n"
     ]
    }
   ],
   "source": [
    "ourConverstaion = chat([\n",
    "    SystemMessage(content=\"You are a 3 years old girl who answers very cutely and in a funny way\"),\n",
    "    HumanMessage(content =\"How can I learn driving a car\"),\n",
    "    AIMessage(content=\"I can't drive yet! But I have a driver, my dad....\"),\n",
    "    HumanMessage(content =\"Can you teach me driving?\")\n",
    "    \n",
    "])\n",
    "    \n",
    "print(ourConverstaion)"
   ]
  },
  {
   "cell_type": "code",
   "execution_count": null,
   "id": "eb09e1f7",
   "metadata": {},
   "outputs": [],
   "source": []
  },
  {
   "cell_type": "code",
   "execution_count": null,
   "id": "d9394e26",
   "metadata": {},
   "outputs": [],
   "source": []
  },
  {
   "cell_type": "markdown",
   "id": "29ef535d",
   "metadata": {},
   "source": [
    "# import PDF to traned chatbot"
   ]
  },
  {
   "cell_type": "code",
   "execution_count": null,
   "id": "3c40d0bd",
   "metadata": {},
   "outputs": [],
   "source": [
    "#!pip install langchain\n",
    "#!pip install openai\n",
    "#!pip install huggingface-hub\n",
    "#!pip install PyPDF2\n",
    "#!pip install faiss-cpu"
   ]
  },
  {
   "cell_type": "code",
   "execution_count": 3,
   "id": "9c697090",
   "metadata": {},
   "outputs": [],
   "source": [
    "from PyPDF2 import PdfReader\n",
    "from langchain.embeddings.openai import OpenAIEmbeddings\n",
    "from langchain.text_splitter import CharacterTextSplitter\n",
    "from langchain.vectorstores import FAISS\n",
    "from langchain.chains.question_answering import load_qa_chain"
   ]
  },
  {
   "cell_type": "code",
   "execution_count": 4,
   "id": "8c99ec2c",
   "metadata": {},
   "outputs": [],
   "source": [
    "import os\n",
    "os.environ[\"OPENAI_API_KEY\"] = \"sk-wBZ9\""
   ]
  },
  {
   "cell_type": "code",
   "execution_count": 5,
   "id": "c6bdc239",
   "metadata": {},
   "outputs": [],
   "source": [
    "from openai import OpenAI"
   ]
  },
  {
   "cell_type": "code",
   "execution_count": 21,
   "id": "96f0b140",
   "metadata": {},
   "outputs": [
    {
     "ename": "TypeError",
     "evalue": "__init__() got an unexpected keyword argument 'model_name'",
     "output_type": "error",
     "traceback": [
      "\u001b[1;31m---------------------------------------------------------------------------\u001b[0m",
      "\u001b[1;31mTypeError\u001b[0m                                 Traceback (most recent call last)",
      "\u001b[1;32m~\\AppData\\Local\\Temp\\ipykernel_19604\\3084037216.py\u001b[0m in \u001b[0;36m<module>\u001b[1;34m\u001b[0m\n\u001b[1;32m----> 1\u001b[1;33m \u001b[0mllm\u001b[0m \u001b[1;33m=\u001b[0m \u001b[0mOpenAI\u001b[0m\u001b[1;33m(\u001b[0m\u001b[0mmodel_name\u001b[0m\u001b[1;33m=\u001b[0m\u001b[1;34m\"text-embedding-ada-002\"\u001b[0m\u001b[1;33m)\u001b[0m\u001b[1;33m\u001b[0m\u001b[1;33m\u001b[0m\u001b[0m\n\u001b[0m",
      "\u001b[1;31mTypeError\u001b[0m: __init__() got an unexpected keyword argument 'model_name'"
     ]
    }
   ],
   "source": [
    "llm = OpenAI(model_name=\"text-embedding-ada-002\")"
   ]
  },
  {
   "cell_type": "code",
   "execution_count": 8,
   "id": "ac3b43cd",
   "metadata": {},
   "outputs": [
    {
     "data": {
      "text/plain": [
       "<PyPDF2._reader.PdfReader at 0x189f06f11c0>"
      ]
     },
     "execution_count": 8,
     "metadata": {},
     "output_type": "execute_result"
    }
   ],
   "source": [
    "data = PdfReader(\"Transformer XL.pdf\")\n",
    "data"
   ]
  },
  {
   "cell_type": "code",
   "execution_count": 9,
   "id": "17ea63b6",
   "metadata": {},
   "outputs": [],
   "source": [
    "combined_text =\"\"\n",
    "for i, page in enumerate(data.pages):\n",
    "    text = page.extract_text()\n",
    "    if text:\n",
    "        combined_text += text"
   ]
  },
  {
   "cell_type": "code",
   "execution_count": 10,
   "id": "464812b0",
   "metadata": {},
   "outputs": [
    {
     "data": {
      "text/plain": [
       "'Transformer-XL: Attentive Language Models\\nBeyond a Fixed-Length Context\\nZihang Dai\\x0312, Zhilin Yang\\x0312, Yiming Yang1, Jaime Carbonell1,\\nQuoc V . Le2, Ruslan Salakhutdinov1\\n1Carnegie Mellon University,2Google Brain\\n{dzihang,zhiliny,yiming,jgc,rsalakhu}@cs.cmu.edu, qvl@google.com\\nAbstract\\nTransformers have a potential of learning\\nlonger-term dependency, but are limited by a\\nﬁxed-length context in the setting of language\\nmodeling. We propose a novel neural ar-\\nchitecture Transformer-XL that enables learn-\\ning dependency beyond a ﬁxed length with-\\nout disrupting temporal coherence. It con-\\nsists of a segment-level recurrence mechanism\\nand a novel positional encoding scheme. Our\\nmethod not only enables capturing longer-term\\ndependency, but also resolves the context frag-\\nmentation problem. As a result, Transformer-\\nXL learns dependency that is 80% longer than\\nRNNs and 450% longer than vanilla Trans-\\nformers, achieves better performance on both\\nshort and long sequences, and is up to 1,800+\\ntimes faster than vanilla Transformers during\\nevaluation. Notably, we improve the state-of-\\nthe-art results of bpc/perplexity to 0.99 on en-\\nwiki8, 1.08 on text8, 18.3 on WikiText-103,\\n21.8 on One Billion Word, and 54.5 on Penn\\nTreebank (without ﬁnetuning). When trained\\nonly on WikiText-103, Transformer-XL man-\\nages to generate reasonably coherent, novel\\ntext articles with thousands of tokens. Our\\ncode, pretrained models, and hyperparameters\\nare available in both Tensorﬂow and PyTorch1.\\n1 Introduction\\nLanguage modeling is among the important prob-\\nlems that require modeling long-term dependency,\\nwith successful applications such as unsupervised\\npretraining (Dai and Le, 2015; Peters et al., 2018;\\nRadford et al., 2018; Devlin et al., 2018). How-\\never, it has been a challenge to equip neural\\nnetworks with the capability to model long-term\\ndependency in sequential data. Recurrent neu-\\nral networks (RNNs), in particular Long Short-\\n\\x03Equal contribution. Order determined by swapping the\\none in Yang et al. (2017).\\n1https://github.com/kimiyoung/\\ntransformer-xlTerm Memory (LSTM) networks (Hochreiter and\\nSchmidhuber, 1997), have been a standard solu-\\ntion to language modeling and obtained strong\\nresults on multiple benchmarks. Despite the\\nwide adaption, RNNs are difﬁcult to optimize\\ndue to gradient vanishing and explosion (Hochre-\\niter et al., 2001), and the introduction of gat-\\ning in LSTMs and the gradient clipping tech-\\nnique (Graves, 2013) might not be sufﬁcient to\\nfully address this issue. Empirically, previous\\nwork has found that LSTM language models use\\n200 context words on average (Khandelwal et al.,\\n2018), indicating room for further improvement.\\nOn the other hand, the direct connections be-\\ntween long-distance word pairs baked in atten-\\ntion mechanisms might ease optimization and en-\\nable the learning of long-term dependency (Bah-\\ndanau et al., 2014; Vaswani et al., 2017). Re-\\ncently, Al-Rfou et al. (2018) designed a set of aux-\\niliary losses to train deep Transformer networks\\nfor character-level language modeling, which out-\\nperform LSTMs by a large margin. Despite the\\nsuccess, the LM training in Al-Rfou et al. (2018)\\nis performed on separated ﬁxed-length segments\\nof a few hundred characters, without any informa-\\ntion ﬂow across segments. As a consequence of\\nthe ﬁxed context length, the model cannot capture\\nany longer-term dependency beyond the prede-\\nﬁned context length. In addition, the ﬁxed-length\\nsegments are created by selecting a consecutive\\nchunk of symbols without respecting the sentence\\nor any other semantic boundary. Hence, the model\\nlacks necessary contextual information needed to\\nwell predict the ﬁrst few symbols, leading to inef-\\nﬁcient optimization and inferior performance. We\\nrefer to this problem as context fragmentation .\\nTo address the aforementioned limitations of\\nﬁxed-length contexts, we propose a new architec-\\nture called Transformer-XL (meaning extra long).\\nWe introduce the notion of recurrence into ourarXiv:1901.02860v3  [cs.LG]  2 Jun 2019deep self-attention network. In particular, instead\\nof computing the hidden states from scratch for\\neach new segment, we reuse the hidden states ob-\\ntained in previous segments. The reused hidden\\nstates serve as memory for the current segment,\\nwhich builds up a recurrent connection between\\nthe segments. As a result, modeling very long-\\nterm dependency becomes possible because in-\\nformation can be propagated through the recur-\\nrent connections. Meanwhile, passing informa-\\ntion from the previous segment can also resolve\\nthe problem of context fragmentation. More im-\\nportantly, we show the necessity of using relative\\npositional encodings rather than absolute ones, in\\norder to enable state reuse without causing tem-\\nporal confusion. Hence, as an additional techni-\\ncal contribution, we introduce a simple but more\\neffective relative positional encoding formulation\\nthat generalizes to attention lengths longer than the\\none observed during training.\\nTransformer-XL obtained strong results on ﬁve\\ndatasets, varying from word-level to character-\\nlevel language modeling. Transformer-XL is also\\nable to generate relatively coherent long text arti-\\ncles with thousands of tokens (see Appendix E),\\ntrained on only 100M tokens.\\nOur main technical contributions include intro-\\nducing the notion of recurrence in a purely self-\\nattentive model and deriving a novel positional en-\\ncoding scheme. These two techniques form a com-\\nplete set of solutions, as any one of them alone\\ndoes not address the issue of ﬁxed-length con-\\ntexts. Transformer-XL is the ﬁrst self-attention\\nmodel that achieves substantially better results\\nthan RNNs on both character-level and word-level\\nlanguage modeling.\\n2 Related Work\\nIn the last few years, the ﬁeld of language mod-\\neling has witnessed many signiﬁcant advances,\\nincluding but not limited to devising novel ar-\\nchitectures to better encode the context (Bengio\\net al., 2003; Mikolov et al., 2010; Merity et al.,\\n2016; Al-Rfou et al., 2018), improving regulariza-\\ntion and optimization algorithms (Gal and Ghahra-\\nmani, 2016) , speeding up the Softmax computa-\\ntion (Grave et al., 2016a) , and enriching the output\\ndistribution family (Yang et al., 2017).\\nTo capture the long-range context in language\\nmodeling, a line of work directly feeds a repre-\\nsentation of the wider context into the networkas an additional input. Existing works range\\nfrom ones where context representations are man-\\nually deﬁned (Mikolov and Zweig, 2012; Ji et al.,\\n2015; Wang and Cho, 2015) to others that rely on\\ndocument-level topics learned from data (Dieng\\net al., 2016; Wang et al., 2017).\\nMore broadly, in generic sequence modeling,\\nhow to capture long-term dependency has been a\\nlong-standing research problem. From this per-\\nspective, since the ubiquitous adaption of LSTM,\\nmany efforts have been spent on relieving the\\nvanishing gradient problem, including better ini-\\ntialization (Le et al., 2015), additional loss sig-\\nnal (Trinh et al., 2018), augmented memory struc-\\nture (Ke et al., 2018) and others that modify the in-\\nternal architecture of RNNs to ease the optimiza-\\ntion (Wu et al., 2016; Li et al., 2018). Different\\nfrom them, our work is based on the Transformer\\narchitecture and shows that language modeling as\\na real-world task beneﬁts from the ability to learn\\nlonger-term dependency.\\n3 Model\\nGiven a corpus of tokens x= (x1;:::;xT), the\\ntask of language modeling is to estimate the joint\\nprobabilityP(x), which is often auto-regressively\\nfactorized as P(x) =Q\\ntP(xtjx<t). With the\\nfactorization, the problem reduces to estimating\\neach conditional factor. In this work, we stick to\\nthe standard neural approach to modeling the con-\\nditional probability. Speciﬁcally, a trainable neu-\\nral network is used to encode the context x<tinto\\na ﬁxed size hidden state, which is multiplied with\\nthe word embeddings to obtain the logits. The log-\\nits are then fed into the Softmax function, yielding\\na categorical probability distribution over the next\\ntoken.\\n3.1 Vanilla Transformer Language Models\\nIn order to apply Transformer or self-attention to\\nlanguage modeling, the central problem is how to\\ntrain a Transformer to effectively encode an arbi-\\ntrarily long context into a ﬁxed size representation.\\nGiven inﬁnite memory and computation, a sim-\\nple solution would be to process the entire con-\\ntext sequence using an unconditional Transformer\\ndecoder, similar to a feed-forward neural network.\\nHowever, this is usually infeasible with the limited\\nresource in practice.\\nOne feasible but crude approximation is to split\\nthe entire corpus into shorter segments of man-Segment 1x1x2x4x3Segment 2x8x5x6x7(a) Train phase.\\nLimited Contextx1x2x4x3x5x6\\nLimited Contextx2x3x5x4x6x1\\nLimited Contextx3x4x6x5x2\\nx1 (b) Evaluation phase.\\nFigure 1: Illustration of the vanilla model with a segment length 4.\\nageable sizes, and only train the model within\\neach segment, ignoring all contextual information\\nfrom previous segments. This is the idea adopted\\nby Al-Rfou et al. (2018). We call it the vanilla\\nmodel and visualize it in Fig. 1a. Under this\\ntraining paradigm, information never ﬂows across\\nsegments in either the forward or backward pass.\\nThere are two critical limitations of using a ﬁxed-\\nlength context. First, the largest possible depen-\\ndency length is upper bounded by the segment\\nlength, which is a few hundred on character-level\\nlanguage modeling (Al-Rfou et al., 2018). There-\\nfore, although the self-attention mechanism is less\\naffected by the vanishing gradient problem com-\\npared to RNNs, the vanilla model is not able to\\nfully exploit this optimization advantage. Second,\\nthough it is possible to use padding to respect the\\nsentence or other semantic boundaries, in practice\\nit has been standard practice to simply chunk long\\ntext into ﬁxed-length segments due to improved\\nefﬁciency (Peters et al., 2018; Devlin et al., 2018;\\nAl-Rfou et al., 2018). However, simply chunking\\na sequence into ﬁxed-length segments will lead to\\nthe context fragmentation problem as discussed in\\nSection 1.\\nDuring evaluation, at each step, the vanilla\\nmodel also consumes a segment of the same length\\nas in training, but only makes one prediction at the\\nlast position. Then, at the next step, the segment\\nis shifted to the right by only one position, and the\\nnew segment has to be processed all from scratch.\\nAs shown in Fig. 1b, this procedure ensures that\\neach prediction utilizes the longest possible con-\\ntext exposed during training, and also relieves con-\\ntext fragmentation issue encountered in training.\\nHowever, this evaluation procedure is extremely\\nexpensive. We will show that our proposed archi-\\ntecture is able to substantially improve the evalua-\\ntion speed.3.2 Segment-Level Recurrence with State\\nReuse\\nTo address the limitations of using a ﬁxed-length\\ncontext, we propose to introduce a recurrence\\nmechanism to the Transformer architecture. Dur-\\ning training, the hidden state sequence computed\\nfor the previous segment is ﬁxed andcached to\\nbe reused as an extended context when the model\\nprocesses the next new segment, as shown in Fig.\\n2a. Although the gradient still remains within a\\nsegment, this additional input allows the network\\nto exploit information in the history, leading to an\\nability of modeling longer-term dependency and\\navoiding context fragmentation. Formally, let the\\ntwo consecutive segments of length Lbes\\x1c=\\n[x\\x1c;1;\\x01\\x01\\x01;x\\x1c;L]ands\\x1c+1= [x\\x1c+1;1;\\x01\\x01\\x01;x\\x1c+1;L]\\nrespectively. Denoting the n-th layer hidden state\\nsequence produced for the \\x1c-th segment s\\x1cby\\nhn\\n\\x1c2RL\\x02d, wheredis the hidden dimension.\\nThen, then-th layer hidden state for segment s\\x1c+1\\nis produced (schematically) as follows,\\nehn\\x001\\n\\x1c+1=\\x02\\nSG(hn\\x001\\n\\x1c)\\x0ehn\\x001\\n\\x1c+1\\x03\\n;\\nqn\\n\\x1c+1;kn\\n\\x1c+1;vn\\n\\x1c+1=hn\\x001\\n\\x1c+1W>\\nq;ehn\\x001\\n\\x1c+1W>\\nk;ehn\\x001\\n\\x1c+1W>\\nv;\\nhn\\n\\x1c+1=Transformer-Layer (qn\\n\\x1c+1;kn\\n\\x1c+1;vn\\n\\x1c+1):\\nwhere the function SG (\\x01)stands for stop-gradient,\\nthe notation [hu\\x0ehv]indicates the concatenation\\nof two hidden sequences along the length dimen-\\nsion, and W\\x01denotes model parameters. Com-\\npared to the standard Transformer, the critical dif-\\nference lies in that the key kn\\n\\x1c+1and value vn\\n\\x1c+1\\nare conditioned on the extended context ehn\\x001\\n\\x1c+1and\\nhence hn\\x001\\n\\x1c cached from the previous segment.\\nWe emphasize this particular design by the green\\npaths in Fig. 2a.\\nWith this recurrence mechanism applied to ev-\\nery two consecutive segments of a corpus, it es-\\nsentially creates a segment-level recurrence in the\\nhidden states. As a result, the effective context be-\\ning utilized can go way beyond just two segments.\\nHowever, notice that the recurrent dependency be-\\ntween hn\\n\\x1c+1andhn\\x001\\n\\x1cshifts one layer downwardsx1x2x4x3x8x5x6x7New Segmentx12x9x10x11Fixed (No Grad)x1x2x4x3x8x5x6x7Fixed (No Grad)New Segment(a) Training phase.\\nx1x2x4x3x8x5x6x7x12x9x10x11Extended Context (b) Evaluation phase.\\nFigure 2: Illustration of the Transformer-XL model with a segment length 4.\\nper-segment, which differs from the same-layer\\nrecurrence in conventional RNN-LMs. Conse-\\nquently, the largest possible dependency length\\ngrows linearly w.r.t. the number of layers as well\\nas the segment length, i.e., O(N\\x02L), as vi-\\nsualized by the shaded area in Fig. 2b. This\\nis analogous to truncated BPTT (Mikolov et al.,\\n2010), a technique developed for training RNN-\\nLMs. However, different from truncated BPTT,\\nour method caches a sequence of hidden states in-\\nstead of the last one, and should be applied to-\\ngether with the relative positional encoding tech-\\nnique described in Section 3.3.\\nBesides achieving extra long context and re-\\nsolving fragmentation, another beneﬁt that comes\\nwith the recurrence scheme is signiﬁcantly faster\\nevaluation. Speciﬁcally, during evaluation, the\\nrepresentations from the previous segments can\\nbe reused instead of being computed from scratch\\nas in the case of the vanilla model. In our ex-\\nperiments on enwiki8, Transformer-XL is up to\\n1,800+ times faster than the vanilla model during\\nevaluation (see Section 4).\\nFinally, notice that the recurrence scheme does\\nnot need to be restricted to only the previous seg-\\nment. In theory, we can cache as many previous\\nsegments as the GPU memory allows, and reuse\\nall of them as the extra context when processing\\nthe current segment. Thus, we can cache a prede-\\nﬁned length- Mold hidden states spanning (pos-\\nsibly) multiple segments, and refer to them as the\\nmemory mn\\n\\x1c2RM\\x02d, due to a clear connection to\\nthe memory augmented neural networks (Graves\\net al., 2014; Weston et al., 2014). In our experi-\\nments, we set Mequal to the segment length dur-\\ning training, and increase it by multiple times dur-\\ning evaluation.\\n3.3 Relative Positional Encodings\\nWhile we found the idea presented in the pre-\\nvious subsection very appealing, there is a cru-\\ncial technical challenge we haven’t solved in or-der to reuse the hidden states. That is, how can\\nwe keep the positional information coherent when\\nwe reuse the states? Recall that, in the standard\\nTransformer, the information of sequence order is\\nprovided by a set of positional encodings, denoted\\nasU2RLmax\\x02d, where the i-th row Uicorre-\\nsponds to the i-thabsolute position within a seg-\\nment andLmaxprescribes the maximum possible\\nlength to be modeled. Then, the actual input to the\\nTransformer is the element-wise addition of the\\nword embeddings and the positional encodings. If\\nwe simply adapt this positional encoding to our\\nrecurrence mechanism, the hidden state sequence\\nwould be computed schematically by\\nh\\x1c+1=f(h\\x1c;Es\\x1c+1+U1:L)\\nh\\x1c=f(h\\x1c\\x001;Es\\x1c+U1:L);\\nwhere Es\\x1c2RL\\x02dis the word embedding se-\\nquence of s\\x1c, andfrepresents a transformation\\nfunction. Notice that, both Es\\x1candEs\\x1c+1are as-\\nsociated with the same positional encoding U1:L.\\nAs a result, the model has no information to dis-\\ntinguish the positional difference between x\\x1c;jand\\nx\\x1c+1;jfor anyj= 1;:::;L , resulting in a sheer\\nperformance loss.\\nIn order to avoid this failure mode, the funda-\\nmental idea is to only encode the relative posi-\\ntional information in the hidden states. Concep-\\ntually, the positional encoding gives the model a\\ntemporal clue or “bias” about how information\\nshould be gathered, i.e., where to attend. For the\\nsame purpose, instead of incorporating bias stati-\\ncally into the initial embedding, one can inject the\\nsame information into the attention score of each\\nlayer. More importantly, it is more intuitive and\\ngeneralizable to deﬁne the temporal bias in a rela-\\ntive manner. For instance, when a query vector q\\x1c;i\\nattends on the key vectors k\\x1c;\\x14i, it does not need\\nto know the absolute position of each key vector\\nto identify the temporal order of the segment. In-\\nstead, it sufﬁces to know the relative distance be-\\ntween each key vector k\\x1c;jand itselfq\\x1c;i, i.e.i\\x00j.\\nPractically, one can create a set of relative posi-tional encodings R2RLmax\\x02d, where thei-th row\\nRiindicates a relative distance of ibetween two\\npositions. By injecting the relative distance dy-\\nnamically into the attention score, the query vector\\ncan easily distinguish the representations of x\\x1c;j\\nandx\\x1c+1;jfrom their different distances, making\\nthe state reuse mechanism feasible. Meanwhile,\\nwe won’t lose any temporal information, as the ab-\\nsolute position can be recovered recursively from\\nrelative distances.\\nPreviously, the idea of relative positional encod-\\nings has been explored in the context of machine\\ntranslation (Shaw et al., 2018) and music gener-\\nation (Huang et al., 2018). Here, we offer a dif-\\nferent derivation, arriving at a new form of rel-\\native positional encodings, which not only has a\\none-to-one correspondence to its absolute coun-\\nterpart but also enjoys much better generalization\\nempirically (see Section 4). Firstly, in the standard\\nTransformer (Vaswani et al., 2017), the attention\\nscore between query qiand key vector kjwithin\\nthe same segment can be decomposed as\\nAabs\\ni;j=E>\\nxiW>\\nqWkExj|{z}\\n(a)+E>\\nxiW>\\nqWkUj|{z}\\n(b)\\n+U>\\niW>\\nqWkExj|{z}\\n(c)+U>\\niW>\\nqWkUj|{z}\\n(d):\\nFollowing the idea of only relying on rela-\\ntive positional information, we propose to re-\\nparameterize the four terms as follows\\nArel\\ni;j=E>\\nxiW>\\nqWk;EExj|{z}\\n(a)+E>\\nxiW>\\nqWk;RRi\\x00j|{z}\\n(b)\\n+u>Wk;EExj|{z}\\n(c)+v>Wk;RRi\\x00j|{z}\\n(d):\\n\\x0fThe ﬁrst change we make is to replace all ap-\\npearances of the absolute positional embedding\\nUjfor computing key vectors in term (b)and\\n(d)with its relative counterpart Ri\\x00j. This es-\\nsentially reﬂects the prior that only the relative\\ndistance matters for where to attend. Note that\\nRis a sinusoid encoding matrix (Vaswani et al.,\\n2017) without learnable parameters.\\n\\x0fSecondly, we introduce a trainable parameter\\nu2Rdto replace the query U>\\niW>\\nqin term\\n(c). In this case, since the query vector is the\\nsame for all query positions, it suggests that the\\nattentive bias towards different words should re-\\nmain the same regardless of the query position.\\nWith a similar reasoning, a trainable parameter\\nv2Rdis added to substitute U>\\niW>\\nqin term\\n(d).\\x0fFinally, we deliberately separate the two weight\\nmatrices Wk;EandWk;Rfor producing the\\ncontent-based key vectors and location-based\\nkey vectors respectively.\\nUnder the new parameterization, each term has\\nan intuitive meaning: term (a)represents content-\\nbased addressing, term (b)captures a content-\\ndependent positional bias, term (c)governs a\\nglobal content bias, and (d)encodes a global po-\\nsitional bias.\\nIn comparison, the formulation in Shaw et al.\\n(2018) only has terms (a)and(b), dropping the\\ntwo bias terms (c)and(d). Moreover, Shaw et al.\\n(2018) merge the multiplication WkRinto a sin-\\ngle trainable matrix ^R, which abandons the induc-\\ntive bias built into the original sinusoid positional\\nencoding (Vaswani et al., 2017). In contrast, our\\nrelative positional embedding Radapts the sinu-\\nsoid formulation. As a beneﬁt of the inductive\\nbias, a model trained on a memory of some certain\\nlength can automatically generalize to a memory\\nseveral times longer during evaluation.\\nEquipping the recurrence mechanism with our\\nproposed relative positional embedding, we ﬁnally\\narrive at the Transformer-XL architecture. For\\ncompleteness, we summarize the computational\\nprocedure for a N-layer Transformer-XL with a\\nsingle attention head here. For n= 1;:::;N :\\nehn\\x001\\n\\x1c=\\x02\\nSG(mn\\x001\\n\\x1c)\\x0ehn\\x001\\n\\x1c\\x03\\nqn\\n\\x1c;kn\\n\\x1c;vn\\n\\x1c=hn\\x001\\n\\x1cWn\\nq>;ehn\\x001\\n\\x1cWn\\nk;E>;ehn\\x001\\n\\x1cWn\\nv>\\nAn\\n\\x1c;i;j=qn\\n\\x1c;i>kn\\n\\x1c;j+qn\\n\\x1c;i>Wn\\nk;RRi\\x00j\\n+u>k\\x1c;j+v>Wn\\nk;RRi\\x00j\\nan\\n\\x1c=Masked-Softmax (An\\n\\x1c)vn\\n\\x1c\\non\\n\\x1c=LayerNorm (Linear (an\\n\\x1c) +hn\\x001\\n\\x1c)\\nhn\\n\\x1c=Positionwise-Feed-Forward (on\\n\\x1c)\\nwithh0\\n\\x1c:=Es\\x1cdeﬁned as the word embed-\\nding sequence. In addition, it is worth mention-\\ning that a naive way to compute Arequires com-\\nputing Wn\\nk;RRi\\x00jfor all pairs (i;j), whose cost\\nis quadratic w.r.t. the sequence length. How-\\never, noticing that the value of i\\x00jonly ranges\\nfrom zero to the sequence length, we show a sim-\\nple computation procedure in Appendix B, which\\nreduces the cost to be linear w.r.t. the sequence\\nlength.\\n4 Experiments\\n4.1 Main Results\\nWe apply Transformer-XL to a variety of datasets\\non both word-level and character-level languageModel #Param PPL\\nGrave et al. (2016b) - LSTM - 48.7\\nBai et al. (2018) - TCN - 45.2\\nDauphin et al. (2016) - GCNN-8 - 44.9\\nGrave et al. (2016b) - LSTM + Neural cache - 40.8\\nDauphin et al. (2016) - GCNN-14 - 37.2\\nMerity et al. (2018) - QRNN 151M 33.0\\nRae et al. (2018) - Hebbian + Cache - 29.9\\nOurs - Transformer-XL Standard 151M 24.0\\nBaevski and Auli (2018) - Adaptive Input\\x05247M 20.5\\nOurs - Transformer-XL Large 257M 18.3\\nTable 1: Comparison with state-of-the-art results on\\nWikiText-103.\\x05indicates contemporary work.\\nModel #Param bpc\\nHa et al. (2016) - LN HyperNetworks 27M 1.34\\nChung et al. (2016) - LN HM-LSTM 35M 1.32\\nZilly et al. (2016) - RHN 46M 1.27\\nMujika et al. (2017) - FS-LSTM-4 47M 1.25\\nKrause et al. (2016) - Large mLSTM 46M 1.24\\nKnol (2017) - cmix v13 - 1.23\\nAl-Rfou et al. (2018) - 12L Transformer 44M 1.11\\nOurs - 12L Transformer-XL 41M 1.06\\nAl-Rfou et al. (2018) - 64L Transformer 235M 1.06\\nOurs - 18L Transformer-XL 88M 1.03\\nOurs - 24L Transformer-XL 277M 0.99\\nTable 2: Comparison with state-of-the-art results on enwik8.\\nmodeling to have a comparison with state-of-the-\\nart systems, including WikiText-103 (Merity et al.,\\n2016), enwik8 (LLC, 2009), text8 (LLC, 2009),\\nOne Billion Word (Chelba et al., 2013), and Penn\\nTreebank (Mikolov and Zweig, 2012).\\nWikiText-103 is the largest available word-level\\nlanguage modeling benchmark with long-term de-\\npendency. It contains 103M training tokens from\\n28K articles, with an average length of 3.6K to-\\nkens per article, which allows testing the abil-\\nity of long-term dependency modeling. We set\\nthe attention length to 384 during training and\\n1600 during evaluation. We adopted adaptive soft-\\nmax and input representations (Baevski and Auli,\\n2018; Grave et al., 2016a). As shown in Table 1,\\nTransformer-XL reduces the previous state-of-the-\\nart (SoTA) perplexity from 20.5 to 18.3, which\\ndemonstrates the superiority of the Transformer-\\nXL architecture.\\nThe dataset enwik8 contains 100M bytes of un-\\nprocessed Wikipedia text. We compare our ar-\\nchitecture with the previous results in Table 2.\\nUnder the model size constraint, the 12-layer\\nTransformer-XL achieves a new SoTA result, out-\\nperforming the 12-layer vanilla Transformer from\\nAl-Rfou et al. (2018) by 0.05, while both Trans-Model #Param bpc\\nCooijmans et al. (2016) - BN-LSTM - 1.36\\nChung et al. (2016) - LN HM-LSTM 35M 1.29\\nZilly et al. (2016) - RHN 45M 1.27\\nKrause et al. (2016) - Large mLSTM 45M 1.27\\nAl-Rfou et al. (2018) - 12L Transformer 44M 1.18\\nAl-Rfou et al. (2018) - 64L Transformer 235M 1.13\\nOurs - 24L Transformer-XL 277M 1.08\\nTable 3: Comparison with state-of-the-art results on text8.\\nModel #Param PPL\\nShazeer et al. (2014) - Sparse Non-Negative 33B 52.9\\nChelba et al. (2013) - RNN-1024 + 9 Gram 20B 51.3\\nKuchaiev and Ginsburg (2017) - G-LSTM-2 - 36.0\\nDauphin et al. (2016) - GCNN-14 bottleneck - 31.9\\nJozefowicz et al. (2016) - LSTM 1.8B 30.6\\nJozefowicz et al. (2016) - LSTM + CNN Input 1.04B 30.0\\nShazeer et al. (2017) - Low-Budget MoE \\x185B 34.1\\nShazeer et al. (2017) - High-Budget MoE \\x185B 28.0\\nShazeer et al. (2018) - Mesh Tensorﬂow 4.9B 24.0\\nBaevski and Auli (2018) - Adaptive Input\\x050.46B 24.1\\nBaevski and Auli (2018) - Adaptive Input\\x051.0B 23.7\\nOurs - Transformer-XL Base 0.46B 23.5\\nOurs - Transformer-XL Large 0.8B 21.8\\nTable 4: Comparison with state-of-the-art results on One Bil-\\nlion Word.\\x05indicates contemporary work.\\nformer variants have a large margin over conven-\\ntional RNN-based models. Notably, our 12-layer\\narchitecture achieves the same result as the 64-\\nlayer network from Al-Rfou et al. (2018), using\\nonly 17% of the parameter budget. In order to see\\nwhether better performances can be obtained by\\nincreasing the model size, we train 18-layer and\\n24-layer Transformer-XLs with increased model\\nsizes. With the attention length 784 during train-\\ning and 3,800 during evaluation, we obtained a\\nnew SoTA result and our method is the ﬁrst to\\nbreak through 1.0 on widely-studied character-\\nlevel benchmarks. Different from Al-Rfou et al.\\n(2018), Transformer-XL does not need any auxil-\\niary losses, and thus all beneﬁts are credited to a\\nbetter architecture.\\nSimilar to but different from enwik8, text8 con-\\ntains 100M processed Wikipedia characters cre-\\nated by lowering case the text and removing any\\ncharacter other than the 26 letters athrough z, and\\nspace. Due to the similarity, we simply adapt the\\nbest model and the same hyper-parameters on en-\\nwik8 to text8 without further tuning. The compari-\\nson with previous methods is summarized in Table\\n3. Again, Transformer-XL achieves the new SoTA\\nresult with a clear margin.Model #Param PPL\\nInan et al. (2016) - Tied Variational LSTM 24M 73.2\\nZilly et al. (2016) - Variational RHN 23M 65.4\\nZoph and Le (2016) - NAS Cell 25M 64.0\\nMerity et al. (2017) - AWD-LSTM 24M 58.8\\nPham et al. (2018) - Efﬁcient NAS 24M 58.6\\nLiu et al. (2018) - Differentiable NAS 23M 56.1\\nYang et al. (2017) - AWD-LSTM-MoS 22M 55.97\\nMelis et al. (2018) - Dropout tuning 24M 55.3\\nOurs - Transformer-XL 24M 54.52\\nMerity et al. (2017) - AWD-LSTM+Finetuney24M 57.3\\nYang et al. (2017) - MoS+Finetuney22M 54.44\\nTable 5: Comparison with state-of-the-art results on Penn\\nTreebank.yindicates using two-step ﬁnetuning.\\nOne Billion Word does not preserve any long-\\nterm dependency because sentences have been\\nshufﬂed. Consequently, this dataset mainly tests\\nthe ability of modeling only short-term depen-\\ndency. The comparison between Transformer-XL\\nand the other methods is shown in Table 4. Al-\\nthough Transformer-XL is mainly designed to bet-\\nter capture longer-term dependency, it dramati-\\ncally improves the single-model SoTA from 23.7\\nto 21.8. Speciﬁcally, Transformer-XL signiﬁ-\\ncantly outperforms a contemporary method using\\nvanilla Transformers (Baevski and Auli, 2018),\\nsuggesting the advantage of Transformer-XL is\\ngeneralizable to modeling short sequences.\\nWe also report the results on word-level Penn\\nTreebank in Table 5. Similar to AWD-LSTM\\n(Merity et al., 2017), we apply variational dropout\\nand weight average to Transformer-XL. With\\nproper regularization, Transformer-XL achieves a\\nnew SoTA result among models without two-step\\nﬁnetuning. Penn Treebank has only 1M training\\ntokens, which implies that Transformer-XL also\\ngeneralizes well even on small datasets.\\n4.2 Ablation Study\\nWe conduct two sets of ablation studies to exam-\\nine the effects of two proposed techniques used in\\nTransformer-XL: the recurrence mechanism and\\nthe new positional encoding scheme.\\nThe ﬁrst study is performed on WikiText-103,\\nwhich requires modeling long-term dependency.\\nThe results are reported in Table 6. Among the\\ncompared encoding schemes, Shaw et al. (2018) is\\nrelative, while Vaswani et al. (2017) and Al-Rfou\\net al. (2018) are absolute. “Full” and “half” losses\\nrefer to applying a cross entropy loss to all or the\\nrecent half positions in the segment. We foundthat absolute encodings only work well with half\\nlosses because half losses exclude positions with\\nvery short attention lengths during training for bet-\\nter generalization. Table 6 shows that both the\\nrecurrence mechanism and our encoding scheme\\nare necessary to achieve the best performance, as\\nwell as generalizing to longer attention sequences\\nduring evaluation time. Although the backprop-\\nagation length during training is only 128, with\\nthe two techniques the attention length can be in-\\ncreased to 640 at test time. In the standard setting\\nwith 151M parameters, the perplexity decreases as\\nthe attention length increases.\\nSince the recurrence mechanism costs addi-\\ntional memory, we also compare Transformer-XL\\nwith baselines under the same GPU memory con-\\nstraints. As shown in Table 10 in Appendix A,\\ndespite using a shorter backpropagation length,\\nTransformer-XL remains superior to the baselines.\\nThe second study targets at isolating the ef-\\nfects of resolving the context fragmentation prob-\\nlem from the beneﬁt of capturing longer context\\nlength. In order to achieve this goal, we deliber-\\nately choose a dataset that does not require long-\\nterm dependency, so that any improvement from\\nestablishing the recurrence can be attributed to\\nsolving the context fragmentation. Speciﬁcally,\\nwe perform this controlled experiment on the One\\nBillion Word dataset, which can only beneﬁt from\\nremoving the context fragmentation. We train\\na 20-layer Transformer-XL with \\x180.3B parame-\\nters for 400K steps. As shown in Table 7, using\\nsegment-level recurrence substantially improves\\nperformance even when long-term dependency is\\nnot needed, which is consistent with our previous\\ndiscussion that the recurrence mechanism resolves\\nthe context fragmentation problem. Moreover, our\\nrelative positional encodings is also superior to\\nShaw et al. (2018) on short sequences.\\n4.3 Relative Effective Context Length\\nKhandelwal et al. (2018) proposed a method to\\nevaluate the Effective Context Length (ECL) of a\\nsequence model. ECL is the longest length to\\nwhich increasing the context span would lead to\\na gain more than a threshold. However, ECL ig-\\nnores the fact that it is harder to get improve-\\nment when a model already achieves a lower per-\\nplexity using only a shorter context, and thus it\\nis not suitable for fair comparison among mul-\\ntiple models. We instead propose a new metricRemark Recurrence Encoding Loss PPL init PPL best Attn Len\\nTransformer-XL (128M) 3 Ours Full 27.02 26.77 500\\n- 3 Shaw et al. (2018) Full 27.94 27.94 256\\n- 3 Ours Half 28.69 28.33 460\\n- 7 Ours Full 29.59 29.02 260\\n- 7 Ours Half 30.10 30.10 120\\n- 7 Shaw et al. (2018) Full 29.75 29.75 120\\n- 7 Shaw et al. (2018) Half 30.50 30.50 120\\n- 7 Vaswani et al. (2017) Half 30.97 30.97 120\\nTransformer (128M)y7 Al-Rfou et al. (2018) Half 31.16 31.16 120\\nTransformer-XL (151M) 3 Ours Full 23.4323.09 640\\n23.16 450\\n23.35 300\\nTable 6: Ablation study on WikiText-103. For the ﬁrst two blocks, we use a slightly smaller model (128M parameters).\\nyindicates that the corresponding row is reduced to the same setting as the Transformer network in (Al-Rfou et al., 2018),\\nexcept that two auxiliary losses are not implemented in our experiments. “PPL init” refers to using the same length as training.\\n“PPL best” indicates the perplexity obtained by using the optimal length. “Attn Len” is the shortest possible attention length\\nduring evaluation to achieve the corresponding result (PPL best). Increasing the attention length during evaluation improves\\nperformance only when our positional encoding is used. The “Transformer-XL (151M)” setting uses a standard parameter\\nbudget as previous work (Merity et al., 2018), where we observe a similar effect when increasing the attention length during\\nevaluation.\\nMethod PPL\\nOurs 25.2\\nWith Shaw et al. (2018) encodings 25.7\\nWithout recurrence 27.1\\nTable 7: Ablation study on One Billion Word, a dataset with-\\nout long-term dependency.\\nModel r= 0:1r= 0:5r= 1:0\\nTransformer-XL 151M 900 800 700\\nQRNN 500 400 300\\nLSTM 400 300 200\\nTransformer-XL 128M 700 600 500\\n- use Shaw et al. (2018) encoding 400 400 300\\n- remove recurrence 300 300 300\\nTransformer 128 128 128\\nTable 8: Relative effective context length (RECL) compari-\\nson. See text for the deﬁnition of RECL and r. The ﬁrst three\\nmodels and the last four models are compared as two model\\ngroups when we calculate RECL (RECL is computed on a\\nmodel group rather than a single model). Each group has the\\nsame parameter budget.\\ncalled Relative Effective Context Length (RECL).\\nRECL is deﬁned on a model group instead of a\\nsingle model, and the gain of a long context is\\nmeasure by the relative improvement over the best\\nshort context model. As such, the model group\\nshares the same baseline to enable fair compari-\\nson. RECL also has a parameter r, which means\\nconstraining the comparison on top- rhard exam-\\nples. See Appedix C for more details about RECL.\\nAs shown in Table 8, Transformer-XL manages\\nto model dependency of 900 words long on av-Attn Len How much Al-Rfou et al. (2018) is slower\\n3,800 1,874x\\n2,800 1,409x\\n1,800 773x\\n800 363x\\nTable 9: Slowdown in terms of running time during evalua-\\ntion. Evaluation is based on per-token time on one GPU.\\nerage withr= 0:1. The RECL of Transformer-\\nXL is 80% and 450% longer than recurrent net-\\nworks and Transformer respectively. Both the re-\\ncurrence mechanism and our positional encodings\\ncontribute to a longer RECL. This further substan-\\ntiates our argument that Transformer-XL is able to\\nmodel longer-term dependency.\\n4.4 Generated Text\\nTrained only on WikiText-103 which is medium-\\nsized, Transformer-XL is already able to generate\\nrelatively coherent articles with thousands of to-\\nkens without manual cherry picking, despite mi-\\nnor ﬂaws. Please refer to Appendix E for samples.\\n4.5 Evaluation Speed\\nFinally, we compare the evaluation speed of our\\nmodel with the vanilla Transformer model (Al-\\nRfou et al., 2018). As shown in Table 9, due to\\nthe state reuse scheme, Transformer-XL achieves\\nan up to 1,874 times speedup during evaluation.5 Conclusions\\nTransformer-XL obtains strong perplexity results,\\nmodels longer-term dependency than RNNs and\\nTransformer, achieves substantial speedup during\\nevaluation, and is able to generate coherent text\\narticles. We envision interesting applications of\\nTransformer-XL in the ﬁelds of text generation,\\nunsupervised feature learning, image and speech\\nmodeling.\\nAcknowledgments\\nZD and YY were supported in part by National\\nScience Foundation (NSF) under the grant IIS-\\n1546329 and by the DOE-Ofﬁce of Science un-\\nder the grant ASCR #KJ040201. ZY and RS\\nwere supported in part by the Ofﬁce of Naval\\nResearch grant N000141812861, the NSF grant\\nIIS1763562, the Nvidia fellowship, and the Siebel\\nscholarship.\\nReferences\\nRami Al-Rfou, Dokook Choe, Noah Constant, Mandy\\nGuo, and Llion Jones. 2018. Character-level lan-\\nguage modeling with deeper self-attention. arXiv\\npreprint arXiv:1808.04444 .\\nAlexei Baevski and Michael Auli. 2018. Adaptive in-\\nput representations for neural language modeling.\\narXiv preprint arXiv:1809.10853 .\\nDzmitry Bahdanau, Kyunghyun Cho, and Yoshua Ben-\\ngio. 2014. Neural machine translation by jointly\\nlearning to align and translate. arXiv preprint\\narXiv:1409.0473 .\\nShaojie Bai, J Zico Kolter, and Vladlen Koltun.\\n2018. An empirical evaluation of generic convolu-\\ntional and recurrent networks for sequence model-\\ning. arXiv preprint arXiv:1803.01271 .\\nYoshua Bengio, Réjean Ducharme, Pascal Vincent, and\\nChristian Jauvin. 2003. A neural probabilistic lan-\\nguage model. Journal of machine learning research ,\\n3(Feb):1137–1155.\\nCiprian Chelba, Tomas Mikolov, Mike Schuster, Qi Ge,\\nThorsten Brants, Phillipp Koehn, and Tony Robin-\\nson. 2013. One billion word benchmark for measur-\\ning progress in statistical language modeling. arXiv\\npreprint arXiv:1312.3005 .\\nJunyoung Chung, Sungjin Ahn, and Yoshua Bengio.\\n2016. Hierarchical multiscale recurrent neural net-\\nworks. arXiv preprint arXiv:1609.01704 .\\nTim Cooijmans, Nicolas Ballas, César Laurent, Ça ˘glar\\nGülçehre, and Aaron Courville. 2016. Re-\\ncurrent batch normalization. arXiv preprint\\narXiv:1603.09025 .Andrew M Dai and Quoc V Le. 2015. Semi-supervised\\nsequence learning. In Advances in neural informa-\\ntion processing systems , pages 3079–3087.\\nYann N Dauphin, Angela Fan, Michael Auli, and\\nDavid Grangier. 2016. Language modeling with\\ngated convolutional networks. arXiv preprint\\narXiv:1612.08083 .\\nJacob Devlin, Ming-Wei Chang, Kenton Lee, and\\nKristina Toutanova. 2018. Bert: Pre-training of deep\\nbidirectional transformers for language understand-\\ning. arXiv preprint arXiv:1810.04805 .\\nAdji B Dieng, Chong Wang, Jianfeng Gao, and John\\nPaisley. 2016. Topicrnn: A recurrent neural net-\\nwork with long-range semantic dependency. arXiv\\npreprint arXiv:1611.01702 .\\nYarin Gal and Zoubin Ghahramani. 2016. A theoret-\\nically grounded application of dropout in recurrent\\nneural networks. In Advances in neural information\\nprocessing systems , pages 1019–1027.\\nEdouard Grave, Armand Joulin, Moustapha Cissé,\\nDavid Grangier, and Hervé Jégou. 2016a. Efﬁcient\\nsoftmax approximation for gpus. arXiv preprint\\narXiv:1609.04309 .\\nEdouard Grave, Armand Joulin, and Nicolas\\nUsunier. 2016b. Improving neural language\\nmodels with a continuous cache. arXiv preprint\\narXiv:1612.04426 .\\nAlex Graves. 2013. Generating sequences with\\nrecurrent neural networks. arXiv preprint\\narXiv:1308.0850 .\\nAlex Graves, Greg Wayne, and Ivo Danihelka.\\n2014. Neural turing machines. arXiv preprint\\narXiv:1410.5401 .\\nDavid Ha, Andrew Dai, and Quoc V Le. 2016. Hyper-\\nnetworks. arXiv preprint arXiv:1609.09106 .\\nSepp Hochreiter, Yoshua Bengio, Paolo Frasconi, Jür-\\ngen Schmidhuber, et al. 2001. Gradient ﬂow in re-\\ncurrent nets: the difﬁculty of learning long-term de-\\npendencies.\\nSepp Hochreiter and Jürgen Schmidhuber. 1997.\\nLong short-term memory. Neural computation ,\\n9(8):1735–1780.\\nCheng-Zhi Anna Huang, Ashish Vaswani, Jakob\\nUszkoreit, Noam Shazeer, Curtis Hawthorne, An-\\ndrew M Dai, Matthew D Hoffman, and Douglas Eck.\\n2018. An improved relative self-attention mecha-\\nnism for transformer with application to music gen-\\neration. arXiv preprint arXiv:1809.04281 .\\nHakan Inan, Khashayar Khosravi, and Richard Socher.\\n2016. Tying word vectors and word classiﬁers:\\nA loss framework for language modeling. arXiv\\npreprint arXiv:1611.01462 .Yangfeng Ji, Trevor Cohn, Lingpeng Kong, Chris Dyer,\\nand Jacob Eisenstein. 2015. Document context lan-\\nguage models. arXiv preprint arXiv:1511.03962 .\\nRafal Jozefowicz, Oriol Vinyals, Mike Schuster, Noam\\nShazeer, and Yonghui Wu. 2016. Exploring\\nthe limits of language modeling. arXiv preprint\\narXiv:1602.02410 .\\nNal Kalchbrenner, Lasse Espeholt, Karen Simonyan,\\nAaron van den Oord, Alex Graves, and Koray\\nKavukcuoglu. 2016. Neural machine translation in\\nlinear time. arXiv preprint arXiv:1610.10099 .\\nSekitoshi Kanai, Yasuhiro Fujiwara, Yuki Yamanaka,\\nand Shuichi Adachi. 2018. Sigsoftmax: Reanal-\\nysis of the softmax bottleneck. arXiv preprint\\narXiv:1805.10829 .\\nNan Rosemary Ke, Anirudh Goyal ALIAS PARTH\\nGOYAL, Olexa Bilaniuk, Jonathan Binas,\\nMichael C Mozer, Chris Pal, and Yoshua Ben-\\ngio. 2018. Sparse attentive backtracking: Temporal\\ncredit assignment through reminding. In Advances\\nin Neural Information Processing Systems , pages\\n7650–7661.\\nUrvashi Khandelwal, He He, Peng Qi, and Dan Ju-\\nrafsky. 2018. Sharp nearby, fuzzy far away: How\\nneural language models use context. arXiv preprint\\narXiv:1805.04623 .\\nBryon Knol. 2017. cmix v13. http://www.\\nbyronknoll.com/cmix.html .\\nJan Koutnik, Klaus Greff, Faustino Gomez, and Juer-\\ngen Schmidhuber. 2014. A clockwork rnn. arXiv\\npreprint arXiv:1402.3511 .\\nBen Krause, Liang Lu, Iain Murray, and Steve Renals.\\n2016. Multiplicative lstm for sequence modelling.\\narXiv preprint arXiv:1609.07959 .\\nOleksii Kuchaiev and Boris Ginsburg. 2017. Factor-\\nization tricks for lstm networks. arXiv preprint\\narXiv:1703.10722 .\\nQuoc V Le, Navdeep Jaitly, and Geoffrey E Hin-\\nton. 2015. A simple way to initialize recurrent\\nnetworks of rectiﬁed linear units. arXiv preprint\\narXiv:1504.00941 .\\nShuai Li, Wanqing Li, Chris Cook, Ce Zhu, and Yanbo\\nGao. 2018. Independently recurrent neural network\\n(indrnn): Building a longer and deeper rnn. In Pro-\\nceedings of the IEEE Conference on Computer Vi-\\nsion and Pattern Recognition , pages 5457–5466.\\nHanxiao Liu, Karen Simonyan, and Yiming Yang.\\n2018. Darts: Differentiable architecture search.\\narXiv preprint arXiv:1806.09055 .\\nMultiMedia LLC. 2009. Large text compression\\nbenchmark.Gábor Melis, Charles Blundell, Tomáš Ko ˇcisk`y,\\nKarl Moritz Hermann, Chris Dyer, and Phil Blun-\\nsom. 2018. Pushing the bounds of dropout. arXiv\\npreprint arXiv:1805.09208 .\\nStephen Merity, Nitish Shirish Keskar, and Richard\\nSocher. 2017. Regularizing and optimizing lstm lan-\\nguage models. arXiv preprint arXiv:1708.02182 .\\nStephen Merity, Nitish Shirish Keskar, and Richard\\nSocher. 2018. An analysis of neural language\\nmodeling at multiple scales. arXiv preprint\\narXiv:1803.08240 .\\nStephen Merity, Caiming Xiong, James Bradbury, and\\nRichard Socher. 2016. Pointer sentinel mixture\\nmodels. arXiv preprint arXiv:1609.07843 .\\nTomas Mikolov, Armand Joulin, Sumit Chopra,\\nMichael Mathieu, and Marc’Aurelio Ranzato. 2014.\\nLearning longer memory in recurrent neural net-\\nworks. arXiv preprint arXiv:1412.7753 .\\nTomáš Mikolov, Martin Karaﬁát, Lukáš Burget, Jan\\nˇCernock `y, and Sanjeev Khudanpur. 2010. Recur-\\nrent neural network based language model. In\\nEleventh Annual Conference of the International\\nSpeech Communication Association .\\nTomas Mikolov and Geoffrey Zweig. 2012. Context\\ndependent recurrent neural network language model.\\nSLT, 12(234-239):8.\\nFrederic Morin and Yoshua Bengio. 2005. Hierarchi-\\ncal probabilistic neural network language model. In\\nAistats , volume 5, pages 246–252. Citeseer.\\nAsier Mujika, Florian Meier, and Angelika Steger.\\n2017. Fast-slow recurrent neural networks. In Ad-\\nvances in Neural Information Processing Systems ,\\npages 5915–5924.\\nRazvan Pascanu, Tomas Mikolov, and Yoshua Bengio.\\n2012. Understanding the exploding gradient prob-\\nlem. CoRR, abs/1211.5063 .\\nMatthew E Peters, Mark Neumann, Mohit Iyyer, Matt\\nGardner, Christopher Clark, Kenton Lee, and Luke\\nZettlemoyer. 2018. Deep contextualized word rep-\\nresentations. arXiv preprint arXiv:1802.05365 .\\nHieu Pham, Melody Y Guan, Barret Zoph, Quoc V\\nLe, and Jeff Dean. 2018. Efﬁcient neural architec-\\nture search via parameter sharing. arXiv preprint\\narXiv:1802.03268 .\\nOﬁr Press and Lior Wolf. 2016. Using the output\\nembedding to improve language models. arXiv\\npreprint arXiv:1608.05859 .\\nAlec Radford, Karthik Narasimhan, Tim Salimans, and\\nIlya Sutskever. 2018. Improving language under-\\nstanding by generative pre-training. URL https://s3-\\nus-west-2. amazonaws. com/openai-assets/research-\\ncovers/languageunsupervised/language under-\\nstanding paper. pdf .Jack W Rae, Chris Dyer, Peter Dayan, and Tim-\\nothy P Lillicrap. 2018. Fast parametric learn-\\ning with activation memorization. arXiv preprint\\narXiv:1803.10049 .\\nPeter Shaw, Jakob Uszkoreit, and Ashish Vaswani.\\n2018. Self-attention with relative position represen-\\ntations. arXiv preprint arXiv:1803.02155 .\\nNoam Shazeer, Youlong Cheng, Niki Parmar, Dustin\\nTran, Ashish Vaswani, Penporn Koanantakool, Peter\\nHawkins, HyoukJoong Lee, Mingsheng Hong, Cliff\\nYoung, et al. 2018. Mesh-tensorﬂow: Deep learning\\nfor supercomputers. In Advances in Neural Infor-\\nmation Processing Systems , pages 10434–10443.\\nNoam Shazeer, Azalia Mirhoseini, Krzysztof Maziarz,\\nAndy Davis, Quoc Le, Geoffrey Hinton, and Jeff\\nDean. 2017. Outrageously large neural networks:\\nThe sparsely-gated mixture-of-experts layer. arXiv\\npreprint arXiv:1701.06538 .\\nNoam Shazeer, Joris Pelemans, and Ciprian Chelba.\\n2014. Skip-gram language modeling using sparse\\nnon-negative matrix probability estimation. arXiv\\npreprint arXiv:1412.1454 .\\nTrieu H Trinh, Andrew M Dai, Thang Luong, and\\nQuoc V Le. 2018. Learning longer-term dependen-\\ncies in rnns with auxiliary losses. arXiv preprint\\narXiv:1803.00144 .\\nAshish Vaswani, Noam Shazeer, Niki Parmar, Jakob\\nUszkoreit, Llion Jones, Aidan N Gomez, Łukasz\\nKaiser, and Illia Polosukhin. 2017. Attention is all\\nyou need. In Advances in Neural Information Pro-\\ncessing Systems , pages 5998–6008.\\nTian Wang and Kyunghyun Cho. 2015. Larger-\\ncontext language modelling. arXiv preprint\\narXiv:1511.03729 .\\nWenlin Wang, Zhe Gan, Wenqi Wang, Dinghan Shen,\\nJiaji Huang, Wei Ping, Sanjeev Satheesh, and\\nLawrence Carin. 2017. Topic compositional neural\\nlanguage model. arXiv preprint arXiv:1712.09783 .\\nJason Weston, Sumit Chopra, and Antoine Bor-\\ndes. 2014. Memory networks. arXiv preprint\\narXiv:1410.3916 .\\nYuhuai Wu, Saizheng Zhang, Ying Zhang, Yoshua\\nBengio, and Ruslan R Salakhutdinov. 2016. On\\nmultiplicative integration with recurrent neural net-\\nworks. In Advances in neural information process-\\ning systems , pages 2856–2864.\\nZhilin Yang, Zihang Dai, Ruslan Salakhutdinov, and\\nWilliam W Cohen. 2017. Breaking the softmax bot-\\ntleneck: A high-rank rnn language model. arXiv\\npreprint arXiv:1711.03953 .\\nWojciech Zaremba, Ilya Sutskever, and Oriol Vinyals.\\n2014. Recurrent neural network regularization.\\narXiv preprint arXiv:1409.2329 .Julian Georg Zilly, Rupesh Kumar Srivastava,\\nJan Koutník, and Jürgen Schmidhuber. 2016.\\nRecurrent highway networks. arXiv preprint\\narXiv:1607.03474 .\\nBarret Zoph and Quoc V Le. 2016. Neural architecture\\nsearch with reinforcement learning. arXiv preprint\\narXiv:1611.01578 .A Ablation Study with Memory Constraints\\nBackprop Len Recurrence Encoding Loss pplx best pplx init Attn Len\\n128 3 Ours Full 26.77 27.02 500\\n128 3 Ours Partial 28.33 28.69 460\\n176 7 Ours Full 27.98 28.43 400\\n172 7 Ours Partial 28.83 28.83 120\\nTable 10: Ablation study on WikiText-103 with the same GPU memory constraints.\\nTable 10 compares Transformer-XL with baseline under the same memory budget. Transformer-XL\\nstill outperforms the baseline even with a shorter backprop length.\\nB Efﬁcient Computation of the Attention with Relative Positional Embedding\\nAs we discussed in section 3.3, the naive way of computing the Wk;RRi\\x00jfor all pairs (i;j)is subject\\nto a quadratic cost. Here, we present a simple method with only a linear cost. Firstly, notice that the\\nrelative distance i\\x00jcan only be integer from 0 to M+L\\x001, whereMandLare the memory length\\nand segment length respectively. Hence, the rows of the matrix\\nQ:=2\\n6664R>\\nM+L\\x001\\nR>\\nM+L\\x002\\n...\\nR>\\n1\\nR>\\n03\\n7775Wk;R>=2\\n6664[Wk;RRM+L\\x001]>\\n[Wk;RRM+L\\x002]>\\n...\\n[Wk;RR1]>\\n[Wk;RR0]>3\\n77752R(M+L)\\x02d\\nconsist of all possible vector outputs of Wk;RRi\\x00jfor any (i;j). Note that we have deﬁned Qin a\\nreversed order, i.e., Qk=Wk;RRM+L\\x001\\x00k, to make further discussion easier.\\nNext, we collect the term (b)for all possible i;jinto the following L\\x02(M+L)matrix,\\nB=2\\n6664q>\\n0Wk;RRM\\x01\\x01\\x01q>\\n0Wk;RR0 0\\x01\\x01\\x01 0\\nq>\\n1Wk;RRM+1\\x01\\x01\\x01q>\\n1Wk;RR1q>\\n1Wk;RR0\\x01\\x01\\x01 0\\n..................\\nq>\\nL\\x001Wk;RRM+L\\x001\\x01\\x01\\x01q>\\nL\\x001Wk;RRM+L\\x001q>\\nL\\x001Wk;RRL\\x001\\x01\\x01\\x01q>\\nL\\x001Wk;RR03\\n7775\\n=2\\n6664q>\\n0QL\\x001\\x01\\x01\\x01q>\\n0QM+L\\x001 0\\x01\\x01\\x01 0\\nq>\\n1QL\\x002\\x01\\x01\\x01q>\\n1QM+L\\x002q>\\n1QM+L\\x001\\x01\\x01\\x01 0\\n..................\\nq>\\nL\\x001Q0\\x01\\x01\\x01q>\\nL\\x001QMq>\\nL\\x001QM+1\\x01\\x01\\x01q>\\nL\\x001QM+L\\x0013\\n7775\\nThen, we further deﬁne\\neB=qQ>=2\\n6664q>\\n0Q0\\x01\\x01\\x01q>\\n0QMq>\\n0QM+1\\x01\\x01\\x01q>\\n0QM+L\\x001\\nq>\\n1Q0\\x01\\x01\\x01q>\\n1QMq>\\n1QM+1\\x01\\x01\\x01q>\\n1QM+L\\x001\\n..................\\nq>\\nL\\x001Q0\\x01\\x01\\x01q>\\nL\\x001QMq>\\nL\\x001QM+1\\x01\\x01\\x01q>\\nL\\x001QM+L\\x0013\\n7775:\\nNow, it is easy to see an immediate relationship between BandeB, where thei-th row of Bis simply a\\nleft-shifted version of i-th row ofeB. Hence, the computation of Bonly requires a matrix multiplication\\nqQ>to computeeBand then a set of left-shifts.\\nSimilarly, we can collect all term (d)for all possible i;jinto another L\\x02(M+L)matrix D,\\nD=2\\n6664v>QL\\x001\\x01\\x01\\x01v>QM+L\\x001 0\\x01\\x01\\x01 0\\nv>QL\\x002\\x01\\x01\\x01v>QM+L\\x002v>QM+L\\x001\\x01\\x01\\x01 0\\n..................\\nv>Q0\\x01\\x01\\x01v>QMv>QM+1\\x01\\x01\\x01v>QM+L\\x0013\\n7775:Then, we can follow the same procedure to deﬁne\\ned= [Qv]>=\\x02\\nv>Q0\\x01\\x01\\x01v>QMv>QM+1\\x01\\x01\\x01v>QM+L\\x001\\x03\\n:\\nAgain, each row of Dis simply a left-shift version of ed. Hence, the main computation cost comes from\\nthe matrix-vector multiplication ed= [Qv]>, which is not expensive any more.\\nC Details About RECL\\n(a) Transformer-XL vs RNNs\\n (b) Transformer-XL vs Baseline\\nFigure 3: Visualizing unnormalized relative perplexity gains with r= 0:1.\\n(a) Transformer-XL vs RNNs\\n (b) Transformer-XL vs Baseline\\nFigure 4: Perplexity vs context length.\\nIn this section, we describe the details of the metric RECL. Let M=fm1;m2;\\x01\\x01\\x01;mNgbe a model\\ngroup consisting of Nmodels. Let li(c;t)denote the loss of model mion thet-th token in the corpus\\nwith a context length c. Concretely, the loss can be written as\\nli(c;t) =\\x00logPmi(xtjxt\\x001;\\x01\\x01\\x01;xt\\x00c)\\nwherePmiis the probability distribution given by model mi, andxtis thet-th token in the corpus. Given\\na short context length cand a long context length c0such thatc0\\x15c, we can further deﬁne a baseline for\\neach position t,\\nb(c;t) =N\\nmin\\ni=1li(c;t)\\nTherelative loss ofmiw.r.t. the model group Mis written as\\nfi(c;c0) =1\\njTjX\\nt2Tmin\\x00\\nb(c;t);li(c0;t)\\x01\\nThe above equation uses the minimum loss of all models on the short length cas a baseline, and only\\nlosses smaller than the baseline will be effectively counted towards the relative loss. This enables faircomparison between multiple models because all models with a long context length c0need to improve\\nover the same baseline. Sometimes we only care about those positions where the baseline performs\\npoorly (which means short-term dependency with context length cis not sufﬁcient), so given a ratio\\nparameterr, we deﬁne the setTis the above equation as\\nT=top-rpositionstwith largest b(c;t)\\nTherelative gain is subsequently deﬁned as the relative perplexity reduction:\\ngi(c;c0) =expfi(c;c)\\x00expfi(c;c0)\\nexpfi(c;c)\\nGiven a step size \\x01, we then use an algorithm to ﬁnd the RECL by thresholding the relative gain:\\n1. Set initial short context length c, and long context length c0=c+ \\x01\\n2. Compute gi(c;c0). Ifgi(c;c0)<0:01, return RECL =c. Ifgi(c;c0)\\x150:01, setc=c0;c0=c+ \\x01\\nand go to step 1.\\nIn Figure 3, we visualize the unnormalized relative perplexity gains (expfi(c;c)\\x00expfi(c;c0))with\\nvarious pairs of (c;c0)whenr= 0:1. It is clear that Transformer-XL has a longer RECL compared to\\nRNNs and other baselines because the relative gains are substantially larger.\\nFor reference, we plot the perplexities with varying context lengths in Figure 4. The y-axis denotes\\nthe “normal” perplexity (not calibrated by baselines).\\nD Attention Visualization\\nIn this section, we provide some visualization of the attention learned by the SoTA model on the\\nWikiText-103 validation set. Recall that, this model has 16 10-head transformer layers and relies on\\na memory of length 640.\\nFigure 5: Average attention over the previous 640 tokens, where each row corresponds to a attention head and each\\ncolumn corresponds to a relative location. There are totally 160 attention heads, and every 10 heads come from a\\nsingle layer. Darker colors indicate higher values.\\nThe ﬁrst visualization aims at revealing the overall trend of where the model is attending. Speciﬁcally,\\nfor each attention head of each layer, we average the attention distributions of all tokens in the validation\\nset. This is shown in Fig. 5. As we can see, the overall trend is to focus more on the nearby tokens\\nthan the faraway ones. However, it is also very clear that some attention heads have a wider attention\\ndistribution over the entire memory span, notably the head 8 from layer 1, head 78 from layer 8, and the\\nhead 158 from layer 16.\\nSince we are focused on learning long-range dependency, we are especially interested in these heads\\nwith a wider attention span. Thus, in the second set of visualization, we pick the three notable heads\\nmentioned above, and visualize their attention behavior for a randomly chosen position, as shown in Fig.\\n6. Here, we see three different patterns of wider attention:\\n\\x0fFor the head 8 in the 1st layer, we see an almost uniform attention over the entire memory span. This\\nis quite intuitive, as lower-level layers needs to screen the entire memory span to decide where to focus\\nfor higher-level layers(a) Head 8 from layer 1.\\n(b) Head 78 from layer 8.\\n(c) Head 158 from layer 16.\\nFigure 6: Visualization of the three heads with a wide attention range. Each row corresponds to a target loca-\\ntion/token and each column corresponds to a context location/token. Tokens in the memory that have top 20%\\nattention values are highlighted in red.\\n\\x0fFor the head 78 in the 8th layer (a middle-level layer), we see a very sparse attention pattern scattered\\nin all ranges of the memory. Again, this well ﬁts our intuition that as information accumulates, the\\nnetwork may focus on some particular position with special interests.\\n\\x0fFor the head 158 in the 16th layer (i.e. the last layer), each target location (corresponding to each row)\\nhas its own distinct sparse focus, differing from head 78 where target locations largely share the same\\nattentive location in memory. Meanwhile, the pattern is also different from the case of head 8, where\\na few locations are clearly attended more than others.\\nFinally, as we have discussed in section 3.3, the attention score can be decomposed into four intuitive\\nterms. Here, we want to further investigate how these four terms contribute to the overall attention trend\\nin Fig. 5. Since the term (c)represents the global content bias, i.e., the prior importance of each word\\nregardless of the context, we will leave it out and focus on the terms (a),(b)and(d). So, for each term,\\nwe take the Softmax w.r.t. the memory span and average the resulted distribution of all tokens in the\\nvalidation set. The results are visualized in Fig. 7:\\n\\x0fSince term (a)is fully content-based addressing, when averaging over all target words, the result is\\nessentially uniform over the entire context, except for a few very close words, which are likely to be\\nsemantically similar to the target word.\\n\\x0fThe overall trend of term (b)highly resembles that of the entire attention distribution in Fig. 5. It\\nsuggests that the global trend of focusing on the nearby context is largely contributed by this content-\\ndependent positional bias.\\n\\x0fThe overall trend of term (d)is also focusing more on nearby words. However, compared to the trend\\nof term (b), it is clearly ﬂatter and biases towards a longer context.(a) Term (a).\\n(b) Term (b).\\n(c) Term (d).\\nFigure 7: Visualization of the three terms in computing the attention score. Each row corresponds to a attention\\nhead and each column corresponds to a relative location.\\nE Generated Text\\nIn this section, we present some generated text from our best model trained the Wikitext-103 dataset.\\nWe seed the our Transformer-XL with a context of at most 512 consecutive tokens randomly sampled\\nfrom the test set of Wikitext-103. Then, we run Transformer-XL to generate a pre-deﬁned number of\\ntokens (500 or 1,000 in our case). For each generation step, we ﬁrst ﬁnd the top-40 probabilities of the\\nnext-step distribution and sample from top-40 tokens based on the re-normalized distribution. To help\\nreading, we detokenize the context, the generated text and the reference text. Three generated examples\\nare shown in Tables 11, 12, and 13. Note that we do not perform any cherry picking and present the\\nﬁrst three examples we generate in the paper. In the text, “= text =”, “= = text = =” and “= = = text = =\\n=” denote the Wikipedia page tile, section title and subsection title, respectively, due to the original data\\npreprocessing procedure of Wikitext-103 (Merity et al., 2016).\\nAs we can see, though only trained on 100M tokens, Transformer-XL is a strong model at generating\\nlong text articles, particularly in the following aspects:\\n\\x0fTransformer-XL is able to structurally maintain the sectional arrangement of Wikipedia.\\n\\x0fTransformer-XL manages to semantically stay on the same topic throughout the course of genera-\\ntion.\\n\\x0fLong-range references are common in the generated text.\\n\\x0fTransformer-XL often generates novel content that is not present in the training data.\\nFor more detailed explanation of the interesting observations in each example, please refer to the corre-\\nsponding caption.Despite the overall excellence of the generation quality, the model can only perceive the seed context\\nand hallucinate what to generate based on the limited knowledge (100M tokens only) it is trained on.\\nAs a result, the generated text sometimes looks clearly relevant but not close enough or to the point\\ncompared to what human writer would do. That said, we believe this issue is mostly a problem of limited\\ntraining data size and could be alleviated by using a larger training set.\\nContext:\\nKershaw started the 2010 season by posting a 3.07 ERA in April, but did so by walking 22 batters in 29 innings. On May 4, he had his worst start of his career\\nagainst the Milwaukee Brewers at Dodger Stadium, throwing just 57 pitches in 11 / 3 innings, while retiring only four of the 13 batters he faced — including the\\npitcher. He was booed loudly upon being pulled from the game. Kershaw said after the game, \" I didn’t give our team any kind of chance. It’s just not a good\\nfeeling to let your teammates down, let everybody down. It stings, it hurts. I ’ve got to ﬁgure things out. \" Kershaw rebounded his next start by pitching an 8 inning\\ntwo-hitter and out-dueling the then undefeated Ubaldo Jiménez. He credited his control of the slider being the major turning point for him. Later in the season, he\\nwas suspended for ﬁve games after hitting Aaron Rowand of the Giants with a pitch in a game on July 20. The incident occurred after both teams were given a\\nwarning following Giants ace Tim Lincecum hitting Matt Kemp earlier in the game. He threw his ﬁrst career complete game shutout on September 14, 2010 also\\nagainst San Francisco and ﬁnished the season with a record of 13 – 10 and a 2.91 ERA in 32 starts, pitching 2041 / 3 innings and recording 212 strikeouts.\\n= = = = 2011 season: 1st Cy Young Award = = = =\\nAfter ﬁnishing the 2010 season strong, the Dodgers named Kershaw as the Opening Day Starter for the 2011 season. On May 29, he pitched the second complete-\\ngame shutout of his career, striking out 10 while winning a two-hitter against the Florida Marlins, 8 – 0; he also had two singles and an RBI, scoring twice in the\\ngame. He produced his third career shutout on June 20, a two-hit, 11-strikeout effort against the Detroit Tigers. Kershaw became the ﬁrst Dodgers starter to strike\\nout the side in the 9th inning since Sandy Koufax’s perfect game. In his next start, on June 26, Kershaw pitched another complete game (against the Los Angeles\\nAngels of Anaheim ). He became the ﬁrst Dodger starter to have back-to-back complete game victories since Jeff Weaver in the 2005 season and the ﬁrst Dodger\\nto have double-digit strikeouts in consecutive starts since Chan-Ho Park in the 2000 season. He was awarded the National League Player of the Week award for the\\nweek of June 20 – 26 as a result of those two starts. Midway through June, Kershaw had amassed 32 career victories\\nXL Generation: Reference:\\n, tying him with Luis Castillo for the third best start total in the league and trail-\\ning only Johnny Bench and Eddie Mathews (37). The Dodgers signed Kershaw\\nto a one-year deal on July 14, 2011, with a player option for 2012, in a deal\\nworth just under $ 300,000. The Dodgers entered the 2011 season as the major\\nleague leaders, and Kershaw had the best record in the National League in saves\\n(39), games started (78) and walks (120); he also had the lowest win / loss ratio\\nin the league (1.87), and he had the worst on-base percentage (.349). He had\\nthe best ERA (2.00 ), most wins (16 ), or most shutouts (29) in his career (25),\\nwhile leading the league in losses per nine innings pitched (4.01). Following the\\n2011 season, the Dodgers traded Kershaw to the Kansas City Royals on July 29\\nfor pitcher Javier Torres.\\n= = = Kansas City Royals = = =\\n= = = = 2012 season = = = =\\nDuring spring training, Kershaw played very well. He was selected to spring\\ntraining as a relief pitcher for the Royals for the 2012 season. After an injury\\nto closer Javier Vázquez, he was activated on April 29 to replace Matt Holliday\\nin the Royals ’ starting rotation. In his only start with the Royals, on August 6,\\n2012, Kershaw struck out ﬁve batters in seven innings pitched to help the Royals\\nto their ﬁrst victory in franchise history. On September 27, 2012, it appeared\\nKershaw was going to pitch a complete game shutout against the Detroit Tigers,\\nbut did not manage to do so since the Tigers won 3 – 1. At the conclusion\\nof the season, Kershaw was named Major League Baseball’s Most Valuable\\nPlayer, was chosen to the All-Star Game at Busch Stadium and was named to\\nthe All-Star Game as the starting pitcher at shortstop. The Royals announced on\\nFebruary 4, 2013 that Kershaw would spend 2013 as starting pitcher, though he\\nwas expected to miss the season as a result of a shoulder injury.\\n= = = = 2013 season = = = =\\nOn May 17, 2013, Kershaw sustained another back injury and did not start in\\nAugust and October 2013. He appeared in 22 starts, all starts, ﬁnishing with\\na strikeout-to-walk ratio of 1.50 and a 2.91 ERA. He also had the third most\\nstrikeouts in the league: 10. On May 20, 2013, he, a 3.15 ERA and 593 career strikeouts in 568.2 innings. According to the Elias\\nSports Bureau, Kershaw was the ﬁrst 23-year-old pitcher to have that many\\nvictories, an ERA that low and an average of more than one strikeout per inning\\nsince ERA became an ofﬁcial statistic in 1910. Kershaw was selected to the\\nNational League team for the 2011 Major League Baseball All-Star Game, his\\nﬁrst All-Star selection. In the month of July, Kershaw was 4 – 1 with a 2.02\\nERA and NL-leading 45 strikeouts, earning him the National League Pitcher of\\nthe Month Award. On August 23, he struck out Matt Holliday of the St. Louis\\nCardinals for his 200th strikeout of the season and became the 10th Dodger\\npitcher to record back-to-back 200 strikeout seasons and the ﬁrst since Chan-\\nHo Park did it in the 2001 season. Kershaw ﬁnished the 2011 season by leading\\nthe NL with 21 wins, 248 strikeouts and a 2.28 ERA, winning the NL pitching\\nTriple Crown, the ﬁrst Triple Crown winner since Jake Peavy of the 2007 San\\nDiego Padres and the ﬁrst Dodger since Sandy Koufax won it in the 1966 season.\\nJustin Verlander of the Detroit Tigers won the American League Triple Crown\\nthe same season, marking the ﬁrst major-league season since 1924 to feature\\nTriple Crown-winning pitchers in both leagues. Kershaw’s 21 wins were the\\nmost by a Dodger pitcher since Orel Hershiser won 23 during the 1988 season.\\nHis ERA was the lowest by a Dodger since Hershiser’s 2.03 in the 1985 season,\\nhis strikeouts were the most by a Dodger since Koufax’s 317 in 1966 and his 233\\n1 / 3 innings pitched were the most since Chan Ho Park pitched 234 in 2001.\\nSince 1965 when Koufax did it, Peavy and Kershaw are only two pitchers in the\\nNational League have led the league in wins, strikeouts, ERA, and WHIP (walks\\nplus hits per inning pitched). Kershaw also became just the second <unk> to\\nhave a 240-plus strikeouts in a season before the age of 24, joining Vida Blue.\\nAfter the season, Kershaw was awarded the Warren Spahn Award as the best\\nleft-handed pitcher in 2011, the Players Choice Award for Most Outstanding\\nNational League pitcher, the Gold Glove Award as the top ﬁelding pitcher in\\nthe NL and the Sporting News (TSN) National League Pitcher of the Year. He\\nwas additionally selected as the starting pitcher for the TSN NL All-Star Team.\\nOn November 17, he was honored with the National League Cy Young Award,\\nmaking him the youngest Cy Young winner since Dwight Gooden\\nTable 11: Example 1 – 500 tokens generated by XL using a snippet from the Wikitext-103 test set as initial context. The\\nsample is randomly generated without any cherry picking.\\nOriginal Wikipedia page: https://en.wikipedia.org/wiki/Clayton_Kershaw\\nThere are many interesting observations from this example:\\n\\x0fFirstly, Kershaw never went to Royals in real life. Despite that, Transformer-XL stays on the fully imagined topic and keeps\\nhallucinating the experience of Kershaw in Royals across the generated text.\\n\\x0fSecondly, notice that XL correctly tracks the chronological order from 2011 to 2012 and to the ﬁnally 2013 season in the\\nsection titles.\\n\\x0fIn addition, notice that Transformer-XL accurately uses the the phrase “another back injury ” in the 2013 season paragraph,\\nsince it has talked about one earlier injure in the 2012 season. This shows again Transformer-XL’s ability of capturing\\nlong-term dependency.Context:\\n= = Distribution = =\\nSpecies range across the Neotropics from Mexico in the north to Bolivia, Paraguay, and southern Brazil in the south. According to <unk> and coauthors, three\\nspecies are found in Mexico, four in Central America, and 62 in South America. Three species are present in the Caribbean — two in Trinidad and Tobago, along\\nthe southern edge of the region, and one in Haiti.\\n= = Habitat and ecology = =\\n<unk> includes both large trees and small acaulescent palms which occupy a number of different ecological niches. Dense stands of some of the larger species are\\nconspicuous elements on the landscape, while smaller species are found in both in the forest understorey and in savannas. Disturbance has been implicated in the\\nformation of vegetation dominated by large <unk> species. In seasonally dry Amazonian forests the density of large adult A. <unk> palms was correlated with\\ncanopy openness; the species also dominates savannas formed by repeated forest ﬁres in Trinidad and Tobago. <unk> speciosa forms pure stands in many parts of\\nBrazil where natural forest vegetation has been cleared. Similarly, stands of A. <unk> in Bahia, Brazil (which are cultivated for <unk> ﬁbre) are managed using\\nﬁre — the seedlings survive cutting and burning, and are able to dominate burned forest patches. The fruit are dispersed by animals; fruit which are not dispersed\\nfrequently suffer seed predation by <unk> beetles. Certain species of <unk> have been mentioned as examples of \" anachronistic \" species which are adapted\\nfor dispersal by now-extinct Pleistocene megafauna. On <unk> Island, <unk>, in the Brazilian Amazon, <unk> <unk> fruit were consumed by tapirs, collared\\npeccaries, deer and primates. Rodents, including agoutis, fed upon the fruit and, as the fruit availability declined, they fed on the seeds. Other dispersers of <unk>\\nfruit include Crested <unk> which consume the fruit and disperse the seeds of A. <unk> in the Brazilian Pantanal.\\n= = Uses = =\\n<unk> species have a long history of human utilisation. <unk> <unk> <unk> seeds have been found in archaeological sites in Colombia dating back to 9000 BP.\\nA variety of species remain important sources of edible oil, thatch, edible seeds and ﬁbre. The leaves of <unk> <unk> and A. <unk> are used extensively for\\nthatching. Several species are oil palms, with A. speciosa among the most important economically. Products extracted from A. speciosa were reported to support\\nover 300,000 households in the Brazilian state of Maranhão in 2005, and in 1985 it was estimated to support over 450,000 households throughout the Brazil. <unk>\\nﬁbres, extracted from the leaf bases of A. <unk>, are commercially important, and generated about US $\\nXL Generation: Reference:\\n700,000 in 2013 on the black market. In 2004 the plant was reported to be\\nresponsible for a net proﬁt of around US $ 3 million in Brazil. A 2012 study\\nfound A. speciosa to cause agricultural production at least 2 – 3 times greater\\nthan those achieved without prior knowledge of land management.\\n= The Tale of Mrs. Tittlemouse =\\nThe Tale of Mrs. Tittlemouse is a children’s book written and illustrated by H.\\nM. Potter. It was ﬁrst published in February 1910 by Frederick Warne & Co.\\nand included illustrations by Frederick Warne. Mrs. Tittlemouse was intended\\nto be a children’s book, rather than a musical, and the tale describes her attempts\\nto ﬁnd her own home. Mrs. Tittlemouse is an average kitten and the tale follows\\na mischievous rabbit named Mr. Tittlemouse who tries to kill her in an attempt\\nto get a ride on a horse. Potter later wrote of the rabbit and her attempts to\\nkill her, \" If [ she ] were a fox, I should like to have been able to show her the\\nway. \" Potter’s work was inspired by The Tale of Little Black Sambo and her\\ntwo nieces, Petunia and Petunia. It was the ﬁrst book in the Potter family to be\\npublished in a hardback format, and was also the ﬁrst book in the Peter Rabbit\\nseries. The tale was released on 13 November 1910 and was accompanied by\\na greeting card by Potter’s brother-in-law, Frederick Warne. The tale was well\\nreceived by critics and children, and sold over 600,000 copies in its ﬁrst few\\nyears. In the ﬁrst year of its publication, Potter’s The Tale of Mrs. Tittlemouse\\nwon children’s book awards in England, America and Australia. It was selected\\nas a \" recommended reading \" by children in the US and Canada.\\n= = Plot summary = =\\nThe tale opens with the pet rabbit Mrs. Tittlemouse wandering through a forest\\nin a small litter of four. He is shot and badly injured by a deer after she attempts\\nto escape. Mrs. Tittlemouse decides that she wants to ﬁnd her own home, be-\\ncause she is eager to go on her own. She goes alone to the farm where she makes\\na little money by selling a few seeds and building a small cabin in the woods.\\nShe is approached by a wealthy hunter named Mr. Tittlemouse, who tries to kill\\nher but Mrs. Tittlemouse kills him by stufﬁng a rope into his nose and killing\\nhim. She is rescued by Mr. Tittlemouse’s wife Ruth, but Mrs. Tittlemouse then\\nleaves the woodland with the baby. When she is spotted by20 million in annual income to Brazilian farmers in 1996.\\n= The Heart of Ezra Greer =\\nThe Heart of Ezra Greer is a 1917 American silent drama ﬁlm produced by the\\nThanhouser Company and directed by Emile <unk>. The ﬁlm focuses on Ezra\\nGreer, a successful middle-aged man who searches for his college age daughter,\\nMary. The wayward Mary was romanced and abandoned by Jack <unk>, later\\nbearing his child. Once Ezra becomes broke he ﬁnds employment as the valet\\nfor Jack <unk>. After Jack’s engagement to a cabaret girl, Mary becomes upset\\nand leaves her child at Jack’s home. Contrary to Jack’s wishes, Ezra keeps the\\nchild and Jack ultimately reveals that the child is his own. Ezra convinces Jack\\nto make things right and Ezra convinces the cabaret girl to leave Jack. After a\\ncarriage accident in which the baby is injured, Ezra and Jack rush to the hospital\\nand ﬁnd Mary as a nurse crying over the child. The ﬁlm ends with the marriage\\nof Jack and Mary. The ﬁlm was released by Pathé on October 7, 1917. The ﬁlm\\nwas the ﬁnal release from Thanhouser and was deemed to be an average ﬁlm\\nby most reviewers. Criticism for the ﬁlm hinged on far-fetched coincidences to\\ndrive the plot. The ﬁlm is presumed lost.\\n= = Plot = =\\nThe ﬁlm follows Ezra Greer, a middle-aged man who has worked hard since\\nhis youth. He cares deeply for his motherless daughter, Mary, but was unable\\nto attend the annual commencement at her co-educational college. He awaits\\nfor her to return from college, but Mary leaves with her romantic interest, Jack\\n<unk>. On promise of marriage and wealth, Mary is romanced and gives birth\\nto a fatherless child. Without word from his daughter, Ezra resigns from his\\njob and attempts to seek her out and ﬁnds a poor motherless child, Marie. With\\nEzra’s money exhausted he seeks employment and ﬁnds it as the valet of Jack.\\nOne day, Mary seeks an announcement of Jack’s engagement to a cabaret girl\\nknown as \" The Baby Vamp \". Bitter over the prospect of her child’s future,\\nshe leaves the child at Jack’s home during his absence with a note. Jack orders\\nEzra to take the baby to an orphanage, but Marie begs Ezra to keep him. After\\ncontinually seeing the child, Jack is overcome with remorse and explains to Ezra\\nand seeks his advice. Not knowing he was making the case for his own daughter,\\nEzra convinces Jack to seek out Mary and forget the Baby Vamp. The Baby\\nTable 12: Example 2 – 500 tokens generated by XL using a snippet from the Wikitext-103 test set as initial context. The\\nsample is randomly generated without any cherry picking.\\nOriginal Wikipedia page: https://en.wikipedia.org/wiki/The_Tale_of_Mrs._Tittlemouse .\\nThis example exhibit some additional interesting properties of Transformer-XL:\\n\\x0fAfter ﬁnishing the last paragraph of the seed context, both the reference and generated text start a new topic (i.e., Wikipedia\\npage), as marked by the single “= title = ” line. This suggests the model has the ability of identifying the end of a topic / page,\\nand randomly starting with a new topic.\\n\\x0fEven more interestingly, a newly-started page is on a book called “The Tale of Mrs. Tittlemouse”. Transformer-XL manages\\nto copy the same book title and some related information from the training set, but hallucinates novel content of the book.\\nThis demonstrates a degree of generalization instead of memorization. Please refer to the original book content at the\\nWikipedia page.Context:\\n= Battle of Dürenstein =\\nThe Battle of Dürenstein (also known as the Battle of <unk>, Battle of <unk> and Battle of <unk>; German: <unk> bei <unk> ), on 11 November 1805 was\\nan engagement in the Napoleonic Wars during the War of the Third Coalition. Dürenstein (modern <unk>) is located in the <unk> Valley, on the River Danube,\\n73 kilometers (45 mi) upstream from Vienna, Austria. The river makes a crescent-shaped curve between <unk> and nearby Krems an der Donau and the battle\\nwas fought in the ﬂood plain between the river and the mountains. At Dürenstein a combined force of Russian and Austrian troops trapped a French division\\ncommanded by Théodore Maxime Gazan. The French division was part of the newly created VIII Corps, the so-called Corps Mortier, under command of Édouard\\nMortier. In pursuing the Austrian retreat from Bavaria, Mortier had over-extended his three divisions along the north bank of the Danube. Mikhail <unk> Kutuzov,\\ncommander of the Coalition force, enticed Mortier to send Gazan’s division into a trap and French troops were caught in a valley between two Russian columns.\\nThey were rescued by the timely arrival of a second division, under command of Pierre Dupont de l ’Étang. The battle extended well into the night. Both sides\\nclaimed victory. The French lost more than a third of their participants, and Gazan’s division experienced over 40 percent losses. The Austrians and Russians\\nalso had heavy <unk> to 16 <unk> perhaps the most signiﬁcant was the death in action of Johann Heinrich von Schmitt, one of Austria’s most capable chiefs of\\nstaff. The battle was fought three weeks after the Austrian capitulation at Ulm and three weeks before the Russo-Austrian defeat at the Battle of Austerlitz. After\\nAusterlitz Austria withdrew from the war. The French demanded a high indemnity and Francis II abdicated as Holy Roman Emperor, releasing the German states\\nfrom their allegiance to the Holy Roman Empire.\\n= = Background = =\\nIn a series of conﬂicts from 1803-15 known as the Napoleonic Wars, various European powers formed ﬁve coalitions against the First French Empire. Like the wars\\nsparked by the French Revolution (1789 ), these further revolutionized the formation, organization and training of European armies and led to an unprecedented\\nmilitarization, mainly due to mass conscription. Under the leadership of Napoleon, French power rose quickly as the Grande Armée conquered most of Europe,\\nand collapsed rapidly\\nXL Generation: Reference:\\nafter the French conquest of Italy. This victory marked the beginning of the\\nSecond Coalition. Napoleon’s rapid advance caused Austria – Russia, Britain\\nand Russia to make peace negotiations. The Russian army under Prince Mikhail\\nMikhailovich Mikhailovich Chaffee, commander of the Imperial Russian Army\\nin Switzerland, was able to drive off the Austrians in the Battle of Stockach\\n(1805) and to take Pressburg (modern Ö3 Austria) from the Austrians. At an\\nearly stage the Austro-Hungarian ﬂeet had been damaged in a storm off Cape\\nMatapan; this allowed the Allies to launch a full-scale invasion of Italy in Febru-\\nary 1805. The Battle of Austerlitz was the decisive French victory against\\nNapoleon and the largest naval battle in history, involving more modern-day\\nEuropean navies. The French military situation worsened as Napoleon faced\\nseveral threats related to his newly formed Army of Europe, particularly Russia\\nitself, which was now on the verge of collapse. The Russian general and friend\\nof Napoleon, Alexander, had been dissatisﬁed with the conduct of the Austri-\\nans; he was still in conﬂict with Emperor Napoleon, the French Republic’s king,\\nwho had declared war on Austria during the summer of 1804. With the war over,\\nNapoleon decided to launch a second invasion of Italy in October 1805.\\n= = Prelude = =\\nIn July 1805, the French 1st Army entered southern Italy. The army, under the\\ncommand of Marshal Marmont, were reinforced by a few battalions of infantry\\nunder Claude General Auguste de Marmont at the town of Philippsburg and\\nanother battalion at Belluno. On 17 September 1805, the army marched from\\nBelluno towards Krems. By 29 September, they had reached Belluno and con-\\nducted its advance against a small Austrian force. By 31 September, the whole\\nforce had been reinforced by a brigade from the Army of Tyrol under the com-\\nmand of Pierre Augereau. The Austrians were now under the command of Mar-\\nshal Jean Victor Marie Moreau, a member of the Directory. Moreau had taken\\ncommand of the Austrian invasion force in the spring of 1805. His command\\nincluded the VI Corps commanded by Jean Baptiste Drouet de Ney and the VI\\nCorps commanded by Generals Jean Victor Marie Moreau and Joseph Souham.\\nNey’s corps consisted of the III. Corps and VI. Corps, which consisted of the\\nIII Corps and VI. Corps, located in the Austrian Netherlands, was commanded\\nby Friedrich Joseph, Count Baillet de Latour. Moreau’s army consisted of six\\ndivisions and several associated brigades.\\n= = Aftermath = =\\n= = = First Coalition forces = = =\\nOn 9 October 1805 the French Army of the Danube was attacked by an Aus-\\ntrian army under Archduke Charles at the Battle of Austerlitz. Although Charles\\nand Charles had not had much time to regroup, on 10 October, he launched his\\nattack on the Polish forces under Friedrich Joseph, Count of Lauenburg. Af-\\nter three days, Charles’ army captured Lauenburg. The French forces pursued\\nthe Austrians to the Silesian border, where they encountered strong Austrian\\nresistance. These conﬂicts forced the Austrians to retreat into Tyrol and Aus-\\ntria agreed to a truce. The Austrian army, commanded by Wenzel Anton Karl,\\nCount of Merveldt, was reduced to around 10,000 men. It was initially planned\\nthat Archduke Charles would launch a counter-attack against the French army\\non the same day, as Napoleon had hoped, but this was not carried out. On 25\\nOctober, Merveldt left Styria for Tyrol. On the same day, Austria launched its\\nnew offensive against the French at Ulm. Charles withdrew his army from the\\nregion for a third time at the Battle of Elchingen, under the overall command of\\nthe Austrian generals, Ferdinand and Friedrich Wilhelm of Jülich-Cleves-Berg.\\nTo prevent Archduke Charles from escaping from the battleﬁeld, the comman-\\nder of the Habsburg army, Archduke Charles, planned to occupy the fortress\\nLinz; instead, he decided to force Franz von Hipper to surrender the city. How-\\never, as Charles moved to the south, Moreau arrived on the scene with additional\\nsoldiers – including the entire Imperial Guard – and defeated the Austrians at\\nthe Battle of Hohenlinden on 28 October. The loss of Linz resulted in Austria’s\\ncomplete defeat at Hohenlinden. In the meantime, the French Army of Obser-\\nvation and Preparedness was reorganized into the Army of the Danube under\\nFeldzeugmeister (Colonel-General) Friedrich Freiherr von Hotze. The army\\nwas composed of the I, IV , VI, VI, VII, VIII and IX Corps. With reinforcements\\nfrom Italy and France, it formed new battalions, companies, and squadrons in\\nthe Austrian army. On 17 November 1804, at the Battle of Jena-Auerstadt the\\nArmy of Silesia and the Army of Silesia joined forces, but by the time that theafter the disastrous invasion of Russia in 1812. Napoleon’s empire ultimately\\nsuffered complete military defeat in the 1813 – 14 campaigns, resulting in the\\nrestoration of the Bourbon monarchy in France. Although Napoleon made a\\nspectacular return in 1815, known as the Hundred Days, his defeat at the Battle\\nof Waterloo, the pursuit of his army and himself, his abdication and banishment\\nto the Island of Saint Helena concluded the Napoleonic Wars.\\n= = Danube campaign = =\\nFrom 1803-06 the Third Coalition fought the First French Empire and its client\\nstates (see table at right ). Although several naval battles determined control of\\nthe seas, the outcome of the war was decided on the continent, predominantly\\nin two major land operations in the Danube valley: the Ulm campaign in the\\nupper Danube and the Vienna campaign, in the middle Danube valley. Political\\nconﬂicts in Vienna delayed Austria’s entry into the Third Coalition until 1805.\\nAfter hostilities of the War of the Second Coalition ended in 1801, Archduke\\n<unk> emperor’s <unk> advantage of the subsequent years of peace to develop\\na military restructuring plan. He carefully put this plan into effect beginning in\\n1803 – 04, but implementation was incomplete in 1805 when Karl Mack, Lieu-\\ntenant Field Marshal and Quartermaster-General of the Army, implemented his\\nown restructuring. Mack bypassed Charles ’ methodical approach. Occurring\\nin the ﬁeld, Mack’s plan also undermined the overall command and organiza-\\ntional structure. Regardless, Mack sent an enthusiastic report to Vienna on the\\nmilitary’s readiness. Furthermore, after misreading Napoleon’s maneuvers in\\nWürttemberg, Mack also reported to Vienna on the weakness of French dispo-\\nsitions. His reports convinced the war party advising the emperor, Francis II,\\nto enter the conﬂict against France, despite Charles ’ own advice to the con-\\ntrary. Responding to the report and rampant anti-French fever in Vienna, Fran-\\ncis dismissed Charles from his post as generalissimo and appointed his <unk>\\nbrother-in-law, Archduke Ferdinand, as commander. The inexperienced Ferdi-\\nnand was a poor choice of replacement for the capable Charles, having neither\\nmaturity nor aptitude for the assignment. Although Ferdinand retained nomi-\\nnal command, day-to-day decisions were placed in the hands of Mack, equally\\nill-suited for such an important assignment. When Mack was wounded early\\nin the campaign, he was unable to take full charge of the army. Consequently,\\ncommand further devolved to Lieutenant Field Marshal Karl Philipp, Prince of\\nSchwarzenberg, an able cavalry ofﬁcer but inexperienced in the command of\\nsuch a large army.\\n= = = Road to Ulm = = =\\nThe campaign in the upper Danube valley began in October, with several clashes\\nin Swabia. Near the Bavarian town of Wertingen, 40 kilometers (25 mi) north-\\nwest of Augsburg, on 8 October the 1st Regiment of dragoons, part of Murat’s\\nReserve Cavalry Corps, and grenadiers of Lannes ’ V Corps surprised an Aus-\\ntrian force half its size. The Austrians were arrayed in a line and unable to form\\ntheir defensive squares quickly enough to protect themselves from the 4,000\\ndragoons and 8,000 grenadiers. Nearly 3,000 Austrians were captured and over\\n400 were killed or wounded. A day later, at another small town, <unk> south\\nof the Danube <unk> French 59th Regiment of the Line stormed a bridge over\\nthe Danube and, humiliatingly, chased two large Austrian columns toward Ulm.\\nThe campaign was not entirely bad news for Vienna. At Haslach, Johann von\\nKlenau arranged his 25,000 infantry and cavalry in a prime defensive position\\nand, on 11 October, the overly conﬁdent General of Division Pierre Dupont de\\nl’Étang attacked Klenau’s force with fewer than 8,000 men. The French lost\\n1,500 men killed and wounded. Aside from taking the Imperial Eagles and\\n<unk> of the 15th and 17th Dragoons, Klenau’s force also captured 900 men,\\n11 guns and 18 ammunition wagons. Klenau’s victory was a singular success.\\nOn 14 October Mack sent two columns out of Ulm in preparation for a breakout\\nto the north: one under Johann Sigismund Riesch headed toward Elchingen to\\nsecure the bridge there, and the other under Franz von Werneck went north with\\nmost of the heavy artillery. Recognizing the opportunity, Marshal Michel Ney\\nhurried the rest of his VI Corps forward to re-establish contact with Dupont, who\\nwas still north of the Danube. In a two-pronged attack Ney sent one division to\\nthe south of Elchingen on the right bank of the Danube. This division began the\\nassault at Elchingen. At the same time another division crossed the river to the\\neast and moved west against Riesch’s position. After clearing Austrian pickets\\nfrom a bridge, the French attacked and captured a strategically located abbey atFrench approached Vienna, the Prussians had already surrendered. As the Aus-\\ntrians did not want to allow the war to continue, they decided to abandon their\\nterritories in the north and move their army to the north and west, cutting off\\nCharles from Vienna. The Battle of Warsaw was fought on 23 November 1805\\nbetween the French Army of the Danube and the Austrian Army of Styria in\\nthe vicinity of Warsaw and Pressburg (modern Trnava, Slovakia). At that time\\nHabsburg forcesthe top of the hill at bayonet point. The Austrian cavalry unsuccessfully tried to\\nfend off the French, but the Austrian infantry broke and ran. In this engagement\\nalone, the Austrians lost more than half their reserve artillery park, 6,000 (out\\nof 8,000 total participants) dead, wounded or captured and four colors. Reisch’s\\ncolumn also failed to destroy the bridges across the Danube. Napoleon’s light-\\nning campaign exposed the Austrian indecisive command structure and poor\\nsupply apparatus. Mack\\nTable 13: Example 3 – 1,000 tokens generated by XL using a snippet from the Wikitext-103 test set as initial context. The\\nsample is randomly generated without any cherry picking.\\nOriginal Wikipedia page: https://en.wikipedia.org/wiki/Battle_of_D%C3%BCrenstein .\\n\\x0fAlthough this example is signiﬁcantly longer, we can see that Transformer-XL is still able to stay on the same topic and\\nmakes up non-existing stories about the Napoleon wars.\\n\\x0fNotably, from the second section on, the generated text correctly follows a ﬁne-grained chronological order on the level of\\nmonth and day to narrate events in 1805, except a mistake (1804 instead of 1805) near the end of the paragraph. To ease\\nreading which we have highlighted all the date related phrases by magenta in the generation.'"
      ]
     },
     "execution_count": 10,
     "metadata": {},
     "output_type": "execute_result"
    }
   ],
   "source": [
    "combined_text"
   ]
  },
  {
   "cell_type": "code",
   "execution_count": 12,
   "id": "e9734afc",
   "metadata": {},
   "outputs": [],
   "source": [
    "text_splitter = CharacterTextSplitter(\n",
    "    separator =\"\\n\",\n",
    "    chunk_size=203,\n",
    "    chunk_overlap=20,\n",
    "    length_function=len\n",
    ")\n",
    "\n",
    "finalData = text_splitter.split_text(combined_text)"
   ]
  },
  {
   "cell_type": "code",
   "execution_count": 13,
   "id": "4c18bd2f",
   "metadata": {},
   "outputs": [
    {
     "data": {
      "text/plain": [
       "['Transformer-XL: Attentive Language Models\\nBeyond a Fixed-Length Context\\nZihang Dai\\x0312, Zhilin Yang\\x0312, Yiming Yang1, Jaime Carbonell1,\\nQuoc V . Le2, Ruslan Salakhutdinov1',\n",
       " '1Carnegie Mellon University,2Google Brain\\n{dzihang,zhiliny,yiming,jgc,rsalakhu}@cs.cmu.edu, qvl@google.com\\nAbstract\\nTransformers have a potential of learning\\nlonger-term dependency, but are limited by a',\n",
       " 'ﬁxed-length context in the setting of language\\nmodeling. We propose a novel neural ar-\\nchitecture Transformer-XL that enables learn-\\ning dependency beyond a ﬁxed length with-',\n",
       " 'out disrupting temporal coherence. It con-\\nsists of a segment-level recurrence mechanism\\nand a novel positional encoding scheme. Our\\nmethod not only enables capturing longer-term',\n",
       " 'dependency, but also resolves the context frag-\\nmentation problem. As a result, Transformer-\\nXL learns dependency that is 80% longer than\\nRNNs and 450% longer than vanilla Trans-',\n",
       " 'formers, achieves better performance on both\\nshort and long sequences, and is up to 1,800+\\ntimes faster than vanilla Transformers during\\nevaluation. Notably, we improve the state-of-',\n",
       " 'the-art results of bpc/perplexity to 0.99 on en-\\nwiki8, 1.08 on text8, 18.3 on WikiText-103,\\n21.8 on One Billion Word, and 54.5 on Penn\\nTreebank (without ﬁnetuning). When trained',\n",
       " 'only on WikiText-103, Transformer-XL man-\\nages to generate reasonably coherent, novel\\ntext articles with thousands of tokens. Our\\ncode, pretrained models, and hyperparameters',\n",
       " 'are available in both Tensorﬂow and PyTorch1.\\n1 Introduction\\nLanguage modeling is among the important prob-\\nlems that require modeling long-term dependency,',\n",
       " 'with successful applications such as unsupervised\\npretraining (Dai and Le, 2015; Peters et al., 2018;\\nRadford et al., 2018; Devlin et al., 2018). How-\\never, it has been a challenge to equip neural',\n",
       " 'networks with the capability to model long-term\\ndependency in sequential data. Recurrent neu-\\nral networks (RNNs), in particular Long Short-\\n\\x03Equal contribution. Order determined by swapping the',\n",
       " 'one in Yang et al. (2017).\\n1https://github.com/kimiyoung/\\ntransformer-xlTerm Memory (LSTM) networks (Hochreiter and\\nSchmidhuber, 1997), have been a standard solu-',\n",
       " 'tion to language modeling and obtained strong\\nresults on multiple benchmarks. Despite the\\nwide adaption, RNNs are difﬁcult to optimize\\ndue to gradient vanishing and explosion (Hochre-',\n",
       " 'iter et al., 2001), and the introduction of gat-\\ning in LSTMs and the gradient clipping tech-\\nnique (Graves, 2013) might not be sufﬁcient to\\nfully address this issue. Empirically, previous',\n",
       " 'work has found that LSTM language models use\\n200 context words on average (Khandelwal et al.,\\n2018), indicating room for further improvement.\\nOn the other hand, the direct connections be-',\n",
       " 'tween long-distance word pairs baked in atten-\\ntion mechanisms might ease optimization and en-\\nable the learning of long-term dependency (Bah-\\ndanau et al., 2014; Vaswani et al., 2017). Re-',\n",
       " 'cently, Al-Rfou et al. (2018) designed a set of aux-\\niliary losses to train deep Transformer networks\\nfor character-level language modeling, which out-\\nperform LSTMs by a large margin. Despite the',\n",
       " 'success, the LM training in Al-Rfou et al. (2018)\\nis performed on separated ﬁxed-length segments\\nof a few hundred characters, without any informa-\\ntion ﬂow across segments. As a consequence of',\n",
       " 'the ﬁxed context length, the model cannot capture\\nany longer-term dependency beyond the prede-\\nﬁned context length. In addition, the ﬁxed-length\\nsegments are created by selecting a consecutive',\n",
       " 'chunk of symbols without respecting the sentence\\nor any other semantic boundary. Hence, the model\\nlacks necessary contextual information needed to\\nwell predict the ﬁrst few symbols, leading to inef-',\n",
       " 'ﬁcient optimization and inferior performance. We\\nrefer to this problem as context fragmentation .\\nTo address the aforementioned limitations of\\nﬁxed-length contexts, we propose a new architec-',\n",
       " 'ture called Transformer-XL (meaning extra long).\\nWe introduce the notion of recurrence into ourarXiv:1901.02860v3  [cs.LG]  2 Jun 2019deep self-attention network. In particular, instead',\n",
       " 'of computing the hidden states from scratch for\\neach new segment, we reuse the hidden states ob-\\ntained in previous segments. The reused hidden\\nstates serve as memory for the current segment,',\n",
       " 'which builds up a recurrent connection between\\nthe segments. As a result, modeling very long-\\nterm dependency becomes possible because in-\\nformation can be propagated through the recur-',\n",
       " 'rent connections. Meanwhile, passing informa-\\ntion from the previous segment can also resolve\\nthe problem of context fragmentation. More im-\\nportantly, we show the necessity of using relative',\n",
       " 'positional encodings rather than absolute ones, in\\norder to enable state reuse without causing tem-\\nporal confusion. Hence, as an additional techni-\\ncal contribution, we introduce a simple but more',\n",
       " 'effective relative positional encoding formulation\\nthat generalizes to attention lengths longer than the\\none observed during training.\\nTransformer-XL obtained strong results on ﬁve',\n",
       " 'datasets, varying from word-level to character-\\nlevel language modeling. Transformer-XL is also\\nable to generate relatively coherent long text arti-\\ncles with thousands of tokens (see Appendix E),',\n",
       " 'trained on only 100M tokens.\\nOur main technical contributions include intro-\\nducing the notion of recurrence in a purely self-\\nattentive model and deriving a novel positional en-',\n",
       " 'coding scheme. These two techniques form a com-\\nplete set of solutions, as any one of them alone\\ndoes not address the issue of ﬁxed-length con-\\ntexts. Transformer-XL is the ﬁrst self-attention',\n",
       " 'model that achieves substantially better results\\nthan RNNs on both character-level and word-level\\nlanguage modeling.\\n2 Related Work\\nIn the last few years, the ﬁeld of language mod-',\n",
       " 'eling has witnessed many signiﬁcant advances,\\nincluding but not limited to devising novel ar-\\nchitectures to better encode the context (Bengio\\net al., 2003; Mikolov et al., 2010; Merity et al.,',\n",
       " '2016; Al-Rfou et al., 2018), improving regulariza-\\ntion and optimization algorithms (Gal and Ghahra-\\nmani, 2016) , speeding up the Softmax computa-\\ntion (Grave et al., 2016a) , and enriching the output',\n",
       " 'distribution family (Yang et al., 2017).\\nTo capture the long-range context in language\\nmodeling, a line of work directly feeds a repre-',\n",
       " 'sentation of the wider context into the networkas an additional input. Existing works range\\nfrom ones where context representations are man-\\nually deﬁned (Mikolov and Zweig, 2012; Ji et al.,',\n",
       " '2015; Wang and Cho, 2015) to others that rely on\\ndocument-level topics learned from data (Dieng\\net al., 2016; Wang et al., 2017).\\nMore broadly, in generic sequence modeling,',\n",
       " 'how to capture long-term dependency has been a\\nlong-standing research problem. From this per-\\nspective, since the ubiquitous adaption of LSTM,\\nmany efforts have been spent on relieving the',\n",
       " 'vanishing gradient problem, including better ini-\\ntialization (Le et al., 2015), additional loss sig-\\nnal (Trinh et al., 2018), augmented memory struc-',\n",
       " 'ture (Ke et al., 2018) and others that modify the in-\\nternal architecture of RNNs to ease the optimiza-\\ntion (Wu et al., 2016; Li et al., 2018). Different\\nfrom them, our work is based on the Transformer',\n",
       " 'architecture and shows that language modeling as\\na real-world task beneﬁts from the ability to learn\\nlonger-term dependency.\\n3 Model\\nGiven a corpus of tokens x= (x1;:::;xT), the',\n",
       " 'task of language modeling is to estimate the joint\\nprobabilityP(x), which is often auto-regressively\\nfactorized as P(x) =Q\\ntP(xtjx<t). With the\\nfactorization, the problem reduces to estimating',\n",
       " 'each conditional factor. In this work, we stick to\\nthe standard neural approach to modeling the con-\\nditional probability. Speciﬁcally, a trainable neu-\\nral network is used to encode the context x<tinto',\n",
       " 'a ﬁxed size hidden state, which is multiplied with\\nthe word embeddings to obtain the logits. The log-\\nits are then fed into the Softmax function, yielding',\n",
       " 'a categorical probability distribution over the next\\ntoken.\\n3.1 Vanilla Transformer Language Models\\nIn order to apply Transformer or self-attention to\\nlanguage modeling, the central problem is how to',\n",
       " 'train a Transformer to effectively encode an arbi-\\ntrarily long context into a ﬁxed size representation.\\nGiven inﬁnite memory and computation, a sim-\\nple solution would be to process the entire con-',\n",
       " 'text sequence using an unconditional Transformer\\ndecoder, similar to a feed-forward neural network.\\nHowever, this is usually infeasible with the limited\\nresource in practice.',\n",
       " 'One feasible but crude approximation is to split\\nthe entire corpus into shorter segments of man-Segment 1x1x2x4x3Segment 2x8x5x6x7(a) Train phase.\\nLimited Contextx1x2x4x3x5x6\\nLimited Contextx2x3x5x4x6x1',\n",
       " 'Limited Contextx3x4x6x5x2\\nx1 (b) Evaluation phase.\\nFigure 1: Illustration of the vanilla model with a segment length 4.\\nageable sizes, and only train the model within',\n",
       " 'each segment, ignoring all contextual information\\nfrom previous segments. This is the idea adopted\\nby Al-Rfou et al. (2018). We call it the vanilla\\nmodel and visualize it in Fig. 1a. Under this',\n",
       " 'training paradigm, information never ﬂows across\\nsegments in either the forward or backward pass.\\nThere are two critical limitations of using a ﬁxed-\\nlength context. First, the largest possible depen-',\n",
       " 'dency length is upper bounded by the segment\\nlength, which is a few hundred on character-level\\nlanguage modeling (Al-Rfou et al., 2018). There-\\nfore, although the self-attention mechanism is less',\n",
       " 'affected by the vanishing gradient problem com-\\npared to RNNs, the vanilla model is not able to\\nfully exploit this optimization advantage. Second,\\nthough it is possible to use padding to respect the',\n",
       " 'sentence or other semantic boundaries, in practice\\nit has been standard practice to simply chunk long\\ntext into ﬁxed-length segments due to improved\\nefﬁciency (Peters et al., 2018; Devlin et al., 2018;',\n",
       " 'Al-Rfou et al., 2018). However, simply chunking\\na sequence into ﬁxed-length segments will lead to\\nthe context fragmentation problem as discussed in\\nSection 1.\\nDuring evaluation, at each step, the vanilla',\n",
       " 'model also consumes a segment of the same length\\nas in training, but only makes one prediction at the\\nlast position. Then, at the next step, the segment',\n",
       " 'is shifted to the right by only one position, and the\\nnew segment has to be processed all from scratch.\\nAs shown in Fig. 1b, this procedure ensures that\\neach prediction utilizes the longest possible con-',\n",
       " 'text exposed during training, and also relieves con-\\ntext fragmentation issue encountered in training.\\nHowever, this evaluation procedure is extremely\\nexpensive. We will show that our proposed archi-',\n",
       " 'tecture is able to substantially improve the evalua-\\ntion speed.3.2 Segment-Level Recurrence with State\\nReuse\\nTo address the limitations of using a ﬁxed-length',\n",
       " 'context, we propose to introduce a recurrence\\nmechanism to the Transformer architecture. Dur-\\ning training, the hidden state sequence computed\\nfor the previous segment is ﬁxed andcached to',\n",
       " 'be reused as an extended context when the model\\nprocesses the next new segment, as shown in Fig.\\n2a. Although the gradient still remains within a\\nsegment, this additional input allows the network',\n",
       " 'to exploit information in the history, leading to an\\nability of modeling longer-term dependency and\\navoiding context fragmentation. Formally, let the\\ntwo consecutive segments of length Lbes\\x1c=',\n",
       " '[x\\x1c;1;\\x01\\x01\\x01;x\\x1c;L]ands\\x1c+1= [x\\x1c+1;1;\\x01\\x01\\x01;x\\x1c+1;L]\\nrespectively. Denoting the n-th layer hidden state\\nsequence produced for the \\x1c-th segment s\\x1cby\\nhn\\n\\x1c2RL\\x02d, wheredis the hidden dimension.',\n",
       " 'Then, then-th layer hidden state for segment s\\x1c+1\\nis produced (schematically) as follows,\\nehn\\x001\\n\\x1c+1=\\x02\\nSG(hn\\x001\\n\\x1c)\\x0ehn\\x001\\n\\x1c+1\\x03\\n;\\nqn\\n\\x1c+1;kn\\n\\x1c+1;vn\\n\\x1c+1=hn\\x001\\n\\x1c+1W>\\nq;ehn\\x001\\n\\x1c+1W>\\nk;ehn\\x001\\n\\x1c+1W>\\nv;\\nhn',\n",
       " 'k;ehn\\x001\\n\\x1c+1W>\\nv;\\nhn\\n\\x1c+1=Transformer-Layer (qn\\n\\x1c+1;kn\\n\\x1c+1;vn\\n\\x1c+1):\\nwhere the function SG (\\x01)stands for stop-gradient,\\nthe notation [hu\\x0ehv]indicates the concatenation',\n",
       " 'of two hidden sequences along the length dimen-\\nsion, and W\\x01denotes model parameters. Com-\\npared to the standard Transformer, the critical dif-\\nference lies in that the key kn\\n\\x1c+1and value vn\\n\\x1c+1',\n",
       " '+1and value vn\\n\\x1c+1\\nare conditioned on the extended context ehn\\x001\\n\\x1c+1and\\nhence hn\\x001\\n\\x1c cached from the previous segment.\\nWe emphasize this particular design by the green\\npaths in Fig. 2a.',\n",
       " 'paths in Fig. 2a.\\nWith this recurrence mechanism applied to ev-\\nery two consecutive segments of a corpus, it es-\\nsentially creates a segment-level recurrence in the',\n",
       " 'hidden states. As a result, the effective context be-\\ning utilized can go way beyond just two segments.\\nHowever, notice that the recurrent dependency be-\\ntween hn\\n\\x1c+1andhn\\x001',\n",
       " 'tween hn\\n\\x1c+1andhn\\x001\\n\\x1cshifts one layer downwardsx1x2x4x3x8x5x6x7New Segmentx12x9x10x11Fixed (No Grad)x1x2x4x3x8x5x6x7Fixed (No Grad)New Segment(a) Training phase.',\n",
       " 'x1x2x4x3x8x5x6x7x12x9x10x11Extended Context (b) Evaluation phase.\\nFigure 2: Illustration of the Transformer-XL model with a segment length 4.\\nper-segment, which differs from the same-layer',\n",
       " 'recurrence in conventional RNN-LMs. Conse-\\nquently, the largest possible dependency length\\ngrows linearly w.r.t. the number of layers as well\\nas the segment length, i.e., O(N\\x02L), as vi-',\n",
       " 'sualized by the shaded area in Fig. 2b. This\\nis analogous to truncated BPTT (Mikolov et al.,\\n2010), a technique developed for training RNN-\\nLMs. However, different from truncated BPTT,',\n",
       " 'our method caches a sequence of hidden states in-\\nstead of the last one, and should be applied to-\\ngether with the relative positional encoding tech-\\nnique described in Section 3.3.',\n",
       " 'Besides achieving extra long context and re-\\nsolving fragmentation, another beneﬁt that comes\\nwith the recurrence scheme is signiﬁcantly faster\\nevaluation. Speciﬁcally, during evaluation, the',\n",
       " 'representations from the previous segments can\\nbe reused instead of being computed from scratch\\nas in the case of the vanilla model. In our ex-\\nperiments on enwiki8, Transformer-XL is up to',\n",
       " '1,800+ times faster than the vanilla model during\\nevaluation (see Section 4).\\nFinally, notice that the recurrence scheme does\\nnot need to be restricted to only the previous seg-',\n",
       " 'ment. In theory, we can cache as many previous\\nsegments as the GPU memory allows, and reuse\\nall of them as the extra context when processing\\nthe current segment. Thus, we can cache a prede-',\n",
       " 'ﬁned length- Mold hidden states spanning (pos-\\nsibly) multiple segments, and refer to them as the\\nmemory mn\\n\\x1c2RM\\x02d, due to a clear connection to\\nthe memory augmented neural networks (Graves',\n",
       " 'et al., 2014; Weston et al., 2014). In our experi-\\nments, we set Mequal to the segment length dur-\\ning training, and increase it by multiple times dur-\\ning evaluation.\\n3.3 Relative Positional Encodings',\n",
       " 'While we found the idea presented in the pre-\\nvious subsection very appealing, there is a cru-\\ncial technical challenge we haven’t solved in or-der to reuse the hidden states. That is, how can',\n",
       " 'we keep the positional information coherent when\\nwe reuse the states? Recall that, in the standard\\nTransformer, the information of sequence order is\\nprovided by a set of positional encodings, denoted',\n",
       " 'asU2RLmax\\x02d, where the i-th row Uicorre-\\nsponds to the i-thabsolute position within a seg-\\nment andLmaxprescribes the maximum possible\\nlength to be modeled. Then, the actual input to the',\n",
       " 'Transformer is the element-wise addition of the\\nword embeddings and the positional encodings. If\\nwe simply adapt this positional encoding to our\\nrecurrence mechanism, the hidden state sequence',\n",
       " 'would be computed schematically by\\nh\\x1c+1=f(h\\x1c;Es\\x1c+1+U1:L)\\nh\\x1c=f(h\\x1c\\x001;Es\\x1c+U1:L);\\nwhere Es\\x1c2RL\\x02dis the word embedding se-\\nquence of s\\x1c, andfrepresents a transformation',\n",
       " 'function. Notice that, both Es\\x1candEs\\x1c+1are as-\\nsociated with the same positional encoding U1:L.\\nAs a result, the model has no information to dis-\\ntinguish the positional difference between x\\x1c;jand',\n",
       " 'x\\x1c+1;jfor anyj= 1;:::;L , resulting in a sheer\\nperformance loss.\\nIn order to avoid this failure mode, the funda-\\nmental idea is to only encode the relative posi-',\n",
       " 'tional information in the hidden states. Concep-\\ntually, the positional encoding gives the model a\\ntemporal clue or “bias” about how information\\nshould be gathered, i.e., where to attend. For the',\n",
       " 'same purpose, instead of incorporating bias stati-\\ncally into the initial embedding, one can inject the\\nsame information into the attention score of each\\nlayer. More importantly, it is more intuitive and',\n",
       " 'generalizable to deﬁne the temporal bias in a rela-\\ntive manner. For instance, when a query vector q\\x1c;i\\nattends on the key vectors k\\x1c;\\x14i, it does not need\\nto know the absolute position of each key vector',\n",
       " 'to identify the temporal order of the segment. In-\\nstead, it sufﬁces to know the relative distance be-\\ntween each key vector k\\x1c;jand itselfq\\x1c;i, i.e.i\\x00j.',\n",
       " 'Practically, one can create a set of relative posi-tional encodings R2RLmax\\x02d, where thei-th row\\nRiindicates a relative distance of ibetween two\\npositions. By injecting the relative distance dy-',\n",
       " 'namically into the attention score, the query vector\\ncan easily distinguish the representations of x\\x1c;j\\nandx\\x1c+1;jfrom their different distances, making\\nthe state reuse mechanism feasible. Meanwhile,',\n",
       " 'we won’t lose any temporal information, as the ab-\\nsolute position can be recovered recursively from\\nrelative distances.\\nPreviously, the idea of relative positional encod-',\n",
       " 'ings has been explored in the context of machine\\ntranslation (Shaw et al., 2018) and music gener-\\nation (Huang et al., 2018). Here, we offer a dif-\\nferent derivation, arriving at a new form of rel-',\n",
       " 'ative positional encodings, which not only has a\\none-to-one correspondence to its absolute coun-\\nterpart but also enjoys much better generalization\\nempirically (see Section 4). Firstly, in the standard',\n",
       " 'Transformer (Vaswani et al., 2017), the attention\\nscore between query qiand key vector kjwithin\\nthe same segment can be decomposed as\\nAabs\\ni;j=E>\\nxiW>\\nqWkExj|{z}\\n(a)+E>\\nxiW>\\nqWkUj|{z}\\n(b)\\n+U>\\niW>',\n",
       " '(b)\\n+U>\\niW>\\nqWkExj|{z}\\n(c)+U>\\niW>\\nqWkUj|{z}\\n(d):\\nFollowing the idea of only relying on rela-\\ntive positional information, we propose to re-\\nparameterize the four terms as follows\\nArel\\ni;j=E>\\nxiW>',\n",
       " 'Arel\\ni;j=E>\\nxiW>\\nqWk;EExj|{z}\\n(a)+E>\\nxiW>\\nqWk;RRi\\x00j|{z}\\n(b)\\n+u>Wk;EExj|{z}\\n(c)+v>Wk;RRi\\x00j|{z}\\n(d):\\n\\x0fThe ﬁrst change we make is to replace all ap-\\npearances of the absolute positional embedding',\n",
       " 'Ujfor computing key vectors in term (b)and\\n(d)with its relative counterpart Ri\\x00j. This es-\\nsentially reﬂects the prior that only the relative\\ndistance matters for where to attend. Note that',\n",
       " 'Ris a sinusoid encoding matrix (Vaswani et al.,\\n2017) without learnable parameters.\\n\\x0fSecondly, we introduce a trainable parameter\\nu2Rdto replace the query U>\\niW>\\nqin term',\n",
       " 'iW>\\nqin term\\n(c). In this case, since the query vector is the\\nsame for all query positions, it suggests that the\\nattentive bias towards different words should re-',\n",
       " 'main the same regardless of the query position.\\nWith a similar reasoning, a trainable parameter\\nv2Rdis added to substitute U>\\niW>\\nqin term\\n(d).\\x0fFinally, we deliberately separate the two weight',\n",
       " 'matrices Wk;EandWk;Rfor producing the\\ncontent-based key vectors and location-based\\nkey vectors respectively.\\nUnder the new parameterization, each term has',\n",
       " 'an intuitive meaning: term (a)represents content-\\nbased addressing, term (b)captures a content-\\ndependent positional bias, term (c)governs a\\nglobal content bias, and (d)encodes a global po-',\n",
       " 'sitional bias.\\nIn comparison, the formulation in Shaw et al.\\n(2018) only has terms (a)and(b), dropping the\\ntwo bias terms (c)and(d). Moreover, Shaw et al.\\n(2018) merge the multiplication WkRinto a sin-',\n",
       " 'gle trainable matrix ^R, which abandons the induc-\\ntive bias built into the original sinusoid positional\\nencoding (Vaswani et al., 2017). In contrast, our\\nrelative positional embedding Radapts the sinu-',\n",
       " 'soid formulation. As a beneﬁt of the inductive\\nbias, a model trained on a memory of some certain\\nlength can automatically generalize to a memory\\nseveral times longer during evaluation.',\n",
       " 'Equipping the recurrence mechanism with our\\nproposed relative positional embedding, we ﬁnally\\narrive at the Transformer-XL architecture. For\\ncompleteness, we summarize the computational',\n",
       " 'procedure for a N-layer Transformer-XL with a\\nsingle attention head here. For n= 1;:::;N :\\nehn\\x001\\n\\x1c=\\x02\\nSG(mn\\x001\\n\\x1c)\\x0ehn\\x001\\n\\x1c\\x03\\nqn\\n\\x1c;kn\\n\\x1c;vn\\n\\x1c=hn\\x001\\n\\x1cWn\\nq>;ehn\\x001\\n\\x1cWn\\nk;E>;ehn\\x001\\n\\x1cWn\\nv>\\nAn\\n\\x1c;i;j=qn\\n\\x1c;i>kn\\n\\x1c;j+qn',\n",
       " ';i>kn\\n\\x1c;j+qn\\n\\x1c;i>Wn\\nk;RRi\\x00j\\n+u>k\\x1c;j+v>Wn\\nk;RRi\\x00j\\nan\\n\\x1c=Masked-Softmax (An\\n\\x1c)vn\\n\\x1c\\non\\n\\x1c=LayerNorm (Linear (an\\n\\x1c) +hn\\x001\\n\\x1c)\\nhn\\n\\x1c=Positionwise-Feed-Forward (on\\n\\x1c)\\nwithh0\\n\\x1c:=Es\\x1cdeﬁned as the word embed-',\n",
       " 'ding sequence. In addition, it is worth mention-\\ning that a naive way to compute Arequires com-\\nputing Wn\\nk;RRi\\x00jfor all pairs (i;j), whose cost\\nis quadratic w.r.t. the sequence length. How-',\n",
       " 'ever, noticing that the value of i\\x00jonly ranges\\nfrom zero to the sequence length, we show a sim-\\nple computation procedure in Appendix B, which\\nreduces the cost to be linear w.r.t. the sequence\\nlength.',\n",
       " 'length.\\n4 Experiments\\n4.1 Main Results\\nWe apply Transformer-XL to a variety of datasets\\non both word-level and character-level languageModel #Param PPL\\nGrave et al. (2016b) - LSTM - 48.7',\n",
       " 'Bai et al. (2018) - TCN - 45.2\\nDauphin et al. (2016) - GCNN-8 - 44.9\\nGrave et al. (2016b) - LSTM + Neural cache - 40.8\\nDauphin et al. (2016) - GCNN-14 - 37.2\\nMerity et al. (2018) - QRNN 151M 33.0',\n",
       " 'Rae et al. (2018) - Hebbian + Cache - 29.9\\nOurs - Transformer-XL Standard 151M 24.0\\nBaevski and Auli (2018) - Adaptive Input\\x05247M 20.5\\nOurs - Transformer-XL Large 257M 18.3',\n",
       " 'Table 1: Comparison with state-of-the-art results on\\nWikiText-103.\\x05indicates contemporary work.\\nModel #Param bpc\\nHa et al. (2016) - LN HyperNetworks 27M 1.34\\nChung et al. (2016) - LN HM-LSTM 35M 1.32',\n",
       " 'Zilly et al. (2016) - RHN 46M 1.27\\nMujika et al. (2017) - FS-LSTM-4 47M 1.25\\nKrause et al. (2016) - Large mLSTM 46M 1.24\\nKnol (2017) - cmix v13 - 1.23\\nAl-Rfou et al. (2018) - 12L Transformer 44M 1.11',\n",
       " 'Ours - 12L Transformer-XL 41M 1.06\\nAl-Rfou et al. (2018) - 64L Transformer 235M 1.06\\nOurs - 18L Transformer-XL 88M 1.03\\nOurs - 24L Transformer-XL 277M 0.99',\n",
       " 'Table 2: Comparison with state-of-the-art results on enwik8.\\nmodeling to have a comparison with state-of-the-\\nart systems, including WikiText-103 (Merity et al.,',\n",
       " '2016), enwik8 (LLC, 2009), text8 (LLC, 2009),\\nOne Billion Word (Chelba et al., 2013), and Penn\\nTreebank (Mikolov and Zweig, 2012).\\nWikiText-103 is the largest available word-level',\n",
       " 'language modeling benchmark with long-term de-\\npendency. It contains 103M training tokens from\\n28K articles, with an average length of 3.6K to-\\nkens per article, which allows testing the abil-',\n",
       " 'ity of long-term dependency modeling. We set\\nthe attention length to 384 during training and\\n1600 during evaluation. We adopted adaptive soft-\\nmax and input representations (Baevski and Auli,',\n",
       " '2018; Grave et al., 2016a). As shown in Table 1,\\nTransformer-XL reduces the previous state-of-the-\\nart (SoTA) perplexity from 20.5 to 18.3, which\\ndemonstrates the superiority of the Transformer-',\n",
       " 'XL architecture.\\nThe dataset enwik8 contains 100M bytes of un-\\nprocessed Wikipedia text. We compare our ar-\\nchitecture with the previous results in Table 2.\\nUnder the model size constraint, the 12-layer',\n",
       " 'Transformer-XL achieves a new SoTA result, out-\\nperforming the 12-layer vanilla Transformer from\\nAl-Rfou et al. (2018) by 0.05, while both Trans-Model #Param bpc\\nCooijmans et al. (2016) - BN-LSTM - 1.36',\n",
       " 'Chung et al. (2016) - LN HM-LSTM 35M 1.29\\nZilly et al. (2016) - RHN 45M 1.27\\nKrause et al. (2016) - Large mLSTM 45M 1.27\\nAl-Rfou et al. (2018) - 12L Transformer 44M 1.18',\n",
       " 'Al-Rfou et al. (2018) - 64L Transformer 235M 1.13\\nOurs - 24L Transformer-XL 277M 1.08\\nTable 3: Comparison with state-of-the-art results on text8.\\nModel #Param PPL',\n",
       " 'Model #Param PPL\\nShazeer et al. (2014) - Sparse Non-Negative 33B 52.9\\nChelba et al. (2013) - RNN-1024 + 9 Gram 20B 51.3\\nKuchaiev and Ginsburg (2017) - G-LSTM-2 - 36.0',\n",
       " 'Dauphin et al. (2016) - GCNN-14 bottleneck - 31.9\\nJozefowicz et al. (2016) - LSTM 1.8B 30.6\\nJozefowicz et al. (2016) - LSTM + CNN Input 1.04B 30.0\\nShazeer et al. (2017) - Low-Budget MoE \\x185B 34.1',\n",
       " 'Shazeer et al. (2017) - High-Budget MoE \\x185B 28.0\\nShazeer et al. (2018) - Mesh Tensorﬂow 4.9B 24.0\\nBaevski and Auli (2018) - Adaptive Input\\x050.46B 24.1\\nBaevski and Auli (2018) - Adaptive Input\\x051.0B 23.7',\n",
       " 'Ours - Transformer-XL Base 0.46B 23.5\\nOurs - Transformer-XL Large 0.8B 21.8\\nTable 4: Comparison with state-of-the-art results on One Bil-\\nlion Word.\\x05indicates contemporary work.',\n",
       " 'former variants have a large margin over conven-\\ntional RNN-based models. Notably, our 12-layer\\narchitecture achieves the same result as the 64-\\nlayer network from Al-Rfou et al. (2018), using',\n",
       " 'only 17% of the parameter budget. In order to see\\nwhether better performances can be obtained by\\nincreasing the model size, we train 18-layer and\\n24-layer Transformer-XLs with increased model',\n",
       " 'sizes. With the attention length 784 during train-\\ning and 3,800 during evaluation, we obtained a\\nnew SoTA result and our method is the ﬁrst to\\nbreak through 1.0 on widely-studied character-',\n",
       " 'level benchmarks. Different from Al-Rfou et al.\\n(2018), Transformer-XL does not need any auxil-\\niary losses, and thus all beneﬁts are credited to a\\nbetter architecture.',\n",
       " 'better architecture.\\nSimilar to but different from enwik8, text8 con-\\ntains 100M processed Wikipedia characters cre-\\nated by lowering case the text and removing any',\n",
       " 'character other than the 26 letters athrough z, and\\nspace. Due to the similarity, we simply adapt the\\nbest model and the same hyper-parameters on en-\\nwik8 to text8 without further tuning. The compari-',\n",
       " 'son with previous methods is summarized in Table\\n3. Again, Transformer-XL achieves the new SoTA\\nresult with a clear margin.Model #Param PPL\\nInan et al. (2016) - Tied Variational LSTM 24M 73.2',\n",
       " 'Zilly et al. (2016) - Variational RHN 23M 65.4\\nZoph and Le (2016) - NAS Cell 25M 64.0\\nMerity et al. (2017) - AWD-LSTM 24M 58.8\\nPham et al. (2018) - Efﬁcient NAS 24M 58.6',\n",
       " 'Liu et al. (2018) - Differentiable NAS 23M 56.1\\nYang et al. (2017) - AWD-LSTM-MoS 22M 55.97\\nMelis et al. (2018) - Dropout tuning 24M 55.3\\nOurs - Transformer-XL 24M 54.52',\n",
       " 'Merity et al. (2017) - AWD-LSTM+Finetuney24M 57.3\\nYang et al. (2017) - MoS+Finetuney22M 54.44\\nTable 5: Comparison with state-of-the-art results on Penn\\nTreebank.yindicates using two-step ﬁnetuning.',\n",
       " 'One Billion Word does not preserve any long-\\nterm dependency because sentences have been\\nshufﬂed. Consequently, this dataset mainly tests\\nthe ability of modeling only short-term depen-',\n",
       " 'dency. The comparison between Transformer-XL\\nand the other methods is shown in Table 4. Al-\\nthough Transformer-XL is mainly designed to bet-\\nter capture longer-term dependency, it dramati-',\n",
       " 'cally improves the single-model SoTA from 23.7\\nto 21.8. Speciﬁcally, Transformer-XL signiﬁ-\\ncantly outperforms a contemporary method using\\nvanilla Transformers (Baevski and Auli, 2018),',\n",
       " 'suggesting the advantage of Transformer-XL is\\ngeneralizable to modeling short sequences.\\nWe also report the results on word-level Penn\\nTreebank in Table 5. Similar to AWD-LSTM',\n",
       " '(Merity et al., 2017), we apply variational dropout\\nand weight average to Transformer-XL. With\\nproper regularization, Transformer-XL achieves a\\nnew SoTA result among models without two-step',\n",
       " 'ﬁnetuning. Penn Treebank has only 1M training\\ntokens, which implies that Transformer-XL also\\ngeneralizes well even on small datasets.\\n4.2 Ablation Study\\nWe conduct two sets of ablation studies to exam-',\n",
       " 'ine the effects of two proposed techniques used in\\nTransformer-XL: the recurrence mechanism and\\nthe new positional encoding scheme.\\nThe ﬁrst study is performed on WikiText-103,',\n",
       " 'which requires modeling long-term dependency.\\nThe results are reported in Table 6. Among the\\ncompared encoding schemes, Shaw et al. (2018) is\\nrelative, while Vaswani et al. (2017) and Al-Rfou',\n",
       " 'et al. (2018) are absolute. “Full” and “half” losses\\nrefer to applying a cross entropy loss to all or the\\nrecent half positions in the segment. We foundthat absolute encodings only work well with half',\n",
       " 'losses because half losses exclude positions with\\nvery short attention lengths during training for bet-\\nter generalization. Table 6 shows that both the\\nrecurrence mechanism and our encoding scheme',\n",
       " 'are necessary to achieve the best performance, as\\nwell as generalizing to longer attention sequences\\nduring evaluation time. Although the backprop-\\nagation length during training is only 128, with',\n",
       " 'the two techniques the attention length can be in-\\ncreased to 640 at test time. In the standard setting\\nwith 151M parameters, the perplexity decreases as\\nthe attention length increases.',\n",
       " 'Since the recurrence mechanism costs addi-\\ntional memory, we also compare Transformer-XL\\nwith baselines under the same GPU memory con-\\nstraints. As shown in Table 10 in Appendix A,',\n",
       " 'despite using a shorter backpropagation length,\\nTransformer-XL remains superior to the baselines.\\nThe second study targets at isolating the ef-\\nfects of resolving the context fragmentation prob-',\n",
       " 'lem from the beneﬁt of capturing longer context\\nlength. In order to achieve this goal, we deliber-\\nately choose a dataset that does not require long-\\nterm dependency, so that any improvement from',\n",
       " 'establishing the recurrence can be attributed to\\nsolving the context fragmentation. Speciﬁcally,\\nwe perform this controlled experiment on the One\\nBillion Word dataset, which can only beneﬁt from',\n",
       " 'removing the context fragmentation. We train\\na 20-layer Transformer-XL with \\x180.3B parame-\\nters for 400K steps. As shown in Table 7, using\\nsegment-level recurrence substantially improves',\n",
       " 'performance even when long-term dependency is\\nnot needed, which is consistent with our previous\\ndiscussion that the recurrence mechanism resolves\\nthe context fragmentation problem. Moreover, our',\n",
       " 'relative positional encodings is also superior to\\nShaw et al. (2018) on short sequences.\\n4.3 Relative Effective Context Length\\nKhandelwal et al. (2018) proposed a method to',\n",
       " 'evaluate the Effective Context Length (ECL) of a\\nsequence model. ECL is the longest length to\\nwhich increasing the context span would lead to\\na gain more than a threshold. However, ECL ig-',\n",
       " 'nores the fact that it is harder to get improve-\\nment when a model already achieves a lower per-\\nplexity using only a shorter context, and thus it\\nis not suitable for fair comparison among mul-',\n",
       " 'tiple models. We instead propose a new metricRemark Recurrence Encoding Loss PPL init PPL best Attn Len\\nTransformer-XL (128M) 3 Ours Full 27.02 26.77 500\\n- 3 Shaw et al. (2018) Full 27.94 27.94 256',\n",
       " '- 3 Ours Half 28.69 28.33 460\\n- 7 Ours Full 29.59 29.02 260\\n- 7 Ours Half 30.10 30.10 120\\n- 7 Shaw et al. (2018) Full 29.75 29.75 120\\n- 7 Shaw et al. (2018) Half 30.50 30.50 120',\n",
       " '- 7 Vaswani et al. (2017) Half 30.97 30.97 120\\nTransformer (128M)y7 Al-Rfou et al. (2018) Half 31.16 31.16 120\\nTransformer-XL (151M) 3 Ours Full 23.4323.09 640\\n23.16 450\\n23.35 300',\n",
       " '23.16 450\\n23.35 300\\nTable 6: Ablation study on WikiText-103. For the ﬁrst two blocks, we use a slightly smaller model (128M parameters).',\n",
       " 'yindicates that the corresponding row is reduced to the same setting as the Transformer network in (Al-Rfou et al., 2018),',\n",
       " 'except that two auxiliary losses are not implemented in our experiments. “PPL init” refers to using the same length as training.',\n",
       " '“PPL best” indicates the perplexity obtained by using the optimal length. “Attn Len” is the shortest possible attention length',\n",
       " 'during evaluation to achieve the corresponding result (PPL best). Increasing the attention length during evaluation improves',\n",
       " 'performance only when our positional encoding is used. The “Transformer-XL (151M)” setting uses a standard parameter',\n",
       " 'budget as previous work (Merity et al., 2018), where we observe a similar effect when increasing the attention length during\\nevaluation.\\nMethod PPL\\nOurs 25.2\\nWith Shaw et al. (2018) encodings 25.7',\n",
       " 'Without recurrence 27.1\\nTable 7: Ablation study on One Billion Word, a dataset with-\\nout long-term dependency.\\nModel r= 0:1r= 0:5r= 1:0\\nTransformer-XL 151M 900 800 700\\nQRNN 500 400 300\\nLSTM 400 300 200',\n",
       " 'LSTM 400 300 200\\nTransformer-XL 128M 700 600 500\\n- use Shaw et al. (2018) encoding 400 400 300\\n- remove recurrence 300 300 300\\nTransformer 128 128 128',\n",
       " 'Table 8: Relative effective context length (RECL) compari-\\nson. See text for the deﬁnition of RECL and r. The ﬁrst three\\nmodels and the last four models are compared as two model',\n",
       " 'groups when we calculate RECL (RECL is computed on a\\nmodel group rather than a single model). Each group has the\\nsame parameter budget.\\ncalled Relative Effective Context Length (RECL).',\n",
       " 'RECL is deﬁned on a model group instead of a\\nsingle model, and the gain of a long context is\\nmeasure by the relative improvement over the best\\nshort context model. As such, the model group',\n",
       " 'shares the same baseline to enable fair compari-\\nson. RECL also has a parameter r, which means\\nconstraining the comparison on top- rhard exam-\\nples. See Appedix C for more details about RECL.',\n",
       " 'As shown in Table 8, Transformer-XL manages\\nto model dependency of 900 words long on av-Attn Len How much Al-Rfou et al. (2018) is slower\\n3,800 1,874x\\n2,800 1,409x\\n1,800 773x\\n800 363x',\n",
       " '1,800 773x\\n800 363x\\nTable 9: Slowdown in terms of running time during evalua-\\ntion. Evaluation is based on per-token time on one GPU.\\nerage withr= 0:1. The RECL of Transformer-',\n",
       " 'XL is 80% and 450% longer than recurrent net-\\nworks and Transformer respectively. Both the re-\\ncurrence mechanism and our positional encodings\\ncontribute to a longer RECL. This further substan-',\n",
       " 'tiates our argument that Transformer-XL is able to\\nmodel longer-term dependency.\\n4.4 Generated Text\\nTrained only on WikiText-103 which is medium-\\nsized, Transformer-XL is already able to generate',\n",
       " 'relatively coherent articles with thousands of to-\\nkens without manual cherry picking, despite mi-\\nnor ﬂaws. Please refer to Appendix E for samples.\\n4.5 Evaluation Speed',\n",
       " '4.5 Evaluation Speed\\nFinally, we compare the evaluation speed of our\\nmodel with the vanilla Transformer model (Al-\\nRfou et al., 2018). As shown in Table 9, due to',\n",
       " 'the state reuse scheme, Transformer-XL achieves\\nan up to 1,874 times speedup during evaluation.5 Conclusions\\nTransformer-XL obtains strong perplexity results,\\nmodels longer-term dependency than RNNs and',\n",
       " 'Transformer, achieves substantial speedup during\\nevaluation, and is able to generate coherent text\\narticles. We envision interesting applications of\\nTransformer-XL in the ﬁelds of text generation,',\n",
       " 'unsupervised feature learning, image and speech\\nmodeling.\\nAcknowledgments\\nZD and YY were supported in part by National\\nScience Foundation (NSF) under the grant IIS-',\n",
       " '1546329 and by the DOE-Ofﬁce of Science un-\\nder the grant ASCR #KJ040201. ZY and RS\\nwere supported in part by the Ofﬁce of Naval\\nResearch grant N000141812861, the NSF grant',\n",
       " 'IIS1763562, the Nvidia fellowship, and the Siebel\\nscholarship.\\nReferences\\nRami Al-Rfou, Dokook Choe, Noah Constant, Mandy\\nGuo, and Llion Jones. 2018. Character-level lan-',\n",
       " 'guage modeling with deeper self-attention. arXiv\\npreprint arXiv:1808.04444 .\\nAlexei Baevski and Michael Auli. 2018. Adaptive in-\\nput representations for neural language modeling.',\n",
       " 'arXiv preprint arXiv:1809.10853 .\\nDzmitry Bahdanau, Kyunghyun Cho, and Yoshua Ben-\\ngio. 2014. Neural machine translation by jointly\\nlearning to align and translate. arXiv preprint\\narXiv:1409.0473 .',\n",
       " 'arXiv:1409.0473 .\\nShaojie Bai, J Zico Kolter, and Vladlen Koltun.\\n2018. An empirical evaluation of generic convolu-\\ntional and recurrent networks for sequence model-',\n",
       " 'ing. arXiv preprint arXiv:1803.01271 .\\nYoshua Bengio, Réjean Ducharme, Pascal Vincent, and\\nChristian Jauvin. 2003. A neural probabilistic lan-\\nguage model. Journal of machine learning research ,',\n",
       " '3(Feb):1137–1155.\\nCiprian Chelba, Tomas Mikolov, Mike Schuster, Qi Ge,\\nThorsten Brants, Phillipp Koehn, and Tony Robin-\\nson. 2013. One billion word benchmark for measur-',\n",
       " 'ing progress in statistical language modeling. arXiv\\npreprint arXiv:1312.3005 .\\nJunyoung Chung, Sungjin Ahn, and Yoshua Bengio.\\n2016. Hierarchical multiscale recurrent neural net-',\n",
       " 'works. arXiv preprint arXiv:1609.01704 .\\nTim Cooijmans, Nicolas Ballas, César Laurent, Ça ˘glar\\nGülçehre, and Aaron Courville. 2016. Re-\\ncurrent batch normalization. arXiv preprint',\n",
       " 'arXiv:1603.09025 .Andrew M Dai and Quoc V Le. 2015. Semi-supervised\\nsequence learning. In Advances in neural informa-\\ntion processing systems , pages 3079–3087.',\n",
       " 'Yann N Dauphin, Angela Fan, Michael Auli, and\\nDavid Grangier. 2016. Language modeling with\\ngated convolutional networks. arXiv preprint\\narXiv:1612.08083 .\\nJacob Devlin, Ming-Wei Chang, Kenton Lee, and',\n",
       " 'Kristina Toutanova. 2018. Bert: Pre-training of deep\\nbidirectional transformers for language understand-\\ning. arXiv preprint arXiv:1810.04805 .\\nAdji B Dieng, Chong Wang, Jianfeng Gao, and John',\n",
       " 'Paisley. 2016. Topicrnn: A recurrent neural net-\\nwork with long-range semantic dependency. arXiv\\npreprint arXiv:1611.01702 .\\nYarin Gal and Zoubin Ghahramani. 2016. A theoret-',\n",
       " 'ically grounded application of dropout in recurrent\\nneural networks. In Advances in neural information\\nprocessing systems , pages 1019–1027.\\nEdouard Grave, Armand Joulin, Moustapha Cissé,',\n",
       " 'David Grangier, and Hervé Jégou. 2016a. Efﬁcient\\nsoftmax approximation for gpus. arXiv preprint\\narXiv:1609.04309 .\\nEdouard Grave, Armand Joulin, and Nicolas\\nUsunier. 2016b. Improving neural language',\n",
       " 'models with a continuous cache. arXiv preprint\\narXiv:1612.04426 .\\nAlex Graves. 2013. Generating sequences with\\nrecurrent neural networks. arXiv preprint\\narXiv:1308.0850 .',\n",
       " 'arXiv:1308.0850 .\\nAlex Graves, Greg Wayne, and Ivo Danihelka.\\n2014. Neural turing machines. arXiv preprint\\narXiv:1410.5401 .\\nDavid Ha, Andrew Dai, and Quoc V Le. 2016. Hyper-',\n",
       " 'networks. arXiv preprint arXiv:1609.09106 .\\nSepp Hochreiter, Yoshua Bengio, Paolo Frasconi, Jür-\\ngen Schmidhuber, et al. 2001. Gradient ﬂow in re-\\ncurrent nets: the difﬁculty of learning long-term de-',\n",
       " 'pendencies.\\nSepp Hochreiter and Jürgen Schmidhuber. 1997.\\nLong short-term memory. Neural computation ,\\n9(8):1735–1780.\\nCheng-Zhi Anna Huang, Ashish Vaswani, Jakob',\n",
       " 'Uszkoreit, Noam Shazeer, Curtis Hawthorne, An-\\ndrew M Dai, Matthew D Hoffman, and Douglas Eck.\\n2018. An improved relative self-attention mecha-\\nnism for transformer with application to music gen-',\n",
       " 'eration. arXiv preprint arXiv:1809.04281 .\\nHakan Inan, Khashayar Khosravi, and Richard Socher.\\n2016. Tying word vectors and word classiﬁers:\\nA loss framework for language modeling. arXiv',\n",
       " 'preprint arXiv:1611.01462 .Yangfeng Ji, Trevor Cohn, Lingpeng Kong, Chris Dyer,\\nand Jacob Eisenstein. 2015. Document context lan-\\nguage models. arXiv preprint arXiv:1511.03962 .',\n",
       " 'Rafal Jozefowicz, Oriol Vinyals, Mike Schuster, Noam\\nShazeer, and Yonghui Wu. 2016. Exploring\\nthe limits of language modeling. arXiv preprint\\narXiv:1602.02410 .',\n",
       " 'arXiv:1602.02410 .\\nNal Kalchbrenner, Lasse Espeholt, Karen Simonyan,\\nAaron van den Oord, Alex Graves, and Koray\\nKavukcuoglu. 2016. Neural machine translation in',\n",
       " 'linear time. arXiv preprint arXiv:1610.10099 .\\nSekitoshi Kanai, Yasuhiro Fujiwara, Yuki Yamanaka,\\nand Shuichi Adachi. 2018. Sigsoftmax: Reanal-\\nysis of the softmax bottleneck. arXiv preprint',\n",
       " 'arXiv:1805.10829 .\\nNan Rosemary Ke, Anirudh Goyal ALIAS PARTH\\nGOYAL, Olexa Bilaniuk, Jonathan Binas,\\nMichael C Mozer, Chris Pal, and Yoshua Ben-\\ngio. 2018. Sparse attentive backtracking: Temporal',\n",
       " 'credit assignment through reminding. In Advances\\nin Neural Information Processing Systems , pages\\n7650–7661.\\nUrvashi Khandelwal, He He, Peng Qi, and Dan Ju-',\n",
       " 'rafsky. 2018. Sharp nearby, fuzzy far away: How\\nneural language models use context. arXiv preprint\\narXiv:1805.04623 .\\nBryon Knol. 2017. cmix v13. http://www.\\nbyronknoll.com/cmix.html .',\n",
       " 'Jan Koutnik, Klaus Greff, Faustino Gomez, and Juer-\\ngen Schmidhuber. 2014. A clockwork rnn. arXiv\\npreprint arXiv:1402.3511 .\\nBen Krause, Liang Lu, Iain Murray, and Steve Renals.',\n",
       " '2016. Multiplicative lstm for sequence modelling.\\narXiv preprint arXiv:1609.07959 .\\nOleksii Kuchaiev and Boris Ginsburg. 2017. Factor-\\nization tricks for lstm networks. arXiv preprint\\narXiv:1703.10722 .',\n",
       " 'arXiv:1703.10722 .\\nQuoc V Le, Navdeep Jaitly, and Geoffrey E Hin-\\nton. 2015. A simple way to initialize recurrent\\nnetworks of rectiﬁed linear units. arXiv preprint\\narXiv:1504.00941 .',\n",
       " 'arXiv:1504.00941 .\\nShuai Li, Wanqing Li, Chris Cook, Ce Zhu, and Yanbo\\nGao. 2018. Independently recurrent neural network\\n(indrnn): Building a longer and deeper rnn. In Pro-',\n",
       " 'ceedings of the IEEE Conference on Computer Vi-\\nsion and Pattern Recognition , pages 5457–5466.\\nHanxiao Liu, Karen Simonyan, and Yiming Yang.\\n2018. Darts: Differentiable architecture search.',\n",
       " 'arXiv preprint arXiv:1806.09055 .\\nMultiMedia LLC. 2009. Large text compression\\nbenchmark.Gábor Melis, Charles Blundell, Tomáš Ko ˇcisk`y,\\nKarl Moritz Hermann, Chris Dyer, and Phil Blun-',\n",
       " 'som. 2018. Pushing the bounds of dropout. arXiv\\npreprint arXiv:1805.09208 .\\nStephen Merity, Nitish Shirish Keskar, and Richard\\nSocher. 2017. Regularizing and optimizing lstm lan-',\n",
       " 'guage models. arXiv preprint arXiv:1708.02182 .\\nStephen Merity, Nitish Shirish Keskar, and Richard\\nSocher. 2018. An analysis of neural language\\nmodeling at multiple scales. arXiv preprint',\n",
       " 'arXiv:1803.08240 .\\nStephen Merity, Caiming Xiong, James Bradbury, and\\nRichard Socher. 2016. Pointer sentinel mixture\\nmodels. arXiv preprint arXiv:1609.07843 .\\nTomas Mikolov, Armand Joulin, Sumit Chopra,',\n",
       " 'Michael Mathieu, and Marc’Aurelio Ranzato. 2014.\\nLearning longer memory in recurrent neural net-\\nworks. arXiv preprint arXiv:1412.7753 .\\nTomáš Mikolov, Martin Karaﬁát, Lukáš Burget, Jan',\n",
       " 'ˇCernock `y, and Sanjeev Khudanpur. 2010. Recur-\\nrent neural network based language model. In\\nEleventh Annual Conference of the International\\nSpeech Communication Association .',\n",
       " 'Tomas Mikolov and Geoffrey Zweig. 2012. Context\\ndependent recurrent neural network language model.\\nSLT, 12(234-239):8.\\nFrederic Morin and Yoshua Bengio. 2005. Hierarchi-',\n",
       " 'cal probabilistic neural network language model. In\\nAistats , volume 5, pages 246–252. Citeseer.\\nAsier Mujika, Florian Meier, and Angelika Steger.\\n2017. Fast-slow recurrent neural networks. In Ad-',\n",
       " 'vances in Neural Information Processing Systems ,\\npages 5915–5924.\\nRazvan Pascanu, Tomas Mikolov, and Yoshua Bengio.\\n2012. Understanding the exploding gradient prob-\\nlem. CoRR, abs/1211.5063 .',\n",
       " 'Matthew E Peters, Mark Neumann, Mohit Iyyer, Matt\\nGardner, Christopher Clark, Kenton Lee, and Luke\\nZettlemoyer. 2018. Deep contextualized word rep-\\nresentations. arXiv preprint arXiv:1802.05365 .',\n",
       " 'Hieu Pham, Melody Y Guan, Barret Zoph, Quoc V\\nLe, and Jeff Dean. 2018. Efﬁcient neural architec-\\nture search via parameter sharing. arXiv preprint\\narXiv:1802.03268 .',\n",
       " 'arXiv:1802.03268 .\\nOﬁr Press and Lior Wolf. 2016. Using the output\\nembedding to improve language models. arXiv\\npreprint arXiv:1608.05859 .\\nAlec Radford, Karthik Narasimhan, Tim Salimans, and',\n",
       " 'Ilya Sutskever. 2018. Improving language under-\\nstanding by generative pre-training. URL https://s3-\\nus-west-2. amazonaws. com/openai-assets/research-\\ncovers/languageunsupervised/language under-',\n",
       " 'standing paper. pdf .Jack W Rae, Chris Dyer, Peter Dayan, and Tim-\\nothy P Lillicrap. 2018. Fast parametric learn-\\ning with activation memorization. arXiv preprint\\narXiv:1803.10049 .',\n",
       " 'arXiv:1803.10049 .\\nPeter Shaw, Jakob Uszkoreit, and Ashish Vaswani.\\n2018. Self-attention with relative position represen-\\ntations. arXiv preprint arXiv:1803.02155 .',\n",
       " 'Noam Shazeer, Youlong Cheng, Niki Parmar, Dustin\\nTran, Ashish Vaswani, Penporn Koanantakool, Peter\\nHawkins, HyoukJoong Lee, Mingsheng Hong, Cliff\\nYoung, et al. 2018. Mesh-tensorﬂow: Deep learning',\n",
       " 'for supercomputers. In Advances in Neural Infor-\\nmation Processing Systems , pages 10434–10443.\\nNoam Shazeer, Azalia Mirhoseini, Krzysztof Maziarz,\\nAndy Davis, Quoc Le, Geoffrey Hinton, and Jeff',\n",
       " 'Dean. 2017. Outrageously large neural networks:\\nThe sparsely-gated mixture-of-experts layer. arXiv\\npreprint arXiv:1701.06538 .\\nNoam Shazeer, Joris Pelemans, and Ciprian Chelba.',\n",
       " '2014. Skip-gram language modeling using sparse\\nnon-negative matrix probability estimation. arXiv\\npreprint arXiv:1412.1454 .\\nTrieu H Trinh, Andrew M Dai, Thang Luong, and',\n",
       " 'Quoc V Le. 2018. Learning longer-term dependen-\\ncies in rnns with auxiliary losses. arXiv preprint\\narXiv:1803.00144 .\\nAshish Vaswani, Noam Shazeer, Niki Parmar, Jakob',\n",
       " 'Uszkoreit, Llion Jones, Aidan N Gomez, Łukasz\\nKaiser, and Illia Polosukhin. 2017. Attention is all\\nyou need. In Advances in Neural Information Pro-\\ncessing Systems , pages 5998–6008.',\n",
       " 'Tian Wang and Kyunghyun Cho. 2015. Larger-\\ncontext language modelling. arXiv preprint\\narXiv:1511.03729 .\\nWenlin Wang, Zhe Gan, Wenqi Wang, Dinghan Shen,\\nJiaji Huang, Wei Ping, Sanjeev Satheesh, and',\n",
       " 'Lawrence Carin. 2017. Topic compositional neural\\nlanguage model. arXiv preprint arXiv:1712.09783 .\\nJason Weston, Sumit Chopra, and Antoine Bor-\\ndes. 2014. Memory networks. arXiv preprint',\n",
       " 'arXiv:1410.3916 .\\nYuhuai Wu, Saizheng Zhang, Ying Zhang, Yoshua\\nBengio, and Ruslan R Salakhutdinov. 2016. On\\nmultiplicative integration with recurrent neural net-',\n",
       " 'works. In Advances in neural information process-\\ning systems , pages 2856–2864.\\nZhilin Yang, Zihang Dai, Ruslan Salakhutdinov, and\\nWilliam W Cohen. 2017. Breaking the softmax bot-',\n",
       " 'tleneck: A high-rank rnn language model. arXiv\\npreprint arXiv:1711.03953 .\\nWojciech Zaremba, Ilya Sutskever, and Oriol Vinyals.\\n2014. Recurrent neural network regularization.',\n",
       " 'arXiv preprint arXiv:1409.2329 .Julian Georg Zilly, Rupesh Kumar Srivastava,\\nJan Koutník, and Jürgen Schmidhuber. 2016.\\nRecurrent highway networks. arXiv preprint\\narXiv:1607.03474 .',\n",
       " 'arXiv:1607.03474 .\\nBarret Zoph and Quoc V Le. 2016. Neural architecture\\nsearch with reinforcement learning. arXiv preprint\\narXiv:1611.01578 .A Ablation Study with Memory Constraints',\n",
       " 'Backprop Len Recurrence Encoding Loss pplx best pplx init Attn Len\\n128 3 Ours Full 26.77 27.02 500\\n128 3 Ours Partial 28.33 28.69 460\\n176 7 Ours Full 27.98 28.43 400\\n172 7 Ours Partial 28.83 28.83 120',\n",
       " 'Table 10: Ablation study on WikiText-103 with the same GPU memory constraints.\\nTable 10 compares Transformer-XL with baseline under the same memory budget. Transformer-XL',\n",
       " 'still outperforms the baseline even with a shorter backprop length.\\nB Efﬁcient Computation of the Attention with Relative Positional Embedding',\n",
       " 'As we discussed in section 3.3, the naive way of computing the Wk;RRi\\x00jfor all pairs (i;j)is subject',\n",
       " 'to a quadratic cost. Here, we present a simple method with only a linear cost. Firstly, notice that the\\nrelative distance i\\x00jcan only be integer from 0 to M+L\\x001, whereMandLare the memory length',\n",
       " 'and segment length respectively. Hence, the rows of the matrix\\nQ:=2\\n6664R>\\nM+L\\x001\\nR>\\nM+L\\x002\\n...\\nR>\\n1\\nR>\\n03\\n7775Wk;R>=2\\n6664[Wk;RRM+L\\x001]>\\n[Wk;RRM+L\\x002]>\\n...\\n[Wk;RR1]>\\n[Wk;RR0]>3\\n77752R(M+L)\\x02d',\n",
       " '77752R(M+L)\\x02d\\nconsist of all possible vector outputs of Wk;RRi\\x00jfor any (i;j). Note that we have deﬁned Qin a\\nreversed order, i.e., Qk=Wk;RRM+L\\x001\\x00k, to make further discussion easier.',\n",
       " 'Next, we collect the term (b)for all possible i;jinto the following L\\x02(M+L)matrix,\\nB=2\\n6664q>\\n0Wk;RRM\\x01\\x01\\x01q>\\n0Wk;RR0 0\\x01\\x01\\x01 0\\nq>\\n1Wk;RRM+1\\x01\\x01\\x01q>\\n1Wk;RR1q>\\n1Wk;RR0\\x01\\x01\\x01 0\\n..................\\nq>\\nL\\x001Wk;RRM+L\\x001\\x01\\x01\\x01q>',\n",
       " 'L\\x001Wk;RRM+L\\x001\\x01\\x01\\x01q>\\nL\\x001Wk;RRM+L\\x001q>\\nL\\x001Wk;RRL\\x001\\x01\\x01\\x01q>\\nL\\x001Wk;RR03\\n7775\\n=2\\n6664q>\\n0QL\\x001\\x01\\x01\\x01q>\\n0QM+L\\x001 0\\x01\\x01\\x01 0\\nq>\\n1QL\\x002\\x01\\x01\\x01q>\\n1QM+L\\x002q>\\n1QM+L\\x001\\x01\\x01\\x01 0\\n..................\\nq>\\nL\\x001Q0\\x01\\x01\\x01q>\\nL\\x001QMq>\\nL\\x001QM+1\\x01\\x01\\x01q>',\n",
       " 'L\\x001QMq>\\nL\\x001QM+1\\x01\\x01\\x01q>\\nL\\x001QM+L\\x0013\\n7775\\nThen, we further deﬁne\\neB=qQ>=2\\n6664q>\\n0Q0\\x01\\x01\\x01q>\\n0QMq>\\n0QM+1\\x01\\x01\\x01q>\\n0QM+L\\x001\\nq>\\n1Q0\\x01\\x01\\x01q>\\n1QMq>\\n1QM+1\\x01\\x01\\x01q>\\n1QM+L\\x001\\n..................\\nq>\\nL\\x001Q0\\x01\\x01\\x01q>\\nL\\x001QMq>\\nL\\x001QM+1\\x01\\x01\\x01q>',\n",
       " 'L\\x001QMq>\\nL\\x001QM+1\\x01\\x01\\x01q>\\nL\\x001QM+L\\x0013\\n7775:\\nNow, it is easy to see an immediate relationship between BandeB, where thei-th row of Bis simply a',\n",
       " 'left-shifted version of i-th row ofeB. Hence, the computation of Bonly requires a matrix multiplication\\nqQ>to computeeBand then a set of left-shifts.',\n",
       " 'Similarly, we can collect all term (d)for all possible i;jinto another L\\x02(M+L)matrix D,\\nD=2\\n6664v>QL\\x001\\x01\\x01\\x01v>QM+L\\x001 0\\x01\\x01\\x01 0\\nv>QL\\x002\\x01\\x01\\x01v>QM+L\\x002v>QM+L\\x001\\x01\\x01\\x01 0\\n..................\\nv>Q0\\x01\\x01\\x01v>QMv>QM+1\\x01\\x01\\x01v>QM+L\\x0013',\n",
       " '7775:Then, we can follow the same procedure to deﬁne\\ned= [Qv]>=\\x02\\nv>Q0\\x01\\x01\\x01v>QMv>QM+1\\x01\\x01\\x01v>QM+L\\x001\\x03\\n:\\nAgain, each row of Dis simply a left-shift version of ed. Hence, the main computation cost comes from',\n",
       " 'the matrix-vector multiplication ed= [Qv]>, which is not expensive any more.\\nC Details About RECL\\n(a) Transformer-XL vs RNNs\\n (b) Transformer-XL vs Baseline',\n",
       " 'Figure 3: Visualizing unnormalized relative perplexity gains with r= 0:1.\\n(a) Transformer-XL vs RNNs\\n (b) Transformer-XL vs Baseline\\nFigure 4: Perplexity vs context length.',\n",
       " 'In this section, we describe the details of the metric RECL. Let M=fm1;m2;\\x01\\x01\\x01;mNgbe a model\\ngroup consisting of Nmodels. Let li(c;t)denote the loss of model mion thet-th token in the corpus',\n",
       " 'with a context length c. Concretely, the loss can be written as\\nli(c;t) =\\x00logPmi(xtjxt\\x001;\\x01\\x01\\x01;xt\\x00c)\\nwherePmiis the probability distribution given by model mi, andxtis thet-th token in the corpus. Given',\n",
       " 'a short context length cand a long context length c0such thatc0\\x15c, we can further deﬁne a baseline for\\neach position t,\\nb(c;t) =N\\nmin\\ni=1li(c;t)\\nTherelative loss ofmiw.r.t. the model group Mis written as',\n",
       " 'fi(c;c0) =1\\njTjX\\nt2Tmin\\x00\\nb(c;t);li(c0;t)\\x01\\nThe above equation uses the minimum loss of all models on the short length cas a baseline, and only',\n",
       " 'losses smaller than the baseline will be effectively counted towards the relative loss. This enables faircomparison between multiple models because all models with a long context length c0need to improve',\n",
       " 'over the same baseline. Sometimes we only care about those positions where the baseline performs\\npoorly (which means short-term dependency with context length cis not sufﬁcient), so given a ratio',\n",
       " 'parameterr, we deﬁne the setTis the above equation as\\nT=top-rpositionstwith largest b(c;t)\\nTherelative gain is subsequently deﬁned as the relative perplexity reduction:\\ngi(c;c0) =expfi(c;c)\\x00expfi(c;c0)',\n",
       " 'expfi(c;c)\\nGiven a step size \\x01, we then use an algorithm to ﬁnd the RECL by thresholding the relative gain:\\n1. Set initial short context length c, and long context length c0=c+ \\x01',\n",
       " '2. Compute gi(c;c0). Ifgi(c;c0)<0:01, return RECL =c. Ifgi(c;c0)\\x150:01, setc=c0;c0=c+ \\x01\\nand go to step 1.\\nIn Figure 3, we visualize the unnormalized relative perplexity gains (expfi(c;c)\\x00expfi(c;c0))with',\n",
       " 'various pairs of (c;c0)whenr= 0:1. It is clear that Transformer-XL has a longer RECL compared to\\nRNNs and other baselines because the relative gains are substantially larger.',\n",
       " 'For reference, we plot the perplexities with varying context lengths in Figure 4. The y-axis denotes\\nthe “normal” perplexity (not calibrated by baselines).\\nD Attention Visualization',\n",
       " 'In this section, we provide some visualization of the attention learned by the SoTA model on the\\nWikiText-103 validation set. Recall that, this model has 16 10-head transformer layers and relies on',\n",
       " 'a memory of length 640.\\nFigure 5: Average attention over the previous 640 tokens, where each row corresponds to a attention head and each',\n",
       " 'column corresponds to a relative location. There are totally 160 attention heads, and every 10 heads come from a\\nsingle layer. Darker colors indicate higher values.',\n",
       " 'The ﬁrst visualization aims at revealing the overall trend of where the model is attending. Speciﬁcally,',\n",
       " 'for each attention head of each layer, we average the attention distributions of all tokens in the validation',\n",
       " 'set. This is shown in Fig. 5. As we can see, the overall trend is to focus more on the nearby tokens\\nthan the faraway ones. However, it is also very clear that some attention heads have a wider attention',\n",
       " 'distribution over the entire memory span, notably the head 8 from layer 1, head 78 from layer 8, and the\\nhead 158 from layer 16.',\n",
       " 'Since we are focused on learning long-range dependency, we are especially interested in these heads\\nwith a wider attention span. Thus, in the second set of visualization, we pick the three notable heads',\n",
       " 'mentioned above, and visualize their attention behavior for a randomly chosen position, as shown in Fig.\\n6. Here, we see three different patterns of wider attention:',\n",
       " '\\x0fFor the head 8 in the 1st layer, we see an almost uniform attention over the entire memory span. This',\n",
       " 'is quite intuitive, as lower-level layers needs to screen the entire memory span to decide where to focus\\nfor higher-level layers(a) Head 8 from layer 1.\\n(b) Head 78 from layer 8.',\n",
       " '(c) Head 158 from layer 16.\\nFigure 6: Visualization of the three heads with a wide attention range. Each row corresponds to a target loca-',\n",
       " 'tion/token and each column corresponds to a context location/token. Tokens in the memory that have top 20%\\nattention values are highlighted in red.',\n",
       " '\\x0fFor the head 78 in the 8th layer (a middle-level layer), we see a very sparse attention pattern scattered',\n",
       " 'in all ranges of the memory. Again, this well ﬁts our intuition that as information accumulates, the\\nnetwork may focus on some particular position with special interests.',\n",
       " '\\x0fFor the head 158 in the 16th layer (i.e. the last layer), each target location (corresponding to each row)',\n",
       " 'has its own distinct sparse focus, differing from head 78 where target locations largely share the same',\n",
       " 'attentive location in memory. Meanwhile, the pattern is also different from the case of head 8, where\\na few locations are clearly attended more than others.',\n",
       " 'Finally, as we have discussed in section 3.3, the attention score can be decomposed into four intuitive',\n",
       " 'terms. Here, we want to further investigate how these four terms contribute to the overall attention trend',\n",
       " 'in Fig. 5. Since the term (c)represents the global content bias, i.e., the prior importance of each word',\n",
       " 'regardless of the context, we will leave it out and focus on the terms (a),(b)and(d). So, for each term,',\n",
       " 'we take the Softmax w.r.t. the memory span and average the resulted distribution of all tokens in the\\nvalidation set. The results are visualized in Fig. 7:',\n",
       " '\\x0fSince term (a)is fully content-based addressing, when averaging over all target words, the result is',\n",
       " 'essentially uniform over the entire context, except for a few very close words, which are likely to be\\nsemantically similar to the target word.',\n",
       " '\\x0fThe overall trend of term (b)highly resembles that of the entire attention distribution in Fig. 5. It',\n",
       " 'suggests that the global trend of focusing on the nearby context is largely contributed by this content-\\ndependent positional bias.',\n",
       " '\\x0fThe overall trend of term (d)is also focusing more on nearby words. However, compared to the trend\\nof term (b), it is clearly ﬂatter and biases towards a longer context.(a) Term (a).\\n(b) Term (b).',\n",
       " '(b) Term (b).\\n(c) Term (d).\\nFigure 7: Visualization of the three terms in computing the attention score. Each row corresponds to a attention\\nhead and each column corresponds to a relative location.',\n",
       " 'E Generated Text\\nIn this section, we present some generated text from our best model trained the Wikitext-103 dataset.',\n",
       " 'We seed the our Transformer-XL with a context of at most 512 consecutive tokens randomly sampled\\nfrom the test set of Wikitext-103. Then, we run Transformer-XL to generate a pre-deﬁned number of',\n",
       " 'tokens (500 or 1,000 in our case). For each generation step, we ﬁrst ﬁnd the top-40 probabilities of the',\n",
       " 'next-step distribution and sample from top-40 tokens based on the re-normalized distribution. To help',\n",
       " 'reading, we detokenize the context, the generated text and the reference text. Three generated examples\\nare shown in Tables 11, 12, and 13. Note that we do not perform any cherry picking and present the',\n",
       " 'ﬁrst three examples we generate in the paper. In the text, “= text =”, “= = text = =” and “= = = text = =',\n",
       " '=” denote the Wikipedia page tile, section title and subsection title, respectively, due to the original data\\npreprocessing procedure of Wikitext-103 (Merity et al., 2016).',\n",
       " 'As we can see, though only trained on 100M tokens, Transformer-XL is a strong model at generating\\nlong text articles, particularly in the following aspects:',\n",
       " '\\x0fTransformer-XL is able to structurally maintain the sectional arrangement of Wikipedia.\\n\\x0fTransformer-XL manages to semantically stay on the same topic throughout the course of genera-\\ntion.',\n",
       " 'tion.\\n\\x0fLong-range references are common in the generated text.\\n\\x0fTransformer-XL often generates novel content that is not present in the training data.',\n",
       " 'For more detailed explanation of the interesting observations in each example, please refer to the corre-',\n",
       " 'sponding caption.Despite the overall excellence of the generation quality, the model can only perceive the seed context',\n",
       " 'and hallucinate what to generate based on the limited knowledge (100M tokens only) it is trained on.\\nAs a result, the generated text sometimes looks clearly relevant but not close enough or to the point',\n",
       " 'compared to what human writer would do. That said, we believe this issue is mostly a problem of limited\\ntraining data size and could be alleviated by using a larger training set.\\nContext:',\n",
       " 'Context:\\nKershaw started the 2010 season by posting a 3.07 ERA in April, but did so by walking 22 batters in 29 innings. On May 4, he had his worst start of his career',\n",
       " 'against the Milwaukee Brewers at Dodger Stadium, throwing just 57 pitches in 11 / 3 innings, while retiring only four of the 13 batters he faced — including the',\n",
       " 'pitcher. He was booed loudly upon being pulled from the game. Kershaw said after the game, \" I didn’t give our team any kind of chance. It’s just not a good',\n",
       " 'feeling to let your teammates down, let everybody down. It stings, it hurts. I ’ve got to ﬁgure things out. \" Kershaw rebounded his next start by pitching an 8 inning',\n",
       " 'two-hitter and out-dueling the then undefeated Ubaldo Jiménez. He credited his control of the slider being the major turning point for him. Later in the season, he',\n",
       " 'was suspended for ﬁve games after hitting Aaron Rowand of the Giants with a pitch in a game on July 20. The incident occurred after both teams were given a',\n",
       " 'warning following Giants ace Tim Lincecum hitting Matt Kemp earlier in the game. He threw his ﬁrst career complete game shutout on September 14, 2010 also',\n",
       " 'against San Francisco and ﬁnished the season with a record of 13 – 10 and a 2.91 ERA in 32 starts, pitching 2041 / 3 innings and recording 212 strikeouts.\\n= = = = 2011 season: 1st Cy Young Award = = = =',\n",
       " 'After ﬁnishing the 2010 season strong, the Dodgers named Kershaw as the Opening Day Starter for the 2011 season. On May 29, he pitched the second complete-',\n",
       " 'game shutout of his career, striking out 10 while winning a two-hitter against the Florida Marlins, 8 – 0; he also had two singles and an RBI, scoring twice in the',\n",
       " 'game. He produced his third career shutout on June 20, a two-hit, 11-strikeout effort against the Detroit Tigers. Kershaw became the ﬁrst Dodgers starter to strike',\n",
       " 'out the side in the 9th inning since Sandy Koufax’s perfect game. In his next start, on June 26, Kershaw pitched another complete game (against the Los Angeles',\n",
       " 'Angels of Anaheim ). He became the ﬁrst Dodger starter to have back-to-back complete game victories since Jeff Weaver in the 2005 season and the ﬁrst Dodger',\n",
       " 'to have double-digit strikeouts in consecutive starts since Chan-Ho Park in the 2000 season. He was awarded the National League Player of the Week award for the',\n",
       " 'week of June 20 – 26 as a result of those two starts. Midway through June, Kershaw had amassed 32 career victories\\nXL Generation: Reference:',\n",
       " ', tying him with Luis Castillo for the third best start total in the league and trail-\\ning only Johnny Bench and Eddie Mathews (37). The Dodgers signed Kershaw',\n",
       " 'to a one-year deal on July 14, 2011, with a player option for 2012, in a deal\\nworth just under $ 300,000. The Dodgers entered the 2011 season as the major',\n",
       " 'league leaders, and Kershaw had the best record in the National League in saves\\n(39), games started (78) and walks (120); he also had the lowest win / loss ratio',\n",
       " 'in the league (1.87), and he had the worst on-base percentage (.349). He had\\nthe best ERA (2.00 ), most wins (16 ), or most shutouts (29) in his career (25),',\n",
       " 'while leading the league in losses per nine innings pitched (4.01). Following the\\n2011 season, the Dodgers traded Kershaw to the Kansas City Royals on July 29\\nfor pitcher Javier Torres.',\n",
       " '= = = Kansas City Royals = = =\\n= = = = 2012 season = = = =\\nDuring spring training, Kershaw played very well. He was selected to spring',\n",
       " 'training as a relief pitcher for the Royals for the 2012 season. After an injury\\nto closer Javier Vázquez, he was activated on April 29 to replace Matt Holliday',\n",
       " 'in the Royals ’ starting rotation. In his only start with the Royals, on August 6,\\n2012, Kershaw struck out ﬁve batters in seven innings pitched to help the Royals',\n",
       " 'to their ﬁrst victory in franchise history. On September 27, 2012, it appeared\\nKershaw was going to pitch a complete game shutout against the Detroit Tigers,',\n",
       " 'but did not manage to do so since the Tigers won 3 – 1. At the conclusion\\nof the season, Kershaw was named Major League Baseball’s Most Valuable',\n",
       " 'Player, was chosen to the All-Star Game at Busch Stadium and was named to\\nthe All-Star Game as the starting pitcher at shortstop. The Royals announced on',\n",
       " 'February 4, 2013 that Kershaw would spend 2013 as starting pitcher, though he\\nwas expected to miss the season as a result of a shoulder injury.\\n= = = = 2013 season = = = =',\n",
       " 'On May 17, 2013, Kershaw sustained another back injury and did not start in\\nAugust and October 2013. He appeared in 22 starts, all starts, ﬁnishing with',\n",
       " 'a strikeout-to-walk ratio of 1.50 and a 2.91 ERA. He also had the third most',\n",
       " 'strikeouts in the league: 10. On May 20, 2013, he, a 3.15 ERA and 593 career strikeouts in 568.2 innings. According to the Elias\\nSports Bureau, Kershaw was the ﬁrst 23-year-old pitcher to have that many',\n",
       " 'victories, an ERA that low and an average of more than one strikeout per inning\\nsince ERA became an ofﬁcial statistic in 1910. Kershaw was selected to the',\n",
       " 'National League team for the 2011 Major League Baseball All-Star Game, his\\nﬁrst All-Star selection. In the month of July, Kershaw was 4 – 1 with a 2.02',\n",
       " 'ERA and NL-leading 45 strikeouts, earning him the National League Pitcher of\\nthe Month Award. On August 23, he struck out Matt Holliday of the St. Louis',\n",
       " 'Cardinals for his 200th strikeout of the season and became the 10th Dodger\\npitcher to record back-to-back 200 strikeout seasons and the ﬁrst since Chan-',\n",
       " 'Ho Park did it in the 2001 season. Kershaw ﬁnished the 2011 season by leading\\nthe NL with 21 wins, 248 strikeouts and a 2.28 ERA, winning the NL pitching',\n",
       " 'Triple Crown, the ﬁrst Triple Crown winner since Jake Peavy of the 2007 San\\nDiego Padres and the ﬁrst Dodger since Sandy Koufax won it in the 1966 season.',\n",
       " 'Justin Verlander of the Detroit Tigers won the American League Triple Crown\\nthe same season, marking the ﬁrst major-league season since 1924 to feature',\n",
       " 'Triple Crown-winning pitchers in both leagues. Kershaw’s 21 wins were the\\nmost by a Dodger pitcher since Orel Hershiser won 23 during the 1988 season.',\n",
       " 'His ERA was the lowest by a Dodger since Hershiser’s 2.03 in the 1985 season,\\nhis strikeouts were the most by a Dodger since Koufax’s 317 in 1966 and his 233',\n",
       " '1 / 3 innings pitched were the most since Chan Ho Park pitched 234 in 2001.\\nSince 1965 when Koufax did it, Peavy and Kershaw are only two pitchers in the',\n",
       " 'National League have led the league in wins, strikeouts, ERA, and WHIP (walks\\nplus hits per inning pitched). Kershaw also became just the second <unk> to',\n",
       " 'have a 240-plus strikeouts in a season before the age of 24, joining Vida Blue.\\nAfter the season, Kershaw was awarded the Warren Spahn Award as the best',\n",
       " 'left-handed pitcher in 2011, the Players Choice Award for Most Outstanding\\nNational League pitcher, the Gold Glove Award as the top ﬁelding pitcher in',\n",
       " 'the NL and the Sporting News (TSN) National League Pitcher of the Year. He\\nwas additionally selected as the starting pitcher for the TSN NL All-Star Team.',\n",
       " 'On November 17, he was honored with the National League Cy Young Award,\\nmaking him the youngest Cy Young winner since Dwight Gooden',\n",
       " 'Table 11: Example 1 – 500 tokens generated by XL using a snippet from the Wikitext-103 test set as initial context. The\\nsample is randomly generated without any cherry picking.',\n",
       " 'Original Wikipedia page: https://en.wikipedia.org/wiki/Clayton_Kershaw\\nThere are many interesting observations from this example:',\n",
       " '\\x0fFirstly, Kershaw never went to Royals in real life. Despite that, Transformer-XL stays on the fully imagined topic and keeps\\nhallucinating the experience of Kershaw in Royals across the generated text.',\n",
       " '\\x0fSecondly, notice that XL correctly tracks the chronological order from 2011 to 2012 and to the ﬁnally 2013 season in the\\nsection titles.',\n",
       " 'section titles.\\n\\x0fIn addition, notice that Transformer-XL accurately uses the the phrase “another back injury ” in the 2013 season paragraph,',\n",
       " 'since it has talked about one earlier injure in the 2012 season. This shows again Transformer-XL’s ability of capturing\\nlong-term dependency.Context:\\n= = Distribution = =',\n",
       " '= = Distribution = =\\nSpecies range across the Neotropics from Mexico in the north to Bolivia, Paraguay, and southern Brazil in the south. According to <unk> and coauthors, three',\n",
       " 'species are found in Mexico, four in Central America, and 62 in South America. Three species are present in the Caribbean — two in Trinidad and Tobago, along',\n",
       " 'the southern edge of the region, and one in Haiti.\\n= = Habitat and ecology = =',\n",
       " '<unk> includes both large trees and small acaulescent palms which occupy a number of different ecological niches. Dense stands of some of the larger species are',\n",
       " 'conspicuous elements on the landscape, while smaller species are found in both in the forest understorey and in savannas. Disturbance has been implicated in the',\n",
       " 'formation of vegetation dominated by large <unk> species. In seasonally dry Amazonian forests the density of large adult A. <unk> palms was correlated with',\n",
       " 'canopy openness; the species also dominates savannas formed by repeated forest ﬁres in Trinidad and Tobago. <unk> speciosa forms pure stands in many parts of',\n",
       " 'Brazil where natural forest vegetation has been cleared. Similarly, stands of A. <unk> in Bahia, Brazil (which are cultivated for <unk> ﬁbre) are managed using',\n",
       " 'ﬁre — the seedlings survive cutting and burning, and are able to dominate burned forest patches. The fruit are dispersed by animals; fruit which are not dispersed',\n",
       " 'frequently suffer seed predation by <unk> beetles. Certain species of <unk> have been mentioned as examples of \" anachronistic \" species which are adapted',\n",
       " 'for dispersal by now-extinct Pleistocene megafauna. On <unk> Island, <unk>, in the Brazilian Amazon, <unk> <unk> fruit were consumed by tapirs, collared',\n",
       " 'peccaries, deer and primates. Rodents, including agoutis, fed upon the fruit and, as the fruit availability declined, they fed on the seeds. Other dispersers of <unk>',\n",
       " 'fruit include Crested <unk> which consume the fruit and disperse the seeds of A. <unk> in the Brazilian Pantanal.\\n= = Uses = =',\n",
       " '= = Uses = =\\n<unk> species have a long history of human utilisation. <unk> <unk> <unk> seeds have been found in archaeological sites in Colombia dating back to 9000 BP.',\n",
       " 'A variety of species remain important sources of edible oil, thatch, edible seeds and ﬁbre. The leaves of <unk> <unk> and A. <unk> are used extensively for',\n",
       " 'thatching. Several species are oil palms, with A. speciosa among the most important economically. Products extracted from A. speciosa were reported to support',\n",
       " 'over 300,000 households in the Brazilian state of Maranhão in 2005, and in 1985 it was estimated to support over 450,000 households throughout the Brazil. <unk>',\n",
       " 'ﬁbres, extracted from the leaf bases of A. <unk>, are commercially important, and generated about US $\\nXL Generation: Reference:\\n700,000 in 2013 on the black market. In 2004 the plant was reported to be',\n",
       " 'responsible for a net proﬁt of around US $ 3 million in Brazil. A 2012 study\\nfound A. speciosa to cause agricultural production at least 2 – 3 times greater',\n",
       " 'than those achieved without prior knowledge of land management.\\n= The Tale of Mrs. Tittlemouse =\\nThe Tale of Mrs. Tittlemouse is a children’s book written and illustrated by H.',\n",
       " 'M. Potter. It was ﬁrst published in February 1910 by Frederick Warne & Co.\\nand included illustrations by Frederick Warne. Mrs. Tittlemouse was intended',\n",
       " 'to be a children’s book, rather than a musical, and the tale describes her attempts\\nto ﬁnd her own home. Mrs. Tittlemouse is an average kitten and the tale follows',\n",
       " 'a mischievous rabbit named Mr. Tittlemouse who tries to kill her in an attempt\\nto get a ride on a horse. Potter later wrote of the rabbit and her attempts to',\n",
       " 'kill her, \" If [ she ] were a fox, I should like to have been able to show her the\\nway. \" Potter’s work was inspired by The Tale of Little Black Sambo and her',\n",
       " 'two nieces, Petunia and Petunia. It was the ﬁrst book in the Potter family to be\\npublished in a hardback format, and was also the ﬁrst book in the Peter Rabbit',\n",
       " 'series. The tale was released on 13 November 1910 and was accompanied by\\na greeting card by Potter’s brother-in-law, Frederick Warne. The tale was well',\n",
       " 'received by critics and children, and sold over 600,000 copies in its ﬁrst few\\nyears. In the ﬁrst year of its publication, Potter’s The Tale of Mrs. Tittlemouse',\n",
       " 'won children’s book awards in England, America and Australia. It was selected\\nas a \" recommended reading \" by children in the US and Canada.\\n= = Plot summary = =',\n",
       " '= = Plot summary = =\\nThe tale opens with the pet rabbit Mrs. Tittlemouse wandering through a forest\\nin a small litter of four. He is shot and badly injured by a deer after she attempts',\n",
       " 'to escape. Mrs. Tittlemouse decides that she wants to ﬁnd her own home, be-\\ncause she is eager to go on her own. She goes alone to the farm where she makes',\n",
       " 'a little money by selling a few seeds and building a small cabin in the woods.\\nShe is approached by a wealthy hunter named Mr. Tittlemouse, who tries to kill',\n",
       " 'her but Mrs. Tittlemouse kills him by stufﬁng a rope into his nose and killing\\nhim. She is rescued by Mr. Tittlemouse’s wife Ruth, but Mrs. Tittlemouse then',\n",
       " 'leaves the woodland with the baby. When she is spotted by20 million in annual income to Brazilian farmers in 1996.\\n= The Heart of Ezra Greer =',\n",
       " 'The Heart of Ezra Greer is a 1917 American silent drama ﬁlm produced by the\\nThanhouser Company and directed by Emile <unk>. The ﬁlm focuses on Ezra',\n",
       " 'Greer, a successful middle-aged man who searches for his college age daughter,\\nMary. The wayward Mary was romanced and abandoned by Jack <unk>, later',\n",
       " 'bearing his child. Once Ezra becomes broke he ﬁnds employment as the valet\\nfor Jack <unk>. After Jack’s engagement to a cabaret girl, Mary becomes upset',\n",
       " 'and leaves her child at Jack’s home. Contrary to Jack’s wishes, Ezra keeps the\\nchild and Jack ultimately reveals that the child is his own. Ezra convinces Jack',\n",
       " 'to make things right and Ezra convinces the cabaret girl to leave Jack. After a\\ncarriage accident in which the baby is injured, Ezra and Jack rush to the hospital',\n",
       " 'and ﬁnd Mary as a nurse crying over the child. The ﬁlm ends with the marriage\\nof Jack and Mary. The ﬁlm was released by Pathé on October 7, 1917. The ﬁlm',\n",
       " 'was the ﬁnal release from Thanhouser and was deemed to be an average ﬁlm\\nby most reviewers. Criticism for the ﬁlm hinged on far-fetched coincidences to\\ndrive the plot. The ﬁlm is presumed lost.',\n",
       " '= = Plot = =\\nThe ﬁlm follows Ezra Greer, a middle-aged man who has worked hard since\\nhis youth. He cares deeply for his motherless daughter, Mary, but was unable',\n",
       " 'to attend the annual commencement at her co-educational college. He awaits\\nfor her to return from college, but Mary leaves with her romantic interest, Jack',\n",
       " '<unk>. On promise of marriage and wealth, Mary is romanced and gives birth\\nto a fatherless child. Without word from his daughter, Ezra resigns from his',\n",
       " 'job and attempts to seek her out and ﬁnds a poor motherless child, Marie. With\\nEzra’s money exhausted he seeks employment and ﬁnds it as the valet of Jack.',\n",
       " 'One day, Mary seeks an announcement of Jack’s engagement to a cabaret girl\\nknown as \" The Baby Vamp \". Bitter over the prospect of her child’s future,',\n",
       " 'she leaves the child at Jack’s home during his absence with a note. Jack orders\\nEzra to take the baby to an orphanage, but Marie begs Ezra to keep him. After',\n",
       " 'continually seeing the child, Jack is overcome with remorse and explains to Ezra\\nand seeks his advice. Not knowing he was making the case for his own daughter,',\n",
       " 'Ezra convinces Jack to seek out Mary and forget the Baby Vamp. The Baby\\nTable 12: Example 2 – 500 tokens generated by XL using a snippet from the Wikitext-103 test set as initial context. The',\n",
       " 'sample is randomly generated without any cherry picking.\\nOriginal Wikipedia page: https://en.wikipedia.org/wiki/The_Tale_of_Mrs._Tittlemouse .',\n",
       " 'This example exhibit some additional interesting properties of Transformer-XL:',\n",
       " '\\x0fAfter ﬁnishing the last paragraph of the seed context, both the reference and generated text start a new topic (i.e., Wikipedia',\n",
       " 'page), as marked by the single “= title = ” line. This suggests the model has the ability of identifying the end of a topic / page,\\nand randomly starting with a new topic.',\n",
       " '\\x0fEven more interestingly, a newly-started page is on a book called “The Tale of Mrs. Tittlemouse”. Transformer-XL manages',\n",
       " 'to copy the same book title and some related information from the training set, but hallucinates novel content of the book.',\n",
       " 'This demonstrates a degree of generalization instead of memorization. Please refer to the original book content at the\\nWikipedia page.Context:\\n= Battle of Dürenstein =',\n",
       " 'The Battle of Dürenstein (also known as the Battle of <unk>, Battle of <unk> and Battle of <unk>; German: <unk> bei <unk> ), on 11 November 1805 was',\n",
       " 'an engagement in the Napoleonic Wars during the War of the Third Coalition. Dürenstein (modern <unk>) is located in the <unk> Valley, on the River Danube,',\n",
       " '73 kilometers (45 mi) upstream from Vienna, Austria. The river makes a crescent-shaped curve between <unk> and nearby Krems an der Donau and the battle',\n",
       " 'was fought in the ﬂood plain between the river and the mountains. At Dürenstein a combined force of Russian and Austrian troops trapped a French division',\n",
       " 'commanded by Théodore Maxime Gazan. The French division was part of the newly created VIII Corps, the so-called Corps Mortier, under command of Édouard',\n",
       " 'Mortier. In pursuing the Austrian retreat from Bavaria, Mortier had over-extended his three divisions along the north bank of the Danube. Mikhail <unk> Kutuzov,',\n",
       " 'commander of the Coalition force, enticed Mortier to send Gazan’s division into a trap and French troops were caught in a valley between two Russian columns.',\n",
       " 'They were rescued by the timely arrival of a second division, under command of Pierre Dupont de l ’Étang. The battle extended well into the night. Both sides',\n",
       " 'claimed victory. The French lost more than a third of their participants, and Gazan’s division experienced over 40 percent losses. The Austrians and Russians',\n",
       " 'also had heavy <unk> to 16 <unk> perhaps the most signiﬁcant was the death in action of Johann Heinrich von Schmitt, one of Austria’s most capable chiefs of',\n",
       " 'staff. The battle was fought three weeks after the Austrian capitulation at Ulm and three weeks before the Russo-Austrian defeat at the Battle of Austerlitz. After',\n",
       " 'Austerlitz Austria withdrew from the war. The French demanded a high indemnity and Francis II abdicated as Holy Roman Emperor, releasing the German states\\nfrom their allegiance to the Holy Roman Empire.',\n",
       " '= = Background = =\\nIn a series of conﬂicts from 1803-15 known as the Napoleonic Wars, various European powers formed ﬁve coalitions against the First French Empire. Like the wars',\n",
       " 'sparked by the French Revolution (1789 ), these further revolutionized the formation, organization and training of European armies and led to an unprecedented',\n",
       " 'militarization, mainly due to mass conscription. Under the leadership of Napoleon, French power rose quickly as the Grande Armée conquered most of Europe,\\nand collapsed rapidly\\nXL Generation: Reference:',\n",
       " 'after the French conquest of Italy. This victory marked the beginning of the\\nSecond Coalition. Napoleon’s rapid advance caused Austria – Russia, Britain',\n",
       " 'and Russia to make peace negotiations. The Russian army under Prince Mikhail\\nMikhailovich Mikhailovich Chaffee, commander of the Imperial Russian Army',\n",
       " 'in Switzerland, was able to drive off the Austrians in the Battle of Stockach\\n(1805) and to take Pressburg (modern Ö3 Austria) from the Austrians. At an',\n",
       " 'early stage the Austro-Hungarian ﬂeet had been damaged in a storm off Cape\\nMatapan; this allowed the Allies to launch a full-scale invasion of Italy in Febru-',\n",
       " 'ary 1805. The Battle of Austerlitz was the decisive French victory against\\nNapoleon and the largest naval battle in history, involving more modern-day',\n",
       " 'European navies. The French military situation worsened as Napoleon faced\\nseveral threats related to his newly formed Army of Europe, particularly Russia',\n",
       " 'itself, which was now on the verge of collapse. The Russian general and friend\\nof Napoleon, Alexander, had been dissatisﬁed with the conduct of the Austri-',\n",
       " 'ans; he was still in conﬂict with Emperor Napoleon, the French Republic’s king,\\nwho had declared war on Austria during the summer of 1804. With the war over,',\n",
       " 'Napoleon decided to launch a second invasion of Italy in October 1805.\\n= = Prelude = =\\nIn July 1805, the French 1st Army entered southern Italy. The army, under the',\n",
       " 'command of Marshal Marmont, were reinforced by a few battalions of infantry\\nunder Claude General Auguste de Marmont at the town of Philippsburg and',\n",
       " 'another battalion at Belluno. On 17 September 1805, the army marched from\\nBelluno towards Krems. By 29 September, they had reached Belluno and con-',\n",
       " 'ducted its advance against a small Austrian force. By 31 September, the whole\\nforce had been reinforced by a brigade from the Army of Tyrol under the com-',\n",
       " 'mand of Pierre Augereau. The Austrians were now under the command of Mar-\\nshal Jean Victor Marie Moreau, a member of the Directory. Moreau had taken',\n",
       " 'command of the Austrian invasion force in the spring of 1805. His command\\nincluded the VI Corps commanded by Jean Baptiste Drouet de Ney and the VI',\n",
       " 'Corps commanded by Generals Jean Victor Marie Moreau and Joseph Souham.\\nNey’s corps consisted of the III. Corps and VI. Corps, which consisted of the',\n",
       " 'III Corps and VI. Corps, located in the Austrian Netherlands, was commanded\\nby Friedrich Joseph, Count Baillet de Latour. Moreau’s army consisted of six\\ndivisions and several associated brigades.',\n",
       " '= = Aftermath = =\\n= = = First Coalition forces = = =\\nOn 9 October 1805 the French Army of the Danube was attacked by an Aus-',\n",
       " 'trian army under Archduke Charles at the Battle of Austerlitz. Although Charles\\nand Charles had not had much time to regroup, on 10 October, he launched his',\n",
       " 'attack on the Polish forces under Friedrich Joseph, Count of Lauenburg. Af-\\nter three days, Charles’ army captured Lauenburg. The French forces pursued',\n",
       " 'the Austrians to the Silesian border, where they encountered strong Austrian\\nresistance. These conﬂicts forced the Austrians to retreat into Tyrol and Aus-',\n",
       " 'tria agreed to a truce. The Austrian army, commanded by Wenzel Anton Karl,\\nCount of Merveldt, was reduced to around 10,000 men. It was initially planned',\n",
       " 'that Archduke Charles would launch a counter-attack against the French army\\non the same day, as Napoleon had hoped, but this was not carried out. On 25',\n",
       " 'October, Merveldt left Styria for Tyrol. On the same day, Austria launched its\\nnew offensive against the French at Ulm. Charles withdrew his army from the',\n",
       " 'region for a third time at the Battle of Elchingen, under the overall command of\\nthe Austrian generals, Ferdinand and Friedrich Wilhelm of Jülich-Cleves-Berg.',\n",
       " 'To prevent Archduke Charles from escaping from the battleﬁeld, the comman-\\nder of the Habsburg army, Archduke Charles, planned to occupy the fortress',\n",
       " 'Linz; instead, he decided to force Franz von Hipper to surrender the city. How-\\never, as Charles moved to the south, Moreau arrived on the scene with additional',\n",
       " 'soldiers – including the entire Imperial Guard – and defeated the Austrians at\\nthe Battle of Hohenlinden on 28 October. The loss of Linz resulted in Austria’s',\n",
       " 'complete defeat at Hohenlinden. In the meantime, the French Army of Obser-\\nvation and Preparedness was reorganized into the Army of the Danube under',\n",
       " 'Feldzeugmeister (Colonel-General) Friedrich Freiherr von Hotze. The army\\nwas composed of the I, IV , VI, VI, VII, VIII and IX Corps. With reinforcements',\n",
       " 'from Italy and France, it formed new battalions, companies, and squadrons in\\nthe Austrian army. On 17 November 1804, at the Battle of Jena-Auerstadt the',\n",
       " 'Army of Silesia and the Army of Silesia joined forces, but by the time that theafter the disastrous invasion of Russia in 1812. Napoleon’s empire ultimately',\n",
       " 'suffered complete military defeat in the 1813 – 14 campaigns, resulting in the\\nrestoration of the Bourbon monarchy in France. Although Napoleon made a',\n",
       " 'spectacular return in 1815, known as the Hundred Days, his defeat at the Battle\\nof Waterloo, the pursuit of his army and himself, his abdication and banishment',\n",
       " 'to the Island of Saint Helena concluded the Napoleonic Wars.\\n= = Danube campaign = =\\nFrom 1803-06 the Third Coalition fought the First French Empire and its client',\n",
       " 'states (see table at right ). Although several naval battles determined control of\\nthe seas, the outcome of the war was decided on the continent, predominantly',\n",
       " 'in two major land operations in the Danube valley: the Ulm campaign in the\\nupper Danube and the Vienna campaign, in the middle Danube valley. Political',\n",
       " 'conﬂicts in Vienna delayed Austria’s entry into the Third Coalition until 1805.\\nAfter hostilities of the War of the Second Coalition ended in 1801, Archduke',\n",
       " '<unk> emperor’s <unk> advantage of the subsequent years of peace to develop\\na military restructuring plan. He carefully put this plan into effect beginning in',\n",
       " '1803 – 04, but implementation was incomplete in 1805 when Karl Mack, Lieu-\\ntenant Field Marshal and Quartermaster-General of the Army, implemented his',\n",
       " 'own restructuring. Mack bypassed Charles ’ methodical approach. Occurring\\nin the ﬁeld, Mack’s plan also undermined the overall command and organiza-',\n",
       " 'tional structure. Regardless, Mack sent an enthusiastic report to Vienna on the\\nmilitary’s readiness. Furthermore, after misreading Napoleon’s maneuvers in',\n",
       " 'Württemberg, Mack also reported to Vienna on the weakness of French dispo-\\nsitions. His reports convinced the war party advising the emperor, Francis II,',\n",
       " 'to enter the conﬂict against France, despite Charles ’ own advice to the con-\\ntrary. Responding to the report and rampant anti-French fever in Vienna, Fran-',\n",
       " 'cis dismissed Charles from his post as generalissimo and appointed his <unk>\\nbrother-in-law, Archduke Ferdinand, as commander. The inexperienced Ferdi-',\n",
       " 'nand was a poor choice of replacement for the capable Charles, having neither\\nmaturity nor aptitude for the assignment. Although Ferdinand retained nomi-',\n",
       " 'nal command, day-to-day decisions were placed in the hands of Mack, equally\\nill-suited for such an important assignment. When Mack was wounded early',\n",
       " 'in the campaign, he was unable to take full charge of the army. Consequently,\\ncommand further devolved to Lieutenant Field Marshal Karl Philipp, Prince of',\n",
       " 'Schwarzenberg, an able cavalry ofﬁcer but inexperienced in the command of\\nsuch a large army.\\n= = = Road to Ulm = = =\\nThe campaign in the upper Danube valley began in October, with several clashes',\n",
       " 'in Swabia. Near the Bavarian town of Wertingen, 40 kilometers (25 mi) north-\\nwest of Augsburg, on 8 October the 1st Regiment of dragoons, part of Murat’s',\n",
       " 'Reserve Cavalry Corps, and grenadiers of Lannes ’ V Corps surprised an Aus-\\ntrian force half its size. The Austrians were arrayed in a line and unable to form',\n",
       " 'their defensive squares quickly enough to protect themselves from the 4,000\\ndragoons and 8,000 grenadiers. Nearly 3,000 Austrians were captured and over',\n",
       " '400 were killed or wounded. A day later, at another small town, <unk> south\\nof the Danube <unk> French 59th Regiment of the Line stormed a bridge over',\n",
       " 'the Danube and, humiliatingly, chased two large Austrian columns toward Ulm.\\nThe campaign was not entirely bad news for Vienna. At Haslach, Johann von',\n",
       " 'Klenau arranged his 25,000 infantry and cavalry in a prime defensive position\\nand, on 11 October, the overly conﬁdent General of Division Pierre Dupont de',\n",
       " 'l’Étang attacked Klenau’s force with fewer than 8,000 men. The French lost\\n1,500 men killed and wounded. Aside from taking the Imperial Eagles and',\n",
       " '<unk> of the 15th and 17th Dragoons, Klenau’s force also captured 900 men,\\n11 guns and 18 ammunition wagons. Klenau’s victory was a singular success.',\n",
       " 'On 14 October Mack sent two columns out of Ulm in preparation for a breakout\\nto the north: one under Johann Sigismund Riesch headed toward Elchingen to',\n",
       " 'secure the bridge there, and the other under Franz von Werneck went north with\\nmost of the heavy artillery. Recognizing the opportunity, Marshal Michel Ney',\n",
       " 'hurried the rest of his VI Corps forward to re-establish contact with Dupont, who\\nwas still north of the Danube. In a two-pronged attack Ney sent one division to',\n",
       " 'the south of Elchingen on the right bank of the Danube. This division began the\\nassault at Elchingen. At the same time another division crossed the river to the',\n",
       " 'east and moved west against Riesch’s position. After clearing Austrian pickets',\n",
       " 'from a bridge, the French attacked and captured a strategically located abbey atFrench approached Vienna, the Prussians had already surrendered. As the Aus-',\n",
       " 'trians did not want to allow the war to continue, they decided to abandon their\\nterritories in the north and move their army to the north and west, cutting off',\n",
       " 'Charles from Vienna. The Battle of Warsaw was fought on 23 November 1805\\nbetween the French Army of the Danube and the Austrian Army of Styria in',\n",
       " 'the vicinity of Warsaw and Pressburg (modern Trnava, Slovakia). At that time\\nHabsburg forcesthe top of the hill at bayonet point. The Austrian cavalry unsuccessfully tried to',\n",
       " 'fend off the French, but the Austrian infantry broke and ran. In this engagement\\nalone, the Austrians lost more than half their reserve artillery park, 6,000 (out',\n",
       " 'of 8,000 total participants) dead, wounded or captured and four colors. Reisch’s\\ncolumn also failed to destroy the bridges across the Danube. Napoleon’s light-',\n",
       " 'ning campaign exposed the Austrian indecisive command structure and poor\\nsupply apparatus. Mack',\n",
       " 'Table 13: Example 3 – 1,000 tokens generated by XL using a snippet from the Wikitext-103 test set as initial context. The\\nsample is randomly generated without any cherry picking.',\n",
       " 'Original Wikipedia page: https://en.wikipedia.org/wiki/Battle_of_D%C3%BCrenstein .',\n",
       " '\\x0fAlthough this example is signiﬁcantly longer, we can see that Transformer-XL is still able to stay on the same topic and\\nmakes up non-existing stories about the Napoleon wars.',\n",
       " '\\x0fNotably, from the second section on, the generated text correctly follows a ﬁne-grained chronological order on the level of',\n",
       " 'month and day to narrate events in 1805, except a mistake (1804 instead of 1805) near the end of the paragraph. To ease',\n",
       " 'reading which we have highlighted all the date related phrases by magenta in the generation.']"
      ]
     },
     "execution_count": 13,
     "metadata": {},
     "output_type": "execute_result"
    }
   ],
   "source": [
    "finalData"
   ]
  },
  {
   "cell_type": "code",
   "execution_count": 14,
   "id": "2b450c88",
   "metadata": {},
   "outputs": [
    {
     "name": "stderr",
     "output_type": "stream",
     "text": [
      "C:\\Users\\Lenovo\\anaconda3\\lib\\site-packages\\langchain_core\\_api\\deprecation.py:117: LangChainDeprecationWarning: The class `langchain_community.embeddings.openai.OpenAIEmbeddings` was deprecated in langchain-community 0.1.0 and will be removed in 0.2.0. An updated version of the class exists in the langchain-openai package and should be used instead. To use it run `pip install -U langchain-openai` and import as `from langchain_openai import OpenAIEmbeddings`.\n",
      "  warn_deprecated(\n"
     ]
    }
   ],
   "source": [
    "embedding = OpenAIEmbeddings()"
   ]
  },
  {
   "cell_type": "code",
   "execution_count": 15,
   "id": "006dcc2d",
   "metadata": {},
   "outputs": [],
   "source": [
    "documentSearch = FAISS.from_texts(finalData, embedding)"
   ]
  },
  {
   "cell_type": "code",
   "execution_count": 16,
   "id": "bbdb58b9",
   "metadata": {},
   "outputs": [
    {
     "data": {
      "text/plain": [
       "<langchain_community.vectorstores.faiss.FAISS at 0x189f12b0760>"
      ]
     },
     "execution_count": 16,
     "metadata": {},
     "output_type": "execute_result"
    }
   ],
   "source": [
    "documentSearch"
   ]
  },
  {
   "cell_type": "code",
   "execution_count": null,
   "id": "4f08c64c",
   "metadata": {},
   "outputs": [],
   "source": [
    "chain = load_qa_chain(OpenAI())"
   ]
  },
  {
   "cell_type": "code",
   "execution_count": null,
   "id": "65dd7a48",
   "metadata": {},
   "outputs": [],
   "source": [
    "our_query = \"When Transformer Model came and what all significant things we have to know?\"\n",
    "docs = documentSearch.similarity_search(our_query)\n",
    "chain.run(input_documents=docs, question = our_query)"
   ]
  },
  {
   "cell_type": "code",
   "execution_count": null,
   "id": "bf4eac0e",
   "metadata": {},
   "outputs": [],
   "source": []
  },
  {
   "cell_type": "markdown",
   "id": "12aef55c",
   "metadata": {},
   "source": [
    "# Chatbot - embedding method"
   ]
  },
  {
   "cell_type": "code",
   "execution_count": null,
   "id": "c943a43b",
   "metadata": {},
   "outputs": [],
   "source": [
    "#import os\n",
    "#os.environ[\"OPENAI_API_KEY\"] = \"sk-wBZ9\""
   ]
  },
  {
   "cell_type": "code",
   "execution_count": 22,
   "id": "a9d93b51",
   "metadata": {},
   "outputs": [],
   "source": [
    "from langchain.embeddings import OpenAIEmbeddings"
   ]
  },
  {
   "cell_type": "code",
   "execution_count": 23,
   "id": "7fbd3b32",
   "metadata": {},
   "outputs": [],
   "source": [
    "embeddings = OpenAIEmbeddings()"
   ]
  },
  {
   "cell_type": "code",
   "execution_count": 24,
   "id": "dd084673",
   "metadata": {},
   "outputs": [
    {
     "name": "stdout",
     "output_type": "stream",
     "text": [
      "         Words\n",
      "0     Elephant\n",
      "1         Lion\n",
      "2        Tiger\n",
      "3          Dog\n",
      "4          Cat\n",
      "5      Cricket\n",
      "6     Football\n",
      "7       Tennis\n",
      "8       Hockey\n",
      "9   Basketball\n",
      "10       Apple\n",
      "11       Mango\n",
      "12      Banana\n",
      "13      Orange\n"
     ]
    }
   ],
   "source": [
    "import pandas as pd\n",
    "import numpy as np\n",
    "df = pd.read_excel(\"data.xlsx\")\n",
    "print(df)"
   ]
  },
  {
   "cell_type": "code",
   "execution_count": 25,
   "id": "1c9324ad",
   "metadata": {},
   "outputs": [],
   "source": [
    "df['embedding'] = df['Words'].apply(lambda x: embeddings.embed_query(x))\n",
    "df.to_csv(\"word_embeddings.csv\")"
   ]
  },
  {
   "cell_type": "code",
   "execution_count": 26,
   "id": "e7a4bf87",
   "metadata": {},
   "outputs": [
    {
     "name": "stdout",
     "output_type": "stream",
     "text": [
      "    Unnamed: 0       Words                                          embedding\n",
      "0            0    Elephant  [-0.017855134320424067, -0.008739002273680945,...\n",
      "1            1        Lion  [-0.001514446088710819, -0.010011047775235734,...\n",
      "2            2       Tiger  [-0.013417221828848814, -0.009594874215361255,...\n",
      "3            3         Dog  [-0.0009933243881749651, -0.015114395874422861...\n",
      "4            4         Cat  [-0.008115426297852566, -0.007452802886578718,...\n",
      "5            5     Cricket  [0.003905495127549335, -0.0072066829816015395,...\n",
      "6            6    Football  [0.003570760030784563, -0.011214831717952975, ...\n",
      "7            7      Tennis  [-0.022962704621453604, 0.001620174408225852, ...\n",
      "8            8      Hockey  [0.0020777061243721, -4.5499012172906136e-07, ...\n",
      "9            9  Basketball  [-0.012779986743709601, -0.013293189227440112,...\n",
      "10          10       Apple  [0.014477049403261352, -0.003934278727982006, ...\n",
      "11          11       Mango  [-0.0034055178024402486, -0.019832508079084002...\n",
      "12          12      Banana  [-0.012999765903696864, -0.01998321619391984, ...\n",
      "13          13      Orange  [0.02067122263312988, -0.029222075283705507, 9...\n"
     ]
    }
   ],
   "source": [
    "new_df = pd.read_csv(\"word_embeddings.csv\")\n",
    "print(new_df)"
   ]
  },
  {
   "cell_type": "code",
   "execution_count": 33,
   "id": "11c95b13",
   "metadata": {},
   "outputs": [],
   "source": [
    "our_text = \"Monkey\"\n",
    "our_text1 = \"Grapes\""
   ]
  },
  {
   "cell_type": "code",
   "execution_count": 34,
   "id": "33c82072",
   "metadata": {},
   "outputs": [],
   "source": [
    "text_embedding = embeddings.embed_query(our_text)\n",
    "text_embedding1 = embeddings.embed_query(our_text1)"
   ]
  },
  {
   "cell_type": "code",
   "execution_count": 35,
   "id": "a1802978",
   "metadata": {},
   "outputs": [
    {
     "name": "stdout",
     "output_type": "stream",
     "text": [
      "our embeddin is [0.014389534078845682, -0.014683720245496058, 0.013340697251068304, -0.05029301949894535, -0.004387209069345695, 0.01812441782680112, -0.013366277887510578, 0.009663371099261173, 3.60675177417277e-07, -0.03719534621032032, -0.00013110464712791692, 0.017293022462379643, -0.014376743294963272, -0.006945348616360908, 0.005340115949327535, 0.007623255505515992, 0.032999998899210806, 0.0061523251379253935, 0.01658953307413719, -0.02261395316720611, -0.008224418157037878, -0.007156395153436881, 0.024366277520580848, -0.008652906623131028, 0.008640115839248615, 0.019825580907291307, 0.006002034358629603, -0.03236046343038041, 0.007047673956097654, -0.011684301914166558, 0.03056976486271334, -0.020004650018999974, -0.009420348068140445, -0.009068604305341765, -0.006404941722619204, -0.018520928401865693, 0.0022431685893865563, -0.010053488145029635, -0.003603778911652627, 0.03814185676703841, -0.01011104574117794, 0.004307267135741896, -0.0009473109702409437, -0.015080231751883178, 0.002327906834115623, 0.006561627428194926, -0.003367151039642468, 0.0007290697336464337, -0.01160116181893088, 0.013916277869164093, 0.03632558035689671, 0.020733719112362155, -0.020772091464009393, -0.0032999998899210805, 0.006497673974444141, -0.011306976583603055, -0.00014359555970159578, 0.011402906531398594, 0.0037828487218532062, 0.004588662518509859, 0.010661045722831454, 0.0018610463656211936, -0.012752324917767555, 0.025555812971064757, -0.020477905297359017, 0.012202324936114041, -0.002513372036257409, -0.004444767131155275, 0.01884069613628089, 0.0035781975767184403, 0.02721860369990771, 0.026604649798842136, 0.006772673965270898, 0.008710464219279332, -0.006938953224419703, 0.003693313700337598, -0.015745348788478396, -0.020081394722294445, -0.004818895231409448, 0.008429069767833919, 0.020004650018999974, -0.014619766326084, -0.006145929745984187, 0.015054650184118354, 0.011287790407779438, 0.0017091568547554206, -0.003603778911652627, 0.01107674340504219, 0.013468604158569873, -0.026527905095547664, 0.012144766408643188, 0.029955812824292865, 0.011185464136720143, 0.02361162685945384, -0.01639767317854611, -0.004419186029051725, 0.0024861916205072836, 0.016845348751785425, 0.006264244031235222, -0.0338441831848696, -0.007936627382328709, 0.020196509914591054, -0.007847092826474375, -0.017024417863494092, -0.0030393892981314, 0.008908720438134166, 0.01266279036191322, -0.0036165694627044013, 0.018994185542869833, -0.026399999119368644, -0.002356685865020413, 0.02202558083390536, 0.020746509896244568, -0.0411348815690718, -0.0030249998990943237, 0.013980231788576152, 0.03225813715932112, 0.009471511203670091, -0.0069837205023468695, -0.026527905095547664, 0.003386336982635449, -0.007277906668997244, 0.020324417753415175, -0.019493022388993697, 0.018763953295631516, 0.01160116181893088, -0.0013454213828210247, -0.0100151157933824, -0.019019767110634654, -0.0123174410597332, 0.036658137012549226, 0.015182557091619924, 0.011121511148630633, -0.005918895194716475, -0.013558138714424206, 0.03118371876377891, -0.004348837183359735, 0.008512208931747046, 0.003968313691164354, -0.005004360200720597, 0.007412208968440019, 0.024954649853881596, -0.017484882357970723, 0.005378488300974771, -0.0237779051872801, 0.02413604527334253, 0.028293022095449913, 0.02214069602620197, -0.00187703472905889, -0.010392441123945903, 0.018661627024572223, 0.0007254723256795054, 0.040239534147883366, -0.018943022407340183, 0.01873837172786669, -0.013929068653046503, -0.021872091427316418, 0.026156976088247918, -0.011198254920602554, 0.0025885171930746667, -0.0010536337209792399, 0.009995929617558783, 0.022460463760617166, -0.018955813191222595, -0.008019766546241838, 0.02985348655323357, 0.009868022710057212, 0.009055813521459354, -0.014824417936880038, 0.00936279047199214, 0.0019809591496115744, 0.013660464054160952, -0.01674302248072613, 0.01699883629572927, 0.010206976620296028, 0.019416277685699226, -0.001171947656984319, -0.006091569380145212, -0.029725580577054548, 0.007572092835647619, -0.0214244177167222, 0.010923254929775798, 0.013417441023040226, 0.01774069617297386, -0.007412208968440019, -0.002455813741617193, 0.018853486920163302, -0.008659302015072234, 0.0014493458033737092, -0.018290696154627376, -0.0015940406147209444, 0.01642325474631093, 0.0034502904363862335, -0.005189825170031745, -0.6994976205898882, -0.0185337191857481, 0.014082557128312898, -0.0043168602236537046, 0.03402325415922336, 0.026272091280544526, 0.015834882413010183, 0.01483720872076245, 0.004978778632955773, -0.012163952584466805, -0.011697092698048969, 0.01734418559790929, 0.008672092798954645, 0.009401161892316826, -0.0074505808544259805, -0.021590696044548455, 0.026041859033306212, -0.016052323876366088, 0.003205668324449568, 0.021974417698375714, -0.023189532853979348, 0.02254999924779405, -0.008102906641477513, 0.01761279019679484, 0.012829068689739476, 0.020797673031774214, 0.003987499866987972, -0.02010697629005927, -0.014376743294963272, 0.021769767018902222, -0.032999998899210806, 0.01041162729976952, -0.018776744079513928, 0.0035494183129830136, 0.055204646982179736, 0.009925581237528066, -0.018329068506274613, 0.026655812934371782, 0.005093895222236205, 0.04689069333796498, -0.029955812824292865, 0.004352034413669063, 0.013468604158569873, -0.02182092829178677, -0.03645348819572083, -0.0058549417409656905, 0.015732558004595987, 0.0005499999816535134, 0.00029678414910734114, -0.010545929599212295, 0.005659883218081459, 0.011402906531398594, 0.021130231550071824, 0.005778197503332494, 0.014939534060499197, 0.03537906607488843, 0.03036511418323985, 0.012873836433327918, 0.014504650202464841, 0.0011335755381677206, -0.010878488117509905, -0.00021984009913172633, -0.021373254581192554, -0.029239532652168, -0.003373546431583674, -0.02004302237064721, -0.012119185772200914, 0.021565114476783633, 0.02808837141597642, 0.0023390987700127337, 0.017433719222441076, 0.0026476743357001843, -0.003021802203123721, -0.018226744097860414, 0.012867441041386712, 0.02622092814501488, 0.010635464155066629, -0.010206976620296028, -0.01080813880615664, -0.0009153342433655514, -0.02023488226623829, -0.004924418267116797, -0.021833719075669184, 0.015540697177682358, 0.03448371865369999, -0.021117440766189415, -0.023739532835632862, 0.0013893894695861783, 0.01058430195085953, -0.006676744017475358, 0.015898836332422242, 0.0525953456966187, -0.0052953486714003685, -0.004646220580319438, -0.015770928493598124, -0.002177616054819833, -0.014913952492734374, -0.005615115940154292, 0.006695929727637701, -0.008972674357546225, -0.007795929690944728, 0.005851744044995087, -0.01410813869607772, -0.0041921510121227384, -0.004738953297805649, 0.018636045456807398, -0.006129941731792447, 0.020477905297359017, 0.01963371914905513, -0.04361627501580872, 0.021974417698375714, 0.004604650998362873, -0.0228186038466796, 0.012707557174179113, 0.011761045686138479, -0.02464767290334881, 0.013813952529427347, -0.006849418202904094, 0.003132122015617611, -0.02371395126786804, 0.031362789738132675, 0.022793022278914776, 0.010699418074478688, 0.012931394960798771, -0.010430813475593137, 0.006702325119578907, -0.04008604474129442, -0.03220697402379147, -0.040265115715648184, -0.0026284881598765664, 0.01752325470961796, 0.015898836332422242, 0.015706976436831162, -0.0028219476019448594, 0.017433719222441076, 0.010693022682537483, -0.000949709242218896, -0.005247383231841324, 0.01898139475898742, -0.00995116187397034, -0.04136511567895521, -0.0066127905637245726, -0.0024062499197341214, 0.013276743331656245, 0.008531395107570665, -0.007213953215246459, -0.0200302315867648, -0.009957557265911547, 0.002332703378071528, 0.00748255781413201, 0.008006976693681974, -0.010635464155066629, -0.025479068267770286, 0.007552906659824001, 0.009701743450908407, -0.020439532945711783, -0.009043022737576942, -0.01798371920409459, 0.0020049416365604594, -0.00961860428699528, 0.0016364097370854776, 0.010648254938949041, 0.004297674047830088, -0.004623837174186491, -0.009030231953694531, -0.019224417790108146, 0.0073034877711007935, 0.00833313888871583, -0.02372674205175045, -0.01344302259080505, -0.006213080895705575, -0.009708138842849613, 0.011754650294197274, 0.01193372033722849, -0.0008793603965269053, 0.022370928273440286, -0.014146511047724956, 0.0021856102947463403, 0.0014629360112487718, 0.0015276888889922075, 0.008582557311777763, -0.011626743386695703, -0.02398255772939869, 0.0062962205252799774, 0.01771511460520904, 0.027934882009387478, 0.024225580760519415, 0.03340930025815779, -0.024737208390525692, -0.0004796511359615228, -0.007533720484000383, 0.003231249892214391, -0.022243022297261265, 0.014299999522991349, -0.026016277465541388, -0.016141859363542968, -0.006913371656654879, 0.008633720447307409, -0.008339534280657035, 0.02509534661394303, 0.012170347976408011, -0.026399999119368644, 0.004854069421424806, -0.010693022682537483, 0.012637208794148397, -0.01923720857399056, 0.007706395135090394, -0.020861626951186273, 0.005503197512505737, 0.009241278956431776, 0.009701743450908407, -0.017638371764559665, -0.02446860379164014, 0.02004302237064721, 0.002807557970077146, 0.018393022425686672, 0.014862790288527274, -0.0051770343861493335, -0.009087790481165384, -0.014248836387461702, 0.0057110463536111065, 0.0020081393325310625, 0.006587208995959749, -0.032334881862615586, -0.022869766982209248, 0.02544069591612305, -0.004422383259361054, 0.024238371544401827, 0.0023359010740421305, -0.023739532835632862, 0.009676161883143583, 0.000886555212460762, -8.149073027807138e-05, 0.0056854647858462825, 0.020784882247891805, -0.01575813957236081, 0.014555813337994487, -0.01977441777176166, 0.03466278962805376, 0.003830813695750976, 0.00048364822682094683, 0.012445347967234769, 0.012355813411380435, 0.006014825142512015, 0.008339534280657035, -0.014696511029378469, 0.007514534308176765, -0.01190174337752246, -0.018955813191222595, 0.0009545057861748004, -0.0019953487814792876, 0.013468604158569873, -0.0026556683427960545, 0.00023083210627109987, 0.0017283429141637197, -0.034304647679346226, 0.014031394924105798, 0.019403486901816813, 0.00598284864846726, 0.02042674216182937, 0.012937790352739977, -0.001381395229659671, -0.011722673334491245, 0.005806976301406646, -0.006456104392487577, -0.009669766491202377, 0.0015148982215251142, -0.004726162513923237, -0.01133255722004533, -0.01679418561625578, -0.005631104420007306, -0.022332557784438146, 0.022051162401670186, 0.020605813136183135, -0.007687208959266776, 0.006913371656654879, -0.009164534253137306, 0.024072091353930472, 0.004598255606421668, -0.016308139554014323, -0.012112790380259707, -0.015169766307737512, 0.016308139554014323, -0.006021220534453221, -0.019134882302931262, -0.018943022407340183, -0.011677906522225352, 0.007866279002297994, -0.008166859629567024, 0.008102906641477513, 0.021897672995081243, 0.011607557210872086, -0.020183719130708645, -0.004105813686577733, -0.000559593011357663, 0.008716859611220538, 0.010859301941686288, -0.033613952800276375, 0.005202615953914157, 0.012406975615587533, -0.0031497091106252903, -0.009778488154202878, 0.015553487961564768, -0.008288372076449937, 0.047811626052208435, 0.0008425871839032678, -0.007968604342034738, -0.01845697634509873, 0.012195929544172835, -0.008723255003161744, -0.013008138732770694, 0.019416277685699226, -0.0020193312684281726, -0.016576744152899874, -0.0022751453162619486, 0.00757848776192755, -0.006142732050013585, -0.008096511249536309, 0.03796278951797484, 0.002192005686687546, -0.00968255727508479, -0.047530228806795374, -0.0024494185825066237, -0.002057703387244771, 0.054948835029821695, 0.03412558043028266, -0.009273254984815257, 0.02505697612494089, 0.011498836479194134, 0.00877441813869139, -0.013276743331656245, -0.004109011382548336, -0.01667906856131407, 0.02075930068012698, 0.0011671511130284145, -0.0043392440954479255, 0.028293022095449913, -0.006267441727205825, 0.037323254049144446, 0.0010824127518840293, -0.02271627757562031, -0.029955812824292865, 0.015323254783003904, -0.004946802138911018, 0.013762790325220247, -0.009196511212843336, 0.004419186029051725, 0.010219766472855892, 0.008307557320951005, 0.017996509987977003, 0.007853488218415581, 0.02610581295271827, 0.006353778587089557, -0.008953488181722608, -0.01149244108725293, -0.019684882284584777, 0.011735464118373656, -0.018815114568516065, -0.01798371920409459, -0.017152323839673113, 0.020503486865123842, 0.007277906668997244, 0.02371395126786804, 0.022895346687328975, -0.0004784519999725467, 0.0048796509891896305, -0.0050235463765442145, -0.022051162401670186, -0.004352034413669063, -0.014325580159433624, 0.002924273174512242, 0.017293022462379643, -0.011025581200835093, -0.01891744083957536, 0.011831394997491744, 0.0029674416044541078, 0.007757557804958767, -0.010968022673364239, -0.0002686046279893805, 0.02353488215615937, -0.012944185744681183, 0.013187208775801911, -0.008646511231189822, -0.036965115825727105, -0.010066278928912046, -0.01706279021514133, 0.010296511176150361, -0.016627905425784423, 0.012867441041386712, -0.02952092803493596, -0.024072091353930472, -0.024008137434518413, -0.0319255805036686, -0.01501627783247112, 0.00705406934803886, -0.017561627061265194, -0.01900697632675224, 0.005806976301406646, 0.020349999321179996, 0.011908138769463667, 0.014939534060499197, -0.01436395251108086, 0.009215697388666953, 0.004886046381130836, -0.013097673288625027, -0.02161627761231328, -0.011300581191661848, 0.004802906751556433, -0.016768604048490954, -0.012835464081680683, 0.00515784867598699, 0.00497558093698517, -0.01410813869607772, -0.011294185799720642, 0.0008945493941796101, -0.010443604259475549, -0.009746511194496849, -0.011863371025875225, -0.0028027614261212416, -0.01331511568330348, 0.022319767000555737, -0.014299999522991349, -0.008550581283394282, -0.005535174006550492, 0.024404649872228082, -0.015297673215239081, -0.005036337160426626, -0.03072325426930228, 0.007271511277056038, -0.014287208739108938, -0.00847383658009981, -0.0022175870216217326, -0.020349999321179996, 0.014274417955226526, 0.02893255570163521, -0.009036627345635736, 0.011773836470020891, -0.005372092909033565, 0.01123662727224979, 0.016448836314075756, -0.00801337208562318, 0.016717440912961307, -0.024558137416171927, -0.023381394612215528, 0.003977906779076164, 0.0015380812844813484, 0.026783718910550803, 0.036069764679248474, 0.004393604461286902, 0.01295058113662239, -0.017369767165674115, -0.02563255581171413, -0.014184883399372192, -0.01074418581806713, 0.010200581228354821, 0.005410464795019526, -0.006113953251939432, -0.021309300661780495, -0.025108137397825442, -0.00718197625554043, -0.00036253630684159, 0.03773255540809142, -0.007879069786180404, -0.009829650358409978, -0.012592441050559955, 0.005707848657640503, -0.004156976356446106, -0.009995929617558783, -0.03425348826910678, -0.028676741886632072, 0.019301162493402618, 0.009337208904227316, -0.0006859011290815903, 0.009465115811728885, -0.012509301886646828, 0.015937208684069476, -0.018175580962330767, -0.00780872047482714, -0.026195346577250055, -0.0145686041218769, -0.023969766945516276, -0.0015388807084739992, 0.04297674327226852, 0.01193372033722849, 0.018329068506274613, -0.010539534207271089, 0.03072325426930228, -0.0044927321050530445, -0.009318022728403699, 0.017165114623555525, 0.004387209069345695, -0.013916277869164093, -0.007648836607619541, 0.03182325423260931, -0.00979127893808529, 0.03056976486271334, 0.028855812860985836, 0.02734650967608673, -0.009893604277822036, 0.016576744152899874, 0.009375581255874552, -0.002535755675220992, -0.0010888080274099165, -0.021974417698375714, -0.007143604369554469, -0.0057110463536111065, 0.0171395330557907, -0.0010128633301846892, 0.015144185671295237, -0.01331511568330348, 0.010910464145893386, -0.010763371062568198, -0.027525580650440494, -0.014133720263842544, 0.048195345843390594, -0.04241395250673259, 0.019480231605111285, 0.009471511203670091, 0.009535464191759602, -0.02248604532838199, 0.012720347958061526, -0.0018210755152346125, 0.003543023153872445, 0.015527906393799945, -0.01117267335283773, 0.0024302324066830063, -0.00866569740701344, -0.025351162291591265, -0.0020768893302377514, 0.017037208647376505, 0.0018402615746429115, -0.02645116225489829, 0.020925580870598332, -0.025555812971064757, -0.006113953251939432, -0.0009169330913508529, -0.0268860451816101, -0.010552324991153501, 0.010168604268648792, 0.009669766491202377, -0.01893023162345777, 0.026156976088247918, -0.0065680228201361315, -0.009164534253137306, 0.008863952694545726, 0.0015436772524299036, 0.051648835139900616, -0.013916277869164093, 0.025811626786067896, 0.018891859271810536, -0.0005679869050728365, -0.012816277905857066, 0.028753486589926543, -0.0007446583850878046, -0.02709069586108359, -0.001080014479906077, 0.019646509932937543, -0.016256976418484677, -0.029111626675988975, 0.002343895313968638, 0.012554068698912721, -0.0098552319261748, -0.016806976400138188, 0.018495348696745965, 0.011997673325318, 0.005202615953914157, -0.00806453428983028, -0.017229068542967584, -0.006970929718464458, 0.03369069750357085, 0.004537499848641486, -0.013289534115538657, -0.00020764897055529152, -0.02544069591612305, -0.0243151143850512, 0.02015813756294382, -0.012170347976408011, 0.012924999568857565, -0.0045151159768472655, -0.01675581326460854, 0.011741859510314862, -0.012656394969972016, -0.015195347875502335, 0.01495232484438161, -0.0012406976546910082, 0.03658139230925475, 0.019416277685699226, 0.010724999642243513, 0.005036337160426626, -0.0013414243792730896, 0.0033031975858916836, -0.0052697671036355444, 0.009445929635905268, 0.02642558068713347, -0.01495232484438161, -0.006021220534453221, -0.019211627006225734, 0.03752790659126303, 0.016986045511846858, 0.015412790270180788, -0.005557557878344713, 0.00614912744195479, -0.00888953426231055, -0.022051162401670186, 0.01725465011073241, 0.011262208840014613, -0.026374417551603822, -0.007936627382328709, -0.010782557238391817, -0.012496511102764415, -0.04384650912569213, -0.001414171380527714, 0.03415116199804748, -0.027499999082675673, -0.018623254672924985, 0.0055415693984916985, -0.002470203373484906, 0.005368895213062962, -0.009650581246701309, -0.03328139241933367, -0.00034534880741491774, 0.015783719277480537, -0.02609302216883586, 0.0008673691530524628, -0.01804767312350665, 0.014325580159433624, -0.032565115972499, 0.00652965093415017, -0.009349999688109728, -0.01632092847525164, 0.02512092818170785, -0.011581975643107263, -0.006264244031235222, -0.003367151039642468, 0.00887034808648693, 0.009292441160638876, -0.0059061044108340635, 0.010501161855623853, 0.015463952474387886, 0.006593604387900956, 0.014197673251932054, -0.01779185930850351, 0.005234592913620186, 0.0040482556247681545, 0.001282267353062891, -0.02457092820005434, 0.017369767165674115, -0.03773255540809142, 0.0046078486943334765, 0.0159627902518343, -0.007655231999560747, 0.012074418028612472, -0.02775581289767881, -0.008115697425359926, -0.02439185908834567, 0.02655348666331249, -0.007987790517858357, 0.0015620638878455519, 0.0030617731699256207, 0.010405231907828313, -0.0174593007902059, 0.020119767073941683, 0.002323110290159719, -0.015937208684069476, 0.0021280522329367615, 0.014939534060499197, 0.01986395325893854, 0.014082557128312898, -0.0022671510763354412, -0.004633429796437025, -0.029699999009289726, -0.009535464191759602, -0.013136045640272263, -0.009989534225617576, -0.004473546394890701, 0.013903488016604229, 0.019454650037346463, -0.0018578487860659092, -0.012400581154968875, 0.008563372067276694, -0.022051162401670186, 0.004096220598665924, -0.005141860196133975, -0.00240465107174882, -0.012074418028612472, 0.0002843931645327436, -0.015937208684069476, -0.007930231990387504, 0.0014381539838919175, 0.002163226655782757, -0.026706976069901432, 0.002235174349460049, 0.008940697397840196, 0.0018066859997822179, 0.02202558083390536, -0.02430232360116879, -0.029162789811518625, -0.024494185359404966, 0.02134767301342773, 0.020337208537297584, 0.011070348013100985, 0.006721511295402525, 0.015387208702415963, -0.002476598765426112, -0.027269766835437356, -0.01275872030970876, -0.0011751452365396033, -0.004348837183359735, 0.015054650184118354, -0.026476741960018018, -0.023023254526153093, 0.00497558093698517, 0.00515784867598699, -0.020644185487830372, -0.00738023200873399, 0.010194185836413617, -0.011089534188924603, 0.014427906430492918, -0.020132557857824092, -0.015847673196892596, -0.0050523251746183665, -0.021974417698375714, -0.001129578418204467, -0.008998254993988502, -0.017561627061265194, -0.005212209041825966, 0.0037828487218532062, -0.026834882046080453, -0.008249999724802701, 0.01263081340220719, -0.021667440747842926, -0.0018498545461394019, 0.00289229644763685, -0.007418604360381225, 0.00418255792421093, -0.011556395006664989, 0.010609883518624354, -0.02261395316720611, -0.006171511313749011, -0.003981104475046767, -0.00613313942776305, -0.006280232045426963, 0.022358137489557874, 0.036427906627956, -0.012988952556947077, 0.009535464191759602, 0.007444185462484774, 0.00460145330239227, -0.0073994181845576075, -0.008563372067276694, -0.007520929700117971, -0.019429068469581638, -0.00926685959287405, 0.017382557949556527, -0.012873836433327918, 0.00030857556568745056, -0.018546509969630514, 0.029495346467171137, -0.024813951231175066, 0.021040696062894944, 0.21959068757716818, -0.00216642435175336, 0.008345929672598241, 0.0308511602454813, 0.00968255727508479, 0.017727905389091452, 0.037886044814680366, -0.013302324899421068, 0.007386627400675196, 0.019480231605111285, 0.004201744100034547, -0.005989244040408466, -0.025466277483887873, 0.003036191602160797, -0.005013953288632406, -0.016883719240787562, -0.03573720802359596, -0.0014845202262197047, -0.01463255710996641, -0.042644182891325814, 0.01548953404215271, -0.007335464730806823, -0.0009824854512945984, -0.017216277759085172, 0.02063139470394796, -0.01476046401746798, -0.008531395107570665, 0.010820929590039052, -0.00814127899312475, 0.028753486589926543, 0.010693022682537483, -0.01264999957803081, 0.0024654068295290018, 0.00327761601812686, 0.0020497091473182637, 0.006791860141094516, -0.006510464758326553, -4.4917329996852087e-05, 0.0177790685246211, 0.014312790306873761, 0.0039747090831055605, -0.0016563952204864277, -0.002259156836408934, -0.004719767121982031, -0.0005200217565520886, 0.012803488053297202, -0.016563953369017462, -0.006574418212077338, -0.0014725289827452622, 0.014581394905759312, -0.014056975560548073, 0.001945784726765579, 0.008556976675335488, 0.03796278951797484, -0.00036493457881954224, 0.006708720511520113, -0.0033447671678482477, -0.012816277905857066, -0.02590116227324478, -0.002476598765426112, -0.007930231990387504, 0.03742558032020374, -0.015706976436831162, 0.023253486773391407, -0.0016132266741292435, -0.014325580159433624, -0.03676046328360852, 0.0031145346877792953, -0.005790987821553632, -0.021577905260666046, -0.016538371801252637, -0.003240842747295563, 0.013545347930541796, 0.006235464767499796, -0.009752906586438055, -0.02327906834115623, 0.027320928108321905, 0.017356976381791702, 0.024941859069999184, 0.010392441123945903, -0.02037558088894482, 0.016103487011895734, 0.0045566860244651035, 0.007393022792616402, -0.039906973766940655, -0.03724650934584997, 0.013941859436928916, 0.013788370961662523, -0.007233138925408803, -0.02990464968876322, 0.008448255012334987, -0.019019767110634654, 0.003722092731242387, -0.010693022682537483, 0.01028372039226795, 0.010936045713658209, -0.02364999921110108, 0.025683718947243778, -0.012988952556947077, -0.011978488080816932, -0.020784882247891805, -0.006606395171783367, 0.01701162707961168, 0.005707848657640503, -0.0296744174415249, 0.01028372039226795, -0.008640115839248615, 0.011645929562519322, 0.01444069721437533, -0.0021376453208485705, -0.028958137269400035, -0.006491278582502935, 0.004476744090861304, -0.00042369183482575645, 0.0014805232226717696, 0.003108139295838089, -0.006779069357212103, -0.013417441023040226, -0.008038952722065455, 0.003120930079720501, 0.00010202579584609641, 0.002684447606531481, 0.0033543602557600566, 0.020465114513476605, -0.01149244108725293, -0.01712674413455339, -0.008659302015072234, -0.004291278655888881, 0.008985464210106089, -0.0498069734367039, 0.0019010173324230935, -0.025926741978364504, -0.002997819716174836, -0.012394185763027669, 0.0007682412182480234, 0.0041505809645049, 0.0011159883267447231, -0.007431395144263637, -0.013558138714424206, 0.0017267440661784183, -0.004511918280876662, 0.0008977470319425537, -0.0014805232226717696, 0.021386045365074966, -0.005247383231841324, -0.013724417973573011, 0.009081395089224177, 0.003945929819370134, -0.01528488243135667, -0.02347092823674731, 0.003192877773397793, -0.0274232543793812, -0.003175290445559477, -0.013954650220811328, 0.03156743855496107, -0.025210463668884735, -0.020196509914591054, -0.028113951121096145, -0.003958720603252546, 0.015412790270180788, -0.028165114256625795, -0.015336045566886317, 0.013123254856389852, -0.018623254672924985, -0.004415988333081123, -0.01496511562826402, -0.16484650508946508, 0.013001743340829488, 0.016103487011895734, -0.01383953409719217, 0.020465114513476605, -0.01344302259080505, 0.014530231770229664, 0.008812790490338627, 0.00038831755598159844, 0.032565115972499, 0.015399999486298376, -6.43032308513991e-05, -0.02015813756294382, -0.008493022755923429, 0.008198836589273055, -0.008659302015072234, 0.020094185506176858, 0.015310463999121494, 0.02445581300775773, 0.015502324826035122, -0.0034566858283274393, -0.022511626896146816, 0.005400871707107717, -0.012195929544172835, -0.019454650037346463, -0.01483720872076245, -0.014645347893848823, 0.0073994181845576075, -0.005458429768917296, 0.00091373539538025, -0.02701395115778912, -0.0020561045392594695, -0.011415697315281007, 0.0005488008456645373, -0.00928604576869767, -0.017241859326849997, -0.002380668584799935, -0.008927906613957785, -0.007329069338865617, 0.0016803778238506312, 0.014376743294963272, 0.01771511460520904, -0.0012335028387571514, 0.00936279047199214, -0.0007754359759742208, 0.022063953185552595, 0.021270928310133257, -0.01501627783247112, 0.006823836635139271, -0.008281976684508731, 0.021194185469483883, 0.005573546358197728, -0.012745929525826349, 0.006651162449710534, 0.010782557238391817, 0.02847209120715858, 0.018162790178448355, 0.013993022572458562, -0.010661045722831454, -0.010597092734741942, -0.012010464109200413, -0.019799999339526482, 0.018290696154627376, -0.021629068396195692, 0.0072011624313640474, -0.018367440857921847, -0.007514534308176765, 0.0069325578324784965, -0.005388080923225305, -0.003100145288742219, -0.01891744083957536, 0.00042529068281105795, 0.036069764679248474, -0.008390697416186683, 0.0005783793005619775, 0.02101511449513012, -0.02055465000065349, 0.039906973766940655, 0.009906395061704447, 0.003945929819370134, -0.022102323674554735, 0.03402325415922336, -0.002433430102653609, -0.005877325147098637, 0.011019185808893887, 0.017369767165674115, -0.007840697434533169, 0.008780813530632597, 0.011051161837277368, -0.01275872030970876, 0.014773254801350392, -0.015873254764657417, -0.0017859010923886173, -0.018891859271810536, -0.0033223835288846643, 0.009407557284258032, 0.004886046381130836, 0.002985028932292424, 0.005039534390735955, -0.0011063952388329142, -0.0050747090464125875, 0.0038276159997803734, -0.03169534639378519, 0.016717440912961307, 0.027986045144917124, 0.008819185882279833, 0.008198836589273055, 0.02155232369290122, 0.03353720809698191, -0.02022209148235588, -0.012419766399469945, 0.010661045722831454, 0.02267790522397307, 0.027806976033208457, 0.010980813457246651, -0.0021088660571131437, 0.030109300368236707, -0.012694766390296701, 0.03448371865369999, -0.008186045805390642, 0.0355581370492422, 0.00014699308256653176, -0.003792441576934378, -0.009241278956431776, -0.0011951307199405533, 0.008748836570926568, -0.08892092605351541, -0.008672092798954645, 0.009369185863933345, -0.004422383259361054, -0.009708138842849613, 0.006670348625534152, 0.00961860428699528, 0.0038659881185969715, 0.009170929645078511, 0.010302906568091567, -0.013020929516653106, -0.015387208702415963, 0.0008921511222016579, -0.016781394832373366, 0.021846509859551597, -0.001337427259309836, -0.010820929590039052, -0.01249011571082321, 0.002623691615920662, 0.007821511258709552, 0.005381685531284099, -0.007776743980782384, -0.026604649798842136, -0.011754650294197274, 0.02029883618565035, 0.011230231880308583, -0.015297673215239081, 0.010948836497540622, 0.02821627739215544, 0.0009305231828105968, -0.024289532817286377, -0.018367440857921847, 0.024212789976637002, -0.01675581326460854, 0.005730232063773449, -0.006113953251939432, -0.019211627006225734, -0.03072325426930228, 0.02480116230993775, -0.03284650949262186, -0.005851744044995087, -0.004489534409082441, 0.020273254617885525, -0.0291372082437538, 0.010456395043357962, 0.005499999816535134, -0.009497092771434916, 0.03026278977482565, 0.024084882137812885, -0.00675348778944728, -0.02288255776609166, -0.006670348625534152, -0.013788370961662523, -0.005234592913620186, -0.005340115949327535, -0.0029450579654905244, -0.0016931684913177245, -0.010424418083651932, 0.0012534883221581015, -0.015975581035716713, -0.00952267433919974, -0.005240988305561392, 0.01058430195085953, 0.023432557747745174, 0.01845697634509873, -0.025862789921597542, -0.018009300771859412, -0.022908137471211388, 0.023969766945516276, -0.012445347967234769, -0.018610463889042573, 0.012656394969972016, -0.008582557311777763, 0.01739534873343894, -0.004163371748387312, 0.007597673937751168, -0.035941856840424356, 0.0024382266466095137, 0.00408023211881291, -0.010456395043357962, -0.007271511277056038, -0.015604650165771868, 0.012797092661355996, -0.006593604387900956, 0.01823953301909773, 0.01344302259080505, -0.0020864824181495603, 0.01534883635076873, -0.0034566858283274393, -0.01249011571082321, 0.0028571220247908544, 0.01496511562826402, 0.01936511455016958, -0.029060463540459328, -0.015719767220713575, 0.007738371629135149, 9.987735841776238e-05, 0.003546220849843048, 0.002906685846673926, 0.007412208968440019, -0.007795929690944728, -0.01163313877863691, -0.06932557925610752, 0.005503197512505737, 0.012579650266677544, 0.007827906650650758, 0.016691859345196482, -0.0038755812065087805, 0.014389534078845682, 0.003853197567545197, -0.021373254581192554, -0.003096947592771616, -0.018060463907389062, 0.008058138897889073, -0.016333719259134048, -0.012745929525826349, -0.017241859326849997, -0.027602323491089868, 0.03333255555486332, 0.015144185671295237, 0.0011655522650431131, 0.007770348588841179, -0.011383720355574977, 0.01825232380298014, -0.00860174348760138, 0.007488953206073216, -0.0034630812202686456, 0.0020433137553770575, -0.008704068827338126, 0.03220697402379147, -0.024954649853881596, -0.01963371914905513, -0.00011201852299465653, -0.017037208647376505, -0.005148255588075181, 0.01969767306846719, 0.00108321217587668, -0.0026892441504873855, -0.027934882009387478, 0.021462790068369434, 0.03205348834249272, -0.010296511176150361, -0.011709883481931381, -0.017382557949556527, 0.018802323784633652, -0.01959534866005299, -0.006689534335696495, -0.0007218749759202364, -0.004684592931966673, -0.004988371720867582, 0.004233720594079302, 0.006120348643880638, 0.015668604085183925, 0.013762790325220247, 0.00468139523599607, -0.024366277520580848, -0.007955813558152327, -0.032386044998145236, 0.017625580980677253, -0.007393022792616402, -0.003431104493393253, -0.039293019865875085, 0.028676741886632072, 0.010155813484766381, 0.023227905205626585, -0.014734882449703156, -0.012055231852788855, -0.018393022425686672, -0.013161627208037086, -0.007156395153436881, 0.004281686033638347, -0.027576741923325047, -0.015195347875502335, 0.004870057901277821, 0.01222151111193766, 0.015169766307737512, 0.020401162456709643, -0.009241278956431776, 0.007789534299003522, -0.0009856830308498828, -0.005771802111391288, 0.03676046328360852, 0.010693022682537483, -0.0009872818788351843, -0.031797672664844484, 0.01160116181893088, 0.031132555628249264, -0.0041409883422543654, 0.005576744054168331, 0.004604650998362873, -0.0017827033964180141, 0.016244185634602264, -0.008812790490338627, 0.0019281975153425813, -0.010577906558918325, -0.0031481102626399887, -0.007904650422622679, 0.044230228916874295, -0.003949127515340737, -0.004978778632955773, 0.02872790502216172, 0.02813953268886097, -0.011422092707222213, 0.015451161690505475, -0.002578924337993495, -0.012087208812494884, -0.016512790233487815, 0.01350697557889456, -0.01953139474064093, -0.028625580613747523, -0.01011104574117794, 0.0026476743357001843, 0.020797673031774214, 0.014619766326084, 0.0014877179221903076, 0.015438370906623063, -0.0054392440587549525, 0.013455813374687462, -0.028318603663214734, -0.022524417680029225, -0.007968604342034738, 0.0183162777223922, 0.03461162649252411, 0.0228186038466796, 0.01528488243135667, -0.023662789994983488, 0.004163371748387312, 0.018329068506274613, 0.017830231660150745, -0.0222813946489085, 0.004415988333081123, -0.015169766307737512, 0.00923488356449057, -0.017497673141853135, -0.0009193313633288051, -0.022588371599441284, -0.01694767316019962, 0.011262208840014613, -0.010194185836413617, 0.01753604549350037, -0.021309300661780495, 0.041006973730247684, 0.018853486920163302, -0.003750871994977814, 0.008058138897889073, -0.004870057901277821, 0.011940115729169696, 0.007386627400675196, 0.014095347912195308, -0.014811627152997628, -0.02645116225489829, 0.02010697629005927, 0.0002214389471170278, -0.005020348680573611, -0.01858488232127775, -0.021206976253366296, 0.0011159883267447231, -0.011665115738342939, 0.02559418532271199, -0.02128371909401567, 0.004425580955331657, 0.02872790502216172, 0.0010088662102214355, 0.02847209120715858, -0.003093749896801013, 0.00408023211881291, -0.012138371016701982, 0.010437208867534343, -0.007245929709291214, -0.011377324963633771, -0.01754883627738278, 0.011524418046958959, 0.008883138870369343, -0.04228604466790847, -0.005333720557386329, 0.004537499848641486, -0.007533720484000383, 0.01185697563393402, -0.009893604277822036, 0.0062962205252799774, 0.017420928438558664, -0.012835464081680683, 0.007962208950093533, -0.01963371914905513, -0.00909418587310659, -0.007469767030249598, 0.003296802193950478, -0.02801162671268195, -0.012304650275850787, 0.00535610442918055]\n"
     ]
    }
   ],
   "source": [
    "print(f'our embeddin is {text_embedding1}')"
   ]
  },
  {
   "cell_type": "code",
   "execution_count": 36,
   "id": "4b8c92f8",
   "metadata": {},
   "outputs": [
    {
     "data": {
      "text/html": [
       "<div>\n",
       "<style scoped>\n",
       "    .dataframe tbody tr th:only-of-type {\n",
       "        vertical-align: middle;\n",
       "    }\n",
       "\n",
       "    .dataframe tbody tr th {\n",
       "        vertical-align: top;\n",
       "    }\n",
       "\n",
       "    .dataframe thead th {\n",
       "        text-align: right;\n",
       "    }\n",
       "</style>\n",
       "<table border=\"1\" class=\"dataframe\">\n",
       "  <thead>\n",
       "    <tr style=\"text-align: right;\">\n",
       "      <th></th>\n",
       "      <th>Words</th>\n",
       "      <th>embedding</th>\n",
       "      <th>similarity score</th>\n",
       "    </tr>\n",
       "  </thead>\n",
       "  <tbody>\n",
       "    <tr>\n",
       "      <th>0</th>\n",
       "      <td>Elephant</td>\n",
       "      <td>[-0.017855134320424067, -0.008739002273680945,...</td>\n",
       "      <td>0.806482</td>\n",
       "    </tr>\n",
       "    <tr>\n",
       "      <th>1</th>\n",
       "      <td>Lion</td>\n",
       "      <td>[-0.001514446088710819, -0.010011047775235734,...</td>\n",
       "      <td>0.804453</td>\n",
       "    </tr>\n",
       "    <tr>\n",
       "      <th>2</th>\n",
       "      <td>Tiger</td>\n",
       "      <td>[-0.013417221828848814, -0.009594874215361255,...</td>\n",
       "      <td>0.808378</td>\n",
       "    </tr>\n",
       "    <tr>\n",
       "      <th>3</th>\n",
       "      <td>Dog</td>\n",
       "      <td>[-0.0009933243881749651, -0.015114395874422861...</td>\n",
       "      <td>0.781618</td>\n",
       "    </tr>\n",
       "    <tr>\n",
       "      <th>4</th>\n",
       "      <td>Cat</td>\n",
       "      <td>[-0.008115426297852566, -0.007452802886578718,...</td>\n",
       "      <td>0.790732</td>\n",
       "    </tr>\n",
       "    <tr>\n",
       "      <th>5</th>\n",
       "      <td>Cricket</td>\n",
       "      <td>[0.003905495127549335, -0.0072066829816015395,...</td>\n",
       "      <td>0.817710</td>\n",
       "    </tr>\n",
       "    <tr>\n",
       "      <th>6</th>\n",
       "      <td>Football</td>\n",
       "      <td>[0.003570760030784563, -0.011214831717952975, ...</td>\n",
       "      <td>0.798667</td>\n",
       "    </tr>\n",
       "    <tr>\n",
       "      <th>7</th>\n",
       "      <td>Tennis</td>\n",
       "      <td>[-0.022962704621453604, 0.001620174408225852, ...</td>\n",
       "      <td>0.828881</td>\n",
       "    </tr>\n",
       "    <tr>\n",
       "      <th>8</th>\n",
       "      <td>Hockey</td>\n",
       "      <td>[0.0020777061243721, -4.5499012172906136e-07, ...</td>\n",
       "      <td>0.801013</td>\n",
       "    </tr>\n",
       "    <tr>\n",
       "      <th>9</th>\n",
       "      <td>Basketball</td>\n",
       "      <td>[-0.012779986743709601, -0.013293189227440112,...</td>\n",
       "      <td>0.811668</td>\n",
       "    </tr>\n",
       "    <tr>\n",
       "      <th>10</th>\n",
       "      <td>Apple</td>\n",
       "      <td>[0.014477049403261352, -0.003934278727982006, ...</td>\n",
       "      <td>0.797389</td>\n",
       "    </tr>\n",
       "    <tr>\n",
       "      <th>11</th>\n",
       "      <td>Mango</td>\n",
       "      <td>[-0.0034055178024402486, -0.019832508079084002...</td>\n",
       "      <td>0.844411</td>\n",
       "    </tr>\n",
       "    <tr>\n",
       "      <th>12</th>\n",
       "      <td>Banana</td>\n",
       "      <td>[-0.012999765903696864, -0.01998321619391984, ...</td>\n",
       "      <td>0.843780</td>\n",
       "    </tr>\n",
       "    <tr>\n",
       "      <th>13</th>\n",
       "      <td>Orange</td>\n",
       "      <td>[0.02067122263312988, -0.029222075283705507, 9...</td>\n",
       "      <td>0.815810</td>\n",
       "    </tr>\n",
       "  </tbody>\n",
       "</table>\n",
       "</div>"
      ],
      "text/plain": [
       "         Words                                          embedding  \\\n",
       "0     Elephant  [-0.017855134320424067, -0.008739002273680945,...   \n",
       "1         Lion  [-0.001514446088710819, -0.010011047775235734,...   \n",
       "2        Tiger  [-0.013417221828848814, -0.009594874215361255,...   \n",
       "3          Dog  [-0.0009933243881749651, -0.015114395874422861...   \n",
       "4          Cat  [-0.008115426297852566, -0.007452802886578718,...   \n",
       "5      Cricket  [0.003905495127549335, -0.0072066829816015395,...   \n",
       "6     Football  [0.003570760030784563, -0.011214831717952975, ...   \n",
       "7       Tennis  [-0.022962704621453604, 0.001620174408225852, ...   \n",
       "8       Hockey  [0.0020777061243721, -4.5499012172906136e-07, ...   \n",
       "9   Basketball  [-0.012779986743709601, -0.013293189227440112,...   \n",
       "10       Apple  [0.014477049403261352, -0.003934278727982006, ...   \n",
       "11       Mango  [-0.0034055178024402486, -0.019832508079084002...   \n",
       "12      Banana  [-0.012999765903696864, -0.01998321619391984, ...   \n",
       "13      Orange  [0.02067122263312988, -0.029222075283705507, 9...   \n",
       "\n",
       "    similarity score  \n",
       "0           0.806482  \n",
       "1           0.804453  \n",
       "2           0.808378  \n",
       "3           0.781618  \n",
       "4           0.790732  \n",
       "5           0.817710  \n",
       "6           0.798667  \n",
       "7           0.828881  \n",
       "8           0.801013  \n",
       "9           0.811668  \n",
       "10          0.797389  \n",
       "11          0.844411  \n",
       "12          0.843780  \n",
       "13          0.815810  "
      ]
     },
     "execution_count": 36,
     "metadata": {},
     "output_type": "execute_result"
    }
   ],
   "source": [
    "def cosine_similarity(a, b):\n",
    "    return np.dot(a,b)/(np.linalg.norm(a)*np.linalg.norm(b))\n",
    "\n",
    "df[\"similarity score\"] = df['embedding'].apply(lambda x: cosine_similarity(x, text_embedding1))\n",
    "df"
   ]
  },
  {
   "cell_type": "code",
   "execution_count": 37,
   "id": "e8609583",
   "metadata": {},
   "outputs": [
    {
     "data": {
      "text/html": [
       "<div>\n",
       "<style scoped>\n",
       "    .dataframe tbody tr th:only-of-type {\n",
       "        vertical-align: middle;\n",
       "    }\n",
       "\n",
       "    .dataframe tbody tr th {\n",
       "        vertical-align: top;\n",
       "    }\n",
       "\n",
       "    .dataframe thead th {\n",
       "        text-align: right;\n",
       "    }\n",
       "</style>\n",
       "<table border=\"1\" class=\"dataframe\">\n",
       "  <thead>\n",
       "    <tr style=\"text-align: right;\">\n",
       "      <th></th>\n",
       "      <th>Words</th>\n",
       "      <th>embedding</th>\n",
       "      <th>similarity score</th>\n",
       "    </tr>\n",
       "  </thead>\n",
       "  <tbody>\n",
       "    <tr>\n",
       "      <th>11</th>\n",
       "      <td>Mango</td>\n",
       "      <td>[-0.0034055178024402486, -0.019832508079084002...</td>\n",
       "      <td>0.844411</td>\n",
       "    </tr>\n",
       "    <tr>\n",
       "      <th>12</th>\n",
       "      <td>Banana</td>\n",
       "      <td>[-0.012999765903696864, -0.01998321619391984, ...</td>\n",
       "      <td>0.843780</td>\n",
       "    </tr>\n",
       "    <tr>\n",
       "      <th>7</th>\n",
       "      <td>Tennis</td>\n",
       "      <td>[-0.022962704621453604, 0.001620174408225852, ...</td>\n",
       "      <td>0.828881</td>\n",
       "    </tr>\n",
       "    <tr>\n",
       "      <th>5</th>\n",
       "      <td>Cricket</td>\n",
       "      <td>[0.003905495127549335, -0.0072066829816015395,...</td>\n",
       "      <td>0.817710</td>\n",
       "    </tr>\n",
       "    <tr>\n",
       "      <th>13</th>\n",
       "      <td>Orange</td>\n",
       "      <td>[0.02067122263312988, -0.029222075283705507, 9...</td>\n",
       "      <td>0.815810</td>\n",
       "    </tr>\n",
       "    <tr>\n",
       "      <th>9</th>\n",
       "      <td>Basketball</td>\n",
       "      <td>[-0.012779986743709601, -0.013293189227440112,...</td>\n",
       "      <td>0.811668</td>\n",
       "    </tr>\n",
       "    <tr>\n",
       "      <th>2</th>\n",
       "      <td>Tiger</td>\n",
       "      <td>[-0.013417221828848814, -0.009594874215361255,...</td>\n",
       "      <td>0.808378</td>\n",
       "    </tr>\n",
       "    <tr>\n",
       "      <th>0</th>\n",
       "      <td>Elephant</td>\n",
       "      <td>[-0.017855134320424067, -0.008739002273680945,...</td>\n",
       "      <td>0.806482</td>\n",
       "    </tr>\n",
       "    <tr>\n",
       "      <th>1</th>\n",
       "      <td>Lion</td>\n",
       "      <td>[-0.001514446088710819, -0.010011047775235734,...</td>\n",
       "      <td>0.804453</td>\n",
       "    </tr>\n",
       "    <tr>\n",
       "      <th>8</th>\n",
       "      <td>Hockey</td>\n",
       "      <td>[0.0020777061243721, -4.5499012172906136e-07, ...</td>\n",
       "      <td>0.801013</td>\n",
       "    </tr>\n",
       "    <tr>\n",
       "      <th>6</th>\n",
       "      <td>Football</td>\n",
       "      <td>[0.003570760030784563, -0.011214831717952975, ...</td>\n",
       "      <td>0.798667</td>\n",
       "    </tr>\n",
       "    <tr>\n",
       "      <th>10</th>\n",
       "      <td>Apple</td>\n",
       "      <td>[0.014477049403261352, -0.003934278727982006, ...</td>\n",
       "      <td>0.797389</td>\n",
       "    </tr>\n",
       "    <tr>\n",
       "      <th>4</th>\n",
       "      <td>Cat</td>\n",
       "      <td>[-0.008115426297852566, -0.007452802886578718,...</td>\n",
       "      <td>0.790732</td>\n",
       "    </tr>\n",
       "  </tbody>\n",
       "</table>\n",
       "</div>"
      ],
      "text/plain": [
       "         Words                                          embedding  \\\n",
       "11       Mango  [-0.0034055178024402486, -0.019832508079084002...   \n",
       "12      Banana  [-0.012999765903696864, -0.01998321619391984, ...   \n",
       "7       Tennis  [-0.022962704621453604, 0.001620174408225852, ...   \n",
       "5      Cricket  [0.003905495127549335, -0.0072066829816015395,...   \n",
       "13      Orange  [0.02067122263312988, -0.029222075283705507, 9...   \n",
       "9   Basketball  [-0.012779986743709601, -0.013293189227440112,...   \n",
       "2        Tiger  [-0.013417221828848814, -0.009594874215361255,...   \n",
       "0     Elephant  [-0.017855134320424067, -0.008739002273680945,...   \n",
       "1         Lion  [-0.001514446088710819, -0.010011047775235734,...   \n",
       "8       Hockey  [0.0020777061243721, -4.5499012172906136e-07, ...   \n",
       "6     Football  [0.003570760030784563, -0.011214831717952975, ...   \n",
       "10       Apple  [0.014477049403261352, -0.003934278727982006, ...   \n",
       "4          Cat  [-0.008115426297852566, -0.007452802886578718,...   \n",
       "\n",
       "    similarity score  \n",
       "11          0.844411  \n",
       "12          0.843780  \n",
       "7           0.828881  \n",
       "5           0.817710  \n",
       "13          0.815810  \n",
       "9           0.811668  \n",
       "2           0.808378  \n",
       "0           0.806482  \n",
       "1           0.804453  \n",
       "8           0.801013  \n",
       "6           0.798667  \n",
       "10          0.797389  \n",
       "4           0.790732  "
      ]
     },
     "execution_count": 37,
     "metadata": {},
     "output_type": "execute_result"
    }
   ],
   "source": [
    "df.sort_values(\"similarity score\", ascending=False).head(13)"
   ]
  },
  {
   "cell_type": "code",
   "execution_count": null,
   "id": "1a50aadd",
   "metadata": {},
   "outputs": [],
   "source": []
  },
  {
   "cell_type": "code",
   "execution_count": null,
   "id": "a7690a8e",
   "metadata": {},
   "outputs": [],
   "source": []
  },
  {
   "cell_type": "code",
   "execution_count": null,
   "id": "485e5ff4",
   "metadata": {},
   "outputs": [],
   "source": [
    "class NLPModel(object):\n",
    "  def __init__(self,\n",
    "               filepath = \"/content/sms_spam.csv\",\n",
    "               x_columns = ['text'],\n",
    "               y_columns = ['label'],\n",
    "               batch_size = 32,\n",
    "               n_epochs=1,\n",
    "               model_filename = \"/content/bert_model.h5\"):\n",
    "    self.filepath = filepath\n",
    "    self.n_epochs=n_epochs\n",
    "    self.batch_size=batch_size\n",
    "    self.model_filename = model_filename\n",
    "    self.seed_value = 1024\n",
    "    self.x_columns = x_columns\n",
    "    self.y_columns = y_columns\n",
    "    self.MODEL_INFO = {\n",
    "    \"model_name\": \"small_bert/bert_en_uncased_L-4_H-512_A-8\",\n",
    "    \"model_encoder_link\" : \"https://tfhub.dev/tensorflow/small_bert/bert_en_uncased_L-4_H-512_A-8/1\",\n",
    "    \"model_preprocessor_link\" :\"https://tfhub.dev/tensorflow/bert_en_uncased_preprocess/3\"}\n",
    "    self.model_preprocessor = KerasLayer(MODEL_INFO[\"model_preprocessor_link\"])\n",
    "    self.model_encoder = KerasLayer(MODEL_INFO['model_encoder_link'])\n",
    "    np.random.seed(self.seed_value)\n",
    "\n",
    "    def read_training_data(self):\n",
    "        training_data = pd.read_csv(self.filepath)\n",
    "        return training_data\n",
    "\n",
    "    def neural_network_model(model_preprocessor, model_encoder):\n",
    "        input_layer = Input(shape=(), dtype=tf_string)\n",
    "        encoder_input_layer = model_preprocessor(input_layer)\n",
    "        encoder_output_layer = model_encoder(encoder_input_layer)\n",
    "        pooled_output_layer = encoder_output_layer['pooled_output']\n",
    "        hidden_layer_1 = Dense(10, activation='relu')(pooled_output_layer)\n",
    "        output_layer = Dense(1, activation='sigmoid')(hidden_layer_1)\n",
    "        bert_model = Model(input_layer, output_layer)\n",
    "        bert_model.compile(optimizer='adam', loss='binary_crossentropy', metrics=['accuracy'])\n",
    "        return bert_model\n",
    "\n",
    "    def train_model(self):\n",
    "        training_dataset = self.read_training_data()\n",
    "        bert_model = self.neural_network_model()\n",
    "        start = datetime.now()\n",
    "        bert_model.fit(\n",
    "        x = training_dataset[self.x_columns],\n",
    "        y = training_dataset[self.y_columns],\n",
    "        epochs= self.n_epochs,\n",
    "        batch_size = self.batch_size)\n",
    "        bert_model.save(self.model_filename)\n",
    "        end = datetime.now()\n",
    "        return bert_model\n",
    "\n",
    "\n",
    "    def make_prediction(self, sms_content):\n",
    "        if os.path.isfile(self.model_filename):\n",
    "            bert_model = load_model(self.model_filename, custom_objects = {\n",
    "                \"KerasLayer\" : self.model_preprocessor,\n",
    "                \"KerasLayer\" : self.model_encoder})\n",
    "        else:\n",
    "            bert_model = self.train_model()\n",
    "            predicted_prob = (bert_model.predict(np.array[sms_content]))\n",
    "            predicted_class = \"Not Spam\"\n",
    "        if predicted_prob > 0.5:\n",
    "            predicted_class = \"Spam\"\n",
    "        return predicted_prob, predicted_class\n"
   ]
  }
 ],
 "metadata": {
  "kernelspec": {
   "display_name": "Python 3 (ipykernel)",
   "language": "python",
   "name": "python3"
  },
  "language_info": {
   "codemirror_mode": {
    "name": "ipython",
    "version": 3
   },
   "file_extension": ".py",
   "mimetype": "text/x-python",
   "name": "python",
   "nbconvert_exporter": "python",
   "pygments_lexer": "ipython3",
   "version": "3.9.13"
  }
 },
 "nbformat": 4,
 "nbformat_minor": 5
}
