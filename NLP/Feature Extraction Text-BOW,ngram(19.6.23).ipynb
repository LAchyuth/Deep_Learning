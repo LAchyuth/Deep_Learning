{
 "cells": [
  {
   "cell_type": "code",
   "execution_count": 60,
   "id": "f68221e8",
   "metadata": {},
   "outputs": [],
   "source": [
    "import numpy as np\n",
    "import pandas as pd\n",
    "\n",
    "df=pd.DataFrame({'Text':['Learnbay teaches Learnbay Learnbay Learnbay','Learnbay provides training',\n",
    "                        'People write comments','Learnbay write comments'],\n",
    "                 'Output' :[1,1,0,1]})\n",
    "\n",
    "# Here 1-Means positvie review 0-Negative review"
   ]
  },
  {
   "cell_type": "code",
   "execution_count": 2,
   "id": "51feb159",
   "metadata": {},
   "outputs": [
    {
     "data": {
      "text/html": [
       "<div>\n",
       "<style scoped>\n",
       "    .dataframe tbody tr th:only-of-type {\n",
       "        vertical-align: middle;\n",
       "    }\n",
       "\n",
       "    .dataframe tbody tr th {\n",
       "        vertical-align: top;\n",
       "    }\n",
       "\n",
       "    .dataframe thead th {\n",
       "        text-align: right;\n",
       "    }\n",
       "</style>\n",
       "<table border=\"1\" class=\"dataframe\">\n",
       "  <thead>\n",
       "    <tr style=\"text-align: right;\">\n",
       "      <th></th>\n",
       "      <th>Text</th>\n",
       "      <th>Output</th>\n",
       "    </tr>\n",
       "  </thead>\n",
       "  <tbody>\n",
       "    <tr>\n",
       "      <th>0</th>\n",
       "      <td>Learnbay teaches Learnbay Learnbay Learnbay</td>\n",
       "      <td>1</td>\n",
       "    </tr>\n",
       "    <tr>\n",
       "      <th>1</th>\n",
       "      <td>Learnbay provides training</td>\n",
       "      <td>1</td>\n",
       "    </tr>\n",
       "    <tr>\n",
       "      <th>2</th>\n",
       "      <td>People write comments</td>\n",
       "      <td>0</td>\n",
       "    </tr>\n",
       "    <tr>\n",
       "      <th>3</th>\n",
       "      <td>Learnbay write comments</td>\n",
       "      <td>1</td>\n",
       "    </tr>\n",
       "  </tbody>\n",
       "</table>\n",
       "</div>"
      ],
      "text/plain": [
       "                                          Text  Output\n",
       "0  Learnbay teaches Learnbay Learnbay Learnbay       1\n",
       "1                   Learnbay provides training       1\n",
       "2                        People write comments       0\n",
       "3                      Learnbay write comments       1"
      ]
     },
     "execution_count": 2,
     "metadata": {},
     "output_type": "execute_result"
    }
   ],
   "source": [
    "df"
   ]
  },
  {
   "cell_type": "code",
   "execution_count": 58,
   "id": "5bc50cbc",
   "metadata": {},
   "outputs": [
    {
     "name": "stdout",
     "output_type": "stream",
     "text": [
      "<class 'pandas.core.frame.DataFrame'>\n",
      "RangeIndex: 4 entries, 0 to 3\n",
      "Data columns (total 2 columns):\n",
      " #   Column  Non-Null Count  Dtype \n",
      "---  ------  --------------  ----- \n",
      " 0   Text    4 non-null      object\n",
      " 1   Output  4 non-null      int64 \n",
      "dtypes: int64(1), object(1)\n",
      "memory usage: 192.0+ bytes\n"
     ]
    }
   ],
   "source": [
    "df.info()"
   ]
  },
  {
   "cell_type": "code",
   "execution_count": 3,
   "id": "12b2a991",
   "metadata": {},
   "outputs": [],
   "source": [
    "#Bag of Words\n",
    "from sklearn.feature_extraction.text import CountVectorizer\n",
    "countvect=CountVectorizer()\n",
    "#CountVectorizer is a ML concept\n"
   ]
  },
  {
   "cell_type": "code",
   "execution_count": 4,
   "id": "b91152e6",
   "metadata": {},
   "outputs": [],
   "source": [
    "countvect=CountVectorizer(binary=True) #Binary BOW"
   ]
  },
  {
   "cell_type": "code",
   "execution_count": 19,
   "id": "82738617",
   "metadata": {},
   "outputs": [],
   "source": [
    "countvect1=CountVectorizer(binary=False,max_features=3) \n",
    "#Count BOW\n",
    "#max_features=3 -this will write max words per review to be considered"
   ]
  },
  {
   "cell_type": "code",
   "execution_count": 5,
   "id": "6edc7b31",
   "metadata": {},
   "outputs": [],
   "source": [
    "BagOfWord=countvect.fit_transform(df['Text'])"
   ]
  },
  {
   "cell_type": "code",
   "execution_count": 20,
   "id": "255892f2",
   "metadata": {},
   "outputs": [],
   "source": [
    "BagOfWord1=countvect1.fit_transform(df['Text'])"
   ]
  },
  {
   "cell_type": "code",
   "execution_count": 6,
   "id": "134479f6",
   "metadata": {},
   "outputs": [
    {
     "name": "stdout",
     "output_type": "stream",
     "text": [
      "{'learnbay': 1, 'teaches': 4, 'provides': 3, 'training': 5, 'people': 2, 'write': 6, 'comments': 0}\n"
     ]
    }
   ],
   "source": [
    "#vocab\n",
    "print(countvect.vocabulary_)"
   ]
  },
  {
   "cell_type": "code",
   "execution_count": 7,
   "id": "f9ff4309",
   "metadata": {},
   "outputs": [
    {
     "data": {
      "text/plain": [
       "<4x7 sparse matrix of type '<class 'numpy.int64'>'\n",
       "\twith 11 stored elements in Compressed Sparse Row format>"
      ]
     },
     "execution_count": 7,
     "metadata": {},
     "output_type": "execute_result"
    }
   ],
   "source": [
    "BagOfWord"
   ]
  },
  {
   "cell_type": "code",
   "execution_count": 9,
   "id": "70c0c0ab",
   "metadata": {},
   "outputs": [],
   "source": [
    " BagOfWord=countvect.fit_transform(df['Text']).toarray()"
   ]
  },
  {
   "cell_type": "code",
   "execution_count": 21,
   "id": "7f213de5",
   "metadata": {},
   "outputs": [],
   "source": [
    " BagOfWord1=countvect1.fit_transform(df['Text']).toarray()"
   ]
  },
  {
   "cell_type": "code",
   "execution_count": 10,
   "id": "34f1507b",
   "metadata": {},
   "outputs": [
    {
     "data": {
      "text/plain": [
       "array([[0, 1, 0, 0, 1, 0, 0],\n",
       "       [0, 1, 0, 1, 0, 1, 0],\n",
       "       [1, 0, 1, 0, 0, 0, 1],\n",
       "       [1, 1, 0, 0, 0, 0, 1]], dtype=int64)"
      ]
     },
     "execution_count": 10,
     "metadata": {},
     "output_type": "execute_result"
    }
   ],
   "source": [
    "BagOfWord"
   ]
  },
  {
   "cell_type": "code",
   "execution_count": 22,
   "id": "3131dc5c",
   "metadata": {},
   "outputs": [
    {
     "data": {
      "text/plain": [
       "array([[0, 4, 0],\n",
       "       [0, 1, 0],\n",
       "       [1, 0, 1],\n",
       "       [1, 1, 1]], dtype=int64)"
      ]
     },
     "execution_count": 22,
     "metadata": {},
     "output_type": "execute_result"
    }
   ],
   "source": [
    " BagOfWord1"
   ]
  },
  {
   "cell_type": "markdown",
   "id": "4e3f3d1c",
   "metadata": {},
   "source": [
    "# n-gram"
   ]
  },
  {
   "cell_type": "code",
   "execution_count": 24,
   "id": "704ddf77",
   "metadata": {},
   "outputs": [
    {
     "data": {
      "text/html": [
       "<div>\n",
       "<style scoped>\n",
       "    .dataframe tbody tr th:only-of-type {\n",
       "        vertical-align: middle;\n",
       "    }\n",
       "\n",
       "    .dataframe tbody tr th {\n",
       "        vertical-align: top;\n",
       "    }\n",
       "\n",
       "    .dataframe thead th {\n",
       "        text-align: right;\n",
       "    }\n",
       "</style>\n",
       "<table border=\"1\" class=\"dataframe\">\n",
       "  <thead>\n",
       "    <tr style=\"text-align: right;\">\n",
       "      <th></th>\n",
       "      <th>Text</th>\n",
       "      <th>Output</th>\n",
       "    </tr>\n",
       "  </thead>\n",
       "  <tbody>\n",
       "    <tr>\n",
       "      <th>0</th>\n",
       "      <td>Learnbay teaches Learnbay Learnbay Learnbay</td>\n",
       "      <td>1</td>\n",
       "    </tr>\n",
       "    <tr>\n",
       "      <th>1</th>\n",
       "      <td>Learnbay provides training</td>\n",
       "      <td>1</td>\n",
       "    </tr>\n",
       "    <tr>\n",
       "      <th>2</th>\n",
       "      <td>People write comments</td>\n",
       "      <td>0</td>\n",
       "    </tr>\n",
       "    <tr>\n",
       "      <th>3</th>\n",
       "      <td>Learnbay write comments</td>\n",
       "      <td>1</td>\n",
       "    </tr>\n",
       "  </tbody>\n",
       "</table>\n",
       "</div>"
      ],
      "text/plain": [
       "                                          Text  Output\n",
       "0  Learnbay teaches Learnbay Learnbay Learnbay       1\n",
       "1                   Learnbay provides training       1\n",
       "2                        People write comments       0\n",
       "3                      Learnbay write comments       1"
      ]
     },
     "execution_count": 24,
     "metadata": {},
     "output_type": "execute_result"
    }
   ],
   "source": [
    "df"
   ]
  },
  {
   "cell_type": "code",
   "execution_count": 29,
   "id": "4df61075",
   "metadata": {},
   "outputs": [
    {
     "name": "stdout",
     "output_type": "stream",
     "text": [
      "{'learnbay teaches': 2, 'teaches learnbay': 6, 'learnbay learnbay': 0, 'learnbay provides': 1, 'provides training': 5, 'people write': 4, 'write comments': 7, 'learnbay write': 3}\n"
     ]
    }
   ],
   "source": [
    "countvect=CountVectorizer(binary=True, ngram_range=(2,2))\n",
    "BagOfWord=countvect.fit_transform(df['Text']).toarray()\n",
    "print(countvect.vocabulary_)"
   ]
  },
  {
   "cell_type": "code",
   "execution_count": 30,
   "id": "d4893737",
   "metadata": {},
   "outputs": [
    {
     "data": {
      "text/plain": [
       "array([[1, 0, 1, 0, 0, 0, 1, 0],\n",
       "       [0, 1, 0, 0, 0, 1, 0, 0],\n",
       "       [0, 0, 0, 0, 1, 0, 0, 1],\n",
       "       [0, 0, 0, 1, 0, 0, 0, 1]], dtype=int64)"
      ]
     },
     "execution_count": 30,
     "metadata": {},
     "output_type": "execute_result"
    }
   ],
   "source": [
    "BagOfWord"
   ]
  },
  {
   "cell_type": "code",
   "execution_count": 35,
   "id": "59f2408f",
   "metadata": {},
   "outputs": [
    {
     "name": "stdout",
     "output_type": "stream",
     "text": [
      "{'learnbay': 1, 'teaches': 10, 'learnbay teaches': 4, 'teaches learnbay': 11, 'learnbay learnbay': 2, 'provides': 8, 'training': 12, 'learnbay provides': 3, 'provides training': 9, 'people': 6, 'write': 13, 'comments': 0, 'people write': 7, 'write comments': 14, 'learnbay write': 5}\n"
     ]
    }
   ],
   "source": [
    "countvect=CountVectorizer(binary=True, ngram_range=(1,2))\n",
    "BagOfWord2=countvect.fit_transform(df['Text']).toarray()\n",
    "print(countvect.vocabulary_)"
   ]
  },
  {
   "cell_type": "code",
   "execution_count": 38,
   "id": "06cde572",
   "metadata": {},
   "outputs": [
    {
     "name": "stdout",
     "output_type": "stream",
     "text": [
      "{'learnbay teaches learnbay': 2, 'teaches learnbay learnbay': 5, 'learnbay learnbay learnbay': 0, 'learnbay provides training': 1, 'people write comments': 4, 'learnbay write comments': 3}\n"
     ]
    }
   ],
   "source": [
    "countvect=CountVectorizer(binary=True, ngram_range=(3,3))\n",
    "BagOfWord3=countvect.fit_transform(df['Text']).toarray()\n",
    "print(countvect.vocabulary_)"
   ]
  },
  {
   "cell_type": "code",
   "execution_count": 40,
   "id": "4a1e0759",
   "metadata": {},
   "outputs": [
    {
     "data": {
      "text/plain": [
       "array([[0, 1, 1, 0, 1, 0, 0, 0, 0, 0, 1, 1, 0, 0, 0],\n",
       "       [0, 1, 0, 1, 0, 0, 0, 0, 1, 1, 0, 0, 1, 0, 0],\n",
       "       [1, 0, 0, 0, 0, 0, 1, 1, 0, 0, 0, 0, 0, 1, 1],\n",
       "       [1, 1, 0, 0, 0, 1, 0, 0, 0, 0, 0, 0, 0, 1, 1]], dtype=int64)"
      ]
     },
     "execution_count": 40,
     "metadata": {},
     "output_type": "execute_result"
    }
   ],
   "source": [
    "BagOfWord2"
   ]
  },
  {
   "cell_type": "markdown",
   "id": "94ace860",
   "metadata": {},
   "source": [
    "# Stemming"
   ]
  },
  {
   "cell_type": "code",
   "execution_count": 48,
   "id": "cad6bbe7",
   "metadata": {},
   "outputs": [],
   "source": [
    "import nltk\n",
    "from nltk.stem import PorterStemmer\n",
    "ps=PorterStemmer()"
   ]
  },
  {
   "cell_type": "code",
   "execution_count": 43,
   "id": "e72cacf7",
   "metadata": {},
   "outputs": [
    {
     "data": {
      "text/plain": [
       "['run',\n",
       " 'runs',\n",
       " 'go',\n",
       " 'goes',\n",
       " 'history',\n",
       " 'historical',\n",
       " 'easily',\n",
       " 'fairly',\n",
       " 'walk',\n",
       " 'walks',\n",
       " 'walking']"
      ]
     },
     "execution_count": 43,
     "metadata": {},
     "output_type": "execute_result"
    }
   ],
   "source": [
    "words=['run','runs','go','goes','history','historical','easily','fairly','walk','walks','walking']\n",
    "words"
   ]
  },
  {
   "cell_type": "code",
   "execution_count": 49,
   "id": "875039ff",
   "metadata": {},
   "outputs": [
    {
     "name": "stdout",
     "output_type": "stream",
     "text": [
      "run -------------> run\n",
      "runs -------------> run\n",
      "go -------------> go\n",
      "goes -------------> goe\n",
      "history -------------> histori\n",
      "historical -------------> histor\n",
      "easily -------------> easili\n",
      "fairly -------------> fairli\n",
      "walk -------------> walk\n",
      "walks -------------> walk\n",
      "walking -------------> walk\n"
     ]
    }
   ],
   "source": [
    "for word in words:\n",
    "    print(word + \" -------------> \" + ps.stem(word)) "
   ]
  },
  {
   "cell_type": "markdown",
   "id": "c6cd7ab6",
   "metadata": {},
   "source": [
    "# Lemmitization"
   ]
  },
  {
   "cell_type": "code",
   "execution_count": 50,
   "id": "4ad8c8d7",
   "metadata": {},
   "outputs": [],
   "source": [
    "from nltk.stem import WordNetLemmatizer\n",
    "lemm=WordNetLemmatizer()"
   ]
  },
  {
   "cell_type": "code",
   "execution_count": 51,
   "id": "eda15575",
   "metadata": {},
   "outputs": [
    {
     "name": "stdout",
     "output_type": "stream",
     "text": [
      "run -------------> run\n",
      "runs -------------> run\n",
      "go -------------> go\n",
      "goes -------------> go\n",
      "history -------------> history\n",
      "historical -------------> historical\n",
      "easily -------------> easily\n",
      "fairly -------------> fairly\n",
      "walk -------------> walk\n",
      "walks -------------> walk\n",
      "walking -------------> walking\n"
     ]
    }
   ],
   "source": [
    "for word in words:\n",
    "    print(word + \" -------------> \" + lemm.lemmatize(word))"
   ]
  },
  {
   "cell_type": "code",
   "execution_count": 52,
   "id": "c77a5110",
   "metadata": {},
   "outputs": [],
   "source": [
    "editorial=\"Reports of drugs manufactured in India causing severe harm and dozens of patient deaths from across the world continue to trickle in, the latest being the deaths of two patients in Sri Lanka who were administered Indian-made anaesthetic drugs. Just last month, eye drops manufactured in India had caused eye infection in about 30 patients and blindness in 10 in Sri Lanka. While anaesthetic drugs made in India causing deaths are a first in the recent past, eye drops causing infections, blindness and even deaths were reported a few months ago in the United States, with the Atlanta-based Centers for Disease Control and Prevention (CDC) finding a highly drug-resistant bacteria in them. The series of adverse reports against drugs produced in India began last year when the World Health Organization (WHO) linked the deaths of at least 70 children in Gambia from acute kidney injury, to cough syrups. The culprit ingredient in the syrups was diethylene glycol and ethylene glycol — deadly chemicals used as a cheaper substitute for propylene glycol — that should never have been found in any medicine. Soon after the deaths in Gambia, cough syrups made in India and containing the two deadly chemicals killed 18 children in Uzbekistan in December 2022. In end-April this year, Indian-made cough syrup was again in the news when WHO flagged the contaminated drugs found in the Marshall Islands and Micronesia; the contamination was identified by the Australian regulator. Diethylene glycol-contaminated drugs have led to at least five incidents of poisoning in Chennai, Mumbai, Bihar, Gurugram and Jammu between 1972 and 2020.\""
   ]
  },
  {
   "cell_type": "code",
   "execution_count": 53,
   "id": "e25489c4",
   "metadata": {},
   "outputs": [
    {
     "data": {
      "text/plain": [
       "'Reports of drugs manufactured in India causing severe harm and dozens of patient deaths from across the world continue to trickle in, the latest being the deaths of two patients in Sri Lanka who were administered Indian-made anaesthetic drugs. Just last month, eye drops manufactured in India had caused eye infection in about 30 patients and blindness in 10 in Sri Lanka. While anaesthetic drugs made in India causing deaths are a first in the recent past, eye drops causing infections, blindness and even deaths were reported a few months ago in the United States, with the Atlanta-based Centers for Disease Control and Prevention (CDC) finding a highly drug-resistant bacteria in them. The series of adverse reports against drugs produced in India began last year when the World Health Organization (WHO) linked the deaths of at least 70 children in Gambia from acute kidney injury, to cough syrups. The culprit ingredient in the syrups was diethylene glycol and ethylene glycol — deadly chemicals used as a cheaper substitute for propylene glycol — that should never have been found in any medicine. Soon after the deaths in Gambia, cough syrups made in India and containing the two deadly chemicals killed 18 children in Uzbekistan in December 2022. In end-April this year, Indian-made cough syrup was again in the news when WHO flagged the contaminated drugs found in the Marshall Islands and Micronesia; the contamination was identified by the Australian regulator. Diethylene glycol-contaminated drugs have led to at least five incidents of poisoning in Chennai, Mumbai, Bihar, Gurugram and Jammu between 1972 and 2020.'"
      ]
     },
     "execution_count": 53,
     "metadata": {},
     "output_type": "execute_result"
    }
   ],
   "source": [
    "editorial"
   ]
  },
  {
   "cell_type": "code",
   "execution_count": 54,
   "id": "21dbc0a6",
   "metadata": {},
   "outputs": [],
   "source": [
    "from nltk.corpus import stopwords"
   ]
  },
  {
   "cell_type": "code",
   "execution_count": 61,
   "id": "33801447",
   "metadata": {},
   "outputs": [
    {
     "data": {
      "text/plain": [
       "['Reports of drugs manufactured in India causing severe harm and dozens of patient deaths from across the world continue to trickle in, the latest being the deaths of two patients in Sri Lanka who were administered Indian-made anaesthetic drugs.',\n",
       " 'Just last month, eye drops manufactured in India had caused eye infection in about 30 patients and blindness in 10 in Sri Lanka.',\n",
       " 'While anaesthetic drugs made in India causing deaths are a first in the recent past, eye drops causing infections, blindness and even deaths were reported a few months ago in the United States, with the Atlanta-based Centers for Disease Control and Prevention (CDC) finding a highly drug-resistant bacteria in them.',\n",
       " 'The series of adverse reports against drugs produced in India began last year when the World Health Organization (WHO) linked the deaths of at least 70 children in Gambia from acute kidney injury, to cough syrups.',\n",
       " 'The culprit ingredient in the syrups was diethylene glycol and ethylene glycol — deadly chemicals used as a cheaper substitute for propylene glycol — that should never have been found in any medicine.',\n",
       " 'Soon after the deaths in Gambia, cough syrups made in India and containing the two deadly chemicals killed 18 children in Uzbekistan in December 2022.',\n",
       " 'In end-April this year, Indian-made cough syrup was again in the news when WHO flagged the contaminated drugs found in the Marshall Islands and Micronesia; the contamination was identified by the Australian regulator.',\n",
       " 'Diethylene glycol-contaminated drugs have led to at least five incidents of poisoning in Chennai, Mumbai, Bihar, Gurugram and Jammu between 1972 and 2020.']"
      ]
     },
     "execution_count": 61,
     "metadata": {},
     "output_type": "execute_result"
    }
   ],
   "source": [
    "sentence=nltk.sent_tokenize(editorial)\n",
    "sentence"
   ]
  },
  {
   "cell_type": "code",
   "execution_count": 62,
   "id": "28051dd4",
   "metadata": {},
   "outputs": [],
   "source": [
    "for i in range(len(sentence)):\n",
    "    words=nltk.word_tokenize(sentence[i])\n",
    "    words=[ps.stem(word) for word in words if word not in set(stopwords.words('english'))]\n",
    "    sentence[i]=''.join(words)"
   ]
  },
  {
   "cell_type": "code",
   "execution_count": 68,
   "id": "9d7adfd4",
   "metadata": {},
   "outputs": [
    {
     "data": {
      "text/plain": [
       "['reportdrugmanufacturindiacausseverharmdozenpatientdeathacrossworldcontinutrickl,latestdeathtwopatientsrilankaadministindian-madanaesthetdrug.',\n",
       " 'justlastmonth,eyedropmanufacturindiacauseyeinfect30patientblind10srilanka.',\n",
       " 'whileanaesthetdrugmadeindiacausdeathfirstrecentpast,eyedropcausinfect,blindevendeathreportmonthagounitstate,atlanta-bascenterdiseascontrolprevent(cdc)findhighlidrug-resistbacteria.',\n",
       " 'theseriadversreportdrugproducindiabeganlastyearworldhealthorgan()linkdeathleast70childrengambiaacutkidneyinjuri,coughsyrup.',\n",
       " 'theculpritingredisyrupdiethylenglycolethylenglycol—deadlichemicusecheapersubstitutpropylenglycol—neverfoundmedicin.',\n",
       " 'soondeathgambia,coughsyrupmadeindiacontaintwodeadlichemickill18childrenuzbekistandecemb2022.',\n",
       " 'inend-aprilyear,indian-madcoughsyrupnewswhoflagcontamindrugfoundmarshalislandmicronesia;contaminidentifiaustralianregul.',\n",
       " 'diethylenglycol-contamindrugledleastfiveincidpoisonchennai,mumbai,bihar,gurugramjammu19722020.']"
      ]
     },
     "execution_count": 68,
     "metadata": {},
     "output_type": "execute_result"
    }
   ],
   "source": [
    "sentence"
   ]
  },
  {
   "cell_type": "code",
   "execution_count": 66,
   "id": "9483a5c9",
   "metadata": {},
   "outputs": [],
   "source": [
    "for i in range(len(sentence)):\n",
    "    words=nltk.word_tokenize(sentence[i])\n",
    "    words=[lemm.lemmatize(word) for word in words if word not in set(stopwords.words('english'))]\n",
    "    sentence[i]=''.join(words)"
   ]
  },
  {
   "cell_type": "code",
   "execution_count": 69,
   "id": "1121fa25",
   "metadata": {},
   "outputs": [
    {
     "data": {
      "text/plain": [
       "['reportdrugmanufacturindiacausseverharmdozenpatientdeathacrossworldcontinutrickl,latestdeathtwopatientsrilankaadministindian-madanaesthetdrug.',\n",
       " 'justlastmonth,eyedropmanufacturindiacauseyeinfect30patientblind10srilanka.',\n",
       " 'whileanaesthetdrugmadeindiacausdeathfirstrecentpast,eyedropcausinfect,blindevendeathreportmonthagounitstate,atlanta-bascenterdiseascontrolprevent(cdc)findhighlidrug-resistbacteria.',\n",
       " 'theseriadversreportdrugproducindiabeganlastyearworldhealthorgan()linkdeathleast70childrengambiaacutkidneyinjuri,coughsyrup.',\n",
       " 'theculpritingredisyrupdiethylenglycolethylenglycol—deadlichemicusecheapersubstitutpropylenglycol—neverfoundmedicin.',\n",
       " 'soondeathgambia,coughsyrupmadeindiacontaintwodeadlichemickill18childrenuzbekistandecemb2022.',\n",
       " 'inend-aprilyear,indian-madcoughsyrupnewswhoflagcontamindrugfoundmarshalislandmicronesia;contaminidentifiaustralianregul.',\n",
       " 'diethylenglycol-contamindrugledleastfiveincidpoisonchennai,mumbai,bihar,gurugramjammu19722020.']"
      ]
     },
     "execution_count": 69,
     "metadata": {},
     "output_type": "execute_result"
    }
   ],
   "source": [
    "sentence"
   ]
  },
  {
   "cell_type": "code",
   "execution_count": null,
   "id": "0a40f401",
   "metadata": {},
   "outputs": [],
   "source": []
  }
 ],
 "metadata": {
  "kernelspec": {
   "display_name": "Python 3 (ipykernel)",
   "language": "python",
   "name": "python3"
  },
  "language_info": {
   "codemirror_mode": {
    "name": "ipython",
    "version": 3
   },
   "file_extension": ".py",
   "mimetype": "text/x-python",
   "name": "python",
   "nbconvert_exporter": "python",
   "pygments_lexer": "ipython3",
   "version": "3.9.13"
  }
 },
 "nbformat": 4,
 "nbformat_minor": 5
}
